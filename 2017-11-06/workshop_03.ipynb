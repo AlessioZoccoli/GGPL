{
 "cells": [
  {
   "cell_type": "markdown",
   "metadata": {
    "collapsed": true
   },
   "source": [
    "Leonardo’s centralized church\n",
    "=============================\n",
    "\n",
    "Aim of this workshop is to provide a personally interpreted PyPLaSM model for one of Leonardo Da Vinci's centalized churches. These kind of churches don't have a nave and show a circular or star-shaped symmetry. This architectual approach has similarities with the great Duomo in Florence, the Santa Maria del Fiore, which was a familiar sight to Leonardo."
   ]
  },
  {
   "cell_type": "code",
   "execution_count": 4,
   "metadata": {},
   "outputs": [
    {
     "name": "stdout",
     "output_type": "stream",
     "text": [
      "Evaluating fenvs.py..\n...fenvs.py imported in 0.009138 seconds\n"
     ]
    }
   ],
   "source": [
    "from pyplasm import *"
   ]
  },
  {
   "cell_type": "markdown",
   "metadata": {},
   "source": [
    "## Base\n",
    "Base of the church consists of a circular staircase made of three steps."
   ]
  },
  {
   "cell_type": "code",
   "execution_count": 7,
   "metadata": {},
   "outputs": [],
   "source": [
    "def base(diameter):\n",
    "    \"\"\"\n",
    "    base(10)\n",
    "    :param diameter: diameter of the bottom step\n",
    "    :return: pyplasm.xgepy.Hpc\n",
    "    \"\"\"\n",
    "    stepBottom = CYLINDER([diameter+0.5, 0.3])(40)\n",
    "    stepMiddle = T(3)(0.3)(CYLINDER([diameter, 0.3])(40))\n",
    "    stepTop = T(3)(0.6)(CYLINDER([diameter-0.5, 0.3])(40))\n",
    "    return STRUCT([stepBottom, stepMiddle, stepTop])"
   ]
  },
  {
   "cell_type": "code",
   "execution_count": 6,
   "metadata": {},
   "outputs": [
    {
     "data": {
      "text/plain": [
       "<pyplasm.xgepy.Hpc; proxy of <Swig Object of type 'std::shared_ptr< Hpc > *' at 0x10802bf30> >"
      ]
     },
     "execution_count": 6,
     "metadata": {},
     "output_type": "execute_result"
    }
   ],
   "source": [
    "b = base(10)\n",
    "VIEW(b)"
   ]
  },
  {
   "cell_type": "markdown",
   "metadata": {},
   "source": [
    "![staircase](./images/staircase.png)"
   ]
  },
  {
   "cell_type": "markdown",
   "metadata": {},
   "source": [
    "## Dome\n",
    "The dome is a semisphere. Pyplasm.SPHERE has been customized to obtain a SEMISPHERE function "
   ]
  },
  {
   "cell_type": "code",
   "execution_count": 9,
   "metadata": {},
   "outputs": [],
   "source": [
    "def SEMISPHERE (radius):\n",
    "    \"\"\"\n",
    "    SEMISPHERE(10)([8,20]) \n",
    "    :param radius: radius of the SEMISPHERE\n",
    "    :param subds: subcells forming the (semi)sphere\n",
    "    :return: pyplasm.xgepy.Hpc\n",
    "    \"\"\"\n",
    "    def SPHERE0 (subds):\n",
    "        N , M = subds\n",
    "        domain = Plasm.translate( Plasm.power(INTERVALS(PI/2)(N) , INTERVALS(2*PI)(M)), Vecf(0, -PI/2,0 ) )\n",
    "        fx  = lambda p: radius * math.cos(p[0])  * math.sin  (p[1])\n",
    "        fy  = lambda p: radius * math.cos(p[0]) * math.cos (p[1])\n",
    "        fz  = lambda p: radius * math.sin(p[0])\n",
    "        ret=  MAP([fx, fy, fz])(domain)\n",
    "        return ret\n",
    "    return SPHERE0\n",
    "\n",
    "def dome(radius):\n",
    "    \"\"\"\n",
    "    dome(10)\n",
    "    :param radius: radius of the dome\n",
    "    :return: pyplasm.xgepy.Hpc\n",
    "    \"\"\"\n",
    "    d = JOIN([SEMISPHERE(radius)([8,20])])\n",
    "    return R([1,3])(-PI)(d)"
   ]
  },
  {
   "cell_type": "code",
   "execution_count": 10,
   "metadata": {},
   "outputs": [
    {
     "data": {
      "text/plain": [
       "<pyplasm.xgepy.Hpc; proxy of <Swig Object of type 'std::shared_ptr< Hpc > *' at 0x10d3809f0> >"
      ]
     },
     "execution_count": 10,
     "metadata": {},
     "output_type": "execute_result"
    }
   ],
   "source": [
    "myDome = dome(10)\n",
    "VIEW(myDome)"
   ]
  },
  {
   "cell_type": "markdown",
   "metadata": {},
   "source": [
    "![dome](./images/dome.png)"
   ]
  },
  {
   "cell_type": "code",
   "execution_count": null,
   "metadata": {},
   "outputs": [],
   "source": []
  }
 ],
 "metadata": {
  "kernelspec": {
   "display_name": "Python 2",
   "language": "python",
   "name": "python2"
  },
  "language_info": {
   "codemirror_mode": {
    "name": "ipython",
    "version": 2
   },
   "file_extension": ".py",
   "mimetype": "text/x-python",
   "name": "python",
   "nbconvert_exporter": "python",
   "pygments_lexer": "ipython2",
   "version": "2.7.6"
  }
 },
 "nbformat": 4,
 "nbformat_minor": 0
}
