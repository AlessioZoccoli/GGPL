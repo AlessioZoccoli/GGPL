{
 "cells": [
  {
   "cell_type": "markdown",
   "metadata": {
    "collapsed": true
   },
   "source": [
    "Leonardo’s centralized church\n",
    "=============================\n",
    "\n",
    "Aim of this workshop is to provide a personally interpreted PyPLaSM model for one of Leonardo Da Vinci's centalized churches. These kind of churches don't have a nave and show a circular or star-shaped symmetry. This architectual approach has similarities with the great Duomo in Florence, the Santa Maria del Fiore, which was a familiar sight to Leonardo."
   ]
  },
  {
   "cell_type": "code",
   "execution_count": 2,
   "metadata": {},
   "outputs": [
    {
     "name": "stdout",
     "output_type": "stream",
     "text": [
      "Evaluating fenvs.py..\n...fenvs.py imported in 0.009474 seconds\n"
     ]
    }
   ],
   "source": [
    "from pyplasm import *"
   ]
  },
  {
   "cell_type": "markdown",
   "metadata": {},
   "source": [
    "## Base\n",
    "Base of the church consists of a circular staircase made of three steps."
   ]
  },
  {
   "cell_type": "code",
   "execution_count": 3,
   "metadata": {},
   "outputs": [],
   "source": [
    "def base(diameter):\n",
    "    \"\"\"\n",
    "    base(10)\n",
    "    :param diameter: diameter of the bottom step\n",
    "    :return: pyplasm.xgepy.Hpc\n",
    "    \"\"\"\n",
    "    stepBottom = CYLINDER([diameter+0.5, 0.3])(40)\n",
    "    stepMiddle = T(3)(0.3)(CYLINDER([diameter, 0.3])(40))\n",
    "    stepTop = T(3)(0.6)(CYLINDER([diameter-0.5, 0.3])(40))\n",
    "    return STRUCT([stepBottom, stepMiddle, stepTop])"
   ]
  },
  {
   "cell_type": "code",
   "execution_count": 6,
   "metadata": {},
   "outputs": [
    {
     "data": {
      "text/plain": [
       "<pyplasm.xgepy.Hpc; proxy of <Swig Object of type 'std::shared_ptr< Hpc > *' at 0x10802bf30> >"
      ]
     },
     "execution_count": 6,
     "metadata": {},
     "output_type": "execute_result"
    }
   ],
   "source": [
    "b = base(10)\n",
    "VIEW(b)"
   ]
  },
  {
   "cell_type": "markdown",
   "metadata": {},
   "source": [
    "![staircase](./images/staircase.png)"
   ]
  },
  {
   "cell_type": "markdown",
   "metadata": {},
   "source": [
    "## Dome\n",
    "The dome is a semisphere. Pyplasm.SPHERE has been customized to obtain a SEMISPHERE function "
   ]
  },
  {
   "cell_type": "code",
   "execution_count": 4,
   "metadata": {},
   "outputs": [],
   "source": [
    "def SEMISPHERE (radius):\n",
    "    \"\"\"\n",
    "    SEMISPHERE(10)([8,20]) \n",
    "    :param radius: radius of the SEMISPHERE\n",
    "    :param subds: subcells forming the (semi)sphere\n",
    "    :return: pyplasm.xgepy.Hpc\n",
    "    \"\"\"\n",
    "    def SPHERE0 (subds):\n",
    "        N , M = subds\n",
    "        domain = Plasm.translate( Plasm.power(INTERVALS(PI/2)(N) , INTERVALS(2*PI)(M)), Vecf(0, -PI/2,0 ) )\n",
    "        fx  = lambda p: radius * math.cos(p[0])  * math.sin  (p[1])\n",
    "        fy  = lambda p: radius * math.cos(p[0]) * math.cos (p[1])\n",
    "        fz  = lambda p: radius * math.sin(p[0])\n",
    "        ret=  MAP([fx, fy, fz])(domain)\n",
    "        return ret\n",
    "    return SPHERE0\n",
    "\n",
    "def dome(radius):\n",
    "    \"\"\"\n",
    "    dome(10)\n",
    "    :param radius: radius of the dome\n",
    "    :return: pyplasm.xgepy.Hpc\n",
    "    \"\"\"\n",
    "    d = JOIN([SEMISPHERE(radius)([8,20])])\n",
    "    return R([1,3])(-PI)(d)"
   ]
  },
  {
   "cell_type": "code",
   "execution_count": 10,
   "metadata": {},
   "outputs": [
    {
     "data": {
      "text/plain": [
       "<pyplasm.xgepy.Hpc; proxy of <Swig Object of type 'std::shared_ptr< Hpc > *' at 0x10d3809f0> >"
      ]
     },
     "execution_count": 10,
     "metadata": {},
     "output_type": "execute_result"
    }
   ],
   "source": [
    "myDome = dome(10)\n",
    "VIEW(myDome)"
   ]
  },
  {
   "cell_type": "markdown",
   "metadata": {},
   "source": [
    "![dome](./images/dome.png)"
   ]
  },
  {
   "cell_type": "markdown",
   "metadata": {},
   "source": [
    "## Walls\n",
    "Thick circular walls. The simplest walls have neither absides or naves.\n"
   ]
  },
  {
   "cell_type": "code",
   "execution_count": 5,
   "metadata": {},
   "outputs": [],
   "source": [
    "def wallsFULL(diameter, height):\n",
    "    \"\"\"\n",
    "    wallsFULL(10,8)\n",
    "    :param diameter: diameter for the outer surface of the walls\n",
    "    :param height: height of the walls\n",
    "    :return: pyplasm.xgepy.Hpc\n",
    "    \"\"\"\n",
    "    outside = CYLINDER([diameter, height])(60)\n",
    "    inside = CYLINDER([diameter-4.5, height])(60)\n",
    "    w = DIFFERENCE([outside, inside])\n",
    "    return STRUCT([w])"
   ]
  },
  {
   "cell_type": "code",
   "execution_count": 6,
   "metadata": {},
   "outputs": [
    {
     "data": {
      "text/plain": [
       "<pyplasm.xgepy.Hpc; proxy of <Swig Object of type 'std::shared_ptr< Hpc > *' at 0x10b9abc90> >"
      ]
     },
     "execution_count": 6,
     "metadata": {},
     "output_type": "execute_result"
    }
   ],
   "source": [
    "VIEW(wallsFULL(10,8))"
   ]
  },
  {
   "cell_type": "markdown",
   "metadata": {},
   "source": [
    "![full walls](./images/fullwalls.png)"
   ]
  },
  {
   "cell_type": "markdown",
   "metadata": {},
   "source": [
    "## Apsis \n",
    "\" In architecture, an apse (plural apses; from Latin absis: \"arch, vault\" from Greek ἀψίς apsis \"arch\"; sometimes written apsis, plural apsides) is a semicircular recess covered with a hemispherical vault or semi-dome, also known as an Exedra. In Byzantine, Romanesque, and Gothic Christian church (including cathedral and abbey) architecture, the term is applied to a semi-circular or polygonal termination of the main building at the liturgical east end (where the altar is), regardless of the shape of the roof, which may be flat, sloping, domed, or hemispherical. Smaller apses may also be in other locations, especially shrines. \" (Wikipedia.org)"
   ]
  },
  {
   "cell_type": "code",
   "execution_count": 8,
   "metadata": {},
   "outputs": [],
   "source": [
    "def apsis(wallThinckness, heightWalls):\n",
    "    \"\"\"\n",
    "    apsis(4, 8)\n",
    "    :param wallThinckness: thickness of the walls as the difference of two cylinders\n",
    "    :param height: height of the walls\n",
    "    :return: pyplasm.xgepy.Hpc\n",
    "    \n",
    "      __^^^^^__\n",
    "      |   2    |\n",
    "      |        |\n",
    "    <            >\n",
    "    < 1        3 >\n",
    "    <            >\n",
    "      |        |\n",
    "      |__  4  _|\n",
    "         vvvv\n",
    "    \"\"\"\n",
    "    central = T([1,2])([-1.5,-1.5])(CUBOID([3,3,heightWalls]))\n",
    "    cylinder1 = T(1)(-1)(CYLINDER([1,heightWalls])(40))\n",
    "    cylinder2 = T(2)(-1)(CYLINDER([1,heightWalls])(40))\n",
    "    cylinder3 = T(1)(+1)(CYLINDER([1,heightWalls])(40))\n",
    "    cylinder4 = T(2)(+1)(CYLINDER([1,heightWalls])(40))\n",
    "\n",
    "    sphericalCap = T(3)(heightWalls)(dome(1.5))\n",
    "    return STRUCT([central, cylinder1, cylinder2, cylinder3, cylinder4, sphericalCap])"
   ]
  },
  {
   "cell_type": "code",
   "execution_count": 9,
   "metadata": {},
   "outputs": [
    {
     "data": {
      "text/plain": [
       "<pyplasm.xgepy.Hpc; proxy of <Swig Object of type 'std::shared_ptr< Hpc > *' at 0x1065ac030> >"
      ]
     },
     "execution_count": 9,
     "metadata": {},
     "output_type": "execute_result"
    }
   ],
   "source": [
    "VIEW(apsis(4,8))"
   ]
  },
  {
   "cell_type": "markdown",
   "metadata": {},
   "source": [
    "![apsis](./images/apsis_1.png)\n",
    "![apsis](./images/apsis_2.png)"
   ]
  },
  {
   "cell_type": "markdown",
   "metadata": {},
   "source": [
    "### absides inside the walls"
   ]
  },
  {
   "cell_type": "code",
   "execution_count": 11,
   "metadata": {},
   "outputs": [],
   "source": [
    "def placeCircular(positions, rad, objects, entrance, offset):\n",
    "    \"\"\"\n",
    "    placeCircular(8, 5, objectsList, 1, 0)\n",
    "    :param positions: number of equidistant object to place\n",
    "    :param rad: radius from the center of the church where the objects are placed forming a circumference\n",
    "    :param objects: array of objects (ex. absides oriented toward the center of the church)\n",
    "    :param entrance: leaves space for the entrance (VALUES: 1/0).\n",
    "    :param offset: external recesses are offsetted of +PI/recesses\n",
    "    :return: pyplasm.xgepy.Hpc\n",
    "    \"\"\"\n",
    "    return map(lambda i: T([1, 2])([rad*math.cos((2*PI/positions)*(i+entrance) +offset), rad*math.sin((2*PI/positions)*(i+entrance) + offset)])(R([1,2])((2*PI/positions)*i)(objects[i])), range(0, positions-entrance))\n"
   ]
  },
  {
   "cell_type": "code",
   "execution_count": 11,
   "metadata": {},
   "outputs": [],
   "source": [
    "def placeAbsides(nAbsides, diameter, thicknessWalls, heightWalls):\n",
    "    \"\"\"\n",
    "    placeAbsides(8, 10, 4, 8)\n",
    "    :param nAbsides: \n",
    "    :param diameter: \n",
    "    :param thicknessWalls: \n",
    "    :param heightWalls: \n",
    "    :return: \n",
    "    \"\"\"\n",
    "    r = diameter-diameter/6 - 2\n",
    "    ab = [apsis(thicknessWalls, heightWalls) for i in range(0, nAbsides)]\n",
    "    return STRUCT(placeCircular(nAbsides, r, ab, 1, 0))"
   ]
  },
  {
   "cell_type": "code",
   "execution_count": 13,
   "metadata": {},
   "outputs": [
    {
     "data": {
      "text/plain": [
       "<pyplasm.xgepy.Hpc; proxy of <Swig Object of type 'std::shared_ptr< Hpc > *' at 0x1065acd50> >"
      ]
     },
     "execution_count": 13,
     "metadata": {},
     "output_type": "execute_result"
    }
   ],
   "source": [
    "VIEW(placeAbsides(8, 10, 4, 8))"
   ]
  },
  {
   "cell_type": "markdown",
   "metadata": {},
   "source": [
    "![absides](./images/absides.png)"
   ]
  },
  {
   "cell_type": "markdown",
   "metadata": {},
   "source": [
    "## Entrance\n",
    "Let's create space for the entrance"
   ]
  },
  {
   "cell_type": "code",
   "execution_count": 17,
   "metadata": {},
   "outputs": [],
   "source": [
    "def cutEntrance(dimension):\n",
    "    \"\"\"\n",
    "    cutEntrance(9)\n",
    "    :param dimension: dimension of the area to be cut from the walls \n",
    "    :return: pyplasm.xgepy.Hpc\n",
    "    \"\"\"\n",
    "    points = [[0,0,0], [dimension,1.5,0], [dimension, -1.5, 0], [dimension,1.5,6], [dimension, -1.5, 6], [0,0,0]] # 1.5 = half the apsis dimension\n",
    "    toBRemoved = JOIN(AA(MK)(points))\n",
    "    return STRUCT([toBRemoved])"
   ]
  },
  {
   "cell_type": "code",
   "execution_count": 19,
   "metadata": {},
   "outputs": [
    {
     "data": {
      "text/plain": [
       "<pyplasm.xgepy.Hpc; proxy of <Swig Object of type 'std::shared_ptr< Hpc > *' at 0x10d7a36f0> >"
      ]
     },
     "execution_count": 19,
     "metadata": {},
     "output_type": "execute_result"
    }
   ],
   "source": [
    "VIEW(cutEntrance(9))"
   ]
  },
  {
   "cell_type": "markdown",
   "metadata": {},
   "source": [
    "## Final walls\n",
    "Let's put all togheter. Walls + absides + recesses"
   ]
  },
  {
   "cell_type": "code",
   "execution_count": 20,
   "metadata": {},
   "outputs": [],
   "source": [
    "def structuredWalls(nAbsides, diameter, height, thickness):\n",
    "    \"\"\"\n",
    "    structuredWalls(7, 9, 8, 4)\n",
    "    :param nAbsides: number of absides\n",
    "    :param diameter: diameter of the walls\n",
    "    :param height: height of the walls\n",
    "    :param thickness: thickness of the walls\n",
    "    :return: pyplasm.xgepy.Hpc\n",
    "    \"\"\"\n",
    "    #absides: 0 radiusOffset, 1 thicknessCoeff (unchanged), 0 circularOffset\n",
    "    absides = placeAbsides(nAbsides, diameter, thickness, height+2)\n",
    "    entranceSpace = cutEntrance(diameter)\n",
    "\n",
    "    #these objects will provide the pattern for the recesses in the walls\n",
    "    recessObjects = [CYLINDER([diameter/8,height])(8) for i in range(0, nAbsides)]\n",
    "    r = diameter-diameter/6 + 1\n",
    "    recess = STRUCT(placeCircular(nAbsides, r, recessObjects, 0, PI/nAbsides))\n",
    "\n",
    "    removableSpace = STRUCT([absides, entranceSpace, recess])\n",
    "\n",
    "    walls = wallsFULL(diameter, height)\n",
    "    return DIFFERENCE([walls, removableSpace])"
   ]
  },
  {
   "cell_type": "code",
   "execution_count": 21,
   "metadata": {},
   "outputs": [
    {
     "data": {
      "text/plain": [
       "<pyplasm.xgepy.Hpc; proxy of <Swig Object of type 'std::shared_ptr< Hpc > *' at 0x10d7a36c0> >"
      ]
     },
     "execution_count": 21,
     "metadata": {},
     "output_type": "execute_result"
    }
   ],
   "source": [
    "VIEW(structuredWalls(7, 9, 8, 4))"
   ]
  },
  {
   "cell_type": "markdown",
   "metadata": {},
   "source": [
    "![walls](./images/placeabsides.png)\n",
    "![walls](./images/placeabsidesrecesses.png)"
   ]
  },
  {
   "cell_type": "markdown",
   "metadata": {},
   "source": [
    "## Top of the structure\n",
    "The top of this structure consists in a group of minor domes surrounding a bigger central one"
   ]
  },
  {
   "cell_type": "code",
   "execution_count": 26,
   "metadata": {},
   "outputs": [],
   "source": [
    "def subDome(radius, height, colorHexDome, colorHexCylinder):\n",
    "    \"\"\"\n",
    "    subDome(2, 2, \"#841F27\", \"#E2DECD\")\n",
    "    :param radius: radius of the dome\n",
    "    :param height: height of the main structure of the church of which the subdome is proportioned to\n",
    "    :param colorHexDome: dome color\n",
    "    :param colorHexCylinder:  basis of the dome color\n",
    "    :return: pyplasm.xgepy.Hpc\n",
    "    \"\"\"\n",
    "    sBottom1 = CYLINDER([radius+0.3, height*0.15])(50)\n",
    "    sBottom2 = T(3)(height*0.15)(CYLINDER([radius+0.2, height*0.15])(50))\n",
    "    sCylinder = T(3)(height*0.3)(CYLINDER([radius-0.1, height])(10))\n",
    "    sTop = T(3)(height*1.3)(CYLINDER([radius+0.3, height*0.10])(50))\n",
    "    sDome = T(3)(height*1.4)(dome(radius))\n",
    "\n",
    "    tipBottom = T([1, 2, 3])([-height*0.05, -height*0.05, height*1.4+radius])(CUBOID([height*0.1]*3))\n",
    "    tipMiddle = T([1, 2, 3])([-height*0.05, -height*0.05, height*1.5+radius])(CUBOID([height*0.1, height*0.1, height*0.3]))\n",
    "    tipTop1 = T(3)(height*1.8+radius)(SEMISPHERE(height*0.1)([8,20]))\n",
    "    tipTop2 = T(3)(height*1.9+radius)(SPHERE(height*0.1)([8,20]))\n",
    "\n",
    "    coloredDome = HEX(colorHexDome)(STRUCT([sDome, tipTop1, tipTop2]))\n",
    "    coloredCylinder =  HEX(colorHexCylinder)(STRUCT([sBottom1, sBottom2, sCylinder, sTop, tipBottom, tipMiddle])) \n",
    "    return STRUCT([coloredDome, coloredCylinder])"
   ]
  },
  {
   "cell_type": "code",
   "execution_count": 24,
   "metadata": {},
   "outputs": [
    {
     "name": "stdout",
     "output_type": "stream",
     "text": [
      "Child 3\n"
     ]
    },
    {
     "data": {
      "text/plain": [
       "<pyplasm.xgepy.Hpc; proxy of <Swig Object of type 'std::shared_ptr< Hpc > *' at 0x10d7a3c00> >"
      ]
     },
     "execution_count": 23,
     "metadata": {},
     "output_type": "execute_result"
    }
   ],
   "source": [
    "VIEW(subDome(2, 2, \"#841F27\", \"#E2DECD\"))"
   ]
  },
  {
   "cell_type": "markdown",
   "metadata": {},
   "source": [
    "![subdome](./images/subdome.png)"
   ]
  },
  {
   "cell_type": "code",
   "execution_count": 31,
   "metadata": {},
   "outputs": [],
   "source": [
    "def placeSubDomes(nSubDomes, diameterStruct, size, colorHexDome, colorHexCylinder):\n",
    "    \"\"\"\n",
    "    placeSubDomes(8, 10, 2, \"#841F27\", \"#E2DECD\")\n",
    "    :param nSubDomes: number of subdomes\n",
    "    :param diameterStruct: diameter of the main structure\n",
    "    :param size: size of the subdome\n",
    "    :param colorHexDome: dome color\n",
    "    :param colorHexCylinder:  basis of the dome color\n",
    "    :return: pyplasm.xgepy.Hpc\n",
    "    \"\"\"\n",
    "    r = diameterStruct*0.72\n",
    "    sd = [(subDome(size, size, colorHexDome, colorHexCylinder)) for i in range(nSubDomes)]\n",
    "    return STRUCT(placeCircular(nSubDomes, r, sd, 0, 0))"
   ]
  },
  {
   "cell_type": "code",
   "execution_count": 32,
   "metadata": {},
   "outputs": [
    {
     "name": "stdout",
     "output_type": "stream",
     "text": [
      "Child 3\nChild 3\nChild"
     ]
    },
    {
     "name": "stdout",
     "output_type": "stream",
     "text": [
      " 3\nChild 3\nChild 3\n"
     ]
    },
    {
     "name": "stdout",
     "output_type": "stream",
     "text": [
      "Child 3\n"
     ]
    },
    {
     "name": "stdout",
     "output_type": "stream",
     "text": [
      "Child 3\nChild 3\n"
     ]
    },
    {
     "data": {
      "text/plain": [
       "<pyplasm.xgepy.Hpc; proxy of <Swig Object of type 'std::shared_ptr< Hpc > *' at 0x1065cf510> >"
      ]
     },
     "execution_count": 32,
     "metadata": {},
     "output_type": "execute_result"
    }
   ],
   "source": [
    "VIEW(placeSubDomes(8, 10, 2, \"#841F27\", \"#E2DECD\"))"
   ]
  },
  {
   "cell_type": "markdown",
   "metadata": {},
   "source": [
    "![subdome](./images/subdomes.png)"
   ]
  },
  {
   "cell_type": "code",
   "execution_count": 34,
   "metadata": {},
   "outputs": [],
   "source": [
    "## a simple square outside the church"
   ]
  },
  {
   "cell_type": "code",
   "execution_count": 35,
   "metadata": {},
   "outputs": [],
   "source": [
    "\n",
    "def disk2D(p):\n",
    "    u,v = p\n",
    "    return [v*COS(u), v*SIN(u)]\n",
    "\n",
    "domain2D = PROD([INTERVALS(2*PI)(20), INTERVALS(10)(3)]) # 2D domain decompos VIEW( MAP(disk2D)(domain2D) )\n",
    "\n",
    "def square(p):\n",
    "    return STRUCT([PROD([MAP(disk2D)(domain2D),Q(0.5)]), HEX(\"#841F27\")(SKELETON(1)(PROD([MAP(disk2D)(domain2D),Q(0.5)])))])"
   ]
  },
  {
   "cell_type": "code",
   "execution_count": 36,
   "metadata": {},
   "outputs": [
    {
     "data": {
      "text/plain": [
       "<pyplasm.xgepy.Hpc; proxy of <Swig Object of type 'std::shared_ptr< Hpc > *' at 0x10587d030> >"
      ]
     },
     "execution_count": 36,
     "metadata": {},
     "output_type": "execute_result"
    }
   ],
   "source": [
    "VIEW(square(10))"
   ]
  },
  {
   "cell_type": "markdown",
   "metadata": {},
   "source": [
    "![square](./images/square.png)"
   ]
  },
  {
   "cell_type": "markdown",
   "metadata": {},
   "source": [
    "#Leonardo's church\n",
    "Putting all togheter to create the entire model"
   ]
  },
  {
   "cell_type": "code",
   "execution_count": 37,
   "metadata": {},
   "outputs": [],
   "source": [
    "def leonardo():\n",
    "    diameter = 10\n",
    "    height = 8\n",
    "    travertine = \"#E2DECD\"\n",
    "    brick = \"#841F27\"\n",
    "\n",
    "    #green grass\n",
    "    leoGround = T([1,2])([-30, -30])(MATERIAL([0,0,0,1,  0,.1,0,1,  0,.1,0,1, 0,0,0,1, 0])(CUBOID([90, 60, 0.2])))\n",
    "\n",
    "    # 3 steps, the base for the main structure, translated on the 3rd axis beacause of the ground\n",
    "    leoBase = T(3)(0.2)(base(diameter))\n",
    "\n",
    "    # a simple square outside the church\n",
    "    leoPath2Square = T([1,2,3])([diameter+0.2, -2, 0.2])(CUBOID([diameter*2, 4, 0.4]))\n",
    "    leoSquare = T([1,3])([diameter*3, 0.2])(square(diameter))\n",
    "\n",
    "    #steps + grounds\n",
    "    leoWalls = T(3)(0.3*3 + 0.2)(structuredWalls(7, diameter-1, height, 4))\n",
    "\n",
    "    verts = CIRCLE_POINTS(diameter+0.2,50)\n",
    "    # T(3) -> main structure of the church + steps size + ground\n",
    "    leoTop = T(3)(height + 0.3*3 + 0.2)(PROD([JOIN(AA(MK)(verts)), Q(0.5)]))\n",
    "\n",
    "    leoSubDomes = T(3)(height + 0.3*3 + 0.5 + 0.2)(placeSubDomes(nSubDomes=8, diameterStruct=diameter, size=diameter/4, colorHexDome=brick, colorHexCylinder=travertine))\n",
    "\n",
    "    leoBiggerDome = T(3)(height + 0.3*3 + 0.5 + 0.2)(subDome(diameter*0.45, height*0.7, brick, travertine))\n",
    "\n",
    "    travertineStructure = HEX(travertine)(STRUCT([leoGround, leoBase, leoWalls, leoTop, leoPath2Square, leoSquare]))\n",
    "    return STRUCT([travertineStructure, leoSubDomes, leoBiggerDome])\n"
   ]
  },
  {
   "cell_type": "code",
   "execution_count": 38,
   "metadata": {},
   "outputs": [
    {
     "name": "stdout",
     "output_type": "stream",
     "text": [
      "Child 3\nChild 3\nChild 3\n"
     ]
    },
    {
     "name": "stdout",
     "output_type": "stream",
     "text": [
      "Child 3\nChild 3\n"
     ]
    },
    {
     "name": "stdout",
     "output_type": "stream",
     "text": [
      "Child 3\nChild 3\n"
     ]
    },
    {
     "name": "stdout",
     "output_type": "stream",
     "text": [
      "Child 3\nChild 3\n"
     ]
    },
    {
     "data": {
      "text/plain": [
       "<pyplasm.xgepy.Hpc; proxy of <Swig Object of type 'std::shared_ptr< Hpc > *' at 0x1065d51e0> >"
      ]
     },
     "execution_count": 38,
     "metadata": {},
     "output_type": "execute_result"
    }
   ],
   "source": [
    "VIEW(leonardo())"
   ]
  },
  {
   "cell_type": "markdown",
   "metadata": {},
   "source": [
    "![leonardo1](./images/leonardo_1.png)\n",
    "![leonardo2](./images/leonardo_2.png)\n",
    "![leonardo3](./images/leonardo_3.png)\n",
    "![leonardo4](./images/leonardo_4.png)"
   ]
  }
 ],
 "metadata": {
  "kernelspec": {
   "display_name": "Python 2",
   "language": "python",
   "name": "python2"
  },
  "language_info": {
   "codemirror_mode": {
    "name": "ipython",
    "version": 2
   },
   "file_extension": ".py",
   "mimetype": "text/x-python",
   "name": "python",
   "nbconvert_exporter": "python",
   "pygments_lexer": "ipython2",
   "version": "2.7.6"
  }
 },
 "nbformat": 4,
 "nbformat_minor": 0
}
