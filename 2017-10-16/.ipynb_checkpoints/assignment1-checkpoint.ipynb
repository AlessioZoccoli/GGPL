{
 "cells": [
  {
   "cell_type": "markdown",
   "metadata": {},
   "source": [
    "Assigment 1\n",
    "======"
   ]
  },
  {
   "cell_type": "markdown",
   "metadata": {},
   "source": [
    "Produce (and draw) 100 random points within the unit square $[0, 1]^2$"
   ]
  },
  {
   "cell_type": "code",
   "execution_count": 47,
   "metadata": {
    "collapsed": true
   },
   "outputs": [],
   "source": [
    "from pyplasm import *\n",
    "from numpy import *"
   ]
  },
  {
   "cell_type": "code",
   "execution_count": 48,
   "metadata": {
    "collapsed": true
   },
   "outputs": [],
   "source": [
    "points = random.rand(100,2)"
   ]
  },
  {
   "cell_type": "code",
   "execution_count": 49,
   "metadata": {},
   "outputs": [
    {
     "data": {
      "text/plain": [
       "array([[ 0.85942205,  0.40852691],\n",
       "       [ 0.86126069,  0.01342037],\n",
       "       [ 0.12938908,  0.56943165],\n",
       "       [ 0.34012733,  0.44670998],\n",
       "       [ 0.29843646,  0.11560366],\n",
       "       [ 0.32504215,  0.95389285],\n",
       "       [ 0.75757641,  0.00457386],\n",
       "       [ 0.92830705,  0.45287258],\n",
       "       [ 0.51328228,  0.76292403],\n",
       "       [ 0.36789302,  0.49206923],\n",
       "       [ 0.10359397,  0.15083514],\n",
       "       [ 0.09340789,  0.97463411],\n",
       "       [ 0.6171745 ,  0.93830255],\n",
       "       [ 0.24270943,  0.96210316],\n",
       "       [ 0.78322633,  0.28405817],\n",
       "       [ 0.22876274,  0.1431069 ],\n",
       "       [ 0.33370142,  0.65010574],\n",
       "       [ 0.35757205,  0.97378611],\n",
       "       [ 0.15855125,  0.21870919],\n",
       "       [ 0.08689838,  0.91402018],\n",
       "       [ 0.82567651,  0.73468675],\n",
       "       [ 0.51684123,  0.24075165],\n",
       "       [ 0.4048553 ,  0.11695913],\n",
       "       [ 0.45626625,  0.99314338],\n",
       "       [ 0.5018793 ,  0.64193264],\n",
       "       [ 0.55034779,  0.64111021],\n",
       "       [ 0.2951539 ,  0.52402715],\n",
       "       [ 0.13182837,  0.42622482],\n",
       "       [ 0.12915285,  0.24877865],\n",
       "       [ 0.67967564,  0.1053828 ],\n",
       "       [ 0.96805159,  0.47767951],\n",
       "       [ 0.34924086,  0.49930987],\n",
       "       [ 0.15903601,  0.52898486],\n",
       "       [ 0.36904703,  0.17913234],\n",
       "       [ 0.78715512,  0.06868195],\n",
       "       [ 0.03690132,  0.52599453],\n",
       "       [ 0.22835548,  0.62499932],\n",
       "       [ 0.79637866,  0.19729275],\n",
       "       [ 0.56516139,  0.26554106],\n",
       "       [ 0.57981466,  0.06244452],\n",
       "       [ 0.67596667,  0.52418718],\n",
       "       [ 0.80539826,  0.02609034],\n",
       "       [ 0.30771057,  0.02305813],\n",
       "       [ 0.45119449,  0.91186314],\n",
       "       [ 0.84235844,  0.04324206],\n",
       "       [ 0.86061307,  0.22475527],\n",
       "       [ 0.03402679,  0.94098315],\n",
       "       [ 0.41318971,  0.2642188 ],\n",
       "       [ 0.75929672,  0.98794359],\n",
       "       [ 0.12501633,  0.18457296],\n",
       "       [ 0.76375797,  0.62940003],\n",
       "       [ 0.90974337,  0.65666303],\n",
       "       [ 0.43148243,  0.2873068 ],\n",
       "       [ 0.84768458,  0.07840895],\n",
       "       [ 0.66646006,  0.99313516],\n",
       "       [ 0.66799752,  0.13021216],\n",
       "       [ 0.70824218,  0.56045068],\n",
       "       [ 0.46180793,  0.79461954],\n",
       "       [ 0.17102528,  0.30389522],\n",
       "       [ 0.73728434,  0.87551571],\n",
       "       [ 0.64220935,  0.92560466],\n",
       "       [ 0.41133886,  0.99048183],\n",
       "       [ 0.00901953,  0.26854324],\n",
       "       [ 0.42387756,  0.34536754],\n",
       "       [ 0.25775093,  0.19634915],\n",
       "       [ 0.43657532,  0.65352282],\n",
       "       [ 0.23896261,  0.89766772],\n",
       "       [ 0.18866343,  0.93388657],\n",
       "       [ 0.18245807,  0.83331176],\n",
       "       [ 0.70225419,  0.26225968],\n",
       "       [ 0.74831885,  0.09809179],\n",
       "       [ 0.13258834,  0.54271175],\n",
       "       [ 0.64785127,  0.22372681],\n",
       "       [ 0.65856146,  0.11219893],\n",
       "       [ 0.37914577,  0.3293631 ],\n",
       "       [ 0.06189982,  0.77535429],\n",
       "       [ 0.48542591,  0.41725015],\n",
       "       [ 0.22373503,  0.07652352],\n",
       "       [ 0.27484718,  0.46083288],\n",
       "       [ 0.98527043,  0.64059068],\n",
       "       [ 0.23541914,  0.8085842 ],\n",
       "       [ 0.9402552 ,  0.20207123],\n",
       "       [ 0.89090053,  0.86891514],\n",
       "       [ 0.0594962 ,  0.64115391],\n",
       "       [ 0.59024067,  0.75720475],\n",
       "       [ 0.97936212,  0.82480803],\n",
       "       [ 0.43066363,  0.79084439],\n",
       "       [ 0.3808638 ,  0.51973363],\n",
       "       [ 0.7954951 ,  0.62606376],\n",
       "       [ 0.69424745,  0.33492697],\n",
       "       [ 0.01323655,  0.53700961],\n",
       "       [ 0.37574145,  0.65403783],\n",
       "       [ 0.77649599,  0.11338085],\n",
       "       [ 0.95308255,  0.90728303],\n",
       "       [ 0.42913764,  0.92913378],\n",
       "       [ 0.3870548 ,  0.16704371],\n",
       "       [ 0.44723059,  0.61610535],\n",
       "       [ 0.19735914,  0.18649361],\n",
       "       [ 0.38045851,  0.72506486],\n",
       "       [ 0.36044643,  0.72507335]])"
      ]
     },
     "execution_count": 49,
     "metadata": {},
     "output_type": "execute_result"
    }
   ],
   "source": [
    "points"
   ]
  },
  {
   "cell_type": "code",
   "execution_count": 50,
   "metadata": {},
   "outputs": [
    {
     "data": {
      "text/plain": [
       "<pyplasm.xgepy.Hpc; proxy of <Swig Object of type 'std::shared_ptr< Hpc > *' at 0x10e57f7e0> >"
      ]
     },
     "execution_count": 50,
     "metadata": {},
     "output_type": "execute_result"
    }
   ],
   "source": [
    "VIEW(STRUCT([MK(p) for p in points]))"
   ]
  },
  {
   "cell_type": "markdown",
   "metadata": {
    "collapsed": true
   },
   "source": [
    "![100 points](100p2D.png)"
   ]
  },
  {
   "cell_type": "markdown",
   "metadata": {},
   "source": [
    "# Circle\n",
    "\"A circle is a simple closed shape in Euclidean geometry. It is the set of all points in a plane that are at a given distance from a given point, the centre [...]\"\n",
    "\n",
    "### Equations\n",
    "In an x–y Cartesian coordinate system, the circle with centre coordinates (a, b) and radius r is the set of all points (x, y) such that:\n",
    "\n",
    "$$ (x - a)^2 + (y - b)^2 = r $$\n",
    "\" [Wikipedia.org - \"Circle\"]\n",
    "\n",
    "If the origin is $(0,0)$:\n",
    "$$ x^2 + y^2 = r $$\n",
    "\n",
    "Produce (and draw) 1000 random points within $S_1$, the $1D$ sphere\n",
    "(circle) of unit radius centered at the origin $(0, 0)$\n",
    "\n",
    "this means: $$ x^2 + y^2 = 1 $$"
   ]
  },
  {
   "cell_type": "markdown",
   "metadata": {},
   "source": [
    "Let's keep x in the range [-1,1]\n",
    "$$ \\begin{cases} -1 \\leq x \\leq 1 \\\\ -\\sqrt{(1-x^2)} \\leq y \\leq \\sqrt{(1-x^2)} \\end{cases} $$"
   ]
  },
  {
   "cell_type": "code",
   "execution_count": 51,
   "metadata": {
    "collapsed": true
   },
   "outputs": [],
   "source": [
    "def randomlyDottedCircle(): \n",
    "    x = random.uniform(-1,1)\n",
    "    y = random.uniform(-sqrt(1-x**2),sqrt(1-x**2))\n",
    "    return x,y"
   ]
  },
  {
   "cell_type": "code",
   "execution_count": 52,
   "metadata": {
    "collapsed": true
   },
   "outputs": [],
   "source": [
    "def plotRandomlyDottedCircle():\n",
    "    points = [randomlyDottedCircle() for i  in np.arange(10000)]\n",
    "    VIEW(STRUCT(map(MK,points))) #MK will creates the \"real\" points"
   ]
  },
  {
   "cell_type": "code",
   "execution_count": 53,
   "metadata": {
    "collapsed": true
   },
   "outputs": [],
   "source": [
    "plotRandomlyDottedCircle()"
   ]
  },
  {
   "cell_type": "markdown",
   "metadata": {
    "collapsed": true
   },
   "source": [
    "![1000 points](circle.png)"
   ]
  },
  {
   "cell_type": "code",
   "execution_count": null,
   "metadata": {
    "collapsed": true
   },
   "outputs": [],
   "source": []
  }
 ],
 "metadata": {
  "kernelspec": {
   "display_name": "Python 2",
   "language": "python",
   "name": "python2"
  },
  "language_info": {
   "codemirror_mode": {
    "name": "ipython",
    "version": 2
   },
   "file_extension": ".py",
   "mimetype": "text/x-python",
   "name": "python",
   "nbconvert_exporter": "python",
   "pygments_lexer": "ipython2",
   "version": "2.7.13"
  }
 },
 "nbformat": 4,
 "nbformat_minor": 2
}
