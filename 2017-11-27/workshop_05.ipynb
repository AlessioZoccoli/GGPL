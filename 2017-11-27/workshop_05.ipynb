{
 "cells": [
  {
   "cell_type": "markdown",
   "metadata": {
    "collapsed": true
   },
   "source": [
    "Andrea Palladio's - I quattro libri dell'architetture\n",
    "===="
   ]
  },
  {
   "cell_type": "markdown",
   "metadata": {},
   "source": [
    "wire-frame plans of Villa Badoer\n",
    "==============================="
   ]
  },
  {
   "cell_type": "markdown",
   "metadata": {},
   "source": [
    "Drawing program used: inkscape (https://inkscape.org)\n",
    "\n",
    "## Work pipeline\n",
    "- search for useful material\n",
    "- draw plans on inkscape. output: .svg\n",
    "- from .svg to .lines: http://cvdlab.github.io/svg2lines/\n",
    "- lar model (V,EV)\n",
    "- 3d model"
   ]
  },
  {
   "cell_type": "markdown",
   "metadata": {},
   "source": [
    "![villabadoer](./images/vb_full.gif)"
   ]
  },
  {
   "cell_type": "markdown",
   "metadata": {},
   "source": [
    "![villabadoer](./images/villabadoer.gif)"
   ]
  },
  {
   "cell_type": "markdown",
   "metadata": {},
   "source": [
    "![plant](./images/inkscape.png)"
   ]
  },
  {
   "cell_type": "code",
   "execution_count": 2,
   "metadata": {},
   "outputs": [
    {
     "name": "stdout",
     "output_type": "stream",
     "text": [
      "Evaluating fenvs.py..\n...fenvs.py imported in 0.010861 seconds\n"
     ]
    }
   ],
   "source": [
    "from larlib import *\n",
    "from math import floor\n",
    "import csv"
   ]
  },
  {
   "cell_type": "code",
   "execution_count": null,
   "metadata": {},
   "outputs": [],
   "source": [
    "def drawPlant(path2file):\n",
    "    with open(path2file, \"rb\") as file:\n",
    "        csvPoints = csv.reader(file, delimiter=\",\")\n",
    "\n",
    "        # lar model = (V,EV) data structure representing the graph\n",
    "        # ev cointains arches represented by couples (indexOfNode_A, indexOfNode_B)\n",
    "        # indexOfNode_A/B setted according to \"index\"\n",
    "        v = {}\n",
    "        ev = []\n",
    "        index = 0\n",
    "        for line in csvPoints:\n",
    "            x1 = floor(float(line[0])*100)/100\n",
    "            y1 = floor(float(line[1])*100)/100\n",
    "            x2 = floor(float(line[2])*100)/100\n",
    "            y2 = floor(float(line[3])*100)/100\n",
    "\n",
    "            if not (v.has_key((x1, y1))):\n",
    "                index = index + 1\n",
    "                v[(x1, y1)] = index\n",
    "            if not (v.has_key((x2, y2))):\n",
    "                index = index + 1\n",
    "                v[(x2, y2)] = index\n",
    "            ev.append([v[(x1, y1)], v[(x2, y2)]])\n",
    "\n",
    "    return [v, ev]"
   ]
  }
 ],
 "metadata": {
  "kernelspec": {
   "display_name": "Python 2",
   "language": "python",
   "name": "python2"
  },
  "language_info": {
   "codemirror_mode": {
    "name": "ipython",
    "version": 2
   },
   "file_extension": ".py",
   "mimetype": "text/x-python",
   "name": "python",
   "nbconvert_exporter": "python",
   "pygments_lexer": "ipython2",
   "version": "2.7.6"
  }
 },
 "nbformat": 4,
 "nbformat_minor": 0
}
