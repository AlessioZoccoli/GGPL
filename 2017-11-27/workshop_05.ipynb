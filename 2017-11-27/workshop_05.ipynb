{
 "cells": [
  {
   "cell_type": "markdown",
   "metadata": {
    "collapsed": true
   },
   "source": [
    "Andrea Palladio's - I quattro libri dell'architetture\n",
    "===="
   ]
  },
  {
   "cell_type": "markdown",
   "metadata": {},
   "source": [
    "wire-frame plans of Villa Badoer\n",
    "==============================="
   ]
  },
  {
   "cell_type": "markdown",
   "metadata": {},
   "source": [
    "Drawing program used: inkscape (https://inkscape.org)\n",
    "\n",
    "## Work pipeline\n",
    "- search for useful material\n",
    "- draw plans on inkscape. output: .svg\n",
    "- from .svg to .lines: http://cvdlab.github.io/svg2lines/\n",
    "- lar model (V,EV)\n",
    "- 3d model"
   ]
  },
  {
   "cell_type": "markdown",
   "metadata": {},
   "source": [
    "![villabadoer](./images/villaBadoerFull.png)"
   ]
  },
  {
   "cell_type": "markdown",
   "metadata": {},
   "source": [
    "![villabadoer](./images/villabadoer.gif)"
   ]
  },
  {
   "cell_type": "markdown",
   "metadata": {},
   "source": [
    "![plant](./images/inkscape.png)"
   ]
  },
  {
   "cell_type": "markdown",
   "metadata": {},
   "source": [
    "![oldPlanimetry](./images/planimetriaBadoer.png)"
   ]
  },
  {
   "cell_type": "code",
   "execution_count": 37,
   "metadata": {},
   "outputs": [],
   "source": [
    "from larlib import *\n",
    "from math import floor\n",
    "import csv\n",
    "import os"
   ]
  },
  {
   "cell_type": "code",
   "execution_count": 38,
   "metadata": {},
   "outputs": [],
   "source": [
    "def larModel(path2lines):\n",
    "    \"\"\"\n",
    "    drawPlant(\"mypath\")\n",
    "    :param path2file: path to the .lines file\n",
    "    :return: \n",
    "    \"\"\"\n",
    "    with open(path2lines, \"rb\") as file:\n",
    "        lines = csv.reader(file, delimiter=\",\")\n",
    "\n",
    "        mapping = {}\n",
    "        v = []\n",
    "        ev = []\n",
    "        index = 0\n",
    "        \n",
    "        # indexing of the vertices and approximation\n",
    "        for entry in lines:\n",
    "            x1 = math.floor(float(entry[0])*100)/100\n",
    "            y1 = math.floor(float(entry[1])*100)/100\n",
    "            x2 = math.floor(float(entry[2])*100)/100\n",
    "            y2 = math.floor(float(entry[3])*100)/100\n",
    "\n",
    "            if not(mapping.has_key((x1,y1))):\n",
    "                index += 1\n",
    "                mapping[(x1,y1)] = index\n",
    "                v.append([x1,y1])\n",
    "\n",
    "            if not(mapping.has_key((x2,y2))):\n",
    "                index += 1\n",
    "                mapping[(x2,y2)] = index\n",
    "                v.append([x2,y2])\n",
    "\n",
    "            ev.append([mapping[(x1,y1)], mapping[(x2,y2)]])\n",
    "\n",
    "    return v,ev"
   ]
  },
  {
   "cell_type": "markdown",
   "metadata": {},
   "source": [
    "## let's get the graph"
   ]
  },
  {
   "cell_type": "code",
   "execution_count": 44,
   "metadata": {},
   "outputs": [],
   "source": [
    "V,EV = larModel(os.getcwd() + \"/data/pianta.lines\")"
   ]
  },
  {
   "cell_type": "markdown",
   "metadata": {},
   "source": [
    "Drawing the wire-frame plant"
   ]
  },
  {
   "cell_type": "code",
   "execution_count": 46,
   "metadata": {},
   "outputs": [],
   "source": [
    "def drawPlant(verts, edges):\n",
    "    plant = []\n",
    "    for e in edges:\n",
    "        plant.append(POLYLINE([verts[e[0]-1], verts[e[1]-1]]))\n",
    "    return plant"
   ]
  },
  {
   "cell_type": "code",
   "execution_count": 47,
   "metadata": {},
   "outputs": [
    {
     "data": {
      "text/plain": [
       "<pyplasm.xgepy.Hpc; proxy of <Swig Object of type 'std::shared_ptr< Hpc > *' at 0x181bcc03f0> >"
      ]
     },
     "execution_count": 47,
     "metadata": {},
     "output_type": "execute_result"
    }
   ],
   "source": [
    "\n",
    "plant = drawPlant(V, EV)\n",
    "VIEW(STRUCT(plant))"
   ]
  },
  {
   "cell_type": "markdown",
   "metadata": {},
   "source": [
    "![plant](./images/plant.png)"
   ]
  },
  {
   "cell_type": "markdown",
   "metadata": {},
   "source": [
    "![plant](./images/plant2.png)"
   ]
  },
  {
   "cell_type": "markdown",
   "metadata": {},
   "source": [
    "![plant](./images/plant3.png)"
   ]
  }
 ],
 "metadata": {
  "kernelspec": {
   "display_name": "Python 2",
   "language": "python",
   "name": "python2"
  },
  "language_info": {
   "codemirror_mode": {
    "name": "ipython",
    "version": 2
   },
   "file_extension": ".py",
   "mimetype": "text/x-python",
   "name": "python",
   "nbconvert_exporter": "python",
   "pygments_lexer": "ipython2",
   "version": "2.7.6"
  }
 },
 "nbformat": 4,
 "nbformat_minor": 0
}
