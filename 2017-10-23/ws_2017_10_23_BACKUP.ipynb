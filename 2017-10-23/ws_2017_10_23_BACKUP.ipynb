{
 "cells": [
  {
   "cell_type": "markdown",
   "metadata": {},
   "source": [
    "Workshop 01\n",
    "==========="
   ]
  },
  {
   "cell_type": "markdown",
   "metadata": {},
   "source": [
    "Converting PLaSM function to python"
   ]
  },
  {
   "cell_type": "code",
   "execution_count": 5,
   "metadata": {},
   "outputs": [],
   "source": [
    "from larlib import *"
   ]
  },
  {
   "cell_type": "markdown",
   "metadata": {},
   "source": [
    "# MKPOL\n",
    "The __MKPOL__ constructor is the most powerful geometric primitive, which provides a very high geometric covering to the language. This constructor allows for easily implementing polylines, polymarkers, triangle stripes, quadrilateral meshes, various kinds of solid meshes, and so on.\n",
    "\n",
    "__MKPOL__ primitive The ”Make polyhedron” constructor MKPOL generates polyhedral complexes of anydimension. It is the basic geometry constructor in PLaSM. The MKPOL operator is a mapping from triples of sequences to polyhedral complexes:\n",
    "$$ MKPOL:< verts, cells, pols > $$\n"
   ]
  },
  {
   "cell_type": "code",
   "execution_count": 6,
   "metadata": {
    "collapsed": true
   },
   "outputs": [],
   "source": [
    "\"\"\"\n",
    "Constructs a L-shaped polyhedral complex\n",
    "args: no args\n",
    "\"\"\"\n",
    "def LShape1():\n",
    "    verts = [(0, 0), (2, 0), (2, 1), (1, 1), (1, 2), (0, 2)]\n",
    "    cells = [(1, 2, 3, 4), (4, 5, 6, 1)]\n",
    "    pols = [1, 2]\n",
    "    l = MKPOL([verts, cells, pols])\n",
    "    return l"
   ]
  },
  {
   "cell_type": "code",
   "execution_count": 7,
   "metadata": {},
   "outputs": [
    {
     "ename": "NameError",
     "evalue": "name 'lShape1' is not defined",
     "traceback": [
      "\u001b[0;31m\u001b[0m",
      "\u001b[0;31mNameError\u001b[0mTraceback (most recent call last)",
      "\u001b[0;32m<ipython-input-7-722a7976d239>\u001b[0m in \u001b[0;36m<module>\u001b[0;34m()\u001b[0m\n\u001b[0;32m----> 1\u001b[0;31m \u001b[0ml\u001b[0m \u001b[0;34m=\u001b[0m \u001b[0mlShape1\u001b[0m\u001b[0;34m(\u001b[0m\u001b[0;34m)\u001b[0m\u001b[0;34m\u001b[0m\u001b[0m\n\u001b[0m\u001b[1;32m      2\u001b[0m \u001b[0mVIEW\u001b[0m\u001b[0;34m(\u001b[0m\u001b[0ml\u001b[0m\u001b[0;34m)\u001b[0m\u001b[0;34m\u001b[0m\u001b[0m\n",
      "\u001b[0;31mNameError\u001b[0m: name 'lShape1' is not defined"
     ],
     "output_type": "error"
    }
   ],
   "source": [
    "l = lShape1()\n",
    "VIEW(l)"
   ]
  },
  {
   "cell_type": "code",
   "execution_count": 6,
   "metadata": {
    "collapsed": true
   },
   "outputs": [],
   "source": [
    "\"\"\"\n",
    "Constructs a L-shaped skeleton with polyhedral cells\n",
    "\"\"\"\n",
    "def LShape2():\n",
    "    verts = [(0, 0), (2, 0), (2, 1), (1, 1), (1, 2), (0, 2)]\n",
    "    cells = [(1, 2, 3, 4), (4, 5, 6, 1)]\n",
    "    pols = [1, 2]\n",
    "    l = STRUCT([SKEL_1(MKPOL([verts,cells,pols]))])\n",
    "    return l\n"
   ]
  },
  {
   "cell_type": "code",
   "execution_count": 7,
   "metadata": {},
   "outputs": [
    {
     "data": {
      "text/plain": [
       "<pyplasm.xgepy.Hpc; proxy of <Swig Object of type 'std::shared_ptr< Hpc > *' at 0x181a0c2b10> >"
      ]
     },
     "execution_count": 7,
     "metadata": {},
     "output_type": "execute_result"
    }
   ],
   "source": [
    "l2 = lShape2()\n",
    "VIEW(l2)"
   ]
  },
  {
   "cell_type": "code",
   "execution_count": 21,
   "metadata": {
    "collapsed": true
   },
   "outputs": [],
   "source": [
    "def lShape3():\n",
    "  verts = [(0, 0), (2, 0), (2, 1), (1, 1), (1, 2), (0, 2), (0,0)]\n",
    "  l = STRUCT([POLYLINE(verts)])\n",
    "  return l"
   ]
  },
  {
   "cell_type": "code",
   "execution_count": 22,
   "metadata": {},
   "outputs": [
    {
     "data": {
      "text/plain": [
       "<pyplasm.xgepy.Hpc; proxy of <Swig Object of type 'std::shared_ptr< Hpc > *' at 0x181e2a6180> >"
      ]
     },
     "execution_count": 22,
     "metadata": {},
     "output_type": "execute_result"
    }
   ],
   "source": [
    "l3 = lShape3()\n",
    "VIEW(l3)"
   ]
  },
  {
   "cell_type": "markdown",
   "metadata": {},
   "source": [
    "![L_shapes](./images/l_shape.png)"
   ]
  },
  {
   "cell_type": "markdown",
   "metadata": {
    "collapsed": true
   },
   "source": [
    "# Table model\n",
    "A table is made of legs and a plane"
   ]
  },
  {
   "cell_type": "code",
   "execution_count": 25,
   "metadata": {},
   "outputs": [],
   "source": [
    "leg = CUBOID([0.1,0.1,0.7])"
   ]
  },
  {
   "cell_type": "code",
   "execution_count": 26,
   "metadata": {
    "collapsed": true
   },
   "outputs": [],
   "source": [
    "plane = CUBOID([1,1,0.2])"
   ]
  },
  {
   "cell_type": "code",
   "execution_count": 36,
   "metadata": {
    "collapsed": true
   },
   "outputs": [],
   "source": [
    "\"\"\"\n",
    "Leg, T:1:0.9, Leg, T:2:0.9, Leg, T:1:-0.9, Leg, T:<2,3>:<-0.9,0.7>, Plane >;\n",
    "\"\"\"\n",
    "def table():\n",
    "    return STRUCT([leg,T(1)(0.9)(leg),T(1)(-0.9)(leg),T([2,3])([-0.9,0.7])(plane)])"
   ]
  },
  {
   "cell_type": "code",
   "execution_count": 37,
   "metadata": {},
   "outputs": [],
   "source": [
    "def table1():\n",
    "    return STRUCT([leg, T(1)(0.9)(leg),T([1,2])([0.9,0.9])(leg), T(2)(0.9)(leg), T(3)(0.7)(plane)])"
   ]
  },
  {
   "cell_type": "code",
   "execution_count": null,
   "metadata": {},
   "outputs": [],
   "source": [
    "tab1 = table1()\n",
    "VIEW(HEX(\"#000000\")(tab1))"
   ]
  },
  {
   "cell_type": "code",
   "execution_count": null,
   "metadata": {
    "collapsed": true
   },
   "outputs": [],
   "source": []
  }
 ],
 "metadata": {
  "kernelspec": {
   "display_name": "Python 2",
   "language": "python",
   "name": "python2"
  },
  "language_info": {
   "codemirror_mode": {
    "name": "ipython",
    "version": 2
   },
   "file_extension": ".py",
   "mimetype": "text/x-python",
   "name": "python",
   "nbconvert_exporter": "python",
   "pygments_lexer": "ipython2",
   "version": "2.7.13"
  }
 },
 "nbformat": 4,
 "nbformat_minor": 1
}
