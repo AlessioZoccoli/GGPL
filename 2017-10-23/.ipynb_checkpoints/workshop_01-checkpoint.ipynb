{
 "cells": [
  {
   "cell_type": "markdown",
   "metadata": {},
   "source": [
    "Workshop 01\n",
    "==========="
   ]
  },
  {
   "cell_type": "markdown",
   "metadata": {},
   "source": [
    "Converting PLaSM function to python"
   ]
  },
  {
   "cell_type": "code",
   "execution_count": 3,
   "metadata": {},
   "outputs": [
    {
     "name": "stdout",
     "output_type": "stream",
     "text": [
      "Evaluating fenvs.py..\n",
      "...fenvs.py imported in 0.006 seconds\n"
     ]
    }
   ],
   "source": [
    "from larlib import *"
   ]
  },
  {
   "cell_type": "markdown",
   "metadata": {},
   "source": [
    "# MKPOL\n",
    "The __MKPOL__ constructor is the most powerful geometric primitive, which provides a very high geometric covering to the language. This constructor allows for easily implementing polylines, polymarkers, triangle stripes, quadrilateral meshes, various kinds of solid meshes, and so on.\n",
    "\n",
    "__MKPOL__ primitive The ”Make polyhedron” constructor MKPOL generates polyhedral complexes of anydimension. It is the basic geometry constructor in PLaSM. The MKPOL operator is a mapping from triples of sequences to polyhedral complexes:\n",
    "$$ MKPOL:< verts, cells, pols > $$\n"
   ]
  },
  {
   "cell_type": "code",
   "execution_count": 4,
   "metadata": {
    "collapsed": true
   },
   "outputs": [],
   "source": [
    "\"\"\"\n",
    "Constructs a L-shaped polyhedral complex\n",
    "args: no args\n",
    "\"\"\"\n",
    "def L_shape1():\n",
    "    verts = [(0, 0), (2, 0), (2, 1), (1, 1), (1, 2), (0, 2)]\n",
    "    cells = [(1, 2, 3, 4), (4, 5, 6, 1)]\n",
    "    pols = [1, 2]\n",
    "    l = MKPOL([verts, cells, pols])\n",
    "    return l"
   ]
  },
  {
   "cell_type": "code",
   "execution_count": 5,
   "metadata": {},
   "outputs": [
    {
     "data": {
      "text/plain": [
       "<pyplasm.xgepy.Hpc; proxy of <Swig Object of type 'std::shared_ptr< Hpc > *' at 0x181a0c22d0> >"
      ]
     },
     "execution_count": 5,
     "metadata": {},
     "output_type": "execute_result"
    }
   ],
   "source": [
    "l = lShape1()\n",
    "VIEW(l)"
   ]
  },
  {
   "cell_type": "code",
   "execution_count": 6,
   "metadata": {
    "collapsed": true
   },
   "outputs": [],
   "source": [
    "\"\"\"\n",
    "Constructs a L-shaped skeleton with polyhedral cells\n",
    "\"\"\"\n",
    "def L_shape2():\n",
    "    verts = [(0, 0), (2, 0), (2, 1), (1, 1), (1, 2), (0, 2)]\n",
    "    cells = [(1, 2, 3, 4), (4, 5, 6, 1)]\n",
    "    pols = [1, 2]\n",
    "    l = STRUCT([SKEL_1(MKPOL([verts,cells,pols]))])\n",
    "    return l\n"
   ]
  },
  {
   "cell_type": "code",
   "execution_count": 7,
   "metadata": {},
   "outputs": [
    {
     "data": {
      "text/plain": [
       "<pyplasm.xgepy.Hpc; proxy of <Swig Object of type 'std::shared_ptr< Hpc > *' at 0x181a0c2b10> >"
      ]
     },
     "execution_count": 7,
     "metadata": {},
     "output_type": "execute_result"
    }
   ],
   "source": [
    "l2 = lShape2()\n",
    "VIEW(l2)"
   ]
  },
  {
   "cell_type": "code",
   "execution_count": 21,
   "metadata": {
    "collapsed": true
   },
   "outputs": [],
   "source": [
    "def lShape3():\n",
    "  verts = [(0, 0), (2, 0), (2, 1), (1, 1), (1, 2), (0, 2), (0,0)]\n",
    "  l = STRUCT([POLYLINE(verts)])\n",
    "  return l"
   ]
  },
  {
   "cell_type": "code",
   "execution_count": 22,
   "metadata": {},
   "outputs": [
    {
     "data": {
      "text/plain": [
       "<pyplasm.xgepy.Hpc; proxy of <Swig Object of type 'std::shared_ptr< Hpc > *' at 0x181e2a6180> >"
      ]
     },
     "execution_count": 22,
     "metadata": {},
     "output_type": "execute_result"
    }
   ],
   "source": [
    "l3 = lShape3()\n",
    "VIEW(l3)"
   ]
  },
  {
   "cell_type": "markdown",
   "metadata": {},
   "source": [
    "![L_shapes](./images/l_shape.png)"
   ]
  },
  {
   "cell_type": "markdown",
   "metadata": {
    "collapsed": true
   },
   "source": [
    "# Table model\n",
    "A table is made of legs and a plane"
   ]
  },
  {
   "cell_type": "code",
   "execution_count": 25,
   "metadata": {},
   "outputs": [],
   "source": [
    "leg = CUBOID([0.1,0.1,0.7])"
   ]
  },
  {
   "cell_type": "code",
   "execution_count": 26,
   "metadata": {
    "collapsed": true
   },
   "outputs": [],
   "source": [
    "plane = CUBOID([1,1,0.2])"
   ]
  },
  {
   "cell_type": "code",
   "execution_count": 52,
   "metadata": {
    "collapsed": true
   },
   "outputs": [],
   "source": [
    "\"\"\"\n",
    "returns table: legs and plane\n",
    "\"\"\"\n",
    "def table():\n",
    "    return STRUCT([leg,T(1)(0.9)(leg),T(1)(-0.9)(leg),T([2,3])([-0.9,0.7])(plane)])"
   ]
  },
  {
   "cell_type": "code",
   "execution_count": 37,
   "metadata": {},
   "outputs": [],
   "source": [
    "def table1():\n",
    "    return STRUCT([leg, T(1)(0.9)(leg),T([1,2])([0.9,0.9])(leg), T(2)(0.9)(leg), T(3)(0.7)(plane)])"
   ]
  },
  {
   "cell_type": "code",
   "execution_count": 43,
   "metadata": {},
   "outputs": [
    {
     "data": {
      "text/plain": [
       "<pyplasm.xgepy.Hpc; proxy of <Swig Object of type 'std::shared_ptr< Hpc > *' at 0x181e2a26c0> >"
      ]
     },
     "execution_count": 43,
     "metadata": {},
     "output_type": "execute_result"
    }
   ],
   "source": [
    "tab1 = table1()\n",
    "VIEW(HEX(\"#333333\")(tab1))"
   ]
  },
  {
   "cell_type": "code",
   "execution_count": 53,
   "metadata": {},
   "outputs": [
    {
     "data": {
      "text/plain": [
       "<pyplasm.xgepy.Hpc; proxy of <Swig Object of type 'std::shared_ptr< Hpc > *' at 0x181e2ba210> >"
      ]
     },
     "execution_count": 53,
     "metadata": {},
     "output_type": "execute_result"
    }
   ],
   "source": [
    "\"\"\"\n",
    "Two twin tables\n",
    "\"\"\"\n",
    "tab2 = T(1)(2)(tab1)\n",
    "VIEW(STRUCT([tab1,tab2]))"
   ]
  },
  {
   "cell_type": "code",
   "execution_count": 55,
   "metadata": {},
   "outputs": [
    {
     "data": {
      "text/plain": [
       "<pyplasm.xgepy.Hpc; proxy of <Swig Object of type 'std::shared_ptr< Hpc > *' at 0x181e2ba420> >"
      ]
     },
     "execution_count": 55,
     "metadata": {},
     "output_type": "execute_result"
    }
   ],
   "source": [
    "\"\"\"\n",
    "Large plane table. We need more sits\n",
    "\"\"\"\n",
    "longPlane = CUBOID([6,3,0.2])\n",
    "VIEW(longPlane)"
   ]
  },
  {
   "cell_type": "code",
   "execution_count": 57,
   "metadata": {},
   "outputs": [],
   "source": [
    "def longTable():\n",
    "    return STRUCT([leg, T(1)(0.9)(leg),T([1,2])([0.9,0.9])(leg), T(2)(0.9)(leg), T(3)(0.7)(longPlane)])"
   ]
  },
  {
   "cell_type": "code",
   "execution_count": null,
   "metadata": {
    "collapsed": true
   },
   "outputs": [],
   "source": []
  }
 ],
 "metadata": {
  "kernelspec": {
   "display_name": "Python 2",
   "language": "python",
   "name": "python2"
  },
  "language_info": {
   "codemirror_mode": {
    "name": "ipython",
    "version": 2
   },
   "file_extension": ".py",
   "mimetype": "text/x-python",
   "name": "python",
   "nbconvert_exporter": "python",
   "pygments_lexer": "ipython2",
   "version": "2.7.13"
  }
 },
 "nbformat": 4,
 "nbformat_minor": 1
}
