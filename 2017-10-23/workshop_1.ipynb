{
 "cells": [
  {
   "cell_type": "markdown",
   "metadata": {},
   "source": [
    "Workshop 01\n",
    "==========="
   ]
  },
  {
   "cell_type": "markdown",
   "metadata": {},
   "source": [
    "Converting PLaSM function to python"
   ]
  },
  {
   "cell_type": "code",
   "execution_count": 4,
   "metadata": {},
   "outputs": [
    {
     "name": "stdout",
     "output_type": "stream",
     "text": [
      "Evaluating fenvs.py..\n...fenvs.py imported in 0.010544 seconds\n"
     ]
    }
   ],
   "source": [
    "from larlib import *"
   ]
  },
  {
   "cell_type": "markdown",
   "metadata": {},
   "source": [
    "# MKPOL\n",
    "The __MKPOL__ constructor is the most powerful geometric primitive, which provides a very high geometric covering to the language. This constructor allows for easily implementing polylines, polymarkers, triangle stripes, quadrilateral meshes, various kinds of solid meshes, and so on.\n",
    "\n",
    "__MKPOL__ primitive The ”Make polyhedron” constructor MKPOL generates polyhedral complexes of anydimension. It is the basic geometry constructor in PLaSM. The MKPOL operator is a mapping from triples of sequences to polyhedral complexes:\n",
    "$$ MKPOL:< verts, cells, pols > $$\n"
   ]
  },
  {
   "cell_type": "code",
   "execution_count": 10,
   "metadata": {
    "collapsed": true
   },
   "outputs": [],
   "source": [
    "\"\"\"\n",
    "Constructs a L-shaped polyhedral complex\n",
    "args: no args\n",
    "\"\"\"\n",
    "def LShape1():\n",
    "    verts = [(0, 0), (2, 0), (2, 1), (1, 1), (1, 2), (0, 2)]\n",
    "    cells = [(1, 2, 3, 4), (4, 5, 6, 1)]\n",
    "    pols = [1, 2]\n",
    "    l = MKPOL([verts, cells, pols])\n",
    "    return l"
   ]
  },
  {
   "cell_type": "code",
   "execution_count": 14,
   "metadata": {},
   "outputs": [
    {
     "data": {
      "text/plain": [
       "<pyplasm.xgepy.Hpc; proxy of <Swig Object of type 'std::shared_ptr< Hpc > *' at 0x18140f3810> >"
      ]
     },
     "execution_count": 13,
     "metadata": {},
     "output_type": "execute_result"
    }
   ],
   "source": [
    "l = LShape1()\n",
    "VIEW(l)"
   ]
  },
  {
   "cell_type": "code",
   "execution_count": 15,
   "metadata": {
    "collapsed": true
   },
   "outputs": [],
   "source": [
    "\"\"\"\n",
    "Constructs a L-shaped skeleton with 2 polyhedral cells\n",
    "\"\"\"\n",
    "def LShape2():\n",
    "    verts = [(0, 0), (2, 0), (2, 1), (1, 1), (1, 2), (0, 2)]\n",
    "    cells = [(1, 2, 3, 4), (4, 5, 6, 1)]\n",
    "    pols = [1, 2]\n",
    "    l = STRUCT([SKEL_1(MKPOL([verts,cells,pols]))])\n",
    "    return l\n"
   ]
  },
  {
   "cell_type": "code",
   "execution_count": 15,
   "metadata": {},
   "outputs": [
    {
     "data": {
      "text/plain": [
       "<pyplasm.xgepy.Hpc; proxy of <Swig Object of type 'std::shared_ptr< Hpc > *' at 0x18140f3c30> >"
      ]
     },
     "execution_count": 15,
     "metadata": {},
     "output_type": "execute_result"
    }
   ],
   "source": [
    "l2 = LShape2()\n",
    "VIEW(l2)"
   ]
  },
  {
   "cell_type": "code",
   "execution_count": 16,
   "metadata": {
    "collapsed": true
   },
   "outputs": [],
   "source": [
    "\"\"\"\n",
    "Constructs a L-shaped skeleton as a polyline\n",
    "\"\"\"\n",
    "def LShape3():\n",
    "  verts = [(0, 0), (2, 0), (2, 1), (1, 1), (1, 2), (0, 2), (0,0)]\n",
    "  l = STRUCT([POLYLINE(verts)])\n",
    "  return l"
   ]
  },
  {
   "cell_type": "code",
   "execution_count": 17,
   "metadata": {},
   "outputs": [
    {
     "data": {
      "text/plain": [
       "<pyplasm.xgepy.Hpc; proxy of <Swig Object of type 'std::shared_ptr< Hpc > *' at 0x18140f6090> >"
      ]
     },
     "execution_count": 17,
     "metadata": {},
     "output_type": "execute_result"
    }
   ],
   "source": [
    "l3 = LShape3()\n",
    "VIEW(l3)"
   ]
  },
  {
   "cell_type": "markdown",
   "metadata": {},
   "source": [
    "![L_shapes](./images/l_shape.png)"
   ]
  },
  {
   "cell_type": "markdown",
   "metadata": {},
   "source": [
    "![L-polyhedra](./image/polyedL.png)\n",
    "![L-skel](./image/skel.png)\n",
    "![L-polyline](./image/polyL.png)\n"
   ]
  },
  {
   "cell_type": "markdown",
   "metadata": {
    "collapsed": true
   },
   "source": [
    "# Table model\n",
    "A table is made of legs and a plane"
   ]
  },
  {
   "cell_type": "code",
   "execution_count": 18,
   "metadata": {},
   "outputs": [],
   "source": [
    "leg = CUBOID([0.1,0.1,0.7])"
   ]
  },
  {
   "cell_type": "code",
   "execution_count": 19,
   "metadata": {
    "collapsed": true
   },
   "outputs": [],
   "source": [
    "plane = CUBOID([1,1,0.2])"
   ]
  },
  {
   "cell_type": "code",
   "execution_count": 19,
   "metadata": {
    "collapsed": true
   },
   "outputs": [],
   "source": [
    "\"\"\"\n",
    "Leg, T:1:0.9, Leg, T:2:0.9, Leg, T:1:-0.9, Leg, T:<2,3>:<-0.9,0.7>, Plane >;\n",
    "\"\"\"\n",
    "def table():\n",
    "    return STRUCT([leg,T(1)(0.9)(leg),T(1)(-0.9)(leg),T([2,3])([-0.9,0.7])(plane)])"
   ]
  },
  {
   "cell_type": "code",
   "execution_count": 21,
   "metadata": {},
   "outputs": [],
   "source": [
    "def table1():\n",
    "    return STRUCT([leg, T(1)(0.9)(leg),T([1,2])([0.9,0.9])(leg), T(2)(0.9)(leg), T(3)(0.7)(plane)])"
   ]
  },
  {
   "cell_type": "code",
   "execution_count": 22,
   "metadata": {},
   "outputs": [
    {
     "data": {
      "text/plain": [
       "<pyplasm.xgepy.Hpc; proxy of <Swig Object of type 'std::shared_ptr< Hpc > *' at 0x18140f66c0> >"
      ]
     },
     "execution_count": 22,
     "metadata": {},
     "output_type": "execute_result"
    }
   ],
   "source": [
    "tab1 = table1()\n",
    "VIEW(HEX(\"#000000\")(tab1))"
   ]
  },
  {
   "cell_type": "markdown",
   "metadata": {},
   "source": [
    "## 1-skeleton of 3-cube and 3-simplex"
   ]
  },
  {
   "cell_type": "code",
   "execution_count": 23,
   "metadata": {
    "collapsed": true
   },
   "outputs": [
    {
     "data": {
      "text/plain": [
       "<pyplasm.xgepy.Hpc; proxy of <Swig Object of type 'std::shared_ptr< Hpc > *' at 0x18140f67e0> >"
      ]
     },
     "execution_count": 23,
     "metadata": {},
     "output_type": "execute_result"
    }
   ],
   "source": [
    "out = SKEL_1(STRUCT([CUBOID([1,1,1]), SIMPLEX(3)]))\n",
    "VIEW(out)"
   ]
  },
  {
   "cell_type": "markdown",
   "metadata": {},
   "source": [
    "![1skeleton of 3cuboid and 3simplex](./images/1ske_cubeSimplex.png)"
   ]
  },
  {
   "cell_type": "markdown",
   "metadata": {},
   "source": [
    "The __QUOTE__ operator is used in PLaSM to define 1-polyhedra embedded in 1D space. Such (1, 1)-polyhedra are often used by other PLaSM functions.\n",
    "$$ QUOTE: (R - {0})^* \\to P^{1,1}$$\n",
    "\n",
    "The __IF__ function behave as follows\n",
    "$IF:<p,f,g>:x\\equiv f:x$ if $p:x\\equiv TRUE \\equiv g:x$ if $p:x \\equiv FALSE$\n",
    "\n",
    "__Q__ is the PLaSM composition of the simpler functions QUOTE and IF"
   ]
  },
  {
   "cell_type": "code",
   "execution_count": 5,
   "metadata": {},
   "outputs": [],
   "source": [
    "def Q(x):\n",
    "    return COMP([QUOTE,IF([ISSEQ,ID,CONS(ID)])])(x)"
   ]
  },
  {
   "cell_type": "code",
   "execution_count": 6,
   "metadata": {},
   "outputs": [],
   "source": [
    "\"\"\"\n",
    "Complexes generate with (d-dimensional) multiple intervals.\n",
    "Using PROD (Cartesian Product) and Q, defined above\n",
    "\n",
    "Note: pol\n",
    "\n",
    "\"\"\"\n",
    "\n",
    "polComplex11 = Q([5,-2,5])\n",
    "\n",
    "polComplex22 = PROD([Q([5,-2,5]),Q([5,-2,5])])\n",
    "\n",
    "polComplex33 = PROD([PROD([Q([5,-2,5]),Q([5,-2,5])]),Q([3])])"
   ]
  },
  {
   "cell_type": "code",
   "execution_count": 9,
   "metadata": {},
   "outputs": [
    {
     "data": {
      "text/plain": [
       "<pyplasm.xgepy.Hpc; proxy of <Swig Object of type 'std::shared_ptr< Hpc > *' at 0x1814d78780> >"
      ]
     },
     "execution_count": 9,
     "metadata": {},
     "output_type": "execute_result"
    }
   ],
   "source": [
    "VIEW(polComplex11)\n",
    "VIEW(polComplex22)\n",
    "VIEW(polComplex33)"
   ]
  },
  {
   "cell_type": "markdown",
   "metadata": {},
   "source": [
    "![1d complex](./images/compSP1D)"
   ]
  },
  {
   "cell_type": "markdown",
   "metadata": {},
   "source": [
    "![2d complex](./images/compSP2D)"
   ]
  },
  {
   "cell_type": "markdown",
   "metadata": {},
   "source": [
    "![3d complex](./images/compSP3D)"
   ]
  }
 ],
 "metadata": {
  "kernelspec": {
   "display_name": "Python 2",
   "language": "python",
   "name": "python2"
  },
  "language_info": {
   "codemirror_mode": {
    "name": "ipython",
    "version": 2
   },
   "file_extension": ".py",
   "mimetype": "text/x-python",
   "name": "python",
   "nbconvert_exporter": "python",
   "pygments_lexer": "ipython2",
   "version": "2.7.13"
  }
 },
 "nbformat": 4,
 "nbformat_minor": 1
}
