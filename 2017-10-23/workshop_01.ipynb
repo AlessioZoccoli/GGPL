{
 "cells": [
  {
   "cell_type": "markdown",
   "metadata": {},
   "source": [
    "Workshop 01\n",
    "==========="
   ]
  },
  {
   "cell_type": "markdown",
   "metadata": {},
   "source": [
    "Converting PLaSM function to python"
   ]
  },
  {
   "cell_type": "code",
   "execution_count": 10,
   "metadata": {},
   "outputs": [
    {
     "name": "stdout",
     "output_type": "stream",
     "text": [
      "Evaluating fenvs.py..\n...fenvs.py imported in 0.006487 seconds\n"
     ]
    }
   ],
   "source": [
    "from larlib import *"
   ]
  },
  {
   "cell_type": "markdown",
   "metadata": {},
   "source": [
    "# MKPOL\n",
    "The __MKPOL__ constructor is the most powerful geometric primitive, which provides a very high geometric covering to the language. This constructor allows for easily implementing polylines, polymarkers, triangle stripes, quadrilateral meshes, various kinds of solid meshes, and so on.\n",
    "\n",
    "__MKPOL__ primitive The ”Make polyhedron” constructor MKPOL generates polyhedral complexes of anydimension. It is the basic geometry constructor in PLaSM. The MKPOL operator is a mapping from triples of sequences to polyhedral complexes:\n",
    "$$ MKPOL:< verts, cells, pols > $$\n"
   ]
  },
  {
   "cell_type": "code",
   "execution_count": 17,
   "metadata": {},
   "outputs": [],
   "source": [
    "\"\"\"\n",
    "Constructs a L-shaped polyhedral complex\n",
    "args: no args\n",
    "\"\"\"\n",
    "def L_shape1():\n",
    "    verts = [[0,0],[2,0],[2,1],[1,1],[1,2],[0,2]]\n",
    "    cells = [[1,2,3,4],[4,5,6,1]]\n",
    "    pols = [[1],[2]]\n",
    "    l = MKPOL([verts, cells, pols])\n",
    "    return l"
   ]
  },
  {
   "cell_type": "code",
   "execution_count": 16,
   "metadata": {},
   "outputs": [
    {
     "data": {
      "text/plain": [
       "<pyplasm.xgepy.Hpc; proxy of <Swig Object of type 'std::shared_ptr< Hpc > *' at 0x1074aec90> >"
      ]
     },
     "execution_count": 16,
     "metadata": {},
     "output_type": "execute_result"
    }
   ],
   "source": [
    "l = L_shape1()\n",
    "VIEW(l)"
   ]
  },
  {
   "cell_type": "code",
   "execution_count": 18,
   "metadata": {},
   "outputs": [],
   "source": [
    "\"\"\"\n",
    "Constructs a L-shaped skeleton with polyhedral cells\n",
    "\"\"\"\n",
    "def L_shape2():\n",
    "    verts = [[0, 0], [2, 0], [2, 1], [1, 1], [1, 2], [0, 2]]\n",
    "    cells = [[1, 2, 3, 4], [4, 5, 6, 1]]\n",
    "    pols = [[1, 2]]\n",
    "    l = MKPOL([verts, cells, pols])\n",
    "    return l\n"
   ]
  },
  {
   "cell_type": "markdown",
   "metadata": {},
   "source": [
    "![L_shapes](./images/l_shape.png)"
   ]
  },
  {
   "cell_type": "code",
   "execution_count": null,
   "metadata": {},
   "outputs": [],
   "source": []
  }
 ],
 "metadata": {},
 "nbformat": 4,
 "nbformat_minor": 0
}
