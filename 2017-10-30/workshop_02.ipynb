{
 "cells": [
  {
   "cell_type": "markdown",
   "metadata": {
    "collapsed": true
   },
   "source": [
    "My room bookcase\n",
    "============="
   ]
  },
  {
   "cell_type": "markdown",
   "metadata": {},
   "source": [
    "# Klimpen bookcase\n",
    "http://www.ikea.com/it/it/catalog/products/10353765/\n",
    "\n",
    "![klimpen full size](./images/klimpen_1.png)\n",
    "![klimpen detail](./images/klimpen_2.png)\n",
    "\n",
    "We will build the various part of the bookcase, then we will put them together. A second approach will be shown after (PyPlasm $Q(arg)$ function will be used).\n",
    "Structure:\n",
    "- back: as suggested is the back side of our bookcase, it will be attached to the shelves, the side block, the top and the bottom.\n",
    "- shelves\n",
    "- top\n",
    "- bottom\n",
    "Kplimpen is offered as a 50x70x33 double shelves bookcase. For this woorkshoop we will handle a parametrized (in respec of the dimension and color) Klimpen\n"
   ]
  },
  {
   "cell_type": "markdown",
   "metadata": {},
   "source": [
    "Note: measures are in meters"
   ]
  },
  {
   "cell_type": "code",
   "execution_count": 1,
   "metadata": {},
   "outputs": [
    {
     "name": "stdout",
     "output_type": "stream",
     "text": [
      "Evaluating fenvs.py..\n...fenvs.py imported in 0.012128 seconds\n"
     ]
    }
   ],
   "source": [
    "from larlib import *"
   ]
  },
  {
   "cell_type": "markdown",
   "metadata": {},
   "source": [
    "# Bookcase structure\n",
    "We will build the various part of the bookcase, then we will put them together.\n",
    "A second approach will be shown after (PyPlasm $Q(arg)$ function will be used).\n",
    "\n",
    "Structure:\n",
    "- back: as suggested is the back side of our bookcase, it will be attached to the shelves, the side block, the top and the bottom.\n",
    "- shelves\n",
    "- top\n",
    "- base\n",
    "\n",
    "Kplimpen is offered as a 50x70x33 double shelves bookcase. For this woorkshoop we will handle a parametrized (in respect of the dimension and color) Klimpen"
   ]
  },
  {
   "cell_type": "markdown",
   "metadata": {},
   "source": [
    "## Back of the bookcase"
   ]
  },
  {
   "cell_type": "code",
   "execution_count": 10,
   "metadata": {},
   "outputs": [],
   "source": [
    "def back(width, height):\n",
    "    \"\"\"\n",
    "    back: builds the back of the bookcase\n",
    "    :param back: height, width in meters\n",
    "          thickness is fixed\n",
    "    :return: a CUBOID. The 3d model for the back\n",
    "    \"\"\" \n",
    "    return CUBOID([width,height,0.01]) #0.1 is thickness"
   ]
  },
  {
   "cell_type": "code",
   "execution_count": 12,
   "metadata": {},
   "outputs": [
    {
     "data": {
      "text/plain": [
       "<pyplasm.xgepy.Hpc; proxy of <Swig Object of type 'std::shared_ptr< Hpc > *' at 0x1817bbc660> >"
      ]
     },
     "execution_count": 12,
     "metadata": {},
     "output_type": "execute_result"
    }
   ],
   "source": [
    "b = back(0.58, 0.7)\n",
    "VIEW(b)"
   ]
  },
  {
   "cell_type": "markdown",
   "metadata": {},
   "source": [
    "## Shelves"
   ]
  },
  {
   "cell_type": "code",
   "execution_count": 4,
   "metadata": {},
   "outputs": [],
   "source": [
    "def shelf(width, height, length):\n",
    "    \"\"\"\n",
    "    shelf: builds a single shelf\n",
    "    :param width: width of the shelf\n",
    "    :return: a CUBOID. The 3D model for a shelf\n",
    "    \"\"\"\n",
    "    return CUBOID([width,height,length])\n",
    "\n",
    "\n",
    "def shelves(nshelves, heightBack, width, height, length):\n",
    "    \"\"\"\n",
    "    shelves builds <nshelves> shelves\n",
    "    :param nshelves: number of shelves\n",
    "    :param heightBack: height of the back, the area where shelves are positionable\n",
    "    :param width: width of the shelf.\n",
    "    :param height: height of the shelf.\n",
    "    :param length: length of the shelf. (z-axis)\n",
    "    :return: nshelves CUBOIDs. nshelves shelves\n",
    "    \"\"\"\n",
    "    interval = heightBack/(nshelves+1)\n",
    "    s = STRUCT(NN(nshelves) ([shelf(width, height, length), T(2)(interval)]))\n",
    "    return s"
   ]
  },
  {
   "cell_type": "code",
   "execution_count": 13,
   "metadata": {},
   "outputs": [
    {
     "data": {
      "text/plain": [
       "<pyplasm.xgepy.Hpc; proxy of <Swig Object of type 'std::shared_ptr< Hpc > *' at 0x1817bbc5d0> >"
      ]
     },
     "execution_count": 13,
     "metadata": {},
     "output_type": "execute_result"
    }
   ],
   "source": [
    "ss = shelves(nshelves=2, heightBack=0.58, width=0.68, height=0.02, length=0.3)\n",
    "VIEW(ss)"
   ]
  },
  {
   "cell_type": "markdown",
   "metadata": {},
   "source": [
    "![2 shelves](./images/2_shelves.png)"
   ]
  },
  {
   "cell_type": "markdown",
   "metadata": {},
   "source": [
    "## Sides\n",
    "The lateral components. Two parallel wooden beam"
   ]
  },
  {
   "cell_type": "code",
   "execution_count": 14,
   "metadata": {},
   "outputs": [],
   "source": [
    "def side(heigth, length):\n",
    "    \"\"\"\n",
    "    side: side of the bookcase structure\n",
    "    :param heigth: height of the wooden beam\n",
    "    :param length: length of the wooden beam\n",
    "    :return: a CUBOID. The 3d model for a lateral wooden beam\n",
    "    \"\"\"\n",
    "    return CUBOID([0.03, heigth, length])"
   ]
  },
  {
   "cell_type": "code",
   "execution_count": 7,
   "metadata": {},
   "outputs": [],
   "source": [
    "def sides(height, length, distance):\n",
    "    \"\"\"\n",
    "    sides: a couple of sides\n",
    "    :param height: as side(height,length)\n",
    "    :param length:  \"\n",
    "    :param distance:  \"\n",
    "    :return: STRUCT([CUBOID,CUBOID])\n",
    "    \"\"\"\n",
    "    s = side(height, length)\n",
    "    sides = STRUCT([s, T(1)(distance)(s)])\n",
    "    return sides"
   ]
  },
  {
   "cell_type": "code",
   "execution_count": 16,
   "metadata": {},
   "outputs": [
    {
     "data": {
      "text/plain": [
       "<pyplasm.xgepy.Hpc; proxy of <Swig Object of type 'std::shared_ptr< Hpc > *' at 0x1817bbc630> >"
      ]
     },
     "execution_count": 15,
     "metadata": {},
     "output_type": "execute_result"
    }
   ],
   "source": [
    "single_side = side(0.58, 0.3)\n",
    "VIEW(single_side)"
   ]
  },
  {
   "cell_type": "code",
   "execution_count": 18,
   "metadata": {},
   "outputs": [
    {
     "data": {
      "text/plain": [
       "<pyplasm.xgepy.Hpc; proxy of <Swig Object of type 'std::shared_ptr< Hpc > *' at 0x1817bbcb40> >"
      ]
     },
     "execution_count": 17,
     "metadata": {},
     "output_type": "execute_result"
    }
   ],
   "source": [
    "two_sides = sides(0.58, 0.3, 0.7)\n",
    "VIEW(two_sides)"
   ]
  },
  {
   "cell_type": "markdown",
   "metadata": {},
   "source": [
    "The lateral components of our bookcase\n",
    "\n",
    "![sides](./images/sides.png)"
   ]
  },
  {
   "cell_type": "markdown",
   "metadata": {},
   "source": [
    "## Top\n",
    "The top of our bookcase. It consists of a set of CUBOIDs placed one on top of another"
   ]
  },
  {
   "cell_type": "code",
   "execution_count": 52,
   "metadata": {},
   "outputs": [],
   "source": [
    "def top(widthSmall, heightSmall, lengthSmall, widthBig, heightBig, lengthBig):\n",
    "    \"\"\"\n",
    "    top: the top of the bookcase, cmade of two different layers/block\n",
    "    _____________________\n",
    "    [                   ]\n",
    "    [      layerBig     ]\n",
    "    [___________________]\n",
    "      [ layerSmall    ]\n",
    "      [_______________]\n",
    "    \n",
    "    :param width: the width of the top (layerBig actually), the same of the shelf\n",
    "    :param height: the height, see above\n",
    "    :param length: the length, see above\n",
    "    :param widthBack: the width of the back side of the boockase will be used to calculate the top width\n",
    "    :param sidesWidth: the width of the two lateral beam, this will be subtracted to widthBack\n",
    "    :param lengthBack: the length of the back\n",
    "    :return: a STRUCT made of CUBOIDs (layerBig/small).\n",
    "    \"\"\"\n",
    "    #layer small should have the same dimension of the shelves\n",
    "    layerSmall = shelf(widthSmall, heightSmall, lengthSmall)\n",
    "    \n",
    "    #offset between the two layers\n",
    "    offX = (widthBig-widthSmall)/2\n",
    "    offZ = (lengthBig-lengthSmall)/2\n",
    "    \n",
    "    layerBig = T([1,2,3])([-offX,heightSmall,-offZ])(CUBOID([widthBig, heightBig, lengthBig]))\n",
    "    return STRUCT([layerSmall, layerBig])"
   ]
  },
  {
   "cell_type": "code",
   "execution_count": 57,
   "metadata": {},
   "outputs": [],
   "source": [
    "## Usefull variables\n",
    "backHeight = 0.58\n",
    "backWidth = 0.7\n",
    "backLength = 0.01\n",
    "\n",
    "shelfHeight = 0.02\n",
    "shelfLength = 0.3 \n",
    "shelfWidth = 0.68\n",
    "\n",
    "bookcaseWidth = shelfWidth+0.04\n",
    "bookcaseHeight = shelfHeight+0.03\n",
    "bookcaseLength = shelfLength+0.04"
   ]
  },
  {
   "cell_type": "markdown",
   "metadata": {},
   "source": [
    "We should keep in mind that the bottom and small layer of the top is the same size as a shelf"
   ]
  },
  {
   "cell_type": "code",
   "execution_count": 58,
   "metadata": {},
   "outputs": [
    {
     "data": {
      "text/plain": [
       "<pyplasm.xgepy.Hpc; proxy of <Swig Object of type 'std::shared_ptr< Hpc > *' at 0x181f67c810> >"
      ]
     },
     "execution_count": 58,
     "metadata": {},
     "output_type": "execute_result"
    }
   ],
   "source": [
    "t = top(shelfWidth, shelfHeight, shelfLength, bookcaseWidth, bookcaseHeight, bookcaseLength)\n",
    "VIEW(t)"
   ]
  },
  {
   "cell_type": "markdown",
   "metadata": {},
   "source": [
    "![top](./images/top.png)"
   ]
  },
  {
   "cell_type": "markdown",
   "metadata": {},
   "source": [
    "## Base\n",
    "The base for our bookcase is similar to the top in the sense that is made of a small layer and a big one. The small one lies upon the big one and is way thinner than the big/bottom one"
   ]
  },
  {
   "cell_type": "code",
   "execution_count": 78,
   "metadata": {},
   "outputs": [],
   "source": [
    "def base(width, height, length):\n",
    "    \"\"\"\n",
    "    :param width: width of the bookcase\n",
    "    :param height: height of the bookcase\n",
    "    :param length: length of the bookcase\n",
    "    :return: STRUCT. Two CUBOIDs representing the base\n",
    "    \"\"\"\n",
    "    \n",
    "    layerBig = CUBOID([width, height, length])\n",
    "    layerSmall = CUBOID([0.96*width, 0.01, 0.96*length])\n",
    "    \n",
    "    #offsets. layerSmall has a 0.04^2 smaller perimeter (X,Z)\n",
    "    offX = width*0.02\n",
    "    offZ = length*0.02\n",
    "    \n",
    "    b = STRUCT([layerBig, T([1, 2, 3])([offX, height, offZ])(layerSmall)])\n",
    "    return b"
   ]
  },
  {
   "cell_type": "code",
   "execution_count": 79,
   "metadata": {},
   "outputs": [],
   "source": [
    "b = base(bookcaseWidth, bookcaseHeight, bookcaseLength)\n",
    "VIEW(b)"
   ]
  },
  {
   "cell_type": "markdown",
   "metadata": {},
   "source": [
    "![base](./images/base.png)"
   ]
  },
  {
   "cell_type": "markdown",
   "metadata": {},
   "source": [
    "# Let's build the KLIMPEN bookcase\n",
    "Now we will create a model for the whole bookcase.\n",
    "The ggpl_KLIMPEN function takes as reference top/base width and length."
   ]
  },
  {
   "cell_type": "code",
   "execution_count": null,
   "metadata": {},
   "outputs": [],
   "source": [
    "def ggpl_KLIMPEN(nshelves, width, height, length, color):\n",
    "    \"\"\"\n",
    "    :param nshelves: number of shelves\n",
    "    :param width: width of the whole bookcase\n",
    "    :param height: height of the whole bookcase\n",
    "    :param length: length of the whole bookcase\n",
    "    :param color: color of the bookcase\n",
    "    :return: STRUCT. 3d model of Klimpen\n",
    "    \"\"\"   \n",
    "    # base\n",
    "    baseKlimpen = base(width, height*0.2, length) \n",
    "    \n",
    "    //TODO\n",
    "    # Top\n",
    "    topKlimpen = top,width, height*0.1, length)\n",
    "    \n",
    "    # sides\n",
    "    sidesKlimpen = sides(height*0.3, ,)\n",
    "    "
   ]
  }
 ],
 "metadata": {
  "kernelspec": {
   "display_name": "Python 2",
   "language": "python",
   "name": "python2"
  },
  "language_info": {
   "codemirror_mode": {
    "name": "ipython",
    "version": 2
   },
   "file_extension": ".py",
   "mimetype": "text/x-python",
   "name": "python",
   "nbconvert_exporter": "python",
   "pygments_lexer": "ipython2",
   "version": "2.7.6"
  }
 },
 "nbformat": 4,
 "nbformat_minor": 0
}
