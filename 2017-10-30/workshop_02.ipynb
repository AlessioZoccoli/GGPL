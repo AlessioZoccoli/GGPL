{
 "cells": [
  {
   "cell_type": "markdown",
   "metadata": {
    "collapsed": true
   },
   "source": [
    "My room bookcase\n",
    "============="
   ]
  },
  {
   "cell_type": "markdown",
   "metadata": {},
   "source": [
    "# Klimpen bookcase\n",
    "http://www.ikea.com/it/it/catalog/products/10353765/\n",
    "\n",
    "![klimpen full size](./images/klimpen_1.png)\n",
    "![klimpen detail](./images/klimpen_2.png)\n"
   ]
  },
  {
   "cell_type": "markdown",
   "metadata": {},
   "source": [
    "Note: measures are in meters"
   ]
  },
  {
   "cell_type": "code",
   "execution_count": 1,
   "metadata": {},
   "outputs": [
    {
     "name": "stdout",
     "output_type": "stream",
     "text": [
      "Evaluating fenvs.py..\n...fenvs.py imported in 0.012899 seconds\n"
     ]
    }
   ],
   "source": [
    "from larlib import *"
   ]
  },
  {
   "cell_type": "markdown",
   "metadata": {},
   "source": [
    "# Bookcase structure\n",
    "We will build the various part of the bookcase, then we will put them together.\n",
    "A second approach will be shown after (PyPlasm $Q(arg)$ function will be used).\n",
    "\n",
    "Structure:\n",
    "- back: as suggested is the back side of our bookcase, it will be attached to the shelves, the side block, the top and the bottom.\n",
    "- shelves\n",
    "- top\n",
    "- bottom\n",
    "\n",
    "Kplimpen is offered as a 50x70x33 double shelves bookcase. For this woorkshoop we will handle a parametrized (in respect of the dimension and color) Klimpen"
   ]
  },
  {
   "cell_type": "markdown",
   "metadata": {},
   "source": [
    "## Back of the bookcase"
   ]
  },
  {
   "cell_type": "code",
   "execution_count": 9,
   "metadata": {},
   "outputs": [],
   "source": [
    "def back(width, height):\n",
    "    \"\"\"\n",
    "    back: builds the back of the bookcase\n",
    "    :param back: height, width in meters\n",
    "          thickness is fixed\n",
    "    :return: a CUBOID. The 3d model for the back\n",
    "    \"\"\" \n",
    "    return CUBOID([width,height,0.1]) #0.1 is thickness"
   ]
  },
  {
   "cell_type": "code",
   "execution_count": 8,
   "metadata": {},
   "outputs": [
    {
     "data": {
      "text/plain": [
       "<pyplasm.xgepy.Hpc; proxy of <Swig Object of type 'std::shared_ptr< Hpc > *' at 0x1812221150> >"
      ]
     },
     "execution_count": 7,
     "metadata": {},
     "output_type": "execute_result"
    }
   ],
   "source": [
    "b = back(5.8, 7.)\n",
    "VIEW(b)"
   ]
  },
  {
   "cell_type": "markdown",
   "metadata": {},
   "source": [
    "## Shelves"
   ]
  },
  {
   "cell_type": "code",
   "execution_count": 13,
   "metadata": {},
   "outputs": [],
   "source": [
    "def shelf(width, height, length):\n",
    "    \"\"\"\n",
    "    shelf: builds a single shelf\n",
    "    :param width: width of the shelf\n",
    "    :return: a CUBOID. The 3D model for a shelf\n",
    "    \"\"\"\n",
    "    return CUBOID([width,height,length])\n",
    "\n",
    "\n",
    "def shelves(nshelves, heightBack, width, height, length):\n",
    "    \"\"\"\n",
    "    shelves builds <nshelves> shelves\n",
    "    :param nshelves: number of shelves\n",
    "    :param heightBack: height of the back, the area where shelves are positionable\n",
    "    :param width: width of the shelf.\n",
    "    :param height: height of the shelf.\n",
    "    :param length: length of the shelf. (z-axis)\n",
    "    :return: nshelves CUBOIDs. nshelves shelves\n",
    "    \"\"\"\n",
    "    interval = heightBack/(nshelves+1)\n",
    "    s = STRUCT(NN(nshelves) ([shelf(width, height, length), T(2)(interval)]))\n",
    "    return s"
   ]
  },
  {
   "cell_type": "code",
   "execution_count": 26,
   "metadata": {},
   "outputs": [
    {
     "data": {
      "text/plain": [
       "<pyplasm.xgepy.Hpc; proxy of <Swig Object of type 'std::shared_ptr< Hpc > *' at 0x181222b690> >"
      ]
     },
     "execution_count": 25,
     "metadata": {},
     "output_type": "execute_result"
    }
   ],
   "source": [
    "ss = shelves(nshelves=2, heightBack=5.8, width=6.8, height=0.2, length=3.0)\n",
    "VIEW(ss)"
   ]
  },
  {
   "cell_type": "markdown",
   "metadata": {},
   "source": [
    "![2 shelves](./images/2_shelves.png)"
   ]
  },
  {
   "cell_type": "markdown",
   "metadata": {},
   "source": [
    "## Sides\n",
    "The lateral components. Two parallel wooden beam"
   ]
  },
  {
   "cell_type": "code",
   "execution_count": 34,
   "metadata": {},
   "outputs": [],
   "source": [
    "def side(heigth, length):\n",
    "    \"\"\"\n",
    "    side: side of the bookcase structure\n",
    "    :param heigth: height of the wooden beam\n",
    "    :param length: length of the wooden beam\n",
    "    :return: a CUBOID. The 3d model for a lateral wooden beam\n",
    "    \"\"\"\n",
    "    return CUBOID([0.3, heigth, length])"
   ]
  },
  {
   "cell_type": "code",
   "execution_count": 37,
   "metadata": {},
   "outputs": [],
   "source": [
    "def sides(height, length, distance):\n",
    "    \"\"\"\n",
    "    sides: a couple of sides\n",
    "    :param height: as side(height,length)\n",
    "    :param length:  \"\n",
    "    :param distance:  \"\n",
    "    :return: STRUCT([CUBOID,CUBOID])\n",
    "    \"\"\"\n",
    "    s = side(height, length)\n",
    "    sides = STRUCT([s, T(1)(distance)(s)])\n",
    "    return sides"
   ]
  },
  {
   "cell_type": "code",
   "execution_count": 31,
   "metadata": {},
   "outputs": [
    {
     "data": {
      "text/plain": [
       "<pyplasm.xgepy.Hpc; proxy of <Swig Object of type 'std::shared_ptr< Hpc > *' at 0x181f1a0060> >"
      ]
     },
     "execution_count": 30,
     "metadata": {},
     "output_type": "execute_result"
    }
   ],
   "source": [
    "single_side = side(5.8, 3.0)\n",
    "VIEW(single_side)"
   ]
  },
  {
   "cell_type": "code",
   "execution_count": null,
   "metadata": {},
   "outputs": [],
   "source": [
    "two_sides = sides(5.8, 3.0, 7.0)\n",
    "VIEW(two_sides)"
   ]
  },
  {
   "cell_type": "markdown",
   "metadata": {},
   "source": [
    "The lateral components of our bookcase\n",
    "\n",
    "![sides](./images/sides.png)"
   ]
  },
  {
   "cell_type": "markdown",
   "metadata": {},
   "source": [
    "## Top\n",
    "The top of our bookcase. It consists of a set of CUBOIDs placed one on top of another"
   ]
  },
  {
   "cell_type": "code",
   "execution_count": null,
   "metadata": {},
   "outputs": [],
   "source": [
    "def top(widthBack, height, lengthBack):\n",
    "    \"\"\"\n",
    "    top: the top of the bookcase\n",
    "    :param widthBack: the width of the back side of the bookcase will be used to compute the \n",
    "    :param height: the height\n",
    "    :param lengthBack: the length\n",
    "    :return: a STRUCT made of CUBOIDs (layer_i).\n",
    "    \"\"\"\n",
    "    \n",
    "    layer1 = CUBOID([width, height, length])\n",
    "    return "
   ]
  }
 ],
 "metadata": {
  "kernelspec": {
   "display_name": "Python 2",
   "language": "python",
   "name": "python2"
  },
  "language_info": {
   "codemirror_mode": {
    "name": "ipython",
    "version": 2
   },
   "file_extension": ".py",
   "mimetype": "text/x-python",
   "name": "python",
   "nbconvert_exporter": "python",
   "pygments_lexer": "ipython2",
   "version": "2.7.6"
  }
 },
 "nbformat": 4,
 "nbformat_minor": 0
}
