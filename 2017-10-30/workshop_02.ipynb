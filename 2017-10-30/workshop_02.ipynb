{
 "cells": [
  {
   "cell_type": "markdown",
   "metadata": {
    "collapsed": true
   },
   "source": [
    "My room bookcase\n",
    "=============\n",
    "\n",
    "Important note:\n",
    "- width: measure for X-axis\n",
    "- height: measure for Y-axis\n",
    "- length: measure for Z-axis"
   ]
  },
  {
   "cell_type": "markdown",
   "metadata": {},
   "source": [
    "# Klimpen bookcase\n",
    "http://www.ikea.com/it/it/catalog/products/10353765/\n",
    "\n",
    "![klimpen full size](./images/klimpen_1.png)\n",
    "![klimpen detail](./images/klimpen_2.png)\n",
    "\n",
    "We will build the various part of the bookcase, then we will put them together. A second approach will be shown after (PyPlasm $Q(arg)$ function will be used).\n",
    "Structure:\n",
    "- back: as suggested is the back side of our bookcase, it will be attached to the shelves, the side block, the top and the bottom.\n",
    "- shelves\n",
    "- top\n",
    "- bottom\n",
    "Kplimpen is offered as a 50x70x33 double shelves bookcase. For this woorkshoop we will handle a parametrized (in respec of the dimension and color) Klimpen\n"
   ]
  },
  {
   "cell_type": "markdown",
   "metadata": {},
   "source": [
    "Note: measures are in meters"
   ]
  },
  {
   "cell_type": "code",
   "execution_count": 6,
   "metadata": {},
   "outputs": [],
   "source": [
    "from larlib import *"
   ]
  },
  {
   "cell_type": "markdown",
   "metadata": {},
   "source": [
    "# Bookcase structure\n",
    "We will build the various part of the bookcase, then we will put them together.\n",
    "A second approach will be shown after (PyPlasm $Q(x)$, $Q(values)$, $PROD(funcs)$ function will be used).\n",
    "\n",
    "Structure:\n",
    "- back: as suggested is the back side of our bookcase, it will be attached to the shelves, the side block, the top and the bottom.\n",
    "- shelves\n",
    "- top\n",
    "- base\n",
    "\n",
    "Kplimpen is offered as a 50x70x33 double shelves bookcase. For this woorkshoop we will handle a parametrized (in respect of the dimension and color) Klimpen"
   ]
  },
  {
   "cell_type": "markdown",
   "metadata": {},
   "source": [
    "## Back of the bookcase"
   ]
  },
  {
   "cell_type": "code",
   "execution_count": 7,
   "metadata": {},
   "outputs": [],
   "source": [
    "def back(width, height):\n",
    "    \"\"\"\n",
    "    back: builds the back of the bookcase\n",
    "    :param back: height, width in meters\n",
    "          thickness is fixed\n",
    "    :return: a CUBOID. The 3d model for the back\n",
    "    \"\"\" \n",
    "    return CUBOID([width,height,0.01]) #0.1 is thickness"
   ]
  },
  {
   "cell_type": "code",
   "execution_count": 8,
   "metadata": {},
   "outputs": [
    {
     "data": {
      "text/plain": [
       "<pyplasm.xgepy.Hpc; proxy of <Swig Object of type 'std::shared_ptr< Hpc > *' at 0x181c861c90> >"
      ]
     },
     "execution_count": 8,
     "metadata": {},
     "output_type": "execute_result"
    }
   ],
   "source": [
    "b = back(0.58, 0.7)\n",
    "VIEW(b)"
   ]
  },
  {
   "cell_type": "markdown",
   "metadata": {},
   "source": [
    "# Shelves\n",
    "We are going to create one and more shelves.\n",
    "firstInitSpace returns the proper offset from the base for the first shelf from the bottom. This is usefull when building the bookcase where the traslation operation is used. Traslation operation is not \"relative\" to a point butabsolute."
   ]
  },
  {
   "cell_type": "code",
   "execution_count": 9,
   "metadata": {},
   "outputs": [],
   "source": [
    "def shelf(width, height, length):\n",
    "    \"\"\"\n",
    "    shelf: builds a single shelf\n",
    "    :param width: width of the shelf\n",
    "    :return: a CUBOID. The 3D model for a shelf\n",
    "    \"\"\"\n",
    "    return CUBOID([width,height,length])\n",
    "\n",
    "\n",
    "def shelves(nshelves, heightBack, width, height, length):\n",
    "    \"\"\"\n",
    "    shelves builds <nshelves> shelves\n",
    "    :param nshelves: number of shelves\n",
    "    :param heightBack: height of the back, the area where shelves are positionable\n",
    "    :param width: width of the shelf.\n",
    "    :param height: height of the shelf.\n",
    "    :param length: length of the shelf. (z-axis)\n",
    "    :return: nshelves CUBOIDs. nshelves shelves\n",
    "    \"\"\"\n",
    "    space = heightBack/(nshelves+1)-height\n",
    "    s = STRUCT(NN(nshelves) ([shelf(width, height, length), T(2)(space)]))\n",
    "    return s\n",
    "\n",
    "def shelvesInitSpace(nshelves, heightBack, heightShelf):\n",
    "    \"\"\"\n",
    "    :param nshelves: number of shelves \n",
    "    :param heightBack: height of the back\n",
    "    :param heightShelf: height of the shelf\n",
    "    :return: Long. Space from the first shelf and the base\n",
    "    \"\"\"\n",
    "    space =  heightBack/(nshelves+1)-heightShelf\n",
    "    return  space"
   ]
  },
  {
   "cell_type": "code",
   "execution_count": 11,
   "metadata": {},
   "outputs": [
    {
     "data": {
      "text/plain": [
       "<pyplasm.xgepy.Hpc; proxy of <Swig Object of type 'std::shared_ptr< Hpc > *' at 0x181c876b70> >"
      ]
     },
     "execution_count": 10,
     "metadata": {},
     "output_type": "execute_result"
    }
   ],
   "source": [
    "ss = shelves(nshelves=2, heightBack=0.58, width=0.68, height=0.02, length=0.3)\n",
    "VIEW(ss)\n",
    "VIEW(T(2)(shelvesInitSpace(2, 0.58, 0.02))(ss))"
   ]
  },
  {
   "cell_type": "markdown",
   "metadata": {},
   "source": [
    "![2 shelves](./images/shelves.png)"
   ]
  },
  {
   "cell_type": "markdown",
   "metadata": {},
   "source": [
    "## Sides\n",
    "The lateral components. Two parallel wooden beam"
   ]
  },
  {
   "cell_type": "code",
   "execution_count": 13,
   "metadata": {},
   "outputs": [],
   "source": [
    "def side(heigth, length):\n",
    "    \"\"\"\n",
    "    side: side of the bookcase structure\n",
    "    :param heigth: height of the wooden beam\n",
    "    :param length: length of the wooden beam\n",
    "    :return: a CUBOID. The 3d model for a lateral wooden beam\n",
    "    \"\"\"\n",
    "    return CUBOID([0.03, heigth, length])"
   ]
  },
  {
   "cell_type": "code",
   "execution_count": 14,
   "metadata": {},
   "outputs": [],
   "source": [
    "def sides(height, length, distance):\n",
    "    \"\"\"\n",
    "    sides: a couple of sides\n",
    "    :param height: as side(height,length)\n",
    "    :param length:  \"\n",
    "    :param distance:  \"\n",
    "    :return: STRUCT([CUBOID,CUBOID])\n",
    "    \"\"\"\n",
    "    s = side(height, length)\n",
    "    sides = STRUCT([s, T(1)(distance)(s)])\n",
    "    return sides"
   ]
  },
  {
   "cell_type": "code",
   "execution_count": 14,
   "metadata": {},
   "outputs": [
    {
     "data": {
      "text/plain": [
       "<pyplasm.xgepy.Hpc; proxy of <Swig Object of type 'std::shared_ptr< Hpc > *' at 0x181e6cd060> >"
      ]
     },
     "execution_count": 14,
     "metadata": {},
     "output_type": "execute_result"
    }
   ],
   "source": [
    "single_side = side(0.58, 0.3)\n",
    "VIEW(single_side)"
   ]
  },
  {
   "cell_type": "code",
   "execution_count": 11,
   "metadata": {},
   "outputs": [
    {
     "data": {
      "text/plain": [
       "<pyplasm.xgepy.Hpc; proxy of <Swig Object of type 'std::shared_ptr< Hpc > *' at 0x181a533060> >"
      ]
     },
     "execution_count": 11,
     "metadata": {},
     "output_type": "execute_result"
    }
   ],
   "source": [
    "two_sides = sides(0.58, 0.3, 0.7)\n",
    "VIEW(two_sides)"
   ]
  },
  {
   "cell_type": "markdown",
   "metadata": {},
   "source": [
    "The lateral components of our bookcase\n",
    "\n",
    "![sides](./images/sides.png)"
   ]
  },
  {
   "cell_type": "markdown",
   "metadata": {},
   "source": [
    "## Top\n",
    "The top of our bookcase. It consists of a set of CUBOIDs placed one on top of another"
   ]
  },
  {
   "cell_type": "code",
   "execution_count": 15,
   "metadata": {},
   "outputs": [],
   "source": [
    "def top(widthSmall, heightSmall, lengthSmall, widthBookcase, lengthBookcase):\n",
    "    \"\"\"\n",
    "    top: the top of the bookcase, cmade of two different layers/block\n",
    "    _____________________\n",
    "    [                   ]\n",
    "    [      layerBig     ]\n",
    "    [___________________]\n",
    "      [ layerSmall    ]\n",
    "      [_______________]\n",
    "    \n",
    "    :param widthSmall: the width of layerSmall, the same of the shelf\n",
    "    :param heightSmall: the height, see above\n",
    "    :param lengthSmall: the length, see above\n",
    "    \n",
    "    :param widthBookcase: the width of the back side of the boockase will be used to calculate the top width\n",
    "    :param lengthBack: the length of the back\n",
    "    :return: a STRUCT made of CUBOIDs (layerBig/small).\n",
    "    \"\"\"\n",
    "    #layer small should have the same dimension of the shelves\n",
    "    layerSmall = shelf(widthSmall, heightSmall, lengthSmall)\n",
    "    \n",
    "    #offset between the two layers\n",
    "    offX = (widthBookcase-widthSmall)/2\n",
    "    offZ = (lengthBookcase-lengthSmall)/2\n",
    "    \n",
    "    layerBig = CUBOID([widthBookcase, 0.03, lengthBookcase])\n",
    "    \n",
    "    return STRUCT([T([1,3])([offX,offZ])(layerSmall), T(2)(heightSmall)(layerBig)])"
   ]
  },
  {
   "cell_type": "markdown",
   "metadata": {},
   "source": [
    "# Usefull variables\n",
    "This value should be aproximately the ones for the standard ikea Klimpen but may be customized.\n",
    "Sizes will be used in form of tuples for practical use, so that arguments list size will not be huge in future. "
   ]
  },
  {
   "cell_type": "code",
   "execution_count": 15,
   "metadata": {},
   "outputs": [],
   "source": [
    "sizes = {\n",
    "'backWidth': 0.61,\n",
    "'backHeight': 0.48,\n",
    "'shelfWidth': 0.59,\n",
    "'shelfHeight': 0.02,\n",
    "'shelfLength': 0.3,\n",
    "'bookcaseWidth': 0.7,\n",
    "'bookcaseHeight': 0.5,\n",
    "'bookcaseLength': 0.33\n",
    "}"
   ]
  },
  {
   "cell_type": "markdown",
   "metadata": {},
   "source": [
    "We should keep in mind that the bottom and small layer of the top is the same size as a shelf"
   ]
  },
  {
   "cell_type": "code",
   "execution_count": 17,
   "metadata": {},
   "outputs": [
    {
     "data": {
      "text/plain": [
       "<pyplasm.xgepy.Hpc; proxy of <Swig Object of type 'std::shared_ptr< Hpc > *' at 0x181e6ce030> >"
      ]
     },
     "execution_count": 17,
     "metadata": {},
     "output_type": "execute_result"
    }
   ],
   "source": [
    "t = top(sizes['shelfWidth'], sizes['shelfHeight'], sizes['shelfLength'], sizes['shelfWidth']+0.04, sizes['shelfLength']+0.04)\n",
    "VIEW(t)"
   ]
  },
  {
   "cell_type": "markdown",
   "metadata": {},
   "source": [
    "![top](./images/top.png)"
   ]
  },
  {
   "cell_type": "markdown",
   "metadata": {},
   "source": [
    "## Base\n",
    "As the top the base is made of layers, we have two different layers: \n",
    "- the one on the bottom that is the biggest of the two\n",
    "- the middle one that is very thin and has a smaller perimeter than the lower one"
   ]
  },
  {
   "cell_type": "code",
   "execution_count": 18,
   "metadata": {},
   "outputs": [],
   "source": [
    "def base(width, length):\n",
    "    \"\"\"\n",
    "    base of fixed height 0.06\n",
    "    :param width: width of the bookcase\n",
    "    :param length: length of the bookcase\n",
    "    :return: STRUCT. Two CUBOIDs representing the base\n",
    "    \"\"\"\n",
    "    \n",
    "    layerBig = CUBOID([width, 0.05, length])\n",
    "    layerSmall = CUBOID([0.96*width, 0.01, 0.96*length])\n",
    "    \n",
    "    #offsets. layerSmall has a 0.04^2 smaller perimeter (X,Z)\n",
    "    offX = width*0.02\n",
    "    offZ = length*0.02\n",
    "    \n",
    "    b = STRUCT([layerBig, T([1, 2, 3])([offX, 0.05, offZ])(layerSmall)])\n",
    "    return b"
   ]
  },
  {
   "cell_type": "code",
   "execution_count": 20,
   "metadata": {},
   "outputs": [
    {
     "data": {
      "text/plain": [
       "<pyplasm.xgepy.Hpc; proxy of <Swig Object of type 'std::shared_ptr< Hpc > *' at 0x181fd7b060> >"
      ]
     },
     "execution_count": 20,
     "metadata": {},
     "output_type": "execute_result"
    }
   ],
   "source": [
    "b = base(sizes['bookcaseWidth'], sizes['bookcaseLength'])\n",
    "VIEW(b)"
   ]
  },
  {
   "cell_type": "markdown",
   "metadata": {},
   "source": [
    "![base](./images/base.png)"
   ]
  },
  {
   "cell_type": "markdown",
   "metadata": {},
   "source": [
    "# Let's build the KLIMPEN bookcase\n",
    "Now we will create a model for the whole bookcase (Remember to read ikea's instructions).\n",
    "The ggpl_KLIMPEN function takes as reference top/base width and length."
   ]
  },
  {
   "cell_type": "code",
   "execution_count": 19,
   "metadata": {},
   "outputs": [],
   "source": [
    "def ggpl_KLIMPEN(nshelves, sizesDict, colorHEX):\n",
    "   \n",
    "    # base\n",
    "    baseKlimpen = base(sizesDict['bookcaseWidth'], sizesDict['bookcaseLength'])\n",
    "    \n",
    "    # back\n",
    "    # back is traslated according to the position of the base \n",
    "    backKlimpen = T([1, 2, 3])([0.03, 0.06, 0.01])(back(sizesDict['backWidth'],sizesDict['backHeight']))\n",
    "    \n",
    "    # Top\n",
    "    # top is placed upon the structure with the bottom layer between the sides,\n",
    "    # while the upper layer goes above the whole structure\n",
    "    topOffsetY = 0.06 + sizesDict['backHeight'] - sizesDict['shelfHeight']                          # 0.06 for the base\n",
    "    topKlimpen = T([2])([topOffsetY])(top(sizesDict['shelfWidth'], sizesDict['shelfHeight'], sizesDict['shelfLength'], sizesDict['bookcaseWidth'], sizesDict['bookcaseLength']))\n",
    "    \n",
    "    # sides\n",
    "    # sidesOffsetX is the offset on the x-axis. \n",
    "    sidesOffsetX = (sizesDict['bookcaseWidth'] - sizesDict['backWidth'] + 0.03)/4\n",
    "    sidesKlimpen = T([1, 2, 3])([sidesOffsetX, 0.06, 0.01])(sides(sizesDict['backHeight'], sizesDict['shelfLength']+0.01, sizesDict['backWidth']))\n",
    "    \n",
    "    # shelves\n",
    "    # shelves are traslated according to the position of the base, the width of the sides and the back\n",
    "    shelvesOffsetY = shelvesInitSpace(nshelves, sizesDict['backHeight'], sizesDict['shelfHeight']) + 0.06    # base\n",
    "    shelvesOffsetX = sidesOffsetX                                                                            # sides\n",
    "    shelvesOffsetZ = 0.02\n",
    "    shelvesKlimpen = T([1, 2, 3])([shelvesOffsetX, shelvesOffsetY, shelvesOffsetZ])(shelves(nshelves, sizesDict['backHeight'], sizesDict['shelfWidth'], sizesDict['shelfHeight'], sizesDict['shelfLength']))\n",
    "    \n",
    "    #klimpen = HEX(colorHEX)(STRUCT([baseKlimpen, backKlimpen, sidesKlimpen, shelvesKlimpen, topKlimpen]))\n",
    "    klimpen = HEX(colorHEX)(STRUCT([backKlimpen, shelvesKlimpen,sidesKlimpen, topKlimpen, baseKlimpen]))\n",
    "    return klimpen\n",
    "    "
   ]
  },
  {
   "cell_type": "code",
   "execution_count": 29,
   "metadata": {},
   "outputs": [
    {
     "data": {
      "text/plain": [
       "<pyplasm.xgepy.Hpc; proxy of <Swig Object of type 'std::shared_ptr< Hpc > *' at 0x10eb7cf00> >"
      ]
     },
     "execution_count": 29,
     "metadata": {},
     "output_type": "execute_result"
    }
   ],
   "source": [
    "myKlimpen = ggpl_KLIMPEN(1, sizes, \"#C8C5C0\")\n",
    "VIEW(myKlimpen)"
   ]
  },
  {
   "cell_type": "markdown",
   "metadata": {},
   "source": [
    "### Klimpen finally rendered\n",
    "\n",
    "![klimpen1](./images/klimpenRender1.png)\n",
    "\n",
    "![klimpen2](./images/klimpenRender2.png)\n",
    "\n",
    "![klimpen3](./images/klimpenRender3.png)"
   ]
  },
  {
   "cell_type": "markdown",
   "metadata": {},
   "source": [
    "# Let's put Klimpen in a room"
   ]
  },
  {
   "cell_type": "code",
   "execution_count": 30,
   "metadata": {},
   "outputs": [],
   "source": [
    "def simpleWalls(x, y, colorWallHEX, colorCeilingHEX, colorFloorHex):\n",
    "    background = CUBOID([x, y, 0.01])\n",
    "    leftWall = CUBOID([0.01, y,x])\n",
    "    rightwall = T(1)(x)(leftWall)\n",
    "    ceiling = HEX(colorCeilingHEX)(T(2)(y)(CUBOID([x,0.01,x])))\n",
    "    floor = HEX(colorFloorHex)(CUBOID([x,0.01,x]))\n",
    "    \n",
    "    walls = HEX(colorWallHEX)(STRUCT([background, leftWall, rightwall]))\n",
    "    room = STRUCT([walls, ceiling, floor])\n",
    "    \n",
    "    return room"
   ]
  },
  {
   "cell_type": "code",
   "execution_count": 33,
   "metadata": {},
   "outputs": [
    {
     "data": {
      "text/plain": [
       "<pyplasm.xgepy.Hpc; proxy of <Swig Object of type 'std::shared_ptr< Hpc > *' at 0x10ebb2690> >"
      ]
     },
     "execution_count": 33,
     "metadata": {},
     "output_type": "execute_result"
    }
   ],
   "source": [
    "myWalls = simpleWalls(2, 1, colorWallHEX=\"#98e2d2\", colorCeilingHEX=\"#ffffff\", colorFloorHex=\"#89715d\")\n",
    "VIEW(myWalls)"
   ]
  },
  {
   "cell_type": "markdown",
   "metadata": {},
   "source": [
    "![empty room](./images/emptyroom.png)"
   ]
  },
  {
   "cell_type": "code",
   "execution_count": 34,
   "metadata": {},
   "outputs": [],
   "source": [
    "def furnishRoom(room, bookcase):\n",
    "    roomFurnished = STRUCT([room, T([1,2,3])([0.5,0.01,0.02])(bookcase)])     #no meaningfull coordinate for our bookcase\n",
    "    return roomFurnished"
   ]
  },
  {
   "cell_type": "code",
   "execution_count": 35,
   "metadata": {},
   "outputs": [
    {
     "data": {
      "text/plain": [
       "<pyplasm.xgepy.Hpc; proxy of <Swig Object of type 'std::shared_ptr< Hpc > *' at 0x10ebb2ae0> >"
      ]
     },
     "execution_count": 35,
     "metadata": {},
     "output_type": "execute_result"
    }
   ],
   "source": [
    "myFurnishedRoom = furnishRoom(myWalls, myKlimpen)\n",
    "VIEW(myFurnishedRoom)"
   ]
  },
  {
   "cell_type": "markdown",
   "metadata": {},
   "source": [
    "![furnished room](./images/furnished.png)"
   ]
  },
  {
   "cell_type": "code",
   "execution_count": 36,
   "metadata": {},
   "outputs": [],
   "source": [
    "def book(bookColorHEX):\n",
    "    coverback = CUBOID([0.01, 0.09, 0.05])\n",
    "    spine = CUBOID([0.05, 0.09, 0.01])\n",
    "    \n",
    "    external = HEX(bookColorHEX)(STRUCT([coverback, spine, T(1)(0.05)(coverback)]))\n",
    "    pages = HEX(\"#ffffff\")(T([1,2,3])([0.01, 0.01, 0.01])(CUBOID([0.04, 0.075, 0.035])))\n",
    "    \n",
    "    return STRUCT([external, pages])"
   ]
  },
  {
   "cell_type": "code",
   "execution_count": 37,
   "metadata": {},
   "outputs": [
    {
     "data": {
      "text/plain": [
       "<pyplasm.xgepy.Hpc; proxy of <Swig Object of type 'std::shared_ptr< Hpc > *' at 0x181e6cbd50> >"
      ]
     },
     "execution_count": 37,
     "metadata": {},
     "output_type": "execute_result"
    }
   ],
   "source": [
    "myBook = book(\"#dd0000\")\n",
    "VIEW(myBook)"
   ]
  },
  {
   "cell_type": "code",
   "execution_count": 40,
   "metadata": {},
   "outputs": [],
   "source": [
    "def addBooks(room, bookcase):\n",
    "    fr = furnishRoom(room, bookcase)\n",
    "    b1 = T([1,2,3])([0.57, 0.06, 0.07])(book(\"#dd0000\"))\n",
    "    b2 = T([1,2,3])([0.64, 0.06, 0.06])(book(\"#00dd00\"))\n",
    "    b3 = T([1,2,3])([0.75, 0.06, 0.09])(R([1, 3])(PI)(book(\"#0000dd\")))\n",
    "    return STRUCT([fr, b1, b2, b3])"
   ]
  },
  {
   "cell_type": "code",
   "execution_count": 41,
   "metadata": {},
   "outputs": [
    {
     "data": {
      "text/plain": [
       "<pyplasm.xgepy.Hpc; proxy of <Swig Object of type 'std::shared_ptr< Hpc > *' at 0x181e6cbab0> >"
      ]
     },
     "execution_count": 41,
     "metadata": {},
     "output_type": "execute_result"
    }
   ],
   "source": [
    "scene = addBooks(myFurnishedRoom, myKlimpen)\n",
    "VIEW(scene)"
   ]
  },
  {
   "cell_type": "markdown",
   "metadata": {},
   "source": [
    "![books](./images/books.png)"
   ]
  },
  {
   "cell_type": "markdown",
   "metadata": {},
   "source": [
    "# Q, QUOTE and PROD in action\n",
    "As mentioned at the beginning of this notebook we will now use Pyplasm Q, QUOTE and PRODE operands.\n",
    "- Q: transform a given digit n in input as a 1D polyhedra of n length\n",
    "- QUOTE: transforms non-empty sequences of non-zero reals into 1D polyhedra. Positive numbers produce solid segments; negative numbers are used as translations: QUOTE(2,-10,1,1,-10,2)\n",
    "- PROD: cartesian product of sequences or functions. Q(3)\n"
   ]
  },
  {
   "cell_type": "code",
   "execution_count": 42,
   "metadata": {},
   "outputs": [],
   "source": [
    "def topQCart(nDivisors):\n",
    "    \"\"\"\n",
    "    example: topQCart(2)\n",
    "    :param nDivisors: number of divisors that is the vertical sections\n",
    "    :return: pyplasm.xgepy.Hpc  . the top\n",
    "    \"\"\"\n",
    "    # 0.2 = difference layerSmall and layerBig, both on left and right, 0.02 fro the first side\n",
    "    xSpace = 0.02*2+0.03+(0.59+0.03)*nDivisors\n",
    "    layerBig = INSR(PROD)([Q(0.02*2+0.03+(0.59+0.03)*nDivisors), QUOTE([-0.02, 0.03]), Q(0.34)])\n",
    "\n",
    "    #layer small should have the same dimension of the shelves\n",
    "    xRithm = AL([-0.03-0.02,[0.59,-0.03]*nDivisors])           # -0.03-0.02 side offset\n",
    "    layerSmall = INSR(PROD)([QUOTE(xRithm), Q(0.02), QUOTE([-0.02, 0.3])])\n",
    "\n",
    "    return STRUCT([layerSmall, layerBig])"
   ]
  },
  {
   "cell_type": "code",
   "execution_count": 47,
   "metadata": {},
   "outputs": [],
   "source": [
    "def bookcaseBodyQCart(nShelves, nDivisors):\n",
    "    \"\"\"\n",
    "    bookcaseBodyQCart(2,3)\n",
    "    :param nShelves: number of shelves\n",
    "    :param nDivisors: number of divisors\n",
    "    :return: pyplasm.xgepy.Hpc\n",
    "    \"\"\"\n",
    "    xRithm = QUOTE([0.03, -0.59]*(nDivisors+1))\n",
    "    vertBeams = INSR(PROD)([xRithm, Q(0.22*(nShelves+1)), Q(0.3)])\n",
    "\n",
    "    if nShelves == 0:\n",
    "        return STRUCT([vertBeams])\n",
    "    else:\n",
    "        #shelves = INSR(PROD)([QUOTE([-0.03, 0.59]*nDivisors), QUOTE(AL[-0.06, [-0.2, 0.02]*nShelves]), Q(0.3)])\n",
    "        shelves = INSR(PROD)([QUOTE([-0.03, 0.59]*nDivisors), QUOTE([-0.2, 0.02]*nShelves), Q(0.3)])\n",
    "        return STRUCT([shelves, vertBeams])"
   ]
  },
  {
   "cell_type": "code",
   "execution_count": 50,
   "metadata": {},
   "outputs": [
    {
     "data": {
      "text/plain": [
       "<pyplasm.xgepy.Hpc; proxy of <Swig Object of type 'std::shared_ptr< Hpc > *' at 0x181e6cba50> >"
      ]
     },
     "execution_count": 50,
     "metadata": {},
     "output_type": "execute_result"
    }
   ],
   "source": [
    "VIEW(topQCart(3))\n",
    "VIEW(bookcaseBodyQCart(2,3))"
   ]
  },
  {
   "cell_type": "code",
   "execution_count": 51,
   "metadata": {},
   "outputs": [],
   "source": [
    "def baseQCart(nDivisors):\n",
    "    \"\"\"\n",
    "    baseQCart(2,3)\n",
    "    :param nDivisors: number of divisors\n",
    "    :return: pyplasm.xgepy.Hpc\n",
    "    \"\"\"\n",
    "    layerBig = INSR(PROD)([Q(0.02*2+0.03+(0.59+0.03)*nDivisors), Q(0.05), Q(0.34)])\n",
    "    layerSmall = INSR(PROD)([QUOTE([-0.02,(0.03+(0.59+0.03)*nDivisors)]), QUOTE([-0.05, 0.01]), QUOTE([-0.01,0.32])])\n",
    "    return STRUCT([layerSmall, layerBig])"
   ]
  },
  {
   "cell_type": "code",
   "execution_count": 52,
   "metadata": {},
   "outputs": [
    {
     "data": {
      "text/plain": [
       "<pyplasm.xgepy.Hpc; proxy of <Swig Object of type 'std::shared_ptr< Hpc > *' at 0x181e6cbf00> >"
      ]
     },
     "execution_count": 52,
     "metadata": {},
     "output_type": "execute_result"
    }
   ],
   "source": [
    "VIEW(baseQCart(3))"
   ]
  },
  {
   "cell_type": "code",
   "execution_count": 53,
   "metadata": {},
   "outputs": [],
   "source": [
    "def ggpl_KLIMPEN_QCart(nShelves, nDivisors):\n",
    "    \"\"\"\n",
    "    bookcaseBodyQCart(2,3)\n",
    "    :param nShelves: number of shelves\n",
    "    :param nDivisors: number of divisors\n",
    "    :return: pyplasm.xgepy.Hpc\n",
    "    \"\"\"\n",
    "    topKlimpen = T(2)(0.22*(nShelves+1)+0.04)(topQCart(nDivisors))\n",
    "    bodyKlimpen = T([1,2,3])([0.02, 0.06, 0.02])(bookcaseBodyQCart(nShelves, nDivisors))\n",
    "    baseKlimpen = baseQCart(nDivisors)\n",
    "    return STRUCT([topKlimpen, bodyKlimpen, baseKlimpen])"
   ]
  },
  {
   "cell_type": "code",
   "execution_count": 54,
   "metadata": {},
   "outputs": [
    {
     "data": {
      "text/plain": [
       "<pyplasm.xgepy.Hpc; proxy of <Swig Object of type 'std::shared_ptr< Hpc > *' at 0x181e6cb240> >"
      ]
     },
     "execution_count": 54,
     "metadata": {},
     "output_type": "execute_result"
    }
   ],
   "source": [
    "VIEW(ggpl_KLIMPEN_QCart(2,3))"
   ]
  },
  {
   "cell_type": "markdown",
   "metadata": {},
   "source": [
    "![klimpen2](./images/klimpenQCART.png)\n",
    "![klimpen2](./images/klimpenQCART2.png)"
   ]
  }
 ],
 "metadata": {
  "kernelspec": {
   "display_name": "Python 2",
   "language": "python",
   "name": "python2"
  },
  "language_info": {
   "codemirror_mode": {
    "name": "ipython",
    "version": 2
   },
   "file_extension": ".py",
   "mimetype": "text/x-python",
   "name": "python",
   "nbconvert_exporter": "python",
   "pygments_lexer": "ipython2",
   "version": "2.7.6"
  }
 },
 "nbformat": 4,
 "nbformat_minor": 0
}
