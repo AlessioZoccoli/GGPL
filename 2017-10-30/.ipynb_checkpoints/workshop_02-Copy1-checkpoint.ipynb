{
 "cells": [
  {
   "cell_type": "markdown",
   "metadata": {
    "collapsed": true
   },
   "source": [
    "My room bookcase\n",
    "============="
   ]
  },
  {
   "cell_type": "markdown",
   "metadata": {},
   "source": [
    "#Klimpen\n",
    "http://www.ikea.com/it/it/catalog/products/10353765/\n"
   ]
  },
  {
   "cell_type": "code",
   "execution_count": 84,
   "metadata": {
    "collapsed": true
   },
   "outputs": [],
   "source": [
    "from larlib import *"
   ]
  },
  {
   "cell_type": "code",
   "execution_count": 85,
   "metadata": {
    "collapsed": true
   },
   "outputs": [],
   "source": [
    "%config IPCompleter.greedy=True"
   ]
  },
  {
   "cell_type": "code",
   "execution_count": 86,
   "metadata": {
    "collapsed": true
   },
   "outputs": [],
   "source": [
    "def back(height,width):\n",
    "    \"\"\"\n",
    "    back: builds the back of the bookcase\n",
    "    example: back()\n",
    "    :param back: height, width in meters\n",
    "          thickness is fixed\n",
    "    :return: a CUBOID. The graphical rappresentation of the back\n",
    "    \"\"\" \n",
    "    return CUBOID([width,height,1])"
   ]
  },
  {
   "cell_type": "code",
   "execution_count": 19,
   "metadata": {},
   "outputs": [
    {
     "data": {
      "text/plain": [
       "<pyplasm.xgepy.Hpc; proxy of <Swig Object of type 'std::shared_ptr< Hpc > *' at 0x18169345a0> >"
      ]
     },
     "execution_count": 19,
     "metadata": {},
     "output_type": "execute_result"
    }
   ],
   "source": [
    "b = back(2.14,8.6)\n",
    "VIEW(b)"
   ]
  },
  {
   "cell_type": "code",
   "execution_count": 87,
   "metadata": {
    "collapsed": true
   },
   "outputs": [],
   "source": [
    "def shelf(width, height, length):\n",
    "    \"\"\"\n",
    "    shelf: builds a shelf\n",
    "    :param width: width of the shelf\n",
    "    :return: a CUBOID. The graphical rappresentation of a shelf of fixed measures\n",
    "    \"\"\"\n",
    "    return CUBOID([width,height,length])\n",
    "\n",
    "\n",
    "def shelves(nshelves, heightBack, width, height, length):\n",
    "    \"\"\"\n",
    "    shelves builds nshelves shelves\n",
    "    :param nshelves: number of shelves\n",
    "    :param heightBack: height of the back, the area where shelves are positionable\n",
    "    :param height: height of the shelf\n",
    "    :return: nshelves CUBOIDs. nshelves shelves\n",
    "    \"\"\"\n",
    "    interval = heightBack/(nshelves)\n",
    "    s = STRUCT(NN(nshelves) ([shelf(width, height, length), T(2)(interval)]))\n",
    "    return s"
   ]
  },
  {
   "cell_type": "code",
   "execution_count": 184,
   "metadata": {},
   "outputs": [
    {
     "data": {
      "text/plain": [
       "<pyplasm.xgepy.Hpc; proxy of <Swig Object of type 'std::shared_ptr< Hpc > *' at 0x183a604300> >"
      ]
     },
     "execution_count": 184,
     "metadata": {},
     "output_type": "execute_result"
    }
   ],
   "source": [
    "ss = shelves(nshelves=4, heightBack=214, width=90, height=1, length=30)\n",
    "VIEW(ss)"
   ]
  },
  {
   "cell_type": "code",
   "execution_count": 88,
   "metadata": {
    "collapsed": true
   },
   "outputs": [],
   "source": [
    "def side(height, length):\n",
    "    return CUBOID([1, height, length])"
   ]
  },
  {
   "cell_type": "code",
   "execution_count": 89,
   "metadata": {
    "collapsed": true
   },
   "outputs": [],
   "source": [
    "def sides(height, length, distance):\n",
    "    s = side(height, length)\n",
    "    sides = STRUCT([s, T(1)(distance)(s)])\n",
    "    return sides"
   ]
  },
  {
   "cell_type": "code",
   "execution_count": 79,
   "metadata": {},
   "outputs": [
    {
     "data": {
      "text/plain": [
       "<pyplasm.xgepy.Hpc; proxy of <Swig Object of type 'std::shared_ptr< Hpc > *' at 0x181695e0f0> >"
      ]
     },
     "execution_count": 79,
     "metadata": {},
     "output_type": "execute_result"
    }
   ],
   "source": [
    "sides = sides(15, 3, 5.6)\n",
    "VIEW(sides)"
   ]
  },
  {
   "cell_type": "code",
   "execution_count": 93,
   "metadata": {
    "collapsed": true
   },
   "outputs": [],
   "source": [
    "def top(width, height, length):\n",
    "    return CUBOID([width, height, length])\n",
    "    "
   ]
  },
  {
   "cell_type": "code",
   "execution_count": 182,
   "metadata": {
    "collapsed": true
   },
   "outputs": [],
   "source": [
    "def ggpl_bookcase(nshelves, width, height, length, colorHEX):\n",
    "    \"\"\"\n",
    "    :param nshelves:\n",
    "    :param width:\n",
    "    :param height:\n",
    "    :param length:\n",
    "    :return\n",
    "    \"\"\"\n",
    "    topBC = T([1,2,3])([-1,height,-1])(top(width+4, 4, length+4))  \n",
    "    \n",
    "    backBC = back(height, width)\n",
    "    sidesBC = sides(height, length, width)\n",
    "    shelvesBC = shelves(nshelves, height, width, 1, length)\n",
    "    \n",
    "    #bottom lies on the ground\n",
    "    bottom = STRUCT([top(width+6, 10, length+6), T([1,2,3])([+1,10,+1])(top(width+4, 1, length+4))])\n",
    "    \n",
    "    #shelves and top build upon the base\n",
    "    body= T([1,2,3])([2,10,2])(STRUCT([backBC, sidesBC, shelvesBC, topBC]))\n",
    "    \n",
    "    #the final bookcase\n",
    "    bc = HEX(colorHEX)((STRUCT([bottom,body])))\n",
    "    return bc\n",
    "    "
   ]
  },
  {
   "cell_type": "code",
   "execution_count": 183,
   "metadata": {},
   "outputs": [
    {
     "data": {
      "text/plain": [
       "<pyplasm.xgepy.Hpc; proxy of <Swig Object of type 'std::shared_ptr< Hpc > *' at 0x183a6045a0> >"
      ]
     },
     "execution_count": 183,
     "metadata": {},
     "output_type": "execute_result"
    }
   ],
   "source": [
    "nShelves = 8\n",
    "width = 86\n",
    "height = 214\n",
    "length = 33\n",
    "color = \"#ffc575\"\n",
    "\n",
    "myBookcase = ggpl_bookcase(nShelves, width, height, length, color)\n",
    "VIEW(myBookcase)"
   ]
  },
  {
   "cell_type": "markdown",
   "metadata": {},
   "source": [
    "# Let's put the bookcase in my room"
   ]
  },
  {
   "cell_type": "code",
   "execution_count": 1,
   "metadata": {
    "collapsed": true
   },
   "outputs": [],
   "source": [
    "def wall(width, height):\n",
    "    return CUBOID([width, height])"
   ]
  },
  {
   "cell_type": "code",
   "execution_count": 3,
   "metadata": {},
   "outputs": [
    {
     "ename": "NameError",
     "evalue": "name 'HEX' is not defined",
     "output_type": "error",
     "traceback": [
      "\u001b[0;31m---------------------------------------------------------------------------\u001b[0m",
      "\u001b[0;31mNameError\u001b[0m                                 Traceback (most recent call last)",
      "\u001b[0;32m<ipython-input-3-ccdc48a15137>\u001b[0m in \u001b[0;36m<module>\u001b[0;34m()\u001b[0m\n\u001b[1;32m      1\u001b[0m \u001b[0;34m\u001b[0m\u001b[0m\n\u001b[0;32m----> 2\u001b[0;31m \u001b[0mmyWall\u001b[0m \u001b[0;34m=\u001b[0m \u001b[0mHEX\u001b[0m\u001b[0;34m(\u001b[0m\u001b[0;34m\"bcd6ff\"\u001b[0m\u001b[0;34m)\u001b[0m\u001b[0;34m(\u001b[0m\u001b[0mwall\u001b[0m\u001b[0;34m(\u001b[0m\u001b[0;36m300\u001b[0m\u001b[0;34m,\u001b[0m\u001b[0;36m300\u001b[0m\u001b[0;34m)\u001b[0m\u001b[0;34m)\u001b[0m\u001b[0;34m\u001b[0m\u001b[0m\n\u001b[0m\u001b[1;32m      3\u001b[0m \u001b[0mVIEW\u001b[0m\u001b[0;34m(\u001b[0m\u001b[0mmyWall\u001b[0m\u001b[0;34m)\u001b[0m\u001b[0;34m\u001b[0m\u001b[0m\n",
      "\u001b[0;31mNameError\u001b[0m: name 'HEX' is not defined"
     ]
    }
   ],
   "source": [
    "\n",
    "myWall = HEX(\"bcd6ff\")(wall(300,300))\n",
    "VIEW(myWall)"
   ]
  },
  {
   "cell_type": "code",
   "execution_count": null,
   "metadata": {
    "collapsed": true
   },
   "outputs": [],
   "source": []
  }
 ],
 "metadata": {
  "kernelspec": {
   "display_name": "Python 2",
   "language": "python",
   "name": "python2"
  },
  "language_info": {
   "codemirror_mode": {
    "name": "ipython",
    "version": 2
   },
   "file_extension": ".py",
   "mimetype": "text/x-python",
   "name": "python",
   "nbconvert_exporter": "python",
   "pygments_lexer": "ipython2",
   "version": "2.7.13"
  }
 },
 "nbformat": 4,
 "nbformat_minor": 1
}
