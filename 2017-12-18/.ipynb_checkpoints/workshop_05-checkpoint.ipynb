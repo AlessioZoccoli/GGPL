{
 "cells": [
  {
   "cell_type": "markdown",
   "metadata": {
    "collapsed": true
   },
   "source": [
    "Andrea Palladio's - I quattro libri dell'architetture\n",
    "===="
   ]
  },
  {
   "cell_type": "markdown",
   "metadata": {},
   "source": [
    "wire-frame plans of Villa Badoer\n",
    "==============================="
   ]
  },
  {
   "cell_type": "markdown",
   "metadata": {},
   "source": [
    "Drawing program used: inkscape (https://inkscape.org)\n",
    "\n",
    "## Work pipeline\n",
    "- search for useful material\n",
    "- draw plans on inkscape. output: .svg\n",
    "- from .svg to .lines: http://cvdlab.github.io/svg2lines/\n",
    "- lar model (V,EV)\n",
    "- 3d model"
   ]
  },
  {
   "cell_type": "markdown",
   "metadata": {},
   "source": [
    "![villabadoer](./images/villaBadoerFull.png)"
   ]
  },
  {
   "cell_type": "markdown",
   "metadata": {},
   "source": [
    "![villabadoer](./images/villabadoer.gif)"
   ]
  },
  {
   "cell_type": "markdown",
   "metadata": {},
   "source": [
    "![plant](./images/inkscape.png)"
   ]
  },
  {
   "cell_type": "markdown",
   "metadata": {},
   "source": [
    "![oldPlanimetry](./images/planimetriaBadoer.png)"
   ]
  },
  {
   "cell_type": "code",
   "execution_count": 3,
   "metadata": {},
   "outputs": [
    {
     "name": "stdout",
     "output_type": "stream",
     "text": [
      "Evaluating fenvs.py..\n",
      "...fenvs.py imported in 0.00555 seconds\n"
     ]
    }
   ],
   "source": [
    "from larlib import *\n",
    "from math import floor\n",
    "import csv\n",
    "import os"
   ]
  },
  {
   "cell_type": "code",
   "execution_count": 4,
   "metadata": {
    "collapsed": true
   },
   "outputs": [],
   "source": [
    "def larModel(path2lines):\n",
    "    \"\"\"\n",
    "    larModel(\"mypath\")\n",
    "    :param path2file: path to the .lines file\n",
    "    :return: \n",
    "    \"\"\"\n",
    "    with open(path2lines, \"rb\") as file:\n",
    "        lines = csv.reader(file, delimiter=\",\")\n",
    "\n",
    "        mapping = {}\n",
    "        v = []\n",
    "        ev = []\n",
    "        index = 0\n",
    "        \n",
    "        # indexing of the vertices and approximation\n",
    "        for entry in lines:\n",
    "            x1 = math.floor(float(entry[0])*100)/100\n",
    "            y1 = math.floor(float(entry[1])*100)/100\n",
    "            x2 = math.floor(float(entry[2])*100)/100\n",
    "            y2 = math.floor(float(entry[3])*100)/100\n",
    "\n",
    "            if not(mapping.has_key((x1,y1))):\n",
    "                index += 1\n",
    "                mapping[(x1,y1)] = index\n",
    "                v.append([x1,y1])\n",
    "\n",
    "            if not(mapping.has_key((x2,y2))):\n",
    "                index += 1\n",
    "                mapping[(x2,y2)] = index\n",
    "                v.append([x2,y2])\n",
    "\n",
    "            ev.append([mapping[(x1,y1)], mapping[(x2,y2)]])\n",
    "\n",
    "    return v,ev"
   ]
  },
  {
   "cell_type": "markdown",
   "metadata": {},
   "source": [
    "## let's get the graph"
   ]
  },
  {
   "cell_type": "code",
   "execution_count": 12,
   "metadata": {},
   "outputs": [],
   "source": [
    "V,EV = larModel(os.getcwd() + \"/data/pianta_2.lines\")"
   ]
  },
  {
   "cell_type": "markdown",
   "metadata": {},
   "source": [
    "## NOTE\n",
    ".lines data will be assigned in variables just like any other object (thus not using os library and paths) just in order to avoid problems "
   ]
  },
  {
   "cell_type": "code",
   "execution_count": 14,
   "metadata": {},
   "outputs": [],
   "source": [
    "V = [[54.47, 74.54],\n",
    " [53.8, 74.54],\n",
    " [53.8, 73.91],\n",
    " [86.96, 8.02],\n",
    " [86.96, 3.98],\n",
    " [72.91, 3.96],\n",
    " [72.93, 8.07],\n",
    " [75.09, 7.06],\n",
    " [76.58, 7.06],\n",
    " [76.55, 8.73],\n",
    " [69.55, 87.99],\n",
    " [69.54, 85.52],\n",
    " [58.8, 85.53],\n",
    " [58.86, 92.63],\n",
    " [58.09, 92.63],\n",
    " [58.09, 95.71],\n",
    " [58.86, 95.71],\n",
    " [58.83, 112.98],\n",
    " [100.62, 113.0],\n",
    " [100.64, 95.76],\n",
    " [101.32, 95.74],\n",
    " [101.36, 92.57],\n",
    " [100.64, 92.55],\n",
    " [100.61, 85.41],\n",
    " [90.09, 85.46],\n",
    " [90.06, 88.06],\n",
    " [58.85, 102.65],\n",
    " [63.12, 102.65],\n",
    " [65.36, 102.67],\n",
    " [74.84, 102.67],\n",
    " [74.83, 100.17],\n",
    " [74.81, 106.69],\n",
    " [69.4, 100.2],\n",
    " [69.42, 107.02],\n",
    " [96.26, 102.66],\n",
    " [100.63, 102.67],\n",
    " [84.6, 100.23],\n",
    " [84.62, 106.87],\n",
    " [84.61, 102.66],\n",
    " [94.12, 102.64],\n",
    " [90.05, 100.22],\n",
    " [90.05, 106.97],\n",
    " [69.49, 90.23],\n",
    " [69.45, 98.01],\n",
    " [69.47, 93.03],\n",
    " [77.79, 93.02],\n",
    " [74.8, 93.02],\n",
    " [74.83, 98.0],\n",
    " [90.05, 90.08],\n",
    " [90.01, 98.1],\n",
    " [90.04, 93.08],\n",
    " [81.56, 93.07],\n",
    " [84.57, 93.07],\n",
    " [84.57, 97.95],\n",
    " [87.28, 95.51],\n",
    " [87.28, 97.85],\n",
    " [69.14, 83.97],\n",
    " [90.19, 83.97],\n",
    " [54.43, 83.19],\n",
    " [54.42, 117.69],\n",
    " [54.97, 117.69],\n",
    " [57.24, 117.67],\n",
    " [102.33, 117.66],\n",
    " [105.18, 83.06],\n",
    " [149.8, 82.92],\n",
    " [105.16, 117.59],\n",
    " [104.5, 117.59],\n",
    " [107.97, 83.05],\n",
    " [108.04, 120.8],\n",
    " [104.5, 120.8],\n",
    " [102.33, 120.8],\n",
    " [57.19, 120.8],\n",
    " [51.81, 83.21],\n",
    " [51.85, 120.65],\n",
    " [53.0, 120.68],\n",
    " [9.72, 83.31],\n",
    " [58.81, 85.94],\n",
    " [54.5, 85.94],\n",
    " [54.42, 80.96],\n",
    " [54.47, 76.38],\n",
    " [54.42, 81.29],\n",
    " [63.5, 81.28],\n",
    " [90.37, 60.76],\n",
    " [90.37, 72.52],\n",
    " [93.61, 72.56],\n",
    " [93.61, 76.16],\n",
    " [105.13, 76.2],\n",
    " [105.13, 74.52],\n",
    " [106.14, 74.53],\n",
    " [106.14, 74.07],\n",
    " [96.04, 81.21],\n",
    " [105.17, 81.28],\n",
    " [63.5, 76.07],\n",
    " [69.15, 72.48],\n",
    " [96.11, 76.17],\n",
    " [69.26, 60.81],\n",
    " [65.86, 72.5],\n",
    " [65.88, 76.04],\n",
    " [54.47, 76.06],\n",
    " [15.43, 8.08],\n",
    " [9.75, 8.01],\n",
    " [18.44, 8.08],\n",
    " [75.09, 8.08],\n",
    " [23.08, 8.08],\n",
    " [23.15, 83.28],\n",
    " [23.12, 51.69],\n",
    " [24.89, 51.69],\n",
    " [29.71, 51.69],\n",
    " [31.51, 51.64],\n",
    " [24.92, 61.48],\n",
    " [29.58, 70.29],\n",
    " [36.57, 77.38],\n",
    " [45.45, 81.88],\n",
    " [136.44, 51.78],\n",
    " [134.39, 61.53],\n",
    " [129.88, 70.42],\n",
    " [122.96, 77.58],\n",
    " [114.0, 81.9],\n",
    " [127.94, 51.78],\n",
    " [129.78, 51.77],\n",
    " [134.6, 51.78],\n",
    " [84.86, 8.04],\n",
    " [140.85, 8.08],\n",
    " [144.05, 8.08],\n",
    " [149.72, 8.03],\n",
    " [136.4, 82.96],\n",
    " [136.4, 21.64],\n",
    " [136.4, 8.08],\n",
    " [144.71, 15.92],\n",
    " [149.73, 15.88],\n",
    " [142.54, 15.92],\n",
    " [138.76, 15.92],\n",
    " [138.85, 25.84],\n",
    " [142.44, 25.84],\n",
    " [144.76, 25.89],\n",
    " [149.74, 25.89],\n",
    " [136.4, 25.94],\n",
    " [136.82, 25.94],\n",
    " [140.03, 25.84],\n",
    " [140.06, 31.06],\n",
    " [136.41, 32.13],\n",
    " [149.75, 32.13],\n",
    " [136.41, 34.8],\n",
    " [136.9, 34.8],\n",
    " [136.42, 41.12],\n",
    " [149.76, 41.15],\n",
    " [139.81, 41.13],\n",
    " [139.78, 34.05],\n",
    " [139.78, 34.8],\n",
    " [138.57, 34.82],\n",
    " [138.99, 41.12],\n",
    " [139.01, 50.07],\n",
    " [144.5, 51.47],\n",
    " [149.77, 51.47],\n",
    " [144.62, 61.0],\n",
    " [149.78, 61.0],\n",
    " [149.79, 69.83],\n",
    " [139.08, 69.82],\n",
    " [139.09, 51.49],\n",
    " [142.05, 51.47],\n",
    " [136.41, 75.78],\n",
    " [137.24, 75.76],\n",
    " [138.52, 75.78],\n",
    " [149.79, 75.76],\n",
    " [142.03, 60.98],\n",
    " [139.08, 61.0],\n",
    " [74.81, 112.98],\n",
    " [74.81, 108.95],\n",
    " [69.4, 112.98],\n",
    " [69.4, 108.95],\n",
    " [84.62, 112.98],\n",
    " [84.62, 108.95],\n",
    " [90.13, 112.98],\n",
    " [90.13, 108.95],\n",
    " [100.62, 85.94],\n",
    " [105.18, 85.94],\n",
    " [75.09, 8.73],\n",
    " [76.55, 9.27],\n",
    " [83.27, 9.27],\n",
    " [83.28, 7.12],\n",
    " [84.87, 7.12],\n",
    " [84.87, 8.08],\n",
    " [84.85, 8.81],\n",
    " [83.28, 8.79]]"
   ]
  },
  {
   "cell_type": "code",
   "execution_count": 15,
   "metadata": {},
   "outputs": [],
   "source": [
    "EV = [[1, 2],\n",
    " [2, 3],\n",
    " [4, 5],\n",
    " [5, 6],\n",
    " [6, 7],\n",
    " [8, 8],\n",
    " [9, 10],\n",
    " [9, 8],\n",
    " [11, 12],\n",
    " [12, 13],\n",
    " [13, 14],\n",
    " [14, 15],\n",
    " [15, 16],\n",
    " [16, 17],\n",
    " [17, 18],\n",
    " [18, 19],\n",
    " [19, 20],\n",
    " [20, 21],\n",
    " [21, 22],\n",
    " [22, 23],\n",
    " [23, 24],\n",
    " [24, 25],\n",
    " [25, 26],\n",
    " [27, 28],\n",
    " [29, 30],\n",
    " [31, 32],\n",
    " [33, 34],\n",
    " [35, 36],\n",
    " [37, 38],\n",
    " [39, 40],\n",
    " [41, 42],\n",
    " [43, 44],\n",
    " [45, 46],\n",
    " [47, 48],\n",
    " [49, 50],\n",
    " [51, 52],\n",
    " [53, 54],\n",
    " [55, 56],\n",
    " [57, 58],\n",
    " [59, 60],\n",
    " [60, 61],\n",
    " [62, 63],\n",
    " [64, 65],\n",
    " [64, 66],\n",
    " [66, 67],\n",
    " [68, 69],\n",
    " [69, 70],\n",
    " [71, 72],\n",
    " [73, 74],\n",
    " [74, 75],\n",
    " [59, 76],\n",
    " [77, 78],\n",
    " [59, 79],\n",
    " [1, 80],\n",
    " [81, 82],\n",
    " [83, 84],\n",
    " [84, 85],\n",
    " [85, 86],\n",
    " [86, 87],\n",
    " [87, 88],\n",
    " [88, 89],\n",
    " [89, 90],\n",
    " [91, 92],\n",
    " [92, 64],\n",
    " [82, 93],\n",
    " [94, 84],\n",
    " [91, 95],\n",
    " [96, 94],\n",
    " [94, 97],\n",
    " [97, 98],\n",
    " [98, 93],\n",
    " [93, 99],\n",
    " [100, 101],\n",
    " [101, 76],\n",
    " [102, 103],\n",
    " [104, 105],\n",
    " [106, 107],\n",
    " [108, 109],\n",
    " [106, 110],\n",
    " [110, 111],\n",
    " [111, 112],\n",
    " [112, 113],\n",
    " [113, 59],\n",
    " [114, 115],\n",
    " [115, 116],\n",
    " [116, 117],\n",
    " [117, 118],\n",
    " [118, 64],\n",
    " [119, 120],\n",
    " [114, 121],\n",
    " [122, 123],\n",
    " [124, 125],\n",
    " [125, 65],\n",
    " [126, 114],\n",
    " [114, 127],\n",
    " [127, 128],\n",
    " [129, 130],\n",
    " [131, 132],\n",
    " [132, 133],\n",
    " [133, 134],\n",
    " [135, 136],\n",
    " [137, 138],\n",
    " [139, 140],\n",
    " [141, 142],\n",
    " [143, 144],\n",
    " [145, 146],\n",
    " [147, 148],\n",
    " [149, 150],\n",
    " [151, 152],\n",
    " [153, 154],\n",
    " [155, 156],\n",
    " [157, 158],\n",
    " [158, 159],\n",
    " [159, 160],\n",
    " [161, 162],\n",
    " [163, 164],\n",
    " [165, 166],\n",
    " [167, 168],\n",
    " [169, 170],\n",
    " [171, 172],\n",
    " [173, 174],\n",
    " [175, 176],\n",
    " [8, 103],\n",
    " [103, 177],\n",
    " [177, 10],\n",
    " [10, 178],\n",
    " [178, 179],\n",
    " [179, 180],\n",
    " [180, 181],\n",
    " [181, 182],\n",
    " [182, 183],\n",
    " [183, 184]]\n"
   ]
  },
  {
   "cell_type": "markdown",
   "metadata": {},
   "source": [
    "Drawing the wire-frame plant"
   ]
  },
  {
   "cell_type": "code",
   "execution_count": 16,
   "metadata": {
    "collapsed": true
   },
   "outputs": [],
   "source": [
    "def drawPlant(verts, edges):\n",
    "    \"\"\"\n",
    "    drawPlant(V,EV)\n",
    "    :param verts: list of vertices in form [X, Y]\n",
    "    :param edges: list of edges in form [indexofVertA, indexofVertB]\n",
    "    :return: array of POLILINEs\n",
    "    \"\"\"\n",
    "    plant = []\n",
    "    for e in edges:\n",
    "        plant.append(POLYLINE([verts[e[0]-1], verts[e[1]-1]]))\n",
    "    return plant"
   ]
  },
  {
   "cell_type": "code",
   "execution_count": 17,
   "metadata": {},
   "outputs": [
    {
     "data": {
      "text/plain": [
       "<pyplasm.xgepy.Hpc; proxy of <Swig Object of type 'std::shared_ptr< Hpc > *' at 0x181046bc00> >"
      ]
     },
     "execution_count": 17,
     "metadata": {},
     "output_type": "execute_result"
    }
   ],
   "source": [
    "\n",
    "plant = drawPlant(V, EV)\n",
    "VIEW(STRUCT(plant))"
   ]
  },
  {
   "cell_type": "markdown",
   "metadata": {},
   "source": [
    "![plant](./images/plant_4.png)"
   ]
  },
  {
   "cell_type": "markdown",
   "metadata": {},
   "source": [
    "![plant](./images/plant2.png)"
   ]
  },
  {
   "cell_type": "markdown",
   "metadata": {},
   "source": [
    "![plant](./images/plant3.png)"
   ]
  },
  {
   "cell_type": "markdown",
   "metadata": {},
   "source": [
    "![plant5](./images/plant5.png)"
   ]
  },
  {
   "cell_type": "code",
   "execution_count": null,
   "metadata": {
    "collapsed": true
   },
   "outputs": [],
   "source": []
  }
 ],
 "metadata": {
  "kernelspec": {
   "display_name": "Python 2",
   "language": "python",
   "name": "python2"
  },
  "language_info": {
   "codemirror_mode": {
    "name": "ipython",
    "version": 2
   },
   "file_extension": ".py",
   "mimetype": "text/x-python",
   "name": "python",
   "nbconvert_exporter": "python",
   "pygments_lexer": "ipython2",
   "version": "2.7.13"
  }
 },
 "nbformat": 4,
 "nbformat_minor": 1
}
