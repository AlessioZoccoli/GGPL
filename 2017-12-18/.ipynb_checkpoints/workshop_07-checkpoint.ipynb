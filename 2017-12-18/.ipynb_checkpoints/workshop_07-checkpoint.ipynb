{
 "cells": [
  {
   "cell_type": "markdown",
   "metadata": {},
   "source": [
    "Andrea Palladio - Villa Badoer\n",
    "================\n",
    "\n",
    "Working again on Villa Badoer as started in workshop_05.\n",
    "Aim of this final workshop is to completing the model."
   ]
  },
  {
   "cell_type": "markdown",
   "metadata": {},
   "source": [
    "Villa Badoer is a villa in Fratta Polesine in the Veneto region of northern Italy. It was designed in 1556 by Andrea Palladio for the Venetian noble Francesco Badoer, and built between 1557 and 1563, on the site of a medieval castle which guarded a bridge across a navigable canal. This was the first time Palladio used his fully developed temple pediment in the facade of a villa.\n",
    "Villa Badoer has been part since 1996 of the UNESCO World Heritage Site \"City of Vicenza and the Palladian Villas of the Veneto\".\n",
    "\n",
    "Constructed and inhabited in 1556, the villa therefore functioned for the management of the fields and was simultaneously a visible sign of the “feudal” presence, so to speak, of Badoer in the territory: it is not coincidental that the building rises on the site of an ancient medieval castle.\n",
    "Palladio succeeded in uniting within one effective synthesis these dual meanings, joining the majestic manor house to the two barchesse (farm wings) bent into semicircles, which screen the stables and other agricultural annexes."
   ]
  },
  {
   "cell_type": "markdown",
   "metadata": {},
   "source": [
    "![VillaBadoer](./images/villa.jpg)"
   ]
  },
  {
   "cell_type": "code",
   "execution_count": 1,
   "metadata": {},
   "outputs": [
    {
     "name": "stdout",
     "output_type": "stream",
     "text": [
      "Evaluating fenvs.py..\n",
      "...fenvs.py imported in 0.012682 seconds\n"
     ]
    }
   ],
   "source": [
    "%load_ext autoreload\n",
    "%autoreload 2\n",
    "\n",
    "from larlib import *\n",
    "from math import floor\n",
    "from copy import deepcopy\n",
    "from pickle import dump, load\n",
    "import utility\n",
    "import csv\n",
    "import os"
   ]
  },
  {
   "cell_type": "markdown",
   "metadata": {
    "collapsed": true
   },
   "source": [
    "# Reading data\n",
    "As mentioned in workshop_05 I will assign 3d-points instead of getting data from the filesystem. This time I will put all data in a separate file, for readability.\n",
    "This will prevent problems regarding paths etc. this approach may come in handy for fine tune points ;)"
   ]
  },
  {
   "cell_type": "code",
   "execution_count": 2,
   "metadata": {
    "collapsed": true
   },
   "outputs": [],
   "source": [
    "def larModel(path2lines, openPath=0):\n",
    "    \"\"\"\n",
    "    larModel(\"mypath\")\n",
    "    :param path2file: path to the .lines file\n",
    "    :return: tuple. A graph model representing Vertices and Edges.\n",
    "             Edges are lists of indices to Vertices.\n",
    "    \"\"\"\n",
    "    with open(path2lines, \"rb\") as file:\n",
    "        lines = csv.reader(file, delimiter=\",\")\n",
    "\n",
    "        mapping = {}\n",
    "        v = []\n",
    "        ev = []\n",
    "        index = 0\n",
    "        \n",
    "        # indexing of the vertices and approximation\n",
    "        for entry in lines:\n",
    "            x1 = math.floor(float(entry[0])*10)/10\n",
    "            y1 = math.floor(float(entry[1])*10)/10\n",
    "            x2 = math.floor(float(entry[2])*10)/10\n",
    "            y2 = math.floor(float(entry[3])*10)/10\n",
    "\n",
    "            if not(mapping.has_key((x1,y1))):\n",
    "                index += 1\n",
    "                mapping[(x1,y1)] = index\n",
    "                v.append([x1,y1])\n",
    "\n",
    "            if not(mapping.has_key((x2,y2))):\n",
    "                index += 1\n",
    "                mapping[(x2,y2)] = index\n",
    "                v.append([x2,y2])\n",
    "\n",
    "            ev.append([mapping[(x1,y1)], mapping[(x2,y2)]])\n",
    "        \n",
    "        #this will close the path by linking the last node with the first one\n",
    "        if (ev[-1][1] != ev[0][0] and not(openPath)):\n",
    "            lastEdge = [ev[-1][1], ev[0][0]]\n",
    "            ev.append(lastEdge)\n",
    "        \n",
    "        #print (lastEdge[0] == ev[-2][1]) #True\n",
    "        #print (lastEdge[1] == ev[0][0]) #True\n",
    "        #print ev[-1] == lastEdge\n",
    "        \n",
    "        \n",
    "    return v,ev"
   ]
  },
  {
   "cell_type": "markdown",
   "metadata": {},
   "source": [
    "# Work pipeline\n",
    "- Divide et impera: I will start off with splitting the structure.\n",
    "  - For every part of Villa Badoer a .csv and a .lines will be produced (https://inkscape.org)\n",
    "  - Alternatively, if pre-existing pyplasm model for polyhedra are sufficient, then those will be used\n",
    "- Given a .lines file for a certain part of the structure, produce a graph (V,EV) as lar model\n",
    "- Given a part of the villa, draw its plant\n",
    "- Given a plant use cartesian product to build walls etc.\n",
    "- Figure out a way to use symmetries"
   ]
  },
  {
   "cell_type": "code",
   "execution_count": 3,
   "metadata": {
    "collapsed": true
   },
   "outputs": [],
   "source": [
    "from data import pyData # Pythonized data from .lines"
   ]
  },
  {
   "cell_type": "markdown",
   "metadata": {
    "collapsed": true
   },
   "source": [
    "# Base\n",
    "Probably as a result of exploiting the substructures of the medieval castle, the manor house of the villa rises on a high basement, and recalls illustrious precedents like the Villa Medici at Poggio a Caiano by Giuliano da Sangallo, and the not far distant Villa dei Vescovi at Luvigliano by Giovanni Maria Falconetto.\n",
    "\n",
    "\n",
    "The base on which the main structure lies is composed of two layers, base1 and base2, plus a frontal base adjacent to the stairs.\n",
    "Base2 is placed upon base1, frontbase situates in front of base1 and base2 "
   ]
  },
  {
   "cell_type": "markdown",
   "metadata": {},
   "source": [
    "### Base 1"
   ]
  },
  {
   "cell_type": "code",
   "execution_count": 4,
   "metadata": {
    "collapsed": true
   },
   "outputs": [],
   "source": [
    "#VBase1,EVBase1 = larModel(os.getcwd() + \"/data/base1.lines\")"
   ]
  },
  {
   "cell_type": "code",
   "execution_count": 5,
   "metadata": {
    "collapsed": true
   },
   "outputs": [],
   "source": [
    "VBase1 = pyData.VBase1\n",
    "EVBase1 = pyData.EVBase1\n"
   ]
  },
  {
   "cell_type": "markdown",
   "metadata": {},
   "source": [
    "### Base 2"
   ]
  },
  {
   "cell_type": "code",
   "execution_count": 6,
   "metadata": {
    "collapsed": true
   },
   "outputs": [],
   "source": [
    "#VBase2,EVBase2 = larModel(os.getcwd() + \"/data/base2.lines\")"
   ]
  },
  {
   "cell_type": "code",
   "execution_count": 7,
   "metadata": {
    "collapsed": true
   },
   "outputs": [],
   "source": [
    "VBase2 = pyData.VBase2\n",
    "EVBase2 = pyData.EVBase2"
   ]
  },
  {
   "cell_type": "markdown",
   "metadata": {},
   "source": [
    "# Frontal base"
   ]
  },
  {
   "cell_type": "code",
   "execution_count": 8,
   "metadata": {
    "collapsed": true
   },
   "outputs": [],
   "source": [
    "#VBaseF,EVBaseF = larModel(os.getcwd() + \"/data/frontbase2.lines\")"
   ]
  },
  {
   "cell_type": "code",
   "execution_count": 9,
   "metadata": {
    "collapsed": true
   },
   "outputs": [],
   "source": [
    "VBaseF = pyData.VBaseF\n",
    "EVBaseF = pyData.EVBaseF"
   ]
  },
  {
   "cell_type": "markdown",
   "metadata": {},
   "source": [
    "# Drawing the wire-frame plant\n",
    "\n",
    "Again from workshop_05"
   ]
  },
  {
   "cell_type": "code",
   "execution_count": 10,
   "metadata": {
    "collapsed": true
   },
   "outputs": [],
   "source": [
    "def drawPlant(verts, edges, pr = 0):\n",
    "    \"\"\"\n",
    "    drawPlant(V,EV) returns the wire-flame plant of the input, the lar model.\n",
    "    It is clearly a 2d model, this implies that it does not handle space for doors, windows, stairs etc.\n",
    "    \n",
    "    :param verts: list of vertices in form [X, Y]\n",
    "    :param edges: list of edges in form [indexofVertA, indexofVertB]\n",
    "    :return: array of POLILINEs\n",
    "    \"\"\"\n",
    "    plant = []\n",
    "    for e in edges:\n",
    "        if (pr):\n",
    "            print ([verts[e[0]-1], verts[e[1]-1]]),\"\\n\"\n",
    "        plant.append(POLYLINE([verts[e[0]-1], verts[e[1]-1]]))\n",
    "    return plant"
   ]
  },
  {
   "cell_type": "code",
   "execution_count": 11,
   "metadata": {
    "collapsed": true
   },
   "outputs": [],
   "source": [
    "base1plant = drawPlant(VBase1, EVBase1, pr=0)"
   ]
  },
  {
   "cell_type": "code",
   "execution_count": 12,
   "metadata": {
    "collapsed": true
   },
   "outputs": [],
   "source": [
    "base2plant = drawPlant(VBase2, EVBase2)\n"
   ]
  },
  {
   "cell_type": "code",
   "execution_count": 13,
   "metadata": {
    "collapsed": true
   },
   "outputs": [],
   "source": [
    "baseFplant = drawPlant(VBaseF, EVBaseF)\n",
    "#VIEW(STRUCT(baseFplant))"
   ]
  },
  {
   "cell_type": "markdown",
   "metadata": {},
   "source": [
    "# Building the bases"
   ]
  },
  {
   "cell_type": "markdown",
   "metadata": {},
   "source": [
    "Scheme: First, I will build every part of the hole base (base1, base2 etc.) then I will use UNION to make a unique base out of each of its part.\n",
    "\n",
    "I will assume steps have a height of 20cm and as we can see from the following image, the base has 9 + 5 steps"
   ]
  },
  {
   "cell_type": "markdown",
   "metadata": {},
   "source": [
    "![steps](./images/gradini.jpg)"
   ]
  },
  {
   "cell_type": "markdown",
   "metadata": {},
   "source": [
    "## The whole base\n",
    "\n",
    "- Base1\n",
    "- Base2 (1 and 2 are made of bricks and are wider and larger than villa's area)\n",
    "- Frontal base\n",
    "- Stairs on the back\n",
    "\n",
    "- villaBase (the villa itself is placed above this base)"
   ]
  },
  {
   "cell_type": "markdown",
   "metadata": {},
   "source": [
    "### Base 1"
   ]
  },
  {
   "cell_type": "code",
   "execution_count": 14,
   "metadata": {
    "collapsed": true
   },
   "outputs": [],
   "source": [
    "base1 = SOLIDIFY(STRUCT(base1plant))\n",
    "base1 = PROD([base1, Q(0.20*9)])"
   ]
  },
  {
   "cell_type": "code",
   "execution_count": 15,
   "metadata": {
    "collapsed": true
   },
   "outputs": [],
   "source": [
    "#VIEW(base1)"
   ]
  },
  {
   "cell_type": "markdown",
   "metadata": {},
   "source": [
    "### Base 2"
   ]
  },
  {
   "cell_type": "code",
   "execution_count": 16,
   "metadata": {
    "collapsed": true
   },
   "outputs": [],
   "source": [
    "base2 = SOLIDIFY(STRUCT(base2plant))\n",
    "base2 = T(3)(0.20*9)(PROD([base2, Q(0.20*5)]))"
   ]
  },
  {
   "cell_type": "code",
   "execution_count": 17,
   "metadata": {
    "collapsed": true
   },
   "outputs": [],
   "source": [
    "#VIEW(base2)"
   ]
  },
  {
   "cell_type": "markdown",
   "metadata": {},
   "source": [
    "### Frontal Base"
   ]
  },
  {
   "cell_type": "code",
   "execution_count": 18,
   "metadata": {
    "collapsed": true
   },
   "outputs": [],
   "source": [
    "travertineHEX = \"#E2DECD\""
   ]
  },
  {
   "cell_type": "code",
   "execution_count": 19,
   "metadata": {
    "collapsed": true
   },
   "outputs": [],
   "source": [
    "bricksBase = './textures/bricks.jpeg'\n",
    "orangeBricks = './textures/orangeBricks2.jpeg'"
   ]
  },
  {
   "cell_type": "code",
   "execution_count": 20,
   "metadata": {
    "collapsed": true
   },
   "outputs": [],
   "source": [
    "baseF = SOLIDIFY(STRUCT(baseFplant))\n",
    "baseFbottom = HEX(travertineHEX)(PROD([baseF, Q(0.20*13)]))\n",
    "baseFtop = TEXTURE(orangeBricks)(PROD([baseF, Q(0.2)]))\n",
    "\n",
    "baseFront = TOP([baseFbottom, baseFtop])\n",
    "\n",
    "#baseF = TEXTURE(orangeBricks)(baseF)"
   ]
  },
  {
   "cell_type": "code",
   "execution_count": 21,
   "metadata": {},
   "outputs": [
    {
     "data": {
      "text/plain": [
       "<pyplasm.xgepy.Hpc; proxy of <Swig Object of type 'std::shared_ptr< Hpc > *' at 0x181e051cc0> >"
      ]
     },
     "execution_count": 21,
     "metadata": {},
     "output_type": "execute_result"
    }
   ],
   "source": [
    "VIEW(baseFront)"
   ]
  },
  {
   "cell_type": "markdown",
   "metadata": {},
   "source": [
    "## Final base with back stairs\n",
    "Stairs can also be seen on the back of base1 and 2"
   ]
  },
  {
   "cell_type": "code",
   "execution_count": 22,
   "metadata": {
    "collapsed": true
   },
   "outputs": [],
   "source": [
    "def stairs(N,stepsize):\n",
    "    \"\"\"\n",
    "    stairs build a basic, full stairway (no space between steps and the ground)\n",
    "    :param N: number of steps\n",
    "    :param stepsize: array of length 3. stepsize contains cartesian coordinate used to model a single step\n",
    "    \"\"\"\n",
    "    sx,sy,sz = stepsize\n",
    "    V,FV = larCuboids([1,1])\n",
    "    step = S([1,2])([sx,sy])(STRUCT(MKPOLS((V,FV))))\n",
    "    step =  steps = T(3)(sz*(N-1))(PROD([step,INTERVALS(sz)(1)]))\n",
    "    for i in range(1,N):\n",
    "        nextStep = T(3)(-sz*i)(S(2)(1+i)(step))\n",
    "        steps = STRUCT([steps,nextStep])\n",
    "    return steps"
   ]
  },
  {
   "cell_type": "code",
   "execution_count": 23,
   "metadata": {
    "collapsed": true
   },
   "outputs": [],
   "source": [
    "\"\"\"\n",
    "Left-hand side back stairs\n",
    "\n",
    "size depens on the svg/lines data.\n",
    "It is redundant, in a way, to calculate it as a difference, but this way it gives the author more control.\n",
    "\n",
    "I decided to model steps so that they starts from the origin [0,0,0], an approach I did not used for other structures.\n",
    "This way, code will be more reusable. I will need to model various stairs.\n",
    "\"\"\"\n",
    "nStepsBack = 14 #recurrent value, as Villa Badoer has the same steps number for every stairway\n",
    "\n",
    "bssX = 56.65 - 54.9\n",
    "bssY = (117.7 - 115.7)/5.5\n",
    "bssZ = 0.20 #height of a single step\n",
    "backStepSize = [bssX, bssY, bssZ]"
   ]
  },
  {
   "cell_type": "code",
   "execution_count": 24,
   "metadata": {
    "collapsed": true
   },
   "outputs": [],
   "source": [
    "myStairs = stairs(nStepsBack, backStepSize)"
   ]
  },
  {
   "cell_type": "code",
   "execution_count": 25,
   "metadata": {
    "collapsed": true
   },
   "outputs": [],
   "source": [
    "#VbaseVilla,EVbaseVilla = larModel(os.getcwd() + \"/data/mainStrBase.lines\", openPath=0)"
   ]
  },
  {
   "cell_type": "code",
   "execution_count": 26,
   "metadata": {
    "collapsed": true
   },
   "outputs": [],
   "source": [
    "VbaseVilla = pyData.VbaseVilla"
   ]
  },
  {
   "cell_type": "code",
   "execution_count": 27,
   "metadata": {
    "collapsed": true
   },
   "outputs": [],
   "source": [
    "EVbaseVilla = pyData.EVbaseVilla"
   ]
  },
  {
   "cell_type": "markdown",
   "metadata": {},
   "source": [
    "## Base of the villa\n",
    "Lies upon the ground base, the one made of brakes. The Villa stand upon villaBase"
   ]
  },
  {
   "cell_type": "code",
   "execution_count": 28,
   "metadata": {
    "collapsed": true
   },
   "outputs": [],
   "source": [
    "villaBasePlant = drawPlant(VbaseVilla, EVbaseVilla)\n",
    "\n",
    "\"\"\" total height of the base of the villa is approximately 10 steps, thus 0.20*10 \"\"\"\n",
    "\n",
    "villaBase1 = MULTEXTRUDE(OFFSET([1.1,1.1])(SOLIDIFY(STRUCT(villaBasePlant))))(0.20)\n",
    "villaBase2 = MULTEXTRUDE(OFFSET([0.7,0.7])(SOLIDIFY(STRUCT(villaBasePlant))))(0.20*7)\n",
    "villaBase3 = MULTEXTRUDE(OFFSET([1.1,1.1])(SOLIDIFY(STRUCT(villaBasePlant))))(0.20*2)\n",
    "\n",
    "villaBase = STRUCT([TOP([TOP([villaBase1, villaBase2]), villaBase3])])"
   ]
  },
  {
   "cell_type": "code",
   "execution_count": 29,
   "metadata": {
    "collapsed": true
   },
   "outputs": [],
   "source": [
    "def createBasementSpace(startingStructure):\n",
    "    \"\"\"\n",
    "    :param startingStructure: given a starting structure a space for the basement will be created inside\n",
    "                              its volume\n",
    "                            \n",
    "    :return: array of pyplasm.xgepy.Hpc(s) the new structure plus the cuboid used to create the space,\n",
    "            this will be used to create basement walls and floor\n",
    "    \"\"\"\n",
    "    cx = MAX(1)(villaBase) - MIN(1)(villaBase) - 6\n",
    "    cy = MAX(2)(villaBase) - MIN(2)(villaBase) - 4\n",
    "    voidCuboid = T([1,2])([MIN(1)(villaBase) + 3., MIN(2)(villaBase) + 2.5])(CUBOID([cx, cy, 0.2*24]))\n",
    "\n",
    "    return DIFFERENCE([startingStructure, voidCuboid])"
   ]
  },
  {
   "cell_type": "markdown",
   "metadata": {},
   "source": [
    "### assembling the base"
   ]
  },
  {
   "cell_type": "code",
   "execution_count": 30,
   "metadata": {
    "collapsed": true
   },
   "outputs": [],
   "source": [
    "leftBackStairs = TEXTURE(bricksBase)(T([1,2])([54.93,115.7])(myStairs))\n",
    "rightBackStairs = TEXTURE(bricksBase)(T([1,2])([102.55,115.60])(myStairs))\n",
    "groundBaseFull = STRUCT([base1,base2, leftBackStairs, rightBackStairs])\n",
    "groundBaseHoled = TEXTURE(bricksBase)(createBasementSpace(groundBaseFull))\n",
    "\n",
    "villaBaseHoled = createBasementSpace(villaBase)\n",
    "\n",
    "groundBase = STRUCT([baseFront, groundBaseHoled])"
   ]
  },
  {
   "cell_type": "code",
   "execution_count": 31,
   "metadata": {
    "collapsed": true,
    "scrolled": true
   },
   "outputs": [],
   "source": [
    "base = STRUCT([groundBase, T(3)(SIZE(3)(groundBase))(villaBaseHoled)])\n",
    "#VIEW(base)"
   ]
  },
  {
   "cell_type": "code",
   "execution_count": 32,
   "metadata": {
    "collapsed": true
   },
   "outputs": [],
   "source": [
    "def RELATIVE(ref, obj, x=0, y=0, z=0):\n",
    "    \"\"\"\n",
    "    Move obj relatively to Object ref\n",
    "    :param ref: reference object\n",
    "    :param obj: object to be moved with respect to ref\n",
    "    :param x, y, z: cartesian coordinates\n",
    "    :return: pyplasm.xgepy.Hpc\n",
    "    \n",
    "    ref, STRUCT([CUBOID([0]), T([1, 2, 3])([-_x*2, -_y*2, _z*2])(obj)])\n",
    "    \"\"\"\n",
    "    _x = float(x)\n",
    "    _y = float(y)\n",
    "    _z = float(z)\n",
    "    return ALIGN([[1, MED, MED], [2, MED, MED], [3, MIN, MIN]])([\n",
    "        ref, STRUCT([CUBOID([0]), T([1, 2, 3])([_x, -_y, _z])(obj)])\n",
    "    ])"
   ]
  },
  {
   "cell_type": "markdown",
   "metadata": {},
   "source": [
    "# Basement"
   ]
  },
  {
   "cell_type": "markdown",
   "metadata": {},
   "source": [
    "[MIN(1)(villaBase) + 3., MIN(2)(villaBase) + 2.5] #[60.60009765625, 86.69999694824219]\n"
   ]
  },
  {
   "cell_type": "code",
   "execution_count": 33,
   "metadata": {
    "collapsed": true
   },
   "outputs": [],
   "source": [
    "basementStone = './textures/stone1.jpg'"
   ]
  },
  {
   "cell_type": "code",
   "execution_count": 34,
   "metadata": {
    "collapsed": true
   },
   "outputs": [],
   "source": [
    "basementVolume = [39.1000061035,25.700012207,4.80000066757]\n",
    "basementVoid = CUBOID([37.3,23.700012207,2.8])\n",
    "\n",
    "myBasement = TEXTURE(basementStone)(DIFFERENCE([CUBOID(basementVolume), T([1,2,3])([.9,1.,2.])(basementVoid)]))\n",
    "base2Basement = STRUCT([base, T([1,2])([60.60009765625, 86.69999694824219])(myBasement)])"
   ]
  },
  {
   "cell_type": "code",
   "execution_count": 35,
   "metadata": {
    "collapsed": true,
    "scrolled": true
   },
   "outputs": [],
   "source": [
    "#VIEW(base2Basement)"
   ]
  },
  {
   "cell_type": "markdown",
   "metadata": {},
   "source": [
    "![basement](./images/basement1.png)"
   ]
  },
  {
   "cell_type": "markdown",
   "metadata": {},
   "source": [
    "### Adding walls to the basement"
   ]
  },
  {
   "cell_type": "code",
   "execution_count": 36,
   "metadata": {
    "collapsed": true
   },
   "outputs": [],
   "source": [
    "basementWallsRock = './textures/rock.jpeg'"
   ]
  },
  {
   "cell_type": "code",
   "execution_count": 37,
   "metadata": {
    "collapsed": true
   },
   "outputs": [],
   "source": [
    "#VbasementWalls,EVbasementWalls = larModel(os.getcwd() + \"/data/basementWalls2.lines\", openPath=1)"
   ]
  },
  {
   "cell_type": "code",
   "execution_count": 38,
   "metadata": {
    "collapsed": true
   },
   "outputs": [],
   "source": [
    "VbasementWalls = pyData.VbasementWalls\n",
    "EVbasementWalls = pyData.EVbasementWalls"
   ]
  },
  {
   "cell_type": "code",
   "execution_count": 39,
   "metadata": {
    "collapsed": true
   },
   "outputs": [],
   "source": [
    "basementWalls = STRUCT(drawPlant(VbasementWalls, EVbasementWalls))\n",
    "basementWalls = TEXTURE(basementWallsRock)(MULTEXTRUDE(OFFSET([0.7,0.7])(STRUCT([basementWalls])))(2.8))"
   ]
  },
  {
   "cell_type": "code",
   "execution_count": 40,
   "metadata": {
    "collapsed": true
   },
   "outputs": [],
   "source": [
    "#myNewBasement = STRUCT([base2Basement, T(3)(SIZE(3)(groundBase))(basementWalls)])\n",
    "myNewBasement = STRUCT([base2Basement, T(3)(2.)(basementWalls)])\n",
    "#VIEW(myNewBasement)"
   ]
  },
  {
   "cell_type": "markdown",
   "metadata": {},
   "source": [
    "![basement3](./images/basement3.png)\n",
    "\n",
    "A solid base\n",
    "![basement2](./images/basement5.png)"
   ]
  },
  {
   "cell_type": "markdown",
   "metadata": {},
   "source": [
    "# Floor"
   ]
  },
  {
   "cell_type": "code",
   "execution_count": 41,
   "metadata": {
    "collapsed": true
   },
   "outputs": [],
   "source": [
    "villaFloorTexture = './textures/floor.jpg'"
   ]
  },
  {
   "cell_type": "code",
   "execution_count": 42,
   "metadata": {
    "collapsed": true
   },
   "outputs": [],
   "source": [
    "#Vfloor,EVfloor = larModel(os.getcwd() + \"/data/floor.lines\", openPath=0)\n",
    "Vfloor = pyData.Vfloor\n",
    "EVfloor = pyData.EVfloor"
   ]
  },
  {
   "cell_type": "code",
   "execution_count": 43,
   "metadata": {
    "collapsed": true
   },
   "outputs": [],
   "source": [
    "myFloor = drawPlant(Vfloor,EVfloor)\n",
    "villaFloor = MULTEXTRUDE(OFFSET([0.7,0.7])(SOLIDIFY(STRUCT(myFloor))))(0.06)"
   ]
  },
  {
   "cell_type": "code",
   "execution_count": 44,
   "metadata": {
    "collapsed": true
   },
   "outputs": [],
   "source": [
    "VfloorHole = [[89.9, 95.3], [89.9, 98.0], [87.8, 98.0], [87.8, 95.3]]\n",
    "\n",
    "#VfloorHole,EVfloorHole = larModel(os.getcwd() + \"/data/floorHole.lines\")\n",
    "#[[89.9, 95.1], [89.9, 98.0], [87.1, 98.0], [87.1, 95.1]]"
   ]
  },
  {
   "cell_type": "code",
   "execution_count": 45,
   "metadata": {
    "collapsed": true
   },
   "outputs": [],
   "source": [
    "EVfloorHole = [[1, 2], [3, 2], [3, 4], [4, 1]]"
   ]
  },
  {
   "cell_type": "code",
   "execution_count": 46,
   "metadata": {
    "collapsed": true
   },
   "outputs": [],
   "source": [
    "floorHole = JOIN(STRUCT(drawPlant(VfloorHole,EVfloorHole)))\n",
    "floorHole = PROD([floorHole, Q(2)])\n",
    "floorHoleSizes = SIZE([1,2,3])(floorHole) #[5.400001525878906, 5.0, 2.0]"
   ]
  },
  {
   "cell_type": "code",
   "execution_count": 47,
   "metadata": {
    "collapsed": true
   },
   "outputs": [],
   "source": [
    "villaFloorHoled = TEXTURE(villaFloorTexture)(DIFFERENCE([villaFloor, floorHole]))"
   ]
  },
  {
   "cell_type": "code",
   "execution_count": 48,
   "metadata": {
    "collapsed": true
   },
   "outputs": [],
   "source": [
    "def SPECULAR (D):\n",
    "    \"\"\"\n",
    "    SPECULAR(D)(pol) is just a variation of MIRROR(D)(pol) without returning the original object,\n",
    "    plus the specular polyhedron is placed so that its location is the same as the original pol one \n",
    "    :param D: direction, integer\n",
    "    :param pol: polyhedron\n",
    "    :return:  pyplasm.xgepy.Hpc\n",
    "    \"\"\"\n",
    "    def SPECULAR0 (pol):\n",
    "        return  STRUCT([T(D)(SIZE(D)(pol))(S(D)(-1)(pol))])\n",
    "    return SPECULAR0"
   ]
  },
  {
   "cell_type": "markdown",
   "metadata": {},
   "source": [
    "### Basement staircase"
   ]
  },
  {
   "cell_type": "code",
   "execution_count": 49,
   "metadata": {
    "collapsed": true
   },
   "outputs": [],
   "source": [
    "stairWallLen = 3.481\n",
    "stepZ = .285\n",
    "stepX = 2.1\n",
    "stepY = .45\n",
    "stepsize = [stepX, stepY, stepZ]\n",
    "\n",
    "offX, offY = [84.5, 93.0]\n",
    "offZ = SIZE(3)(groundBase)\n",
    "            \n",
    "############\n",
    "############\n",
    "\n",
    "_stair = TEXTURE(basementWallsRock)(stairs(7, stepsize))\n",
    "basementStaircase = T([1,2,3])([offX + 3.3, offY+2.5, offZ])(_stair)\n",
    "\n",
    "floorLevel = offZ + SIZE(3)(basementStaircase)\n",
    "baseBeta = STRUCT([myNewBasement, basementStaircase, T([1,2,3])([0.2,0.2,floorLevel])(villaFloorHoled)])"
   ]
  },
  {
   "cell_type": "code",
   "execution_count": 50,
   "metadata": {},
   "outputs": [
    {
     "data": {
      "text/plain": [
       "<pyplasm.xgepy.Hpc; proxy of <Swig Object of type 'std::shared_ptr< Hpc > *' at 0x181e0793c0> >"
      ]
     },
     "execution_count": 50,
     "metadata": {},
     "output_type": "execute_result"
    }
   ],
   "source": [
    "VIEW(baseBeta)"
   ]
  },
  {
   "cell_type": "markdown",
   "metadata": {},
   "source": [
    "### Stair highlighted in red (not the final color!)\n",
    "\n",
    "![basement stair](./images/basement4.png)"
   ]
  },
  {
   "cell_type": "markdown",
   "metadata": {},
   "source": [
    "# All together\n",
    "Displaying the entire base plus the floor together.\n",
    "Textures are chosen to represent actually used materials the best possible way"
   ]
  },
  {
   "cell_type": "markdown",
   "metadata": {},
   "source": [
    "![finalBase1](./images/finalBase1.png)\n",
    "\n",
    "With the floor:\n",
    "![finalBase2](./images/finalBase2.png)\n",
    "\n",
    "Deteails for the stairs\n",
    "![finalBase3](./images/finalBase3.png)"
   ]
  },
  {
   "cell_type": "markdown",
   "metadata": {},
   "source": [
    "## Inner walls\n",
    "I would like to use something different from the boolean operation DIFFERENCE to create space for doors. I will stack two model one on top of the other, the former one contains spaces, the latter one does not."
   ]
  },
  {
   "cell_type": "code",
   "execution_count": 51,
   "metadata": {
    "collapsed": true
   },
   "outputs": [],
   "source": [
    "#VinWalls,EVinWalls = larModel(os.getcwd() + \"/data/innerwallsNOIMM_2.lines\", openPath=1)\n",
    "#VinWallsTOP,EVinWallsTOP = larModel(os.getcwd() + \"/data/innerwallsTOPNOIMM_2.lines\", openPath=1)"
   ]
  },
  {
   "cell_type": "code",
   "execution_count": 52,
   "metadata": {
    "collapsed": true
   },
   "outputs": [],
   "source": [
    "VinWalls = pyData.VinWalls\n",
    "EVinWalls = pyData.EVinWalls\n",
    "VinWallsTOP = pyData.VinWallsTOP\n",
    "EVinWallsTOP = pyData.EVinWallsTOP\n"
   ]
  },
  {
   "cell_type": "code",
   "execution_count": 53,
   "metadata": {
    "collapsed": true
   },
   "outputs": [],
   "source": [
    "inWallsPlantHoled = STRUCT(drawPlant(VinWalls, EVinWalls))\n",
    "inWallsPlantHoled = MULTEXTRUDE(OFFSET([0.7,0.7])(STRUCT([inWallsPlantHoled])))(2.5)"
   ]
  },
  {
   "cell_type": "code",
   "execution_count": 54,
   "metadata": {
    "collapsed": true
   },
   "outputs": [],
   "source": [
    "inWallsPlantTOP = STRUCT(drawPlant(VinWallsTOP, EVinWallsTOP))\n",
    "inWallsPlantTOP = MULTEXTRUDE(OFFSET([0.7,0.7])(STRUCT([inWallsPlantTOP])))(5.5)"
   ]
  },
  {
   "cell_type": "code",
   "execution_count": 55,
   "metadata": {
    "collapsed": true
   },
   "outputs": [],
   "source": [
    "inWalls = STRUCT([TOP([inWallsPlantHoled, inWallsPlantTOP])])"
   ]
  },
  {
   "cell_type": "code",
   "execution_count": 56,
   "metadata": {
    "collapsed": true,
    "scrolled": false
   },
   "outputs": [],
   "source": [
    "villaBaseHoled = HEX(travertineHEX)(villaBaseHoled)\n",
    "\n",
    "inWallsfrontDoor = DIFFERENCE([inWalls, T([1,2,3])([78.3, 93., 2.5])(CUBOID([3.2,1.,2.]))])\n",
    "inWallsFinal = DIFFERENCE([inWallsfrontDoor, T([1,2,3])([72., 93., 2.])(CUBOID([1.5,1.,2.5])),\n",
    "            T([1,2,3])([86.5, 93., 2.])(CUBOID([1.5,1.,2.5]))])\n",
    "\n",
    "inWallsFinal = HEX(travertineHEX)(inWallsFinal)\n",
    "\n",
    "\n",
    "#VIEW(inWallsFinal)"
   ]
  },
  {
   "cell_type": "markdown",
   "metadata": {},
   "source": [
    "![innerWalls](./images/inWalls.png)\n",
    "![innerWalls2](./images/inWalls2.png)"
   ]
  },
  {
   "cell_type": "markdown",
   "metadata": {},
   "source": [
    "# Inner walls, floor and base\n",
    "Let's now give a look inside the villa at current state "
   ]
  },
  {
   "cell_type": "code",
   "execution_count": 57,
   "metadata": {
    "collapsed": true
   },
   "outputs": [],
   "source": [
    "#VIEW(baseBeta)"
   ]
  },
  {
   "cell_type": "code",
   "execution_count": 58,
   "metadata": {},
   "outputs": [
    {
     "data": {
      "text/plain": [
       "<pyplasm.xgepy.Hpc; proxy of <Swig Object of type 'std::shared_ptr< Hpc > *' at 0x181e08c390> >"
      ]
     },
     "execution_count": 58,
     "metadata": {},
     "output_type": "execute_result"
    }
   ],
   "source": [
    "inWallsLevel = SIZE(3)(baseBeta)\n",
    "skeleton = STRUCT([baseBeta,T(3)(inWallsLevel)(inWallsFinal)])\n",
    "VIEW(skeleton)"
   ]
  },
  {
   "cell_type": "markdown",
   "metadata": {
    "collapsed": true
   },
   "source": [
    "![inside](./images/skeleton_2.png)"
   ]
  },
  {
   "cell_type": "markdown",
   "metadata": {},
   "source": [
    "# Windows\n",
    "Few kinds of windows:\n",
    "- lower ones are placed on villaBase.\n",
    "- big green windows are more \"central\" on walls height\n",
    "- small green windows are place at the very top of the side walls\n",
    "\n",
    "![side](./images/sideVillaFoto.jpg)"
   ]
  },
  {
   "cell_type": "code",
   "execution_count": 59,
   "metadata": {
    "collapsed": true
   },
   "outputs": [],
   "source": [
    "woodHEX = \"#8B5A2B\"\n",
    "steelGreyHEX = \"#43464B\"\n",
    "glassTexture = './textures/glass.jpeg'\n",
    "greenWindowTexture1 = './textures/greenWindow1.png'\n",
    "greenWindowTexture2 = './textures/greenWindow2.png'\n",
    "green = './textures/green.jpg' "
   ]
  },
  {
   "cell_type": "markdown",
   "metadata": {},
   "source": [
    "### lower windows"
   ]
  },
  {
   "cell_type": "code",
   "execution_count": 60,
   "metadata": {
    "collapsed": true
   },
   "outputs": [],
   "source": [
    "def lowerWindow(lateral = 0):\n",
    "    \"\"\"\n",
    "    :param lateral : window orientation\n",
    "                    0 = right\n",
    "                    1 = left\n",
    "                    2 = front (decreasing y)\n",
    "                    3 = back (increasing y)\n",
    "    :return:  pyplasm.xgepy.Hpc\n",
    "    \"\"\"\n",
    "    \n",
    "    if(lateral not in [0, 1, 2, 3]):\n",
    "        raise ValueError('bad lateral argument: not in [0,1,2,3]')\n",
    "    \n",
    "    windowStructure = SKEL_1(STRUCT([PROD([INTERVALS(0.20*8)(2), INTERVALS(0.20*5)(1)])]))\n",
    "    windowStructure = HEX(woodHEX)(STRUCT([OFFSET([0.01,0.03, 0.03])(PROD([Q(0.01), windowStructure]))]))\n",
    "\n",
    "    #SIZE([1,2,3])(windowStructure) = [0.019999999552965164, 1.6299999952316284, 1.0299999713897705]\n",
    "    glassSize = [0.019999999552965164/4, 1.6299999952316284, 1.0299999713897705]\n",
    "    glass = TEXTURE(glassTexture)(CUBOID(glassSize))\n",
    "    \n",
    "    windowGrid = SKEL_1(STRUCT([PROD([INTERVALS(1.62)(6), INTERVALS(1.01)(4)])]))\n",
    "    windowGrid = HEX(steelGreyHEX)(STRUCT([OFFSET([0.01,0.01, 0.01])(PROD([Q(0.01), windowGrid]))]))\n",
    "\n",
    "    window = STRUCT([RIGHT([RIGHT([windowStructure, RIGHT([glass, windowStructure])]), windowGrid])])\n",
    "    \n",
    "    if(lateral == 1):\n",
    "        window = R([1,2])(PI)(T(2)(-SIZE(2)(window))(window))\n",
    "        #print \"1 - left\"\n",
    "    elif(lateral == 2):\n",
    "        window = R([1,2])(PI/2)(T(2)(-SIZE(2)(window))(window))\n",
    "        #print \"2 - front\"\n",
    "    elif(lateral == 3):\n",
    "        window = T(2)(SIZE(1)(window))(R([1,2])(-PI/2)(window))\n",
    "        #print \"3 - back\"\n",
    "    \n",
    "    return window"
   ]
  },
  {
   "cell_type": "code",
   "execution_count": 61,
   "metadata": {
    "collapsed": true
   },
   "outputs": [],
   "source": [
    "myLowerWindow = lowerWindow()\n",
    "#print SIZE([1,2,3])(myLowerWindow)\n",
    "#VIEW(myLowerWindow)"
   ]
  },
  {
   "cell_type": "code",
   "execution_count": 62,
   "metadata": {
    "collapsed": true
   },
   "outputs": [],
   "source": [
    "def frontWindow():\n",
    "    \"\"\"\n",
    "    Functiones that creates the model for the frontal windows, those situated next to the main door \n",
    "    :return:  pyplasm.xgepy.Hpc\n",
    "    \"\"\"\n",
    " \n",
    "    windowStructure = SKEL_1(STRUCT([PROD([INTERVALS(1.5)(2), INTERVALS(2.5)(2)])]))\n",
    "    windowStructure = HEX(woodHEX)(STRUCT([OFFSET([0.01,0.03, 0.03])(PROD([Q(0.01), windowStructure]))]))\n",
    "\n",
    "    #SIZE([1,2,3])(windowStructure) = [0.019999999552965164, 1.5299999713897705, 2.5300002098083496]\n",
    "    glassSize = [0.019999999552965164/4, 1.5299999713897705, 2.5300002098083496]\n",
    "    glass = TEXTURE(glassTexture)(CUBOID(glassSize))\n",
    "    \n",
    "    windowGrid = SKEL_1(STRUCT([PROD([INTERVALS(1.5)(6), INTERVALS(2.5)(10)])]))\n",
    "    windowGrid = HEX(steelGreyHEX)(STRUCT([OFFSET([0.01,0.01, 0.01])(PROD([Q(0.01), windowGrid]))]))\n",
    "    \n",
    "    window = STRUCT([RIGHT([RIGHT([windowStructure, RIGHT([glass, windowStructure])]), windowGrid])])\n",
    "    window = R([1,2])(-PI/2)(window) #R([1,2])(-PI/2)(T(2)(SIZE(2)(window))(window))\n",
    "\n",
    "    return window"
   ]
  },
  {
   "cell_type": "markdown",
   "metadata": {},
   "source": [
    "### big green windows"
   ]
  },
  {
   "cell_type": "code",
   "execution_count": 63,
   "metadata": {
    "collapsed": true
   },
   "outputs": [],
   "source": [
    "def greenWindow(n,rot=1.0, lateral = 1, opened = 0):\n",
    "    \"\"\"\n",
    "    :param lateral : window orientation\n",
    "                    1 = right/left\n",
    "                    0 = back (decreasing y)/front (increasing y)\n",
    "    :return:  pyplasm.xgepy.Hpc\n",
    "    \"\"\"\n",
    "    \n",
    "    if(lateral not in [0, 1]):\n",
    "        raise ValueError('bad lateral argument: not in [0,1]')\n",
    "    \n",
    "    louverSize = [0.019999999552965164, 1.6299999952316284/2, n*1.0299999713897705]\n",
    "    \n",
    "    backStruct = HEX(\"#47633f\")(OFFSET([0.01,0.01])(SKEL_1(STRUCT([PROD([INTERVALS(louverSize[2]-0.02)(1),\n",
    "                                                                INTERVALS(louverSize[1]*2)(1)])]))))\n",
    "    \n",
    "    \n",
    "    louverL = TEXTURE([green, True,True, 0.0,0.0,0.0,1.0,1.0*rot,0.0,0.0])(CUBOID(louverSize))\n",
    "    louverR = TEXTURE([green, True,True, 0.0,0.0,0.0,1.0,1.0*rot,0.0,0.0])(CUBOID(louverSize))\n",
    "    \n",
    "    \n",
    "    \n",
    "    if(opened == 1):\n",
    "        louverL = T(2)(1.62999999523162842)(R([1,2])(PI/4)(louverL))\n",
    "        louverR = R([1,2])(PI*3/4)(louverR)\n",
    "        window = R([1,2])(PI)(STRUCT([louverL,louverR]))\n",
    "        window = T(2)(1.62999999523162842)(window)\n",
    "    \n",
    "    elif(opened == 0):\n",
    "        window = STRUCT([louverR, T(2)(louverSize[1])(louverL)])\n",
    "    \n",
    "    if(lateral == 0):\n",
    "        window = T(1)(1.6299999952316284)(R([1,2])(PI/2)(STRUCT([window, R([1,3])(PI/2)(backStruct)])))\n",
    "    \n",
    "    elif(lateral == 1):\n",
    "        window = STRUCT([window, R([1,3])(PI/2)(T(1)(louverSize[0])(backStruct))])\n",
    "    \n",
    "    return window"
   ]
  },
  {
   "cell_type": "markdown",
   "metadata": {},
   "source": [
    "## Outer Walls\n",
    "Or the walls of the villa, these will host the windows.\n",
    "Side walls are (95.9 - 58.9) long, this value is obtained from svg taken for the floor and villaBase.\n",
    "\n",
    "Let's remember window sizes: \n",
    "    [0.019999999552965164, 1.6299999952316284, 1.0299999713897705] = [thickness, width, height]  \n",
    "    with n = 4.5 for the big green windows and n = 1 for the smaller ones"
   ]
  },
  {
   "cell_type": "markdown",
   "metadata": {},
   "source": [
    "## Façade\n",
    "I will now use a support method to build a model for a façade given the geometric pattern representing it (e.g. window-no window-window ...)\n",
    "\n",
    "This method has been inspired from PLASM documentation (chapter 02)"
   ]
  },
  {
   "cell_type": "code",
   "execution_count": 64,
   "metadata": {
    "collapsed": true
   },
   "outputs": [],
   "source": [
    "def facade(rithms, thickness):\n",
    "    \"\"\"\n",
    "    :param rithms: array of values describing the rithm full/empty spaces\n",
    "    :param thickness: facade thickness\n",
    "    :return:  pyplasm.xgepy.Hpc \n",
    "    \"\"\"\n",
    "    if not rithms or thickness<=0:\n",
    "        print \"wrong args\"\n",
    "        return None\n",
    "    \n",
    "    xRithm, yRithm, xVoid, yVoid = rithms\n",
    "    \n",
    "    wall = STRUCT([\n",
    "    PROD([QUOTE(xRithm),QUOTE(yRithm)]),\n",
    "    PROD([QUOTE(xVoid),QUOTE(yRithm)]),\n",
    "    PROD([QUOTE(xRithm),QUOTE(yVoid)])\n",
    "    ])\n",
    "    return PROD([wall, Q(thickness)])"
   ]
  },
  {
   "cell_type": "code",
   "execution_count": 65,
   "metadata": {
    "collapsed": true
   },
   "outputs": [],
   "source": [
    "def getWindowsPlaceholder(rithm):\n",
    "    \"\"\"\n",
    "    eg. getWindowsPlaceholder([1,-1,1,-2,1,-2,1]) = [1,3,6]\n",
    "    \n",
    "    Given the wall rithm, this method returns reference points for \n",
    "    placing windows (args of T(D)(arg)(pol))\n",
    "        \n",
    "    :param rithm: array of values describing the rithm full/empty spaces \n",
    "    :return: array of float(s)\n",
    "    \n",
    "    \"\"\"\n",
    "    out = []\n",
    "    rithmABS = [abs(x) for x in rithm]\n",
    "\n",
    "    for i in range(len(rithm)):\n",
    "        if rithm[i] < 0:\n",
    "            out.append(sum(rithmABS[:i]))\n",
    "    return out"
   ]
  },
  {
   "cell_type": "code",
   "execution_count": 66,
   "metadata": {
    "collapsed": true
   },
   "outputs": [],
   "source": [
    "def sideFacade():\n",
    "    \"\"\"\n",
    "    builds the lateral part of the villa (27.9 m?)\n",
    "    :return:  pyplasm.xgepy.Hpc \n",
    "    \"\"\"\n",
    "    \n",
    "    sideWallsWidth = 27.9\n",
    "    windowSizes = [0.019999999552965164, 1.6299999952316284, 1.0299999713897705]\n",
    "\n",
    "    # QUOTE uses an array of integers: positive ones will be segments, negative ones spaces.\n",
    "    # fullWall<D> is a positive integer used in QUOTE to represent segments, or portions of the full wall\n",
    "    # (no windows)\n",
    "    fullX = sideWallsWidth - windowSizes[1]*3.\n",
    "    fullWallX = fullX/4. - windowSizes[1]/2\n",
    "    \n",
    "    # some datapoint are summed up with long values,\n",
    "    # this has the mere aim of reaching the proper width of the wall. See below prints\n",
    "    xRithm = [fullWallX, -windowSizes[1], fullWallX+1.3039999961999995, -windowSizes[1],\n",
    "              fullWallX+1.9559999942999995, -windowSizes[1], fullWallX]\n",
    "    \n",
    "    # just to be shure that if we sum up these elements, we get the actual width/height of the wall\n",
    "    print \"sideWallsWidth: {}\".format(sideWallsWidth)\n",
    "    print (\"sumFullWallX: {}\".format(sum([abs(n) for n in xRithm])))\n",
    "    \n",
    "    \n",
    "   \n",
    "    y =  windowSizes[2]   \n",
    "    yRithm = [0.4, -y*3., y*3, -y, 0.39000020027000026]\n",
    "    print (\"wall height: 8.0\")\n",
    "    print (\"sumFullWallY: {}\".format(sum([abs(n) for n in yRithm])))\n",
    "    \n",
    "    xVoid = [-xv for xv in xRithm]\n",
    "    yVoid = [-yv for yv in yRithm]\n",
    "    \n",
    "    ######\n",
    "    # Calculating windows location relatively to the origin\n",
    "    ######\n",
    "    xPlaceholders = getWindowsPlaceholder(xRithm)\n",
    "    yPlaceholders = getWindowsPlaceholder(yRithm)\n",
    "    \n",
    "    \n",
    "    _facade = R([2,3])(PI/2)(facade([xRithm, yRithm, xVoid, yVoid], 0.7))\n",
    "    _facade = R([1,2])(PI/2)(_facade)\n",
    "    \n",
    "    return _facade, [xPlaceholders, yPlaceholders]"
   ]
  },
  {
   "cell_type": "code",
   "execution_count": 67,
   "metadata": {},
   "outputs": [
    {
     "name": "stdout",
     "output_type": "stream",
     "text": [
      "sideWallsWidth: 27.9\n",
      "sumFullWallX: 27.9\n",
      "wall height: 8.0\n",
      "sumFullWallY: 8.0\n"
     ]
    }
   ],
   "source": [
    "myFacade,sidePlaceHdr = sideFacade()\n",
    "myFacade = HEX(travertineHEX)(myFacade)\n",
    "\n",
    "#VIEW(myFacade)"
   ]
  },
  {
   "cell_type": "code",
   "execution_count": 68,
   "metadata": {
    "collapsed": true
   },
   "outputs": [],
   "source": [
    "def sideWithWindows(facadeIn, left=1):\n",
    "    sideWindowsOrigins = [] \n",
    "    sideWinStructs = []\n",
    "\n",
    "    \"\"\"\n",
    "    Each sideWindowsOrigins element is an array of length 2:\n",
    "\n",
    "                [coord1,coord2]         [coord1,coord3]\n",
    "                    |                          |\n",
    "                    |                          |\n",
    "                    v                          v\n",
    "        [origin of the lower window, origin of the higher window]\n",
    "\n",
    "    eg. [[7.2125000059604663, 0.40000000000000002], [7.2125000059604663, 6.5799998283386234]]\n",
    "\n",
    "    \"\"\"\n",
    "    for el in sidePlaceHdr[0]:\n",
    "        sideWindowsOrigins.append([[el,sidePlaceHdr[1][0]],\n",
    "                                   [el,sidePlaceHdr[1][1]]])\n",
    "\n",
    "    \n",
    "    # bigGrWindow = ----->  greenWindow(n=3,lateral=0,opened=0)\n",
    "    # smallGrWindow = ----->  greenWindow(1,rot=PI)\n",
    "    if left==1:\n",
    "        _offX = 0.705\n",
    "    else:\n",
    "        _offX = -0.705\n",
    "    \n",
    "    for pt in sideWindowsOrigins:\n",
    "        pt[0].insert(0, _offX)\n",
    "        pt[1].insert(0, _offX)\n",
    "        sideWinStructs.append(T([1,2,3])(pt[0])(greenWindow(n=3,lateral=1,opened=0)))\n",
    "        sideWinStructs.append(T([1,2,3])(pt[1])(greenWindow(1,lateral=1,rot=PI)))\n",
    "\n",
    "    windowsSide = STRUCT(sideWinStructs)\n",
    "    return STRUCT([windowsSide, facadeIn])"
   ]
  },
  {
   "cell_type": "code",
   "execution_count": 69,
   "metadata": {
    "collapsed": true,
    "scrolled": true
   },
   "outputs": [],
   "source": [
    "windowedSideFacade = sideWithWindows(myFacade)\n",
    "#VIEW(windowedSideFacade)"
   ]
  },
  {
   "cell_type": "markdown",
   "metadata": {},
   "source": [
    "![side with windows](./images/side2Windows.png)"
   ]
  },
  {
   "cell_type": "markdown",
   "metadata": {},
   "source": [
    "## villa base and windows\n"
   ]
  },
  {
   "cell_type": "markdown",
   "metadata": {},
   "source": [
    "### Useful points\n",
    "I will use a dictionary of useful point that will come in handy when placing walls, windows etc."
   ]
  },
  {
   "cell_type": "code",
   "execution_count": 70,
   "metadata": {
    "collapsed": true
   },
   "outputs": [],
   "source": [
    "refPoints = {'leftBottom': [59.1, 85.8],\n",
    "             'rightBottom': [101.09, 85.8],\n",
    "             'leftTop': [59.,113.7],\n",
    "             'rightTop': [101.09,113.7],\n",
    "             'leftOuterWall': [59.3, 103.1],\n",
    "             'baseWinCoordLT':[[59.2, 107.13, 0.5], [59.2, 98.6, 0.5], [59.2, 90.7, 0.5]],\n",
    "             'baseWinCoordRT':[[101.2, 107.13, 0.5], [101.2, 98.6, 0.5], [101.2, 90.7, 0.5]],\n",
    "             'basementSpaceOrigin': [61.51, 87.7, 4.8],\n",
    "            }"
   ]
  },
  {
   "cell_type": "code",
   "execution_count": 71,
   "metadata": {
    "collapsed": true
   },
   "outputs": [],
   "source": [
    "basementVoid = CUBOID([37.3,23.700012207,2.8])\n",
    "\n",
    "myBasement = TEXTURE(basementStone)(DIFFERENCE([CUBOID(basementVolume), T([1,2,3])([.9,1.,2.])(basementVoid)]))"
   ]
  },
  {
   "cell_type": "code",
   "execution_count": 72,
   "metadata": {
    "collapsed": true,
    "scrolled": false
   },
   "outputs": [],
   "source": [
    "baseWinList = []\n",
    "subtracted1 =[]\n",
    "subtracted2 =[]\n",
    "lowerWindowSize = SIZE([1,2,3])(myLowerWindow)\n",
    "base2WinHoles = None\n",
    "\n",
    "\n",
    "for cLT in refPoints['baseWinCoordLT']:\n",
    "    _lowerWinLT = lowerWindow(1)\n",
    "    baseWinList.append(T([1,2,3])(cLT)(_lowerWinLT))\n",
    "    cLTX, cLTY, cLTZ = cLT\n",
    "    subtracted1.append(STRUCT([T([1,2,3])([cLTX-0.2, cLTY, cLTZ])(CUBOID([42.4, lowerWindowSize[1], lowerWindowSize[2]]))]))\n",
    "    \n",
    "for cRT in refPoints['baseWinCoordRT']:\n",
    "    _lowerWinRT = lowerWindow(0)\n",
    "    baseWinList.append(T([1,2,3])(cRT)(_lowerWinRT))\n",
    "    \n",
    "\n",
    "lowWinBack = [[94.46000000477001, 113.7, 0.5],\n",
    "               [87.25500000477001, 113.7, 0.5],\n",
    "               [82.025019071425, 113.7, 0.5],\n",
    "               [79.575019333645, 113.7, 0.5],\n",
    "               [77.125019595865, 113.7, 0.5],\n",
    "               [71.845019862855, 113.7, 0.5],\n",
    "               [64.64001986762499, 113.7, 0.5]\n",
    "              ]\n",
    "\n",
    "    \n",
    "for lwb in lowWinBack:\n",
    "    _lowerWinBack = lowerWindow(2)\n",
    "    baseWinList.append(T([1,2,3])(lwb)(_lowerWinBack))\n",
    "\n",
    "_lowerWinFront = lowerWindow(3)\n",
    "baseWinList.append(T([1,2,3])([94.46000000477001, 85.8, 0.5])(_lowerWinFront)) \n",
    "baseWinList.append(T([1,2,3])([64.64001986762499, 85.8, 0.5])(_lowerWinFront))\n",
    "\n",
    "base2WinHoles = villaBaseHoled # <==== initial model state\n",
    "\n",
    "for s in subtracted1:\n",
    "    base2WinHoles = DIFFERENCE([base2WinHoles, s])\n",
    "    \n",
    "lastHoles = base2WinHoles\n",
    "\n",
    "for s in subtracted2:\n",
    "    base2WinHoles = DIFFERENCE([lastHoles, s])\n",
    "    \n",
    "baseWHoles = HEX(travertineHEX)(lastHoles)\n",
    "\n",
    "\n",
    "\n",
    "###########################\n",
    "# placing the windows     #\n",
    "###########################\n",
    "windowedBase = [x for x in baseWinList]\n",
    "windowedBase.append(baseWHoles)\n",
    "windowedBase = STRUCT(windowedBase)"
   ]
  },
  {
   "cell_type": "markdown",
   "metadata": {},
   "source": [
    "![base windows](./images/windows2base.png)"
   ]
  },
  {
   "cell_type": "markdown",
   "metadata": {
    "collapsed": true
   },
   "source": [
    "# Assembling the definitive \"skeleton\" of the villa\n",
    "- external bases (those made of bricks)\n",
    "- base of the villa\n",
    "- basement\n",
    "- floor\n",
    "- walls"
   ]
  },
  {
   "cell_type": "code",
   "execution_count": 73,
   "metadata": {
    "collapsed": true
   },
   "outputs": [],
   "source": [
    "finalBase = STRUCT([groundBase, T(3)(SIZE(3)(groundBase))(windowedBase)])\n",
    "finalBaseBasement = STRUCT([finalBase, T([1,2])([60.60009765625, 86.69999694824219])(myBasement)])\n",
    "fullBasement = STRUCT([finalBaseBasement, T(3)(2.)(basementWalls)])\n",
    "finalSkeleton = STRUCT([T(3)(inWallsLevel)(inWallsFinal), fullBasement, basementStaircase, T([1,2,3])([0.2,0.2,floorLevel])(villaFloorHoled)])"
   ]
  },
  {
   "cell_type": "code",
   "execution_count": 74,
   "metadata": {
    "collapsed": true,
    "scrolled": true
   },
   "outputs": [],
   "source": [
    "#VIEW(finalSkeleton)\n"
   ]
  },
  {
   "cell_type": "markdown",
   "metadata": {},
   "source": [
    "## Building the back wall\n",
    "Here we have a more intricate, structure for the back wall. It is possible to look at this wall as a structure divided in three parts:\n",
    "- a central part, containing 3 big green windows close to one another\n",
    "- left part and right side are specular\n",
    "\n",
    "I made some assumption to give a proportion to each part (I could have measured pixels with inkScape but it feels excessive), given the width of 41.4 : \n",
    "- cental part = $\\frac{1}{4}\\cdot 41.4$ = 10.35\n",
    "- left/right parts (I will call this lrSpace, now on) = $\\frac{3}{8}\\cdot 41.4$ (each) = 15.524999999999999 (each)"
   ]
  },
  {
   "cell_type": "markdown",
   "metadata": {},
   "source": [
    "![back](./images/back.jpeg)"
   ]
  },
  {
   "cell_type": "markdown",
   "metadata": {},
   "source": [
    "### Note\n",
    "For sake of readability I split the creation of the back walls in more than one method, then I wrapped up all toghether. This will come in handy when building the front of the villa, as well."
   ]
  },
  {
   "cell_type": "code",
   "execution_count": 75,
   "metadata": {
    "collapsed": true
   },
   "outputs": [],
   "source": [
    "windowSizes = [0.019999999552965164, 1.6299999952316284, 1.0299999713897705]\n",
    "wx = windowSizes[1]\n",
    "wy =  windowSizes[2]"
   ]
  },
  {
   "cell_type": "code",
   "execution_count": 76,
   "metadata": {
    "collapsed": true
   },
   "outputs": [],
   "source": [
    "def backWallSide(x, y, left=1):\n",
    "    \"\"\"\n",
    "    backWallSide build one side of the wall, it will just be necessary to apply SPECULAR to it, to get the other side\n",
    "    :param x: horizontal measure of the basic small window\n",
    "    :param y: vertical measure of the basic small window\n",
    "    :return: pyplasm.xgepy.Hpc\n",
    "    \"\"\"\n",
    "    lrSpaceX = 15.525 #it will be automatically rounded to this value (no need to to use 15.5249...)\n",
    "    \n",
    "    \n",
    "    xRithm = [lrSpaceX/3.-0.175, -x, lrSpaceX/3.+0.4, -x, 1.6900000095000003]  \n",
    "    yRithm = [0.4, -y*3., y*3, -y, 0.39000020027000026]\n",
    "    xVoid = [-xv for xv in xRithm]\n",
    "    yVoid = [-yv for yv in yRithm]\n",
    "    \n",
    "    ## Calculating placeholders for windows (based on rithms as usual)\n",
    "    xPlaceholders = getWindowsPlaceholder(xRithm)\n",
    "    yPlaceholders = getWindowsPlaceholder(yRithm)\n",
    "    placeholders = [xPlaceholders, yPlaceholders]\n",
    "    \n",
    "    bwsFacade = R([2,3])(PI/2)(facade([xRithm, yRithm, xVoid, yVoid],0.7))\n",
    "    \n",
    "    if not(left):\n",
    "        bwsFacade = SPECULAR(1)(bwsFacade)\n",
    "        xPlaceholders = getWindowsPlaceholder(xRithm[::-1])\n",
    "        yPlaceholders = getWindowsPlaceholder(yRithm)\n",
    "        placeholders = [xPlaceholders, yPlaceholders]\n",
    "    \n",
    "    return bwsFacade, placeholders"
   ]
  },
  {
   "cell_type": "code",
   "execution_count": 77,
   "metadata": {
    "collapsed": true
   },
   "outputs": [],
   "source": [
    "def backWallCentral(x, y):\n",
    "    \"\"\"\n",
    "    Central part is more rticulate ad less symmetrical\n",
    "    I will make some more \"divide et impera\", dividing the central part again in three parts\n",
    "    \n",
    "    :param x: horizontal measure of the basic small window\n",
    "    :param y: vertical measure of the basic small window\n",
    "    :return: pyplasm.xgepy.Hpc\n",
    "    \"\"\"\n",
    "\n",
    "    #central part n°1\n",
    "    xRithmCentral_1 = [1.909980933345, -x, 0.8199997425499994]\n",
    "    yRithmCentral_1 = [0.4, -y*12./5, y*18./5, -y, 0.39000020027000026]\n",
    "    xVoidCentral_1 = [-xv for xv in xRithmCentral_1]\n",
    "    yVoidCentral_1 = [-xv for xv in yRithmCentral_1]\n",
    "    centralPt1 = facade([xRithmCentral_1, yRithmCentral_1, xVoidCentral_1, yVoidCentral_1],0.7)  \n",
    "\n",
    "    #central part n°2\n",
    "    yRithmPt2 = [0.01,-y*3, 4.9000000858307]\n",
    "    centralPt2 = STRUCT([PROD([PROD([Q(x), QUOTE(yRithmPt2)]), Q(0.7)])])\n",
    "    \n",
    "    #central part n°3\n",
    "    centralPt3 = SPECULAR(1)(centralPt1)\n",
    "    \n",
    "    # offset: used to tralsate centralPt2 next to centralPt1\n",
    "    offset = sum([abs(n) for n in xRithmCentral_1])\n",
    "    \n",
    "    centralPart = R([2,3])(PI/2)(STRUCT([centralPt1, T(1)(offset)(centralPt2),  T(1)(x + offset)(centralPt3)]))\n",
    "    \n",
    "    \n",
    "    #############################################\n",
    "    # no computing on rithms for window origins #\n",
    "    #############################################\n",
    "    \n",
    "    winOrigins = [[[1.909980933345, 0.4],\n",
    "                   [4.359980671125, 0.],\n",
    "                   [6.8099804089049988, 0.4]],\n",
    "                  [[1.909980933345, 6.57999982834],\n",
    "                   [6.8099804089049988, 6.57999982834]]\n",
    "                 ]\n",
    "    \n",
    "    \n",
    "    return centralPart,winOrigins"
   ]
  },
  {
   "cell_type": "markdown",
   "metadata": {},
   "source": [
    "# Adding windows to the back wall"
   ]
  },
  {
   "cell_type": "code",
   "execution_count": 78,
   "metadata": {
    "collapsed": true
   },
   "outputs": [],
   "source": [
    "def horizontalSidesWithWindows(facadeIn, placeHdr, back=1):\n",
    "    windowsOrigins = [] \n",
    "    winStructs = []\n",
    "    \n",
    "    #print \"backPlaceHdr:\\n\", backPlaceHdr\n",
    "    \n",
    "    if len(placeHdr[1])==1:\n",
    "        for el in placeHdr[0]:\n",
    "            windowsOrigins.append([[el,placeHdr[1][0]],\n",
    "                                   [el,placeHdr[1]]])\n",
    "    else:\n",
    "        for el in placeHdr[0]:\n",
    "            windowsOrigins.append([[el,placeHdr[1][0]],\n",
    "                                       [el,placeHdr[1][1]]])\n",
    "\n",
    "    ############################\n",
    "    \n",
    "    for pt in windowsOrigins:\n",
    "        pt[0].insert(1, 0)\n",
    "        pt[1].insert(1, 0)\n",
    "        winStructs.append(T([1,2,3])(pt[0])(greenWindow(n=3,lateral=0,opened=0)))\n",
    "        winStructs.append(T([1,2,3])(pt[1])(greenWindow(n=1,lateral = 0,rot=PI)))\n",
    "\n",
    "    windowsback = STRUCT(winStructs)\n",
    "    return STRUCT([windowsback, facadeIn])"
   ]
  },
  {
   "cell_type": "code",
   "execution_count": 79,
   "metadata": {
    "collapsed": true
   },
   "outputs": [],
   "source": [
    "def backCentreWithWindows(facadeIn, origins):\n",
    "    lowerOrigins, upperOrigins = origins\n",
    "    \n",
    "    #print \"origins:\\n\",origins\n",
    "    \"\"\"\n",
    "    :param facadeIn: input façade in which windows will be placed\n",
    "    :param upperOrigins: origin for the upper row of windows\n",
    "    :param lowerOrigins: origin for the lower row of windows\n",
    "    \"\"\"\n",
    "    backWinStructs = []\n",
    "    \n",
    "    bigger = greenWindow(n=3.,lateral=0,opened=1)\n",
    "    big = greenWindow(n=12./5.,lateral=0,opened=0)\n",
    "    little = greenWindow(1,lateral=0)\n",
    "    \n",
    "    \n",
    "    for lo in lowerOrigins:\n",
    "        lo.insert(1,0.0)\n",
    "        if (lo == [4.359980671125, 0.0, 0.0]):\n",
    "            backWinStructs.append(T([1,2,3])(lo)(bigger))\n",
    "            backWinStructs.append(T([1,2,3])([lo[0],lo[1]+0.1,lo[2]])(little))\n",
    "        else:\n",
    "            backWinStructs.append(T([1,2,3])(lo)(big))\n",
    "            \n",
    "    for uo in upperOrigins:\n",
    "        uo.insert(1,0.0)\n",
    "        backWinStructs.append(T([1,2,3])(uo)(little))\n",
    "    \n",
    "    windowsback = STRUCT(backWinStructs)\n",
    "    return STRUCT([windowsback, facadeIn])\n",
    "    "
   ]
  },
  {
   "cell_type": "markdown",
   "metadata": {},
   "source": [
    "# Assembling the backwall"
   ]
  },
  {
   "cell_type": "code",
   "execution_count": 80,
   "metadata": {
    "collapsed": true
   },
   "outputs": [],
   "source": [
    "def backWall(x,y):\n",
    "    bwLeft, bwLeftPlhdr = backWallSide(x, y)\n",
    "    bwCentre, bwCentralOrigins = backWallCentral(x, y) \n",
    "    \n",
    "    \n",
    "    bwLeftWindowd = horizontalSidesWithWindows(bwLeft, bwLeftPlhdr)\n",
    "    bwCentreWindowed = backCentreWithWindows(bwCentre, bwCentralOrigins)\n",
    "    \n",
    "    # 15.525, width of left (and right)\n",
    "    # 10.35, width of centre\n",
    "\n",
    "    ###################################\n",
    "    #     assembling the bacwall      #\n",
    "    #     with each sub part          #\n",
    "    ###################################\n",
    "    \n",
    "    _backWall = STRUCT([\n",
    "        bwLeftWindowd,\n",
    "        T(1)(15.525)(bwCentreWindowed),\n",
    "        T(1)(15.525 + 10.35)(SPECULAR(1)(bwLeftWindowd))\n",
    "    ])\n",
    "    \n",
    "    size = SIZE(2)(_backWall)\n",
    "    _backWall = T(1)(-41.4)(_backWall)\n",
    "    \n",
    "    return HEX(travertineHEX)(_backWall)\n"
   ]
  },
  {
   "cell_type": "markdown",
   "metadata": {},
   "source": [
    "# Front walls of the villa "
   ]
  },
  {
   "cell_type": "code",
   "execution_count": 81,
   "metadata": {
    "collapsed": true
   },
   "outputs": [],
   "source": [
    "def frontWithWindows(placeholders):\n",
    "    \n",
    "    #vert, hor = placeholders\n",
    "    \n",
    "    frontWindowsOrigins = [] \n",
    "    frontWinStructs = []\n",
    "\n",
    "    for el in placeholders[0]:\n",
    "        frontWindowsOrigins.append([[el, 86., placeholders[1][0]],\n",
    "                                   [el, 86., placeholders[1][1]]])\n",
    "\n",
    "    for pt in frontWindowsOrigins:\n",
    "        frontWinStructs.append(T([1,2,3])(pt[0])(greenWindow(n=3,lateral=0,opened=0)))\n",
    "        frontWinStructs.append(T([1,2,3])(pt[1])(greenWindow(1,lateral=0,rot=PI)))\n",
    "\n",
    "    print frontWindowsOrigins\n",
    "    \n",
    "    return STRUCT(frontWinStructs)"
   ]
  },
  {
   "cell_type": "code",
   "execution_count": 82,
   "metadata": {
    "collapsed": true
   },
   "outputs": [],
   "source": [
    "# Main door texture\n",
    "darkwood = './textures/darkWood.jpg'"
   ]
  },
  {
   "cell_type": "code",
   "execution_count": 83,
   "metadata": {
    "collapsed": true
   },
   "outputs": [],
   "source": [
    "def door(x,y,z, position):\n",
    "    ledge = STRUCT([OFFSET([0.1,0.1, 0.1])(PROD([Q(0.01),SKEL_1(PROD([INTERVALS(1.4)(1),INTERVALS(4.35)(1)]))]))])\n",
    "    ledge = HEX(\"#1B0300\")(T([1,2,3])([-0.1,0.05, 0.03])(ledge))\n",
    "    ledge = STRUCT([ledge, T([1,2,3])([-0.1,0.55, 1.6])(COLOR(BLACK)(CUBOID([0.2, 0.4,0.2])))])\n",
    "    \n",
    "    side = STRUCT([TEXTURE(darkwood)(CUBOID([x/2,y,z])), T([1,2])([1.6,0.])(R([1,2])(PI/2)(ledge))])\n",
    "\n",
    "    \n",
    "    return STRUCT([T([1,2])(position)(STRUCT([side, T(1)(x/2+0.03)(side)]))])"
   ]
  },
  {
   "cell_type": "code",
   "execution_count": 84,
   "metadata": {
    "collapsed": true
   },
   "outputs": [],
   "source": [
    "#mainDoor = door(3.2, 0.3, 4.5, [78.3, 92.85])"
   ]
  },
  {
   "cell_type": "code",
   "execution_count": 85,
   "metadata": {
    "collapsed": true
   },
   "outputs": [],
   "source": [
    "def frontWall(x,y):\n",
    "    \n",
    "    xRithmLt = [5.510018799524985, -x, 3.822481198090829]\n",
    "    yRithmLt = [0.4, -3.0899999141693115, 3.0899999141693115, -1.0299999713897705, 0.39000020027000026]\n",
    "    xVoidLt = [-el for el in xRithmLt]\n",
    "    yVoidLt = [-el for el in yRithmLt]\n",
    "    \n",
    "    xRithmRt = [4.559998474099999,-x,5.2500203254249875]\n",
    "    #yRithmRt = yRithmLt\n",
    "    xVoidRt = [-el for el in xRithmRt]\n",
    "    yVoidRt = [-el for el in xRithmRt]\n",
    "    \n",
    "    \n",
    "    leftFrSide = T([1,2])([59.1, 86.52])(R([2,3])(PI/2)(facade([xRithmLt, yRithmLt, xVoidLt, yVoidLt],.7)))\n",
    "    rightFrSide = T([1,2])([89.9, 86.52])(R([2,3])(PI/2)(facade([xRithmRt, yRithmLt, xVoidRt, yVoidLt],.7)))\n",
    "    \n",
    "    \n",
    "    ###################################\n",
    "    #           lateral window        #\n",
    "    ###################################\n",
    "    \n",
    "    xPlaceHdrLT = map(lambda el : el + 59.1, getWindowsPlaceholder(xRithmLt))\n",
    "    yPlaceHdrLT = getWindowsPlaceholder(yRithmLt)  \n",
    "    placeHoldersLT = [xPlaceHdrLT, yPlaceHdrLT]\n",
    "    \n",
    "    xPlaceHdrRT = map(lambda el : el + 89.9, getWindowsPlaceholder(xRithmRt))\n",
    "    yPlaceHdrRT = yPlaceHdrLT #getWindowsPlaceholder(yRithmRt)\n",
    "    placeHoldersRT = [xPlaceHdrRT, yPlaceHdrRT]\n",
    "    \n",
    "    left2Win = frontWithWindows(placeHoldersLT)\n",
    "    right2Win = frontWithWindows(placeHoldersRT)\n",
    "    \n",
    "    ###################################\n",
    "    #        central windows          #\n",
    "    #        doors                    #\n",
    "    ###################################\n",
    "    \n",
    "    mainDoor = door(3.2, 0.3, 4.5, [78.3, 92.85])\n",
    "    leftSmallerDoor = T([1,2])([69.7, 88.9])(TEXTURE(darkwood)(CUBOID([0.3,1.15,2.5])))\n",
    "    rightSmallerDoor = T([1,2])([89.9, 88.9])(TEXTURE(darkwood)(CUBOID([0.3,1.15,2.5])))\n",
    "    \n",
    "    frWindow = frontWindow()\n",
    "    windows = STRUCT([T([1,2,3])([72., 93., 2.])(frWindow), T([1,2,3])([86.5, 93., 2.])(frWindow)])\n",
    "    \n",
    "    return HEX(travertineHEX)(STRUCT([leftFrSide, left2Win,\n",
    "                                      rightFrSide, right2Win, mainDoor,\n",
    "                                      leftSmallerDoor, rightSmallerDoor,windows]))"
   ]
  },
  {
   "cell_type": "markdown",
   "metadata": {},
   "source": [
    "# Columns"
   ]
  },
  {
   "cell_type": "code",
   "execution_count": 86,
   "metadata": {
    "collapsed": true
   },
   "outputs": [],
   "source": [
    "def column(dm, h, h_base):\n",
    "    \"\"\"\n",
    "    Column (1.5, 7., 1.)\n",
    "    Note: Columna (1, 7, 1) will produe an equivalent result since those parameters will be casted to float (necessary, see below)\n",
    "    \n",
    "    :param dm: is the circumference diameter at the column basis;\n",
    "    :param h: is the column height;\n",
    "    :return: pyplasm.xgepy.Hpc\n",
    "    \"\"\"\n",
    "    dm = float(dm)\n",
    "    h = float(h)\n",
    "    h_base = float(h_base)\n",
    "    \n",
    "    volute = INTERVALS(2*PI)(32)\n",
    "    xVol = lambda p: cos(p[0])*0.3\n",
    "    yVol = lambda p: sin(p[0])*0.3\n",
    "\n",
    "    volute1 = JOIN(SWEEP([0.0,dm,0.0])(R([2,3])(PI/2)(MAP([xVol,yVol])(volute))))\n",
    "    volute2 = JOIN(SWEEP([0.0,dm,0.0])(R([2,3])(PI/2)(MAP([xVol,yVol])(volute))))\n",
    "    baseTop = COMP([T(3)(0.065), CUBOID])([dm +dm/4, dm, dm*1/6])\n",
    "    capital = STRUCT([volute1, baseTop, T(1)(dm+dm/5)(volute2),\n",
    "                      T([1, 2, 3])([dm*3./5, dm*6/12, -dm*0.39])(COMP([JOIN, TRUNCONE([dm*0.4, dm*1/2, dm*3/7])])(24))])\n",
    "    \n",
    "    cylinder = COMP([JOIN, TRUNCONE([dm/2, .8*dm/2, h])])(24)\n",
    "    roundBase = TOP([CYLINDER([dm/2.+0.15, 0.2])(32),CYLINDER([dm/2.+0.1, 0.1])(32)])\n",
    "    base = COMP([T([1, 2])([-0.62*dm, -0.5*dm]), CUBOID])([dm+0.5, dm*1.4, h_base])\n",
    "    \n",
    "    return TOP([TOP([TOP([base, roundBase]), cylinder]), capital])"
   ]
  },
  {
   "cell_type": "markdown",
   "metadata": {},
   "source": [
    "# Chimney/lateral structures"
   ]
  },
  {
   "cell_type": "code",
   "execution_count": 87,
   "metadata": {
    "collapsed": true
   },
   "outputs": [],
   "source": [
    "##############################\n",
    "#    Bigger structure(1)     #\n",
    "##############################\n",
    "\n",
    "sideStrBase = T([1,2,3])([57.8, 92.7, 2.])(CUBOID([1.4,4.,0.4]))\n",
    "\n",
    "v = [[58.,95.7,4.87],[58.,93.7,4.87],[59.12,93.7,4.87],[59.12,95.7,4.87]]\n",
    "c = [[1,2,3,4,1]]\n",
    "topFace1 = MKPOL([v, c, None])\n",
    "\n",
    "dom = T(1)(-PI/2)(INTERVALS(PI)(32))\n",
    "x = lambda p: cos(p[0])\n",
    "y = lambda p: sin(p[0])\n",
    "hat = JOIN(SWEEP([1.2,0.0,0.0])(R([1,3])(PI/2)(MAP([x,y])(dom))))\n",
    "\n",
    "chamber1big = T(2)(0.1)(OFFSET([0.05,0.01,0.01])(R([2,3])(PI/2)(PROD([SKEL_1(STRUCT([PROD([INTERVALS(0.9)(10),\n",
    "                                                                           INTERVALS(0.2)(1)])])), Q(0.1)]))))\n",
    "chamber2big = R([1,2])(PI/2)(OFFSET([0.05,0.01,0.02])(SCALE(3)(1.2)(R([2,3])(PI/2)(PROD([SKEL_1(STRUCT([PROD([INTERVALS(1.8)(20),\n",
    "                                                                           INTERVALS(0.2)(1)])])), Q(0.1)])))))\n",
    "chambers1 = STRUCT([chamber1big, T(2)(SIZE(2)(chamber2big)-0.11)(chamber1big),\n",
    "                chamber2big, T(1)(SIZE(1)(chamber1big))(chamber2big)\n",
    "               ])\n",
    "\n",
    "sideStruct1 = JOIN([topFace1, sideStrBase])\n",
    "sideStruct1 = HEX(travertineHEX)(TOP([TOP([STRUCT([sideStruct1, SWEEP([0,0,9.5])(topFace1)]), chambers1]), hat]))\n",
    "\n",
    "\n",
    "##############################\n",
    "#     Smaller structure(1)   #\n",
    "##############################\n",
    "\n",
    "\n",
    "sideStrBase2 = T([1,2])([57.8, 102.7])(CUBOID([1.4,2.7,2.1]))\n",
    "v2 = [[58.,104.3,3.],[58.,103.3,3.],[59.12,103.3,3.],[59.12,104.3,3.]]\n",
    "c2 = [[1,2,3,4,1]]\n",
    "topFace2 = MKPOL([v2, c2, None])\n",
    "\n",
    "chamber1small = T(2)(0.1)(OFFSET([0.05,0.01,0.01])(R([2,3])(PI/2)(PROD([SKEL_1(STRUCT([PROD([INTERVALS(0.9)(10),\n",
    "                                                                           INTERVALS(0.2)(1)])])), Q(0.1)]))))\n",
    "chamber2small = R([1,2])(PI/2)(OFFSET([0.05,0.01,0.02])(SCALE(3)(1.3)(R([2,3])(PI/2)(PROD([SKEL_1(STRUCT([PROD([INTERVALS(0.9)(10),\n",
    "                                                                           INTERVALS(0.2)(1)])])), Q(0.1)])))))\n",
    "\n",
    "x2 = lambda p: cos(p[0])*0.5\n",
    "y2 = lambda p: sin(p[0])*0.5\n",
    "hat2 = JOIN(SWEEP([1.,0.0,0.0])(R([1,3])(PI/2)(MAP([x2,y2])(dom))))\n",
    "\n",
    "chambers2 = STRUCT([chamber1small, T(2)(SIZE(2)(chamber2small)-0.11)(chamber1small),\n",
    "                chamber2small, T(1)(SIZE(1)(chamber1small))(chamber2small)\n",
    "               ])\n",
    "\n",
    "sideStruct2 = JOIN([topFace2, sideStrBase2])\n",
    "sideStruct2 = HEX(travertineHEX)(STRUCT([sideStruct2, TOP([TOP([SWEEP([0,0,11.3])(topFace2), chambers2]), hat2])]))"
   ]
  },
  {
   "cell_type": "markdown",
   "metadata": {},
   "source": [
    "# Pediment"
   ]
  },
  {
   "cell_type": "code",
   "execution_count": 88,
   "metadata": {
    "collapsed": true
   },
   "outputs": [],
   "source": [
    "def pediment(hexCol, txt):\n",
    "    Vpediment = [[68., 84.0, 13.35], [91.95, 84.0, 13.35], [79.975, 84.0, 18.8]]\n",
    "    EVpediment = [[1,2,3,1]]\n",
    "    pedimentMain = HEX(hexCol)(SWEEP([0.,1.9,0.2])(MKPOL([Vpediment, EVpediment, None])))\n",
    "    pedimentFrameOut = T([2,3])([-0.3, -0.2])(TEXTURE(txt)(SWEEP([0.,2.1,0])(OFFSET([0.2, 0.2, 0.7])(STRUCT( AA(POLYLINE)([\n",
    "        [Vpediment[0],Vpediment[1]], [Vpediment[1],Vpediment[2]], [Vpediment[2],Vpediment[0]]\n",
    "    ]))))))\n",
    "    \n",
    "    pedimentFrameIn = T(2)(-0.6)(HEX(hexCol)(SWEEP([0.,2.1,0])(OFFSET([0.2, 0.2, 0.5])(STRUCT( AA(POLYLINE)([\n",
    "        [Vpediment[0],Vpediment[1]], [Vpediment[1],Vpediment[2]], [Vpediment[2],Vpediment[0]]\n",
    "    ]))))))\n",
    "    \n",
    "    return STRUCT([pedimentMain, pedimentFrameIn, pedimentFrameOut])\n"
   ]
  },
  {
   "cell_type": "code",
   "execution_count": 89,
   "metadata": {
    "collapsed": true
   },
   "outputs": [],
   "source": [
    "def pediment2(hexCol, txt):\n",
    "    Vpediment = [[68., 84.0, 13.65], [91.95, 84.0, 13.65], [79.87, 84.0, 19.1]]\n",
    "    EVpediment = [[1,2,3,1]]\n",
    "    pedimentMain = HEX(hexCol)(SWEEP([0.,1.9,0.2])(MKPOL([Vpediment, EVpediment, None])))\n",
    "    pedimentFrameOut = T(2)(-0.5)(TEXTURE(txt)(SWEEP([0.,2.2,0])(OFFSET([0.2, 0.2, 0.2])((SKEL_1(STRUCT( AA(POLYLINE)([\n",
    "        [Vpediment[1],Vpediment[2]], [Vpediment[2],Vpediment[0]]\n",
    "    ]))))))))\n",
    "\n",
    "    pedimentFrameIn = HEX(hexCol)(T(2)(-0.4)(SWEEP([0.,2.1,0])(OFFSET([0.2, 0.2, -0.3])(STRUCT( AA(POLYLINE)([\n",
    "        [Vpediment[0],Vpediment[1]], [Vpediment[1],Vpediment[2]], [Vpediment[2],Vpediment[0]]\n",
    "    ]))))))\n",
    "    \n",
    "    return STRUCT([pedimentMain, pedimentFrameIn, pedimentFrameOut])\n",
    "\n"
   ]
  },
  {
   "cell_type": "markdown",
   "metadata": {},
   "source": [
    "# Roof"
   ]
  },
  {
   "cell_type": "code",
   "execution_count": 90,
   "metadata": {
    "collapsed": true
   },
   "outputs": [],
   "source": [
    "def roof(thickness, colorHEX = travertineHEX, n=0 , hasBeams = 0):\n",
    "    \n",
    "    #[refPoints['leftBottom'], refPoints['rightBottom'], refPoints['rightTop'], refPoints['leftTop']]\n",
    "    roofVerts = [[58.9, 85.7], [101.5, 85.7], [101.5, 113.8], [58.9, 113.8]]\n",
    "    if(n > 0):\n",
    "        roofVerts = [[58.9 - n*0.1, 85.7- n*0.1], [101.5 + n*0.1, 85.7- n*0.1],\n",
    "                     [101.5 + n*0.1, 113.8+ n*0.1], [58.9- n*0.1, 113.8+ n*0.1]]\n",
    "    roofCells = [[1,2,3,4,1]]\n",
    "    _roof = HEX(colorHEX)(STRUCT([PROD([MKPOL([roofVerts, roofCells, None]), Q(thickness)])]))\n",
    "    \n",
    "    if(hasBeams):\n",
    "        #T([1,2,3])([58.900001525878906, 85.69999694824219, -thickness]\n",
    "        _roof = STRUCT([TOP([(TEXTURE(darkwood)(T([1,2])([58.900001525878906, 85.69999694824219])(PROD([OFFSET([0.9,0.9])(SKEL_1(STRUCT([\n",
    "            PROD([INTERVALS(40.5)(30), INTERVALS(26.)(5)])]))), Q(thickness)])))),\n",
    "                       _roof\n",
    "                       ])])\n",
    "            \n",
    "    return _roof"
   ]
  },
  {
   "cell_type": "code",
   "execution_count": 91,
   "metadata": {
    "collapsed": true,
    "scrolled": true
   },
   "outputs": [],
   "source": [
    "#[[68., 84.0, 13.35], [91.95, 84.0, 13.35], [79.975, 84.0, 18.8]]\n",
    "\n",
    "def top(texture, myHex):\n",
    "    #[refPoints['leftBottom'], refPoints['rightBottom'], refPoints['rightTop'], refPoints['leftTop'], ...]\n",
    "    VTop = [[57., 85.5, 0], [103.4, 85.5, 0], [103.4, 114.0, 0], [57., 114.0, 0], \n",
    "                [71., 99.75, 6.], [90., 99.75, 6.],\n",
    "           ]\n",
    "    EVTop = [[1,5,4,1], [1,2,6,5,1], [2,3,6,2], [3,4,5,6,3]]\n",
    "    _top = JOIN(MKPOL([VTop, EVTop, [[1,2,3,4]]]))\n",
    "    \n",
    "\n",
    "    #Vpediment = [[68., 84.0, 0.], [91.95, 84.0, 0.], [79.975, 84.0, 5.45]]\n",
    "    #EVpediment = [[1,2,3,1]]\n",
    "    #ped = SWEEP([0.,15.75,0.])(MKPOL([Vpediment, EVpediment, None]))\n",
    "    ped = MKPOL([[[79.9749984741211, 85.0, 5.449999809265137],\n",
    "                  [68.0, 85.0, 2.384185791015625e-07],\n",
    "                  [91.94999694824219, 85.0, 2.384185791015625e-07],\n",
    "                  [68.0, 99.75, 2.384185791015625e-07],\n",
    "                  [79.9749984741211, 99.75, 5.449999809265137],\n",
    "                  [91.94999694824219, 99.75, 2.384185791015625e-07]],\n",
    "                  [[1, 2, 3, 4, 5, 6]],\n",
    "                  [[1]]])\n",
    "    \n",
    "    Vskylight = [[65.0, 99.0, 1.649999976158142], [65.0, 101.0, 1.649999976158142], [65.0, 101.0, 3.6500000953674316], [65.0, 100., 4.1] , [65.0, 99.0, 3.6500000953674316]]\n",
    "    EVskylight = [[1,2,3,4,5,1]]\n",
    "    skylight = TEXTURE(myHex)(SWEEP([3.,0,0])(MKPOL([Vskylight, EVskylight, None])))\n",
    "    \n",
    "    \n",
    "    topSky = pyData.topSky\n",
    "    topSky = TEXTURE(texture)(MKPOL(topSky))\n",
    "    \n",
    "    return STRUCT([TEXTURE(texture)(_top), TEXTURE(texture)(ped), skylight, topSky])\n",
    "\n",
    "#VIEW(top(orangeBricks, travertineHEX))"
   ]
  },
  {
   "cell_type": "markdown",
   "metadata": {},
   "source": [
    "![roof](./images/roof.png)"
   ]
  },
  {
   "cell_type": "code",
   "execution_count": 92,
   "metadata": {},
   "outputs": [
    {
     "name": "stdout",
     "output_type": "stream",
     "text": [
      "[[[64.610018799524994, 86.0, 0.40000000000000002], [64.610018799524994, 86.0, 6.5799998283386234]]]\n",
      "[[[94.459998474100004, 86.0, 0.40000000000000002], [94.459998474100004, 86.0, 6.5799998283386234]]]\n"
     ]
    }
   ],
   "source": [
    "#VIEW(roof(0.4, travertineHEX, hasBeams=1))\n",
    "#roof(0.4, hasBeams=1)\n",
    "\n",
    "# finalSkeleton!\n",
    "\n",
    "myBackWall = backWall(wx,wy)\n",
    "myFrontWall = frontWall(wx, wy)\n",
    "\n",
    "\n",
    "bwallX,bwallY = refPoints['rightTop']\n",
    "cols =   HEX(\"#c4c0b2\")(STRUCT([\n",
    "                T([1,2,3])([69.45, 84.94, inWallsLevel])(column(1.3,5.6,0.2)),\n",
    "                T([1,2,3])([73.45, 84.94, inWallsLevel])(column(1.3,5.6,0.2)),\n",
    "                T([1,2,3])([77.45, 84.94, inWallsLevel])(column(1.3,5.6,0.2)),\n",
    "                T([1,2,3])([82.41, 84.94, inWallsLevel])(column(1.3,5.6,0.2)),\n",
    "                T([1,2,3])([86.41, 84.94, inWallsLevel])(column(1.3,5.6,0.2)),\n",
    "                T([1,2,3])([90.41, 84.94, inWallsLevel])(column(1.3,5.6,0.2))\n",
    "            ]))\n",
    "\n",
    "#print myFrontWall"
   ]
  },
  {
   "cell_type": "code",
   "execution_count": 93,
   "metadata": {},
   "outputs": [
    {
     "data": {
      "text/plain": [
       "92.2"
      ]
     },
     "execution_count": 93,
     "metadata": {},
     "output_type": "execute_result"
    }
   ],
   "source": [
    "90.4 + 1.8"
   ]
  },
  {
   "cell_type": "code",
   "execution_count": 96,
   "metadata": {
    "collapsed": true
   },
   "outputs": [],
   "source": [
    "def smallColumn(diameter, h):\n",
    "    \"\"\"\n",
    "    smallColumn(0.3, 0.8)\n",
    "\n",
    "    :param dm: is the circumference diameter at the column basis;\n",
    "    :param h: is the column height;\n",
    "    :return: pyplasm.xgepy.Hpc\n",
    "    \"\"\"\n",
    "    diameter = float(diameter)\n",
    "    h = float(h)\n",
    "    \n",
    "    smalColBase = COMP([JOIN, TRUNCONE([diameter/2., .5*diameter/2, h*0.4/7])])(30)\n",
    "    cylin = JOIN([COMP([JOIN, TRUNCONE([.5*diameter/2, .8*diameter/5, h*4.5/7])])(30), T(3)(h*0.165)(SPHERE(h*0.165)([30,30]))])\n",
    "    topCylin = TOP([COMP([JOIN, TRUNCONE([.8*diameter/5, .9*diameter/4, h*0.4/7.])])(30), \n",
    "                    COMP([JOIN, TRUNCONE([.9*diameter/4, diameter/2., diameter*1.6/7.])])(30)])\n",
    "    smallCol =  TOP([smalColBase, TOP([cylin, topCylin])])\n",
    "    \n",
    "    return smallCol"
   ]
  },
  {
   "cell_type": "code",
   "execution_count": 97,
   "metadata": {
    "collapsed": true
   },
   "outputs": [],
   "source": [
    "def balustradeDiagonal(nSteps, stepHeight = 0.255, stepLength = 0.3, side = \"R\"):\n",
    "    \"\"\"\n",
    "    the stairs(numSt, stepSize) function is used, it creates a\n",
    "    decreasing staircase: highest step starts at [0,0,stepHeight*nSteps]\n",
    "    \n",
    "    \"\"\"\n",
    "    stair = T(3)(0.255)(stairs(nSteps, [0.5, stepLength, stepHeight]))\n",
    "    \n",
    "    topStringLine = POLYLINE([[0.0, 0.0, stepHeight*nSteps],[0.0, SIZE(2)(stair), 0.]])\n",
    "    topString1 = COMP([SWEEP([0.56,0.,0.]), SWEEP([0.,0.,0.13])])(topStringLine)\n",
    "    topString2 = COMP([SWEEP([0.54,0.,0.]), SWEEP([0.,0.,0.05])])(topStringLine)\n",
    "    topString3 = COMP([SWEEP([0.52,0.,0.]), SWEEP([0.,0.,0.05])])(topStringLine)\n",
    "    \n",
    "    off = [-0.06, -0.04, -0.02]\n",
    "    if side is \"L\":\n",
    "        off = [0.]*3\n",
    "    \n",
    "    topString = STRUCT([T(1)(off[0])(topString1), T([1,3])([off[1], 0.13])(topString2), T([1,3])([off[2], 0.18])(topString3)])\n",
    "    \n",
    "    stairSize = SIZE([1,2,3])(stair)\n",
    "    base = CUBOID([stairSize[0], stairSize[1], stepHeight])\n",
    "    \n",
    "    \n",
    "    \n",
    "    ################\n",
    "    #   Columns    #\n",
    "    ################\n",
    "    \n",
    "    col = T([1,2,3])([0.25, stepLength*1.05/2., stepHeight*(nSteps+1)])(smallColumn(0.225, 1.))\n",
    "    \n",
    "    VupperOffset = [[0.0, 0.0, 0.0], [0.0, 0.0, stepHeight], [0.0, stepLength, 0.0]]\n",
    "    EVupperOffset = [[3,2,1,3]]\n",
    "    upperOffset = SWEEP([0.5, 0.0, 0.0])(MKPOL([VupperOffset, EVupperOffset, None]))\n",
    "    _column = TOP([col, upperOffset])\n",
    "    \n",
    "    columns = STRUCT(NN(nSteps)([_column, T([2,3])([stepLength, -stepHeight])]))\n",
    "    \n",
    "    topCols = T(3)(1. + stepHeight + 0.06)(COMP([SWEEP([0.5,0.,0.]), SWEEP([0.,0.,0.02])])(topStringLine))\n",
    "    \n",
    "    return STRUCT([topString, stair, base, columns, topCols])\n"
   ]
  },
  {
   "cell_type": "code",
   "execution_count": 98,
   "metadata": {
    "collapsed": true
   },
   "outputs": [],
   "source": [
    "def balustradeFlat(nCols, space):\n",
    "    \"\"\"\n",
    "    balustradeFlat(5,2.5)\n",
    "    \n",
    "    :param nCols: number of columns of the balustrade.\n",
    "    :param space: space to be filled with the balustrade. It determines \n",
    "    :return: pyplasm.xgepy.Hpc \n",
    "    \"\"\"\n",
    "    col = smallColumn(0.3, 1.)\n",
    "    top1 = CUBOID([0.35*nCols, 0.3, 0.06])\n",
    "    top2 = CUBOID([0.35*nCols, 0.4, 0.06])\n",
    "    top3 = CUBOID([0.35*nCols, 0.5, 0.13])\n",
    "    \n",
    "    top = TOP([TOP([top1, top2]), top3])\n",
    "    bottom = TOP([TOP([top3,top2]), top1])\n",
    "    columns = STRUCT( NN(nCols)([col, T(1)(0.34)]))\n",
    "    \n",
    "    if(space < 0):\n",
    "        print \"not enough space!\"\n",
    "        return None\n",
    "    \n",
    "    if(space == 0):\n",
    "        space2fill = 0.5\n",
    "    \n",
    "    else:\n",
    "        space2fill = (space-0.35*nCols)/2.\n",
    "        \n",
    "    cube = CUBOID([space2fill, 0.5, SIZE(3)(col) + SIZE(3)(top)*2.])\n",
    "    \n",
    "    return T(1)(0.35)(RIGHT([LEFT([TOP([TOP([bottom, columns]), top]), cube]), cube ]))"
   ]
  },
  {
   "cell_type": "code",
   "execution_count": 215,
   "metadata": {},
   "outputs": [
    {
     "name": "stdout",
     "output_type": "stream",
     "text": [
      "Child 3\n",
      "Child 3\n"
     ]
    }
   ],
   "source": [
    "villa = STRUCT([\n",
    "            finalSkeleton,\n",
    "            T(3)(inWallsLevel)(HEX(travertineHEX)(myFrontWall)),\n",
    "            T([1,2,3])([refPoints['leftBottom'][0]-0.1, refPoints['leftBottom'][1], inWallsLevel])(SPECULAR(1)(HEX(travertineHEX)(windowedSideFacade))),\n",
    "            T([1,2,3])([refPoints['rightBottom'][0]-0.48, refPoints['rightBottom'][1], inWallsLevel])(HEX(travertineHEX)(windowedSideFacade)),\n",
    "            T([1,2,3])([bwallX, bwallY, inWallsLevel])(HEX(travertineHEX)(myBackWall)),\n",
    "            T(3)(2.)(HEX(travertineHEX)(sideStruct1)),\n",
    "            T([1,3])([43.4,2.])(HEX(travertineHEX)(sideStruct1)),\n",
    "            T(3)(2.8)(HEX(travertineHEX)(sideStruct2)),\n",
    "            cols,\n",
    "            T([1,2,3])([68.6, 84.3, inWallsLevel])(HEX(\"#c4c0b2\")(CUBOID([22.8,1.7,0.03]))),\n",
    "            T([1,2,3])([69.12, 84.4, 2.8])(R([1,2])(PI)(HEX(travertineHEX)(balustradeDiagonal(10,stepHeight=0.21, stepLength=0.3,side=\"L\")))),\n",
    "            T([1,2,3])([91.38, 84.4, 2.8])(R([1,2])(PI)(HEX(travertineHEX)(balustradeDiagonal(10,stepHeight=0.21, stepLength=0.3,side=\"R\")))),\n",
    "            T([1,2,3])([68.6, 84.1, 11.707003116607666])(HEX(travertineHEX)(CUBOID([23.25,1.8,0.6]))),\n",
    "            T([1,2,3])([68.5, 84., 12.3])(HEX(\"#c4c0b2\")(CUBOID([23.45,1.9,0.2]))),\n",
    "            T([1,2,3])([68.6, 84.1, 12.5])(HEX(\"#cecabc\")(CUBOID([23.25,1.9,0.4]))),\n",
    "            T([1,2,3])([68.5, 84., 12.9])(HEX(travertineHEX)(CUBOID([23.45,1.9,0.75]))),\n",
    "            T([1,2,3])([0.6,0.61,12.4])(HEX(travertineHEX)(roof(0.4, hasBeams=1))),\n",
    "            T(3)(13.255001449584961)(HEX(travertineHEX)(roof(0.4, n=1.3))),\n",
    "            pediment2(travertineHEX, orangeBricks),\n",
    "            T(3)(13.65)(top(orangeBricks, travertineHEX)),\n",
    "            HEX(\"#c4c0b2\")(T([1,2,3])([91.4, 84.4, 2.8])(R([1,2])(PI)(stairs(10, [22.8, 0.3, 0.21]))))\n",
    "            ])\n"
   ]
  },
  {
   "cell_type": "code",
   "execution_count": 216,
   "metadata": {},
   "outputs": [
    {
     "data": {
      "text/plain": [
       "<pyplasm.xgepy.Hpc; proxy of <Swig Object of type 'std::shared_ptr< Hpc > *' at 0x1824dc84e0> >"
      ]
     },
     "execution_count": 216,
     "metadata": {},
     "output_type": "execute_result"
    }
   ],
   "source": [
    "#VIEW(villa)"
   ]
  },
  {
   "cell_type": "code",
   "execution_count": 99,
   "metadata": {
    "collapsed": true,
    "scrolled": true
   },
   "outputs": [],
   "source": [
    "#VIEW(R([1,2])(PI)(balustradeDiagonal(4,stepHeight=0.257, stepLength=0.3)))\n",
    "#VIEW(R([1,2])(PI)(balustradeDiagonal(4,stepHeight=0.257, stepLength=0.3, side=\"L\")))"
   ]
  },
  {
   "cell_type": "markdown",
   "metadata": {},
   "source": [
    "# Assempling the staircase"
   ]
  },
  {
   "cell_type": "code",
   "execution_count": 167,
   "metadata": {},
   "outputs": [
    {
     "name": "stdout",
     "output_type": "stream",
     "text": [
      "Child 3\n"
     ]
    },
    {
     "data": {
      "text/plain": [
       "9.050000190734863"
      ]
     },
     "execution_count": 167,
     "metadata": {},
     "output_type": "execute_result"
    }
   ],
   "source": [
    "#SIZE(1)(balustradeFlat(23,  0)) #8.34999942779541    23-> 9.050000190734863"
   ]
  },
  {
   "cell_type": "code",
   "execution_count": 243,
   "metadata": {},
   "outputs": [
    {
     "name": "stdout",
     "output_type": "stream",
     "text": [
      "Child 3\n",
      "Child 3\n",
      "Child 3\n",
      "Child 3\n",
      "Child 3\n",
      "Child 3\n",
      "Child 3\n",
      "Child 3\n",
      "Child 3\n",
      "Child 3\n",
      "Child 3\n",
      "Child 3\n",
      "Child 3\n",
      "Child 3\n"
     ]
    }
   ],
   "source": [
    "ca = CUBOID([0.56, 2.62, 0.13])\n",
    "cb = CUBOID([0.54, 2.62, 0.05])\n",
    "cc = CUBOID([0.52, 2.62, 0.04])\n",
    "bottomStringL = STRUCT([T(1)(-0.06)(ca), T([1,3])([-0.04,0.13])(cb), T([1,3])([-0.02,0.18])(cc)]) #R([1,2])(PI/2)(\n",
    "bottomStringR = STRUCT([ca, T(3)(0.13)(cb), T(3)(0.18)(cc)])\n",
    "\n",
    "#####################################\n",
    "#    main staircase to the villa    #\n",
    "#####################################\n",
    "\n",
    "mainStaircase = HEX(travertineHEX)(STRUCT([\n",
    "    T([1,2,3])([91.62, 72.49, 1.55])(R([1,2])(PI)(stairs(5, [23.4, 0.3, 0.257]))),\n",
    "    T([1,2])([68.22, 70.99])(CUBOID([23.4, 0.3*5, 1.55])),\n",
    "    T([1,2])([91.62, 68.4])(R([1,2])(PI)(stairs(6, [23.4, 0.3, 0.257]))),\n",
    "    T([1,2])([68.75, 68.4])(R([1,2])(PI)(balustradeDiagonal(6,stepHeight=0.257, stepLength=0.3, side=\"L\"))),\n",
    "    T([1,2])([91.625, 68.4])(R([1,2])(PI)(balustradeDiagonal(6,stepHeight=0.257, stepLength=0.3))),\n",
    "    T([1,2,3])([68.75, 72.2, 1.55])(R([1,2])(PI)(balustradeDiagonal(4,stepHeight=0.257, stepLength=0.3, side=\"L\"))),\n",
    "    T([1,2,3])([91.625, 72.2, 1.55])(R([1,2])(PI)(balustradeDiagonal(4,stepHeight=0.257, stepLength=0.3))),\n",
    "    T([1,2,3])([68.75, 68.472, 1.55])(R([1,2])(PI/2)(balustradeFlat(5, 2.585))),\n",
    "    T([1,2,3])([91.62, 68.472, 1.55])(R([1,2])(PI/2)(balustradeFlat(5, 2.585))),\n",
    "    T([1,2,3])([68.254, 68.392, 1.55])(bottomStringL),\n",
    "    T([1,2,3])([91.12, 68.392, 1.55])(bottomStringR),\n",
    "    \n",
    "]))\n",
    "\n",
    "mainStaircaseFinal =  STRUCT([\n",
    "            HEX(travertineHEX)(TOP([T([1,2])([68.22, 68.4])(CUBOID([23.4, 2.649, 1.545])),\n",
    "            TEXTURE(orangeBricks)(PROD([PROJECT(1)(CUBOID([22.9 , 2.649, 1.445])), Q(0.05)]))])),\n",
    "            mainStaircase\n",
    "    ])\n",
    "\n",
    "#####################\n",
    "#   balustrades     #\n",
    "#####################\n",
    "\n",
    "balustrades = HEX(travertineHEX)(STRUCT([\n",
    "    T([1,2,3])([94.3, 75.86 ,2.8])(balustradeFlat(5, 0)),\n",
    "    T([1,2,3])([63.1, 75.855 ,2.8])(balustradeFlat(5,  0)),\n",
    "    T([1,2,3])([65.35, 76.2 ,2.8])(R([1,2])(-PI/2)(balustradeFlat(9,  0))),\n",
    "    T([1,2,3])([93.9, 76.2 ,2.8])(R([1,2])(-PI/2)(balustradeFlat(9,  0))),\n",
    "    T([1,2,3])([65.8, 72.2 ,2.8])(balustradeFlat(6, 0)),\n",
    "    T([1,2,3])([91.25, 72.2 ,2.8])(balustradeFlat(6,  0)),\n",
    "    T([1,2,3])([97., 81.1 ,2.8])(balustradeFlat(16,  0)),\n",
    "    T([1,2,3])([56.55, 81.1 ,2.8])(balustradeFlat(16,  0)), \n",
    "]))\n",
    "\n",
    "lateralStaircases = STRUCT([\n",
    "    T([1,2])([63.05, 76.35])(R([1,2])(PI/2)(stairs(13, [4.8, 0.5, 0.215]))),\n",
    "])\n",
    "\n",
    "balustradeBase = HEX(\"#c4c0b2\")(T([1,2,3])([0.02,-0.02,2.6])(PROD([PROJECT(1)(balustrades), Q(0.2)])))"
   ]
  },
  {
   "cell_type": "code",
   "execution_count": 224,
   "metadata": {},
   "outputs": [
    {
     "data": {
      "text/plain": [
       "'\\nprint 5.1 - 1.2300000190734863\\nprint 75.9 + 1.2300000190734863\\n\\nT([1,2])([54., 77.13])(CUBOID([9,3.87,2]))\\n'"
      ]
     },
     "execution_count": 224,
     "metadata": {},
     "output_type": "execute_result"
    }
   ],
   "source": [
    "\"\"\"\n",
    "print 5.1 - 1.2300000190734863\n",
    "print 75.9 + 1.2300000190734863\n",
    "\n",
    "T([1,2])([54., 77.13])(CUBOID([9,3.87,2]))\n",
    "\"\"\""
   ]
  },
  {
   "cell_type": "code",
   "execution_count": 257,
   "metadata": {
    "scrolled": true
   },
   "outputs": [
    {
     "data": {
      "text/plain": [
       "<pyplasm.xgepy.Hpc; proxy of <Swig Object of type 'std::shared_ptr< Hpc > *' at 0x1824dd52a0> >"
      ]
     },
     "execution_count": 257,
     "metadata": {},
     "output_type": "execute_result"
    }
   ],
   "source": [
    "VIEW(STRUCT([mainStaircaseFinal, balustrades, balustradeBase, villa, T([1,2])([93.05, 76.35])(R([1,2])(-PI/2)(stairs(13, [4.8, 0.5, 0.215])))]))"
   ]
  },
  {
   "cell_type": "code",
   "execution_count": null,
   "metadata": {
    "collapsed": true
   },
   "outputs": [],
   "source": []
  },
  {
   "cell_type": "code",
   "execution_count": null,
   "metadata": {
    "collapsed": true
   },
   "outputs": [],
   "source": [
    "\"\"\"\n",
    "\n",
    "staircase2Balustrades = (STRUCT([ \n",
    "    T([1,2,3])([91.62, 72.49, 1.55])(R([1,2])(PI)(stairs(5, [23.4, 0.3, 0.257]))),\n",
    "    T([1,2])([68.22, 70.99])(CUBOID([23.4, 0.3*5, 1.55])),\n",
    "    T([1,2])([68.22, 68.4])(CUBOID([23.4, 2.649, 1.545])),\n",
    "    T([1,2])([91.62, 68.4])(R([1,2])(PI)(stairs(6, [23.4, 0.3, 0.257]))),\n",
    "    T([1,2])([68.75, 68.4])(R([1,2])(PI)(balustradeDiagonal(6,stepHeight=0.257, stepLength=0.3, side=\"L\"))),\n",
    "    T([1,2])([91.625, 68.4])(R([1,2])(PI)(balustradeDiagonal(6,stepHeight=0.257, stepLength=0.3))),\n",
    "    T([1,2,3])([68.75, 72.2, 1.55])(R([1,2])(PI)(balustradeDiagonal(4,stepHeight=0.257, stepLength=0.3, side=\"L\"))),\n",
    "    T([1,2,3])([91.625, 72.2, 1.55])(R([1,2])(PI)(balustradeDiagonal(4,stepHeight=0.257, stepLength=0.3))),\n",
    "    T([1,2,3])([68.75, 68.472, 1.55])(R([1,2])(PI/2)(balustradeFlat(5, 2.585))),\n",
    "    T([1,2,3])([91.62, 68.472, 1.55])(R([1,2])(PI/2)(balustradeFlat(5, 2.585))),\n",
    "    T([1,2,3])([68.254, 68.392, 1.55])(bottomStringL),\n",
    "    T([1,2,3])([91.12, 68.392, 1.55])(bottomStringR),\n",
    "    T([1,2,3])([94.3, 75.86 ,2.6])(balustradeFlat(5, 0)),\n",
    "    T([1,2,3])([63.1, 75.855 ,2.6])(balustradeFlat(5,  0)),\n",
    "    T([1,2,3])([65.35, 76.2 ,2.6])(R([1,2])(-PI/2)(balustradeFlat(9,  0))),\n",
    "    T([1,2,3])([93.9, 76.2 ,2.6])(R([1,2])(-PI/2)(balustradeFlat(9,  0))),\n",
    "    T([1,2,3])([65.8, 72.2 ,2.6])(balustradeFlat(6, 0)),\n",
    "    T([1,2,3])([91.25, 72.2 ,2.6])(balustradeFlat(6,  0)),\n",
    "    T([1,2,3])([97., 81.1 ,2.6])(balustradeFlat(21,  0)),\n",
    "    T([1,2,3])([54.1, 81.1 ,2.6])(balustradeFlat(23,  0)),\n",
    "]))\n",
    "\"\"\""
   ]
  },
  {
   "cell_type": "code",
   "execution_count": null,
   "metadata": {
    "collapsed": true
   },
   "outputs": [],
   "source": [
    "VIEW(frontStaircase)"
   ]
  }
 ],
 "metadata": {
  "kernelspec": {
   "display_name": "Python 2",
   "language": "python",
   "name": "python2"
  },
  "language_info": {
   "codemirror_mode": {
    "name": "ipython",
    "version": 2
   },
   "file_extension": ".py",
   "mimetype": "text/x-python",
   "name": "python",
   "nbconvert_exporter": "python",
   "pygments_lexer": "ipython2",
   "version": "2.7.13"
  }
 },
 "nbformat": 4,
 "nbformat_minor": 2
}
