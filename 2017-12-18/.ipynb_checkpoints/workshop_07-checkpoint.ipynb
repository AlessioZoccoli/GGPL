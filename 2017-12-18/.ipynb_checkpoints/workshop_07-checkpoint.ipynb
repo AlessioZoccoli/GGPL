{
 "cells": [
  {
   "cell_type": "markdown",
   "metadata": {},
   "source": [
    "Andrea Palladio - Villa Badoer\n",
    "================\n",
    "\n",
    "Working again on Villa Badoer as started in workshop_05.\n",
    "Aim of this final workshop is to completing the model."
   ]
  },
  {
   "cell_type": "markdown",
   "metadata": {},
   "source": [
    "Villa Badoer is a villa in Fratta Polesine in the Veneto region of northern Italy. It was designed in 1556[1] by Andrea Palladio for the Venetian noble Francesco Badoer, and built between 1557 and 1563, on the site of a medieval castle which guarded a bridge across a navigable canal. This was the first time Palladio used his fully developed temple pediment in the facade of a villa.\n",
    "Villa Badoer has been part since 1996 of the UNESCO World Heritage Site \"City of Vicenza and the Palladian Villas of the Veneto\".\n",
    "\n",
    "Constructed and inhabited in 1556, the villa therefore functioned for the management of the fields and was simultaneously a visible sign of the “feudal” presence, so to speak, of Badoer in the territory: it is not coincidental that the building rises on the site of an ancient medieval castle.\n",
    "Palladio succeeded in uniting within one effective synthesis these dual meanings, joining the majestic manor house to the two barchesse (farm wings) bent into semicircles, which screen the stables and other agricultural annexes."
   ]
  },
  {
   "cell_type": "markdown",
   "metadata": {},
   "source": [
    "![VillaBadoer](./images/villa.jpg)"
   ]
  },
  {
   "cell_type": "code",
   "execution_count": 1,
   "metadata": {},
   "outputs": [
    {
     "name": "stdout",
     "output_type": "stream",
     "text": [
      "Evaluating fenvs.py..\n",
      "...fenvs.py imported in 0.005719 seconds\n"
     ]
    }
   ],
   "source": [
    "from larlib import *\n",
    "from math import floor\n",
    "import csv\n",
    "import os"
   ]
  },
  {
   "cell_type": "markdown",
   "metadata": {
    "collapsed": true
   },
   "source": [
    "# Reading data\n",
    "As mentioned in workshop_05 I will assign 3d-points instead of getting data from the filesystem. This time I will put all data in a separate file, for readability.\n",
    "This will prevent problems regarding paths etc. this approach may come in handy for fine tune points ;)"
   ]
  },
  {
   "cell_type": "code",
   "execution_count": 2,
   "metadata": {
    "collapsed": true
   },
   "outputs": [],
   "source": [
    "def larModel(path2lines, openPath=0):\n",
    "    \"\"\"\n",
    "    larModel(\"mypath\")\n",
    "    :param path2file: path to the .lines file\n",
    "    :return: tuple. A graph model representing Vertices and Edges.\n",
    "             Edges are lists of indices to Vertices.\n",
    "    \"\"\"\n",
    "    with open(path2lines, \"rb\") as file:\n",
    "        lines = csv.reader(file, delimiter=\",\")\n",
    "\n",
    "        mapping = {}\n",
    "        v = []\n",
    "        ev = []\n",
    "        index = 0\n",
    "        \n",
    "        # indexing of the vertices and approximation\n",
    "        for entry in lines:\n",
    "            x1 = math.floor(float(entry[0])*10)/10\n",
    "            y1 = math.floor(float(entry[1])*10)/10\n",
    "            x2 = math.floor(float(entry[2])*10)/10\n",
    "            y2 = math.floor(float(entry[3])*10)/10\n",
    "\n",
    "            if not(mapping.has_key((x1,y1))):\n",
    "                index += 1\n",
    "                mapping[(x1,y1)] = index\n",
    "                v.append([x1,y1])\n",
    "\n",
    "            if not(mapping.has_key((x2,y2))):\n",
    "                index += 1\n",
    "                mapping[(x2,y2)] = index\n",
    "                v.append([x2,y2])\n",
    "\n",
    "            ev.append([mapping[(x1,y1)], mapping[(x2,y2)]])\n",
    "        \n",
    "        #this will close the path by linking the last node with the first one\n",
    "        if (ev[-1][1] != ev[0][0] and not(openPath)):\n",
    "            lastEdge = [ev[-1][1], ev[0][0]]\n",
    "            ev.append(lastEdge)\n",
    "        \n",
    "        #print (lastEdge[0] == ev[-2][1]) #True\n",
    "        #print (lastEdge[1] == ev[0][0]) #True\n",
    "        #print ev[-1] == lastEdge\n",
    "        \n",
    "        \n",
    "    return v,ev"
   ]
  },
  {
   "cell_type": "markdown",
   "metadata": {},
   "source": [
    "# Work pipeline\n",
    "- Divide et impera: I will start off with splitting the structure.\n",
    "  - For every part of Villa Badoer a .csv and a .lines will be produced (https://inkscape.org)\n",
    "  - Alternatively, if pre-existing pyplasm model for polyhedra are sufficient, then those will be used\n",
    "- Given a .lines file for a certain part of the structure, produce a graph (V,EV) as lar model\n",
    "- Given a part of the villa, draw its plant\n",
    "- Given a plant use cartesian product to build walls etc.\n",
    "- Figure out a way to use symmetries"
   ]
  },
  {
   "cell_type": "code",
   "execution_count": 3,
   "metadata": {
    "collapsed": true
   },
   "outputs": [],
   "source": [
    "from data import pyData # Pythonized data from .lines"
   ]
  },
  {
   "cell_type": "markdown",
   "metadata": {
    "collapsed": true
   },
   "source": [
    "# Base\n",
    "Probably as a result of exploiting the substructures of the medieval castle, the manor house of the villa rises on a high basement, and recalls illustrious precedents like the Villa Medici at Poggio a Caiano by Giuliano da Sangallo, and the not far distant Villa dei Vescovi at Luvigliano by Giovanni Maria Falconetto.\n",
    "\n",
    "\n",
    "The base on which the main structure lies is composed of two layers, base1 and base2, plus a frontal base adjacent to the stairs.\n",
    "Base2 is placed upon base1, frontbase situates in front of base1 and base2 "
   ]
  },
  {
   "cell_type": "code",
   "execution_count": 4,
   "metadata": {
    "collapsed": true
   },
   "outputs": [],
   "source": [
    "#reload(pyData)"
   ]
  },
  {
   "cell_type": "markdown",
   "metadata": {},
   "source": [
    "### Base 1"
   ]
  },
  {
   "cell_type": "code",
   "execution_count": 5,
   "metadata": {
    "collapsed": true
   },
   "outputs": [],
   "source": [
    "VBase1,EVBase1 = larModel(os.getcwd() + \"/data/base1.lines\")"
   ]
  },
  {
   "cell_type": "code",
   "execution_count": 6,
   "metadata": {
    "collapsed": true
   },
   "outputs": [],
   "source": [
    "VBase1 = pyData.VBase1\n",
    "EVBase = pyData.EVBase1\n"
   ]
  },
  {
   "cell_type": "code",
   "execution_count": 7,
   "metadata": {},
   "outputs": [
    {
     "data": {
      "text/plain": [
       "[[51.4, 83.4],\n",
       " [51.4, 120.7],\n",
       " [54.9, 120.7],\n",
       " [54.9, 115.7],\n",
       " [54.9, 115.7],\n",
       " [56.7, 115.7],\n",
       " [56.7, 120.7],\n",
       " [102.6, 120.7],\n",
       " [102.6, 115.6],\n",
       " [104.3, 115.6],\n",
       " [104.3, 120.7],\n",
       " [107.7, 120.7],\n",
       " [107.7, 83.4]]"
      ]
     },
     "execution_count": 7,
     "metadata": {},
     "output_type": "execute_result"
    }
   ],
   "source": [
    "VBase1"
   ]
  },
  {
   "cell_type": "markdown",
   "metadata": {},
   "source": [
    "### Base 2"
   ]
  },
  {
   "cell_type": "code",
   "execution_count": 8,
   "metadata": {
    "collapsed": true
   },
   "outputs": [],
   "source": [
    "VBase2,EVBase2 = larModel(os.getcwd() + \"/data/base2.lines\")"
   ]
  },
  {
   "cell_type": "code",
   "execution_count": 9,
   "metadata": {
    "collapsed": true
   },
   "outputs": [],
   "source": [
    "VBase2 = pyData.VBase2\n",
    "EVBase2 = pyData.EVBase2"
   ]
  },
  {
   "cell_type": "markdown",
   "metadata": {},
   "source": [
    "# Frontal base"
   ]
  },
  {
   "cell_type": "code",
   "execution_count": 10,
   "metadata": {
    "collapsed": true
   },
   "outputs": [],
   "source": [
    "VBaseF,EVBaseF = larModel(os.getcwd() + \"/data/frontbase2.lines\")"
   ]
  },
  {
   "cell_type": "code",
   "execution_count": 11,
   "metadata": {
    "collapsed": true
   },
   "outputs": [],
   "source": [
    "VBaseF = pyData.VBaseF\n",
    "EVBaseF = pyData.EVBaseF"
   ]
  },
  {
   "cell_type": "markdown",
   "metadata": {},
   "source": [
    "# Drawing the wire-frame plant\n",
    "\n",
    "Again from workshop_05"
   ]
  },
  {
   "cell_type": "code",
   "execution_count": 12,
   "metadata": {
    "collapsed": true
   },
   "outputs": [],
   "source": [
    "def drawPlant(verts, edges, pr = 0):\n",
    "    \"\"\"\n",
    "    drawPlant(V,EV) returns the wire-flame plant of the input, the lar model.\n",
    "    It is clearly a 2d model, this implies that it does not handle space for doors, windows, stairs etc.\n",
    "    \n",
    "    :param verts: list of vertices in form [X, Y]\n",
    "    :param edges: list of edges in form [indexofVertA, indexofVertB]\n",
    "    :return: array of POLILINEs\n",
    "    \"\"\"\n",
    "    plant = []\n",
    "    for e in edges:\n",
    "        if (pr):\n",
    "            print ([verts[e[0]-1], verts[e[1]-1]]),\"\\n\"\n",
    "        plant.append(POLYLINE([verts[e[0]-1], verts[e[1]-1]]))\n",
    "    return plant"
   ]
  },
  {
   "cell_type": "code",
   "execution_count": 13,
   "metadata": {
    "collapsed": true
   },
   "outputs": [],
   "source": [
    "base1plant = drawPlant(VBase1, EVBase1, pr=0)"
   ]
  },
  {
   "cell_type": "code",
   "execution_count": 14,
   "metadata": {
    "collapsed": true
   },
   "outputs": [],
   "source": [
    "base2plant = drawPlant(VBase2, EVBase2)\n"
   ]
  },
  {
   "cell_type": "code",
   "execution_count": 15,
   "metadata": {
    "collapsed": true
   },
   "outputs": [],
   "source": [
    "baseFplant = drawPlant(VBaseF, EVBaseF)\n",
    "#VIEW(STRUCT(baseFplant))"
   ]
  },
  {
   "cell_type": "markdown",
   "metadata": {},
   "source": [
    "# Building the bases"
   ]
  },
  {
   "cell_type": "markdown",
   "metadata": {},
   "source": [
    "Scheme: First, I will build every part of the hole base (base1, base2 etc.) then I will use UNION to make a unique base out of each of its part.\n",
    "\n",
    "Key functions:\n",
    "- SOLIDIFY(polygon): it joins inner points of both concave and convex polygons\n",
    "- UNION(polyhs): as the name suggets, it merges input polyhedra\n",
    "\n",
    "\n",
    "I will assume steps have a height of 20cm and as we can see from the following image, the base has 9 + 5 steps"
   ]
  },
  {
   "cell_type": "markdown",
   "metadata": {},
   "source": [
    "![steps](./images/gradini.jpg)"
   ]
  },
  {
   "cell_type": "markdown",
   "metadata": {},
   "source": [
    "### Base 1"
   ]
  },
  {
   "cell_type": "code",
   "execution_count": 16,
   "metadata": {
    "collapsed": true
   },
   "outputs": [],
   "source": [
    "base1 = SOLIDIFY(STRUCT(base1plant))\n",
    "base1 = PROD([base1, Q(0.20*9)])"
   ]
  },
  {
   "cell_type": "code",
   "execution_count": 17,
   "metadata": {
    "collapsed": true
   },
   "outputs": [],
   "source": [
    "#VIEW(base1)"
   ]
  },
  {
   "cell_type": "markdown",
   "metadata": {},
   "source": [
    "### Base 2"
   ]
  },
  {
   "cell_type": "code",
   "execution_count": 18,
   "metadata": {
    "collapsed": true
   },
   "outputs": [],
   "source": [
    "base2 = SOLIDIFY(STRUCT(base2plant))\n",
    "base2 = T(3)(0.20*9)(PROD([base2, Q(0.20*5)]))"
   ]
  },
  {
   "cell_type": "code",
   "execution_count": 19,
   "metadata": {
    "collapsed": true
   },
   "outputs": [],
   "source": [
    "#VIEW(base2)"
   ]
  },
  {
   "cell_type": "markdown",
   "metadata": {},
   "source": [
    "### Frontal Base"
   ]
  },
  {
   "cell_type": "code",
   "execution_count": 20,
   "metadata": {
    "collapsed": true
   },
   "outputs": [],
   "source": [
    "baseF = SOLIDIFY(STRUCT(baseFplant))\n",
    "baseF = PROD([baseF, Q(0.20*14)])"
   ]
  },
  {
   "cell_type": "code",
   "execution_count": 21,
   "metadata": {
    "collapsed": true
   },
   "outputs": [],
   "source": [
    "#VIEW(baseF)"
   ]
  },
  {
   "cell_type": "markdown",
   "metadata": {},
   "source": [
    "## Base back stairs\n",
    "Stairs can also be seen on the back of base1 and 2"
   ]
  },
  {
   "cell_type": "code",
   "execution_count": 22,
   "metadata": {
    "collapsed": true
   },
   "outputs": [],
   "source": [
    "def stairs(N,stepsize):\n",
    "    \"\"\"\n",
    "    stairs build a basic, full stairway (no space between steps and the ground)\n",
    "    :param N: number of steps\n",
    "    :param stepsize: array of length 3. stepsize contains cartesian coordinate used to model a single step\n",
    "    \"\"\"\n",
    "    sx,sy,sz = stepsize\n",
    "    V,FV = larCuboids([1,1])\n",
    "    step = S([1,2])([sx,sy])(STRUCT(MKPOLS((V,FV))))\n",
    "    step =  steps = T(3)(sz*(N-1))(PROD([step,INTERVALS(sz)(1)]))\n",
    "    for i in range(1,N):\n",
    "        nextStep = T(3)(-sz*i)(S(2)(1+i)(step))\n",
    "        steps = STRUCT([steps,nextStep])\n",
    "    return steps"
   ]
  },
  {
   "cell_type": "code",
   "execution_count": 23,
   "metadata": {
    "collapsed": true
   },
   "outputs": [],
   "source": [
    "\"\"\"\n",
    "Left-hand side back stairs\n",
    "\n",
    "size depens on the svg/lines data.\n",
    "It is redundant, in a way, to calculate it as a difference, but this way it gives the author more control.\n",
    "\n",
    "I decided to model steps so that they starts from the origin [0,0,0], an approach I did not used for other structures.\n",
    "This way, code will be more reusable. I will need to model various stairs.\n",
    "\"\"\"\n",
    "nStepsBack = 14 #recurrent value, as Villa Badoer has the same steps number for every stairway\n",
    "\n",
    "bssX = 56.65 - 54.9\n",
    "bssY = (117.7 - 115.7)/5.5\n",
    "bssZ = 0.20 #height of a single step\n",
    "backStepSize = [bssX, bssY, bssZ]"
   ]
  },
  {
   "cell_type": "code",
   "execution_count": 24,
   "metadata": {
    "collapsed": true
   },
   "outputs": [],
   "source": [
    "myStairs = stairs(nStepsBack, backStepSize)"
   ]
  },
  {
   "cell_type": "markdown",
   "metadata": {},
   "source": [
    "## The whole base\n",
    "\n",
    "- Base1\n",
    "- Base2\n",
    "- Frontal base\n",
    "- Stairs on the back"
   ]
  },
  {
   "cell_type": "code",
   "execution_count": 25,
   "metadata": {
    "collapsed": true
   },
   "outputs": [],
   "source": [
    "bricksBase = './textures/bricks.jpeg'\n",
    "orangeBricks = './textures/orangeBricks.jpg'"
   ]
  },
  {
   "cell_type": "code",
   "execution_count": null,
   "metadata": {
    "collapsed": true
   },
   "outputs": [],
   "source": [
    "base1 = TEXTURE(bricksBase)(base1)\n",
    "base2 = TEXTURE(bricksBase)(base2)\n",
    "baseF = TEXTURE(orangeBricks)(baseF)\n",
    "\n",
    "leftBackStairs = TEXTURE(bricksBase)(T([1,2])([54.93,115.7])(myStairs))\n",
    "rightBackStairs = TEXTURE(bricksBase)(T([1,2])([102.55,115.60])(myStairs))\n",
    "\n",
    "base = STRUCT([base1,base2, baseF, leftBackStairs, rightBackStairs])"
   ]
  },
  {
   "cell_type": "code",
   "execution_count": null,
   "metadata": {},
   "outputs": [],
   "source": [
    "VIEW(base)"
   ]
  },
  {
   "cell_type": "markdown",
   "metadata": {},
   "source": [
    "![base](./images/base.png)"
   ]
  },
  {
   "cell_type": "markdown",
   "metadata": {},
   "source": [
    "![base_2](./images/base_2.png)"
   ]
  },
  {
   "cell_type": "markdown",
   "metadata": {},
   "source": [
    "![base_3](./images/base_3.png)"
   ]
  },
  {
   "cell_type": "markdown",
   "metadata": {},
   "source": [
    "# The main structure\n",
    "## Inner walls.\n",
    "I would like to use something different from the boolean operation DIFFERENCE to create space for doors. I will stack two model one on top of the other, the former one contains spaces, the latter one does not."
   ]
  },
  {
   "cell_type": "code",
   "execution_count": null,
   "metadata": {
    "collapsed": true
   },
   "outputs": [],
   "source": [
    "VinnWalls,EVinnWalls = larModel(os.getcwd() + \"/data/innerwalls.lines\", openPath=1)"
   ]
  },
  {
   "cell_type": "code",
   "execution_count": null,
   "metadata": {
    "collapsed": true
   },
   "outputs": [],
   "source": [
    "VinnWallsTOP,EVinnWallsTOP = larModel(os.getcwd() + \"/data/innerwallsTOP.lines\", openPath=1)"
   ]
  },
  {
   "cell_type": "code",
   "execution_count": null,
   "metadata": {
    "collapsed": true
   },
   "outputs": [],
   "source": [
    "VinnWallsTOP = pyData.VinnWallsTOP"
   ]
  },
  {
   "cell_type": "code",
   "execution_count": null,
   "metadata": {
    "collapsed": true
   },
   "outputs": [],
   "source": [
    "EVinnWallsTOP = pyData.EVinnWallsTOP"
   ]
  },
  {
   "cell_type": "code",
   "execution_count": null,
   "metadata": {
    "collapsed": true
   },
   "outputs": [],
   "source": [
    "innWallsPlantHoled = STRUCT(drawPlant(VinnWalls, EVinnWalls))\n",
    "innWallsPlantHoled = MULTEXTRUDE(OFFSET([0.7,0.7])(STRUCT([innWallsPlantHoled])))(2.5)"
   ]
  },
  {
   "cell_type": "code",
   "execution_count": null,
   "metadata": {
    "collapsed": true
   },
   "outputs": [],
   "source": [
    "innWallsPlantTOP = STRUCT(drawPlant(VinnWallsTOP, EVinnWallsTOP))\n",
    "innWallsPlantTOP = MULTEXTRUDE(OFFSET([0.7,0.7])(STRUCT([innWallsPlantTOP])))(3.5)"
   ]
  },
  {
   "cell_type": "code",
   "execution_count": null,
   "metadata": {},
   "outputs": [],
   "source": [
    "innWalls = HEX()(STRUCT([TOP([innWallsPlantHoled, innWallsPlantTOP])]))\n",
    "VIEW(innWalls)"
   ]
  },
  {
   "cell_type": "code",
   "execution_count": null,
   "metadata": {
    "collapsed": true
   },
   "outputs": [],
   "source": [
    "travertineHEX = \"#E2DECD\""
   ]
  },
  {
   "cell_type": "code",
   "execution_count": null,
   "metadata": {},
   "outputs": [],
   "source": [
    "innWalls = HEX(travertineHEX)(innWalls)\n",
    "VIEW(innWalls)"
   ]
  },
  {
   "cell_type": "markdown",
   "metadata": {},
   "source": [
    "![walls1](./images/walls.png)"
   ]
  },
  {
   "cell_type": "markdown",
   "metadata": {},
   "source": [
    "![walls2](./images/walls2.png)"
   ]
  },
  {
   "cell_type": "markdown",
   "metadata": {},
   "source": [
    "![walls3](./images/walls3.png)"
   ]
  },
  {
   "cell_type": "code",
   "execution_count": null,
   "metadata": {
    "collapsed": true
   },
   "outputs": [],
   "source": []
  }
 ],
 "metadata": {
  "kernelspec": {
   "display_name": "Python 2",
   "language": "python",
   "name": "python2"
  },
  "language_info": {
   "codemirror_mode": {
    "name": "ipython",
    "version": 2
   },
   "file_extension": ".py",
   "mimetype": "text/x-python",
   "name": "python",
   "nbconvert_exporter": "python",
   "pygments_lexer": "ipython2",
   "version": "2.7.13"
  }
 },
 "nbformat": 4,
 "nbformat_minor": 2
}
