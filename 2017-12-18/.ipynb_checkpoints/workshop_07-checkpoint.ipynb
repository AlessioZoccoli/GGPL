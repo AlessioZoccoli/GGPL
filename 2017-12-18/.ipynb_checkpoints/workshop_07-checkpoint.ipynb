{
 "cells": [
  {
   "cell_type": "markdown",
   "metadata": {},
   "source": [
    "Andrea Palladio - Villa Badoer\n",
    "================\n",
    "\n",
    "Working again on Villa Badoer as started in workshop_05.\n",
    "Aim of this final workshop is to completing the model."
   ]
  },
  {
   "cell_type": "markdown",
   "metadata": {},
   "source": [
    "Villa Badoer is a villa in Fratta Polesine in the Veneto region of northern Italy. It was designed in 1556 by Andrea Palladio for the Venetian noble Francesco Badoer, and built between 1557 and 1563, on the site of a medieval castle which guarded a bridge across a navigable canal. This was the first time Palladio used his fully developed temple pediment in the facade of a villa.\n",
    "Villa Badoer has been part since 1996 of the UNESCO World Heritage Site \"City of Vicenza and the Palladian Villas of the Veneto\".\n",
    "\n",
    "Constructed and inhabited in 1556, the villa therefore functioned for the management of the fields and was simultaneously a visible sign of the “feudal” presence, so to speak, of Badoer in the territory: it is not coincidental that the building rises on the site of an ancient medieval castle.\n",
    "Palladio succeeded in uniting within one effective synthesis these dual meanings, joining the majestic manor house to the two barchesse (farm wings) bent into semicircles, which screen the stables and other agricultural annexes."
   ]
  },
  {
   "cell_type": "markdown",
   "metadata": {},
   "source": [
    "![VillaBadoer](./images/villa.jpg)"
   ]
  },
  {
   "cell_type": "code",
   "execution_count": 1,
   "metadata": {},
   "outputs": [
    {
     "name": "stdout",
     "output_type": "stream",
     "text": [
      "Evaluating fenvs.py..\n",
      "...fenvs.py imported in 0.00617 seconds\n"
     ]
    }
   ],
   "source": [
    "from larlib import *\n",
    "from math import floor\n",
    "import csv\n",
    "import os"
   ]
  },
  {
   "cell_type": "markdown",
   "metadata": {
    "collapsed": true
   },
   "source": [
    "# Reading data\n",
    "As mentioned in workshop_05 I will assign 3d-points instead of getting data from the filesystem. This time I will put all data in a separate file, for readability.\n",
    "This will prevent problems regarding paths etc. this approach may come in handy for fine tune points ;)"
   ]
  },
  {
   "cell_type": "code",
   "execution_count": 2,
   "metadata": {
    "collapsed": true
   },
   "outputs": [],
   "source": [
    "def larModel(path2lines, openPath=0):\n",
    "    \"\"\"\n",
    "    larModel(\"mypath\")\n",
    "    :param path2file: path to the .lines file\n",
    "    :return: tuple. A graph model representing Vertices and Edges.\n",
    "             Edges are lists of indices to Vertices.\n",
    "    \"\"\"\n",
    "    with open(path2lines, \"rb\") as file:\n",
    "        lines = csv.reader(file, delimiter=\",\")\n",
    "\n",
    "        mapping = {}\n",
    "        v = []\n",
    "        ev = []\n",
    "        index = 0\n",
    "        \n",
    "        # indexing of the vertices and approximation\n",
    "        for entry in lines:\n",
    "            x1 = math.floor(float(entry[0])*10)/10\n",
    "            y1 = math.floor(float(entry[1])*10)/10\n",
    "            x2 = math.floor(float(entry[2])*10)/10\n",
    "            y2 = math.floor(float(entry[3])*10)/10\n",
    "\n",
    "            if not(mapping.has_key((x1,y1))):\n",
    "                index += 1\n",
    "                mapping[(x1,y1)] = index\n",
    "                v.append([x1,y1])\n",
    "\n",
    "            if not(mapping.has_key((x2,y2))):\n",
    "                index += 1\n",
    "                mapping[(x2,y2)] = index\n",
    "                v.append([x2,y2])\n",
    "\n",
    "            ev.append([mapping[(x1,y1)], mapping[(x2,y2)]])\n",
    "        \n",
    "        #this will close the path by linking the last node with the first one\n",
    "        if (ev[-1][1] != ev[0][0] and not(openPath)):\n",
    "            lastEdge = [ev[-1][1], ev[0][0]]\n",
    "            ev.append(lastEdge)\n",
    "        \n",
    "        #print (lastEdge[0] == ev[-2][1]) #True\n",
    "        #print (lastEdge[1] == ev[0][0]) #True\n",
    "        #print ev[-1] == lastEdge\n",
    "        \n",
    "        \n",
    "    return v,ev"
   ]
  },
  {
   "cell_type": "markdown",
   "metadata": {},
   "source": [
    "# Work pipeline\n",
    "- Divide et impera: I will start off with splitting the structure.\n",
    "  - For every part of Villa Badoer a .csv and a .lines will be produced (https://inkscape.org)\n",
    "  - Alternatively, if pre-existing pyplasm model for polyhedra are sufficient, then those will be used\n",
    "- Given a .lines file for a certain part of the structure, produce a graph (V,EV) as lar model\n",
    "- Given a part of the villa, draw its plant\n",
    "- Given a plant use cartesian product to build walls etc.\n",
    "- Figure out a way to use symmetries"
   ]
  },
  {
   "cell_type": "code",
   "execution_count": 3,
   "metadata": {
    "collapsed": true
   },
   "outputs": [],
   "source": [
    "from data import pyData # Pythonized data from .lines"
   ]
  },
  {
   "cell_type": "markdown",
   "metadata": {
    "collapsed": true
   },
   "source": [
    "# Base\n",
    "Probably as a result of exploiting the substructures of the medieval castle, the manor house of the villa rises on a high basement, and recalls illustrious precedents like the Villa Medici at Poggio a Caiano by Giuliano da Sangallo, and the not far distant Villa dei Vescovi at Luvigliano by Giovanni Maria Falconetto.\n",
    "\n",
    "\n",
    "The base on which the main structure lies is composed of two layers, base1 and base2, plus a frontal base adjacent to the stairs.\n",
    "Base2 is placed upon base1, frontbase situates in front of base1 and base2 "
   ]
  },
  {
   "cell_type": "code",
   "execution_count": 4,
   "metadata": {
    "collapsed": true
   },
   "outputs": [],
   "source": [
    "#reload(pyData)"
   ]
  },
  {
   "cell_type": "markdown",
   "metadata": {},
   "source": [
    "### Base 1"
   ]
  },
  {
   "cell_type": "code",
   "execution_count": 5,
   "metadata": {
    "collapsed": true
   },
   "outputs": [],
   "source": [
    "VBase1,EVBase1 = larModel(os.getcwd() + \"/data/base1.lines\")"
   ]
  },
  {
   "cell_type": "code",
   "execution_count": 6,
   "metadata": {
    "collapsed": true
   },
   "outputs": [],
   "source": [
    "VBase1 = pyData.VBase1\n",
    "EVBase = pyData.EVBase1\n"
   ]
  },
  {
   "cell_type": "code",
   "execution_count": 7,
   "metadata": {},
   "outputs": [
    {
     "data": {
      "text/plain": [
       "[[51.4, 83.4],\n",
       " [51.4, 120.7],\n",
       " [54.9, 120.7],\n",
       " [54.9, 115.7],\n",
       " [54.9, 115.7],\n",
       " [56.7, 115.7],\n",
       " [56.7, 120.7],\n",
       " [102.6, 120.7],\n",
       " [102.6, 115.6],\n",
       " [104.3, 115.6],\n",
       " [104.3, 120.7],\n",
       " [107.7, 120.7],\n",
       " [107.7, 83.4]]"
      ]
     },
     "execution_count": 7,
     "metadata": {},
     "output_type": "execute_result"
    }
   ],
   "source": [
    "VBase1"
   ]
  },
  {
   "cell_type": "markdown",
   "metadata": {},
   "source": [
    "### Base 2"
   ]
  },
  {
   "cell_type": "code",
   "execution_count": 8,
   "metadata": {
    "collapsed": true
   },
   "outputs": [],
   "source": [
    "VBase2,EVBase2 = larModel(os.getcwd() + \"/data/base2.lines\")"
   ]
  },
  {
   "cell_type": "code",
   "execution_count": 9,
   "metadata": {
    "collapsed": true
   },
   "outputs": [],
   "source": [
    "VBase2 = pyData.VBase2\n",
    "EVBase2 = pyData.EVBase2"
   ]
  },
  {
   "cell_type": "markdown",
   "metadata": {},
   "source": [
    "# Frontal base"
   ]
  },
  {
   "cell_type": "code",
   "execution_count": 10,
   "metadata": {
    "collapsed": true
   },
   "outputs": [],
   "source": [
    "VBaseF,EVBaseF = larModel(os.getcwd() + \"/data/frontbase2.lines\")"
   ]
  },
  {
   "cell_type": "code",
   "execution_count": 11,
   "metadata": {
    "collapsed": true
   },
   "outputs": [],
   "source": [
    "VBaseF = pyData.VBaseF\n",
    "EVBaseF = pyData.EVBaseF"
   ]
  },
  {
   "cell_type": "markdown",
   "metadata": {},
   "source": [
    "# Drawing the wire-frame plant\n",
    "\n",
    "Again from workshop_05"
   ]
  },
  {
   "cell_type": "code",
   "execution_count": 12,
   "metadata": {
    "collapsed": true
   },
   "outputs": [],
   "source": [
    "def drawPlant(verts, edges, pr = 0):\n",
    "    \"\"\"\n",
    "    drawPlant(V,EV) returns the wire-flame plant of the input, the lar model.\n",
    "    It is clearly a 2d model, this implies that it does not handle space for doors, windows, stairs etc.\n",
    "    \n",
    "    :param verts: list of vertices in form [X, Y]\n",
    "    :param edges: list of edges in form [indexofVertA, indexofVertB]\n",
    "    :return: array of POLILINEs\n",
    "    \"\"\"\n",
    "    plant = []\n",
    "    for e in edges:\n",
    "        if (pr):\n",
    "            print ([verts[e[0]-1], verts[e[1]-1]]),\"\\n\"\n",
    "        plant.append(POLYLINE([verts[e[0]-1], verts[e[1]-1]]))\n",
    "    return plant"
   ]
  },
  {
   "cell_type": "code",
   "execution_count": 13,
   "metadata": {
    "collapsed": true
   },
   "outputs": [],
   "source": [
    "base1plant = drawPlant(VBase1, EVBase1, pr=0)"
   ]
  },
  {
   "cell_type": "code",
   "execution_count": 14,
   "metadata": {
    "collapsed": true
   },
   "outputs": [],
   "source": [
    "base2plant = drawPlant(VBase2, EVBase2)\n"
   ]
  },
  {
   "cell_type": "code",
   "execution_count": 15,
   "metadata": {
    "collapsed": true
   },
   "outputs": [],
   "source": [
    "baseFplant = drawPlant(VBaseF, EVBaseF)\n",
    "#VIEW(STRUCT(baseFplant))"
   ]
  },
  {
   "cell_type": "markdown",
   "metadata": {},
   "source": [
    "# Building the bases"
   ]
  },
  {
   "cell_type": "markdown",
   "metadata": {},
   "source": [
    "Scheme: First, I will build every part of the hole base (base1, base2 etc.) then I will use UNION to make a unique base out of each of its part.\n",
    "\n",
    "Key functions:\n",
    "- SOLIDIFY(polygon): it joins inner points of both concave and convex polygons\n",
    "- UNION(polyhs): as the name suggets, it merges input polyhedra\n",
    "\n",
    "\n",
    "I will assume steps have a height of 20cm and as we can see from the following image, the base has 9 + 5 steps"
   ]
  },
  {
   "cell_type": "markdown",
   "metadata": {},
   "source": [
    "![steps](./images/gradini.jpg)"
   ]
  },
  {
   "cell_type": "markdown",
   "metadata": {},
   "source": [
    "### Base 1"
   ]
  },
  {
   "cell_type": "code",
   "execution_count": 16,
   "metadata": {
    "collapsed": true
   },
   "outputs": [],
   "source": [
    "base1 = SOLIDIFY(STRUCT(base1plant))\n",
    "base1 = PROD([base1, Q(0.20*9)])"
   ]
  },
  {
   "cell_type": "code",
   "execution_count": 17,
   "metadata": {
    "collapsed": true
   },
   "outputs": [],
   "source": [
    "#VIEW(base1)"
   ]
  },
  {
   "cell_type": "markdown",
   "metadata": {},
   "source": [
    "### Base 2"
   ]
  },
  {
   "cell_type": "code",
   "execution_count": 18,
   "metadata": {
    "collapsed": true
   },
   "outputs": [],
   "source": [
    "base2 = SOLIDIFY(STRUCT(base2plant))\n",
    "base2 = T(3)(0.20*9)(PROD([base2, Q(0.20*5)]))"
   ]
  },
  {
   "cell_type": "code",
   "execution_count": 19,
   "metadata": {
    "collapsed": true
   },
   "outputs": [],
   "source": [
    "#VIEW(base2)"
   ]
  },
  {
   "cell_type": "markdown",
   "metadata": {},
   "source": [
    "### Frontal Base"
   ]
  },
  {
   "cell_type": "code",
   "execution_count": 20,
   "metadata": {
    "collapsed": true
   },
   "outputs": [],
   "source": [
    "baseF = SOLIDIFY(STRUCT(baseFplant))\n",
    "baseF = PROD([baseF, Q(0.20*14)])"
   ]
  },
  {
   "cell_type": "code",
   "execution_count": 21,
   "metadata": {
    "collapsed": true
   },
   "outputs": [],
   "source": [
    "#VIEW(baseF)"
   ]
  },
  {
   "cell_type": "markdown",
   "metadata": {},
   "source": [
    "## Final base with back stairs\n",
    "Stairs can also be seen on the back of base1 and 2"
   ]
  },
  {
   "cell_type": "code",
   "execution_count": 22,
   "metadata": {
    "collapsed": true
   },
   "outputs": [],
   "source": [
    "def stairs(N,stepsize):\n",
    "    \"\"\"\n",
    "    stairs build a basic, full stairway (no space between steps and the ground)\n",
    "    :param N: number of steps\n",
    "    :param stepsize: array of length 3. stepsize contains cartesian coordinate used to model a single step\n",
    "    \"\"\"\n",
    "    sx,sy,sz = stepsize\n",
    "    V,FV = larCuboids([1,1])\n",
    "    step = S([1,2])([sx,sy])(STRUCT(MKPOLS((V,FV))))\n",
    "    step =  steps = T(3)(sz*(N-1))(PROD([step,INTERVALS(sz)(1)]))\n",
    "    for i in range(1,N):\n",
    "        nextStep = T(3)(-sz*i)(S(2)(1+i)(step))\n",
    "        steps = STRUCT([steps,nextStep])\n",
    "    return steps"
   ]
  },
  {
   "cell_type": "code",
   "execution_count": 23,
   "metadata": {
    "collapsed": true
   },
   "outputs": [],
   "source": [
    "\"\"\"\n",
    "Left-hand side back stairs\n",
    "\n",
    "size depens on the svg/lines data.\n",
    "It is redundant, in a way, to calculate it as a difference, but this way it gives the author more control.\n",
    "\n",
    "I decided to model steps so that they starts from the origin [0,0,0], an approach I did not used for other structures.\n",
    "This way, code will be more reusable. I will need to model various stairs.\n",
    "\"\"\"\n",
    "nStepsBack = 14 #recurrent value, as Villa Badoer has the same steps number for every stairway\n",
    "\n",
    "bssX = 56.65 - 54.9\n",
    "bssY = (117.7 - 115.7)/5.5\n",
    "bssZ = 0.20 #height of a single step\n",
    "backStepSize = [bssX, bssY, bssZ]"
   ]
  },
  {
   "cell_type": "code",
   "execution_count": 24,
   "metadata": {
    "collapsed": true
   },
   "outputs": [],
   "source": [
    "myStairs = stairs(nStepsBack, backStepSize)"
   ]
  },
  {
   "cell_type": "markdown",
   "metadata": {},
   "source": [
    "## The whole base\n",
    "\n",
    "- Base1\n",
    "- Base2\n",
    "- Frontal base\n",
    "- Stairs on the back"
   ]
  },
  {
   "cell_type": "code",
   "execution_count": 25,
   "metadata": {
    "collapsed": true
   },
   "outputs": [],
   "source": [
    "bricksBase = './textures/bricks.jpeg'\n",
    "orangeBricks = './textures/orangeBricks.jpg'"
   ]
  },
  {
   "cell_type": "code",
   "execution_count": 26,
   "metadata": {
    "collapsed": true
   },
   "outputs": [],
   "source": [
    "base1 = TEXTURE(bricksBase)(base1)\n",
    "base2 = TEXTURE(bricksBase)(base2)\n",
    "baseF = TEXTURE(orangeBricks)(baseF)\n",
    "\n",
    "leftBackStairs = TEXTURE(bricksBase)(T([1,2])([54.93,115.7])(myStairs))\n",
    "rightBackStairs = TEXTURE(bricksBase)(T([1,2])([102.55,115.60])(myStairs))\n",
    "\n",
    "base = STRUCT([base1,base2, baseF, leftBackStairs, rightBackStairs])"
   ]
  },
  {
   "cell_type": "code",
   "execution_count": 27,
   "metadata": {
    "collapsed": true
   },
   "outputs": [],
   "source": [
    "#VIEW(base)"
   ]
  },
  {
   "cell_type": "markdown",
   "metadata": {},
   "source": [
    "![base](./images/base.png)"
   ]
  },
  {
   "cell_type": "markdown",
   "metadata": {},
   "source": [
    "![base_2](./images/base_2.png)"
   ]
  },
  {
   "cell_type": "markdown",
   "metadata": {},
   "source": [
    "![base_3](./images/base_3.png)"
   ]
  },
  {
   "cell_type": "markdown",
   "metadata": {},
   "source": [
    "# The main structure\n",
    "Note: Some sources cite a basement beneth the main floor, yet no images or descriptions seem to be available. Because of that, I decided not to model a multiple floor structure until I find proper material on which to base a valid model."
   ]
  },
  {
   "cell_type": "markdown",
   "metadata": {},
   "source": [
    "## Floor\n",
    "The floor lies on a base which is thinner then the ones we have seen before: it is slightly thinner than base2 (which is 0.20 \\* 5), let's assume it is 0.2*3 m thick"
   ]
  },
  {
   "cell_type": "code",
   "execution_count": 28,
   "metadata": {
    "collapsed": true
   },
   "outputs": [],
   "source": [
    "VbaseVilla,EVbaseVilla = larModel(os.getcwd() + \"/data/mainStrBase.lines\", openPath=0)"
   ]
  },
  {
   "cell_type": "code",
   "execution_count": 29,
   "metadata": {
    "collapsed": true
   },
   "outputs": [],
   "source": [
    "VbaseVilla = pyData.VbaseVilla"
   ]
  },
  {
   "cell_type": "code",
   "execution_count": 30,
   "metadata": {
    "collapsed": true
   },
   "outputs": [],
   "source": [
    "EVbaseVilla = pyData.EVbaseVilla"
   ]
  },
  {
   "cell_type": "code",
   "execution_count": 31,
   "metadata": {
    "collapsed": true,
    "scrolled": true
   },
   "outputs": [],
   "source": [
    "#EVbaseVilla"
   ]
  },
  {
   "cell_type": "code",
   "execution_count": 32,
   "metadata": {
    "collapsed": true
   },
   "outputs": [],
   "source": [
    "villaBasePlant = drawPlant(VbaseVilla, EVbaseVilla)\n",
    "\n",
    "\"\"\" total height of the base of the villa is approximately 10 steps, thus 0.20*10 \"\"\"\n",
    "\n",
    "villaBase1 = MULTEXTRUDE(OFFSET([1.1,1.1])(SOLIDIFY(STRUCT(villaBasePlant))))(0.20)\n",
    "villaBase2 = MULTEXTRUDE(OFFSET([0.7,0.7])(STRUCT(villaBasePlant)))(0.20*8)\n",
    "villaBase3 = MULTEXTRUDE(OFFSET([1.1,1.1])(SOLIDIFY(STRUCT(villaBasePlant))))(0.20)\n",
    "\n",
    "villaBase = STRUCT([TOP([TOP([villaBase1, villaBase2]), villaBase3])])"
   ]
  },
  {
   "cell_type": "code",
   "execution_count": 33,
   "metadata": {
    "collapsed": true
   },
   "outputs": [],
   "source": [
    "#VIEW(villaBase)"
   ]
  },
  {
   "cell_type": "code",
   "execution_count": 34,
   "metadata": {
    "collapsed": true
   },
   "outputs": [],
   "source": [
    "villaFloor = MULTEXTRUDE(OFFSET([0.7,0.7])(SOLIDIFY(STRUCT(villaBasePlant))))(0.06)"
   ]
  },
  {
   "cell_type": "markdown",
   "metadata": {},
   "source": [
    "## Inner walls.\n",
    "I would like to use something different from the boolean operation DIFFERENCE to create space for doors. I will stack two model one on top of the other, the former one contains spaces, the latter one does not."
   ]
  },
  {
   "cell_type": "code",
   "execution_count": 35,
   "metadata": {
    "collapsed": true
   },
   "outputs": [],
   "source": [
    "VinnWalls,EVinnWalls = larModel(os.getcwd() + \"/data/innerwalls.lines\", openPath=1)"
   ]
  },
  {
   "cell_type": "code",
   "execution_count": 36,
   "metadata": {
    "collapsed": true
   },
   "outputs": [],
   "source": [
    "VinnWallsTOP,EVinnWallsTOP = larModel(os.getcwd() + \"/data/innerwallsTOP.lines\", openPath=1)"
   ]
  },
  {
   "cell_type": "code",
   "execution_count": 37,
   "metadata": {
    "collapsed": true
   },
   "outputs": [],
   "source": [
    "VinnWallsTOP = pyData.VinnWallsTOP"
   ]
  },
  {
   "cell_type": "code",
   "execution_count": 38,
   "metadata": {
    "collapsed": true
   },
   "outputs": [],
   "source": [
    "EVinnWallsTOP = pyData.EVinnWallsTOP"
   ]
  },
  {
   "cell_type": "code",
   "execution_count": 39,
   "metadata": {
    "collapsed": true
   },
   "outputs": [],
   "source": [
    "innWallsPlantHoled = STRUCT(drawPlant(VinnWalls, EVinnWalls))\n",
    "innWallsPlantHoled = MULTEXTRUDE(OFFSET([0.7,0.7])(STRUCT([innWallsPlantHoled])))(2.5)"
   ]
  },
  {
   "cell_type": "code",
   "execution_count": 40,
   "metadata": {
    "collapsed": true
   },
   "outputs": [],
   "source": [
    "innWallsPlantTOP = STRUCT(drawPlant(VinnWallsTOP, EVinnWallsTOP))\n",
    "innWallsPlantTOP = MULTEXTRUDE(OFFSET([0.7,0.7])(STRUCT([innWallsPlantTOP])))(5.5)"
   ]
  },
  {
   "cell_type": "code",
   "execution_count": 41,
   "metadata": {
    "collapsed": true
   },
   "outputs": [],
   "source": [
    "innWalls = STRUCT([TOP([innWallsPlantHoled, innWallsPlantTOP])])\n",
    "#VIEW(innWalls)"
   ]
  },
  {
   "cell_type": "code",
   "execution_count": 42,
   "metadata": {
    "collapsed": true
   },
   "outputs": [],
   "source": [
    "travertineHEX = \"#E2DECD\""
   ]
  },
  {
   "cell_type": "code",
   "execution_count": 43,
   "metadata": {
    "collapsed": true
   },
   "outputs": [],
   "source": [
    "innWalls = HEX(travertineHEX)(innWalls)\n",
    "#VIEW(innWalls)"
   ]
  },
  {
   "cell_type": "markdown",
   "metadata": {},
   "source": [
    "![walls1](./images/walls.png)"
   ]
  },
  {
   "cell_type": "markdown",
   "metadata": {},
   "source": [
    "![walls2](./images/walls2.png)"
   ]
  },
  {
   "cell_type": "markdown",
   "metadata": {},
   "source": [
    "![walls3](./images/walls3.png)"
   ]
  },
  {
   "cell_type": "code",
   "execution_count": 44,
   "metadata": {
    "collapsed": true
   },
   "outputs": [],
   "source": [
    "parquet = './textures/parquet.jpg'"
   ]
  },
  {
   "cell_type": "markdown",
   "metadata": {},
   "source": [
    "# Inner walls, floor and base\n",
    "Let's now give a look inside the villa at current state "
   ]
  },
  {
   "cell_type": "code",
   "execution_count": 45,
   "metadata": {
    "collapsed": true
   },
   "outputs": [],
   "source": [
    "villaBase = HEX(travertineHEX)(villaBase)\n",
    "innWalls = HEX(travertineHEX)((innWalls))\n",
    "villaFloor = TEXTURE(parquet)(villaFloor)\n",
    "habitation = STRUCT([TOP([TOP([villaBase, villaFloor]), innWalls])])\n",
    "#VIEW(habitation)"
   ]
  },
  {
   "cell_type": "markdown",
   "metadata": {
    "collapsed": true
   },
   "source": [
    "![inside](./images/inside.png)"
   ]
  },
  {
   "cell_type": "markdown",
   "metadata": {},
   "source": [
    "![inside2](./images/inside2.png)"
   ]
  },
  {
   "cell_type": "code",
   "execution_count": 46,
   "metadata": {
    "collapsed": true
   },
   "outputs": [],
   "source": [
    "#VIEW(TOP([base, habitation]))"
   ]
  },
  {
   "cell_type": "code",
   "execution_count": 47,
   "metadata": {
    "collapsed": true
   },
   "outputs": [],
   "source": [
    "def RELATIVE(ref, obj, x=0, y=0, z=0):\n",
    "    _x = float(x)\n",
    "    _y = float(y)\n",
    "    _z = float(z)\n",
    "    return ALIGN([[1, MED, MED], [2, MED, MED], [3, MIN, MIN]])([\n",
    "        ref,\n",
    "        STRUCT([EMPTY, T([1, 2, 3])([-_x*2, -_y*2, _z*2])(obj)])\n",
    "    ])"
   ]
  },
  {
   "cell_type": "markdown",
   "metadata": {},
   "source": [
    "# Windows\n",
    "Few kinds of windows:\n",
    "- lower ones are placed on villaBase.\n",
    "- big green windows are more \"central\" on walls height\n",
    "- small green windows are place at the very top of the side walls\n",
    "\n",
    "![side](./images/sideVillaFoto.jpg)"
   ]
  },
  {
   "cell_type": "code",
   "execution_count": 48,
   "metadata": {
    "collapsed": true
   },
   "outputs": [],
   "source": [
    "woodHEX = \"#8B5A2B\"\n",
    "steelGreyHEX = \"#43464B\"\n",
    "glassTexture = './textures/glass.jpeg'\n",
    "greenWindowTexture1 = './textures/greenWindow1.png'\n",
    "greenWindowTexture2 = './textures/greenWindow2.png'"
   ]
  },
  {
   "cell_type": "markdown",
   "metadata": {},
   "source": [
    "### lower windows"
   ]
  },
  {
   "cell_type": "code",
   "execution_count": 49,
   "metadata": {
    "collapsed": true
   },
   "outputs": [],
   "source": [
    "def lowerWindow():\n",
    "    windowStructure = SKEL_1(STRUCT([PROD([INTERVALS(0.20*8)(2), INTERVALS(0.20*5)(1)])]))\n",
    "    windowStructure = HEX(woodHEX)(STRUCT([OFFSET([0.01,0.03, 0.03])(PROD([Q(0.01), windowStructure]))]))\n",
    "\n",
    "    #SIZE([1,2,3])(windowStructure) = [0.019999999552965164, 1.6299999952316284, 1.0299999713897705]\n",
    "    glassSize = [0.019999999552965164/4, 1.6299999952316284, 1.0299999713897705]\n",
    "    glass = TEXTURE(glassTexture)(CUBOID(glassSize))\n",
    "    \n",
    "    windowStructureBack = CUBOID(glassSize)\n",
    "    windowStructureBack = HEX(woodHEX)(windowStructureBack)\n",
    "    \n",
    "    windowGrid = SKEL_1(STRUCT([PROD([INTERVALS(1.62)(6), INTERVALS(1.01)(4)])]))\n",
    "    windowGrid = HEX(steelGreyHEX)(STRUCT([OFFSET([0.01,0.01, 0.01])(PROD([Q(0.01), windowGrid]))]))\n",
    "\n",
    "    window = STRUCT([RIGHT([RIGHT([windowStructureBack, RIGHT([glass, windowStructure])]), windowGrid])])\n",
    "    \n",
    "    return window"
   ]
  },
  {
   "cell_type": "code",
   "execution_count": 50,
   "metadata": {
    "collapsed": true
   },
   "outputs": [],
   "source": [
    "myLowerWindow = lowerWindow()\n",
    "#VIEW(myLowerWindow)"
   ]
  },
  {
   "cell_type": "code",
   "execution_count": 51,
   "metadata": {
    "collapsed": true
   },
   "outputs": [],
   "source": [
    "def moveRelatively(ref, obj, x=0, y=0, z=0):\n",
    "    _x = float(x)\n",
    "    _y = float(y)\n",
    "    _z = float(z)\n",
    "    return ALIGN([[1, MED, MED], [2, MED, MED], [3, MIN, MIN]])([\n",
    "        ref, STRUCT([EMPTY, T([1, 2, 3])([_x*2, -_y*2, _z*2])(obj)])\n",
    "    ])"
   ]
  },
  {
   "cell_type": "markdown",
   "metadata": {},
   "source": [
    "### big green windows"
   ]
  },
  {
   "cell_type": "code",
   "execution_count": 52,
   "metadata": {
    "collapsed": true
   },
   "outputs": [],
   "source": [
    "def greenWindow(n,rot=1.0):\n",
    "    greenWindowSize = [0.019999999552965164, 1.6299999952316284, n*1.0299999713897705]\n",
    "    window = TEXTURE([greenWindowTexture1, True,True, 0.0,0.0,0.0,1.0,1.0*rot,0.0,0.0])(CUBOID(greenWindowSize))\n",
    "    return window"
   ]
  },
  {
   "cell_type": "code",
   "execution_count": 53,
   "metadata": {
    "collapsed": true
   },
   "outputs": [],
   "source": [
    "myBigGrWindow = greenWindow(3)\n",
    "#VIEW(myBigGrWindow)"
   ]
  },
  {
   "cell_type": "markdown",
   "metadata": {},
   "source": [
    "### small green windows"
   ]
  },
  {
   "cell_type": "code",
   "execution_count": 54,
   "metadata": {
    "collapsed": true
   },
   "outputs": [],
   "source": [
    "myLittleGrWindow = greenWindow(1,rot=PI)\n",
    "#VIEW(myLittleGrWindow)"
   ]
  },
  {
   "cell_type": "code",
   "execution_count": 55,
   "metadata": {
    "collapsed": true
   },
   "outputs": [],
   "source": [
    "def placeWindows():\n",
    "    \"\"\"\n",
    "    This method aims to properly arrange windows on the vertical axis.\n",
    "        - small green window ()\n",
    "        - big green window\n",
    "        - lower window\n",
    "    :return: pyplasm.xgepy.Hpc\n",
    "    \"\"\"\n",
    "    #the list of all the windows\n",
    "    windowStack = []\n",
    "    \n",
    "    lowerWin = T(3)(0.20*5)(lowerWindow())\n",
    "    bigGreen = T(3)(0.20*15)(greenWindow(3))\n",
    "    smallGreen = T(3)(5.)(greenWindow(1,rot=PI))\n",
    "    \n",
    "    windowStack.append(lowerWin)\n",
    "    windowStack.append(bigGreen)\n",
    "    windowStack.append(smallGreen)\n",
    "    \n",
    "    return STRUCT(windowStack)"
   ]
  },
  {
   "cell_type": "code",
   "execution_count": 56,
   "metadata": {
    "collapsed": true
   },
   "outputs": [],
   "source": [
    "myWindowStack = placeWindows()\n",
    "#VIEW(myWindowStack)"
   ]
  },
  {
   "cell_type": "markdown",
   "metadata": {},
   "source": [
    "## Outer Walls - façades\n",
    "Or the walls of the villa, these will host the windows.\n",
    "Side walls are (95.9 - 58.9) long, this value is obtained from svg taken for the floor and villaBase.\n",
    "\n",
    "Let's remember window sizes: \n",
    "    [0.019999999552965164, 1.6299999952316284, 1.0299999713897705] = [thickness, width, height]  \n",
    "    with n = 4.5 for the big green windows and n = 1 for the smaller ones"
   ]
  },
  {
   "cell_type": "code",
   "execution_count": 57,
   "metadata": {
    "collapsed": true
   },
   "outputs": [],
   "source": [
    "def sideFacade():\n",
    "    sideWallsWidth = 95.9 - 58.9\n",
    "    windowSizes = [0.019999999552965164, 1.6299999952316284, 1.0299999713897705]\n",
    "\n",
    "    # QUOTE uses an array of integers: positive ones will be segments, negative ones spaces.\n",
    "    # fullWall<D> is a positive integer used in QUOTE to represent segments, or portions of the full wall\n",
    "    # (no windows)\n",
    "    fullX = sideWallsWidth - windowSizes[1]*3.\n",
    "    fullWallX = fullX/4. - windowSizes[1]/2\n",
    "    \n",
    "    # some datapoint are summed up with long values,\n",
    "    # this has the mere aim of reaching the proper width of the wall. See below prints\n",
    "    xRithm = [fullWallX, -windowSizes[1], fullWallX+1.3039999961999995, -windowSizes[1],\n",
    "              fullWallX+1.9559999942999995, -windowSizes[1], fullWallX]\n",
    "    \n",
    "    # just to be shure that if we sum up these elements, we get the actual width/height of the wall\n",
    "    print \"sideWallsWidth: {}\".format(sideWallsWidth)\n",
    "    print (\"sumFullWallX: {}\".format(sum([abs(n) for n in xRithm])))\n",
    "    \n",
    "    \n",
    "   \n",
    "    y =  windowSizes[2]   \n",
    "    yRithm = [0.4, -y*3., y*3, -y, 0.39000020027000026]\n",
    "    print (\"wall height: 8.0\")\n",
    "    print (\"sumFullWallY: {}\".format(sum([abs(n) for n in yRithm])))\n",
    "    \n",
    "    xVoid = [-xv for xv in xRithm]\n",
    "    yVoid = [-yv for yv in yRithm]\n",
    "    \n",
    "    return STRUCT([\n",
    "        PROD([QUOTE(xRithm),QUOTE(yRithm)]),\n",
    "        PROD([QUOTE(xVoid),QUOTE(yRithm)]),\n",
    "        PROD([QUOTE(xRithm),QUOTE(yVoid)])\n",
    "        ])"
   ]
  },
  {
   "cell_type": "code",
   "execution_count": 58,
   "metadata": {},
   "outputs": [
    {
     "name": "stdout",
     "output_type": "stream",
     "text": [
      "sideWallsWidth: 37.0\n",
      "sumFullWallX: 37.0\n",
      "wall height: 8.0\n",
      "sumFullWallY: 8.0\n"
     ]
    }
   ],
   "source": [
    "myFacade = sideFacade()"
   ]
  },
  {
   "cell_type": "code",
   "execution_count": 59,
   "metadata": {
    "collapsed": true
   },
   "outputs": [],
   "source": [
    "#VIEW(myFacade)"
   ]
  },
  {
   "cell_type": "markdown",
   "metadata": {},
   "source": [
    "![sideQuote](./images/sideQuote.png)"
   ]
  },
  {
   "cell_type": "markdown",
   "metadata": {},
   "source": [
    "## Building the back wall\n",
    "Here we have a more intricate, structure for the back wall. It is possible to look at this wall as a structure divided in three parts:\n",
    "- a central part, containing 3 big green windows close to one another\n",
    "- left part and right side are specular\n",
    "\n",
    "I made some assumption to give a proportion to each part (I could have measured pixels with inkScape but it feels excessive), given the width of 41.4 : \n",
    "- cental part = $\\frac{1}{4}\\cdot 41.4$ = 10.35\n",
    "- left/right parts (I will call this lrSpace, now on) = $\\frac{3}{8}\\cdot 41.4$ (each) = 15.524999999999999 (each)"
   ]
  },
  {
   "cell_type": "markdown",
   "metadata": {},
   "source": [
    "![back](./images/back.jpeg)"
   ]
  },
  {
   "cell_type": "code",
   "execution_count": 60,
   "metadata": {
    "collapsed": true
   },
   "outputs": [],
   "source": [
    "def SPECULAR (D):\n",
    "    \"\"\"\n",
    "    SPECULAR(D)(pol) is just a variation of MIRROR(D)(pol) without returning the original object,\n",
    "    plus the specular polyhedron is placed so that its origin equals pol origin\n",
    "    :param D: direction, integer\n",
    "    :param pol: polyhedron\n",
    "    \"\"\"\n",
    "    def SPECULAR0 (pol):\n",
    "        return  STRUCT([T(D)(SIZE(D)(pol))(S(D)(-1)(pol))])\n",
    "    return SPECULAR0"
   ]
  },
  {
   "cell_type": "markdown",
   "metadata": {},
   "source": [
    "### Important Note\n",
    "One single jupyter does not seem to be able to handle some kind of computation (the kernel dies), as the one for the back wall i originally intended to use.  \n",
    "I need to split the creation of the back walls in more than one method, possible scheme:\n",
    "    - part 1\n",
    "    - part 2\n",
    "    - part 3\n",
    "    - ...\n",
    "    \n",
    "Below the central part of this wall is divided in three parts, each one is associated with a bigGreenWindows plus grouping the creation of all these part in a unique method, as mentioned above is not possible within a Jupyter Notebook"
   ]
  },
  {
   "cell_type": "markdown",
   "metadata": {},
   "source": [
    "![back2](./images/back2.jpeg)"
   ]
  },
  {
   "cell_type": "markdown",
   "metadata": {},
   "source": [
    "### façade\n",
    "I will now use a support method to build a model for a façade given the geometric pattern representing it (e.g. window-no window-window ...)\n",
    "\n",
    "This method has been inspired from PLASM documentation (chapter 02)"
   ]
  },
  {
   "cell_type": "code",
   "execution_count": 61,
   "metadata": {
    "collapsed": true
   },
   "outputs": [],
   "source": [
    "def facade(args):\n",
    "    xRithm, yRithm, xVoid, yVoid = args\n",
    "    \n",
    "    wall = STRUCT([\n",
    "    PROD([QUOTE(xRithm),QUOTE(yRithm)]),\n",
    "    PROD([QUOTE(xVoid),QUOTE(yRithm)]),\n",
    "    PROD([QUOTE(xRithm),QUOTE(yVoid)])\n",
    "    ])\n",
    "    return wall"
   ]
  },
  {
   "cell_type": "code",
   "execution_count": 62,
   "metadata": {
    "collapsed": true
   },
   "outputs": [],
   "source": [
    "windowSizes = [0.019999999552965164, 1.6299999952316284, 1.0299999713897705]\n",
    "wx = windowSizes[1]\n",
    "wy =  windowSizes[2]"
   ]
  },
  {
   "cell_type": "code",
   "execution_count": 63,
   "metadata": {},
   "outputs": [],
   "source": [
    "def backWallSide(x, y):\n",
    "    \"\"\"\n",
    "    backWallSide build one side of the wall, it will just be necessary to apply SPECULAR to it, to get the other side\n",
    "    :param x: horizontal measure of the basic small window\n",
    "    :param y: vertical measure of the basic small window\n",
    "    :return: pyplasm.xgepy.Hpc\n",
    "    \"\"\"\n",
    "    lrSpaceX = 15.525 #it will be automatically rounded to this value (no need to to use 15.5249...)\n",
    "        \n",
    "    xRithm = [lrSpaceX/3.-0.175, -x, lrSpaceX/3.+0.4, -x, 1.6900000095000003]  \n",
    "    yRithm = [0.4, -y*3., y*3, -y, 0.39000020027000026]\n",
    "    xVoid = [-xv for xv in xRithm]\n",
    "    yVoid = [-yv for yv in yRithm]\n",
    "    \n",
    "    return facade([xRithm, yRithm, xVoid, yVoid])"
   ]
  },
  {
   "cell_type": "code",
   "execution_count": 64,
   "metadata": {
    "scrolled": true
   },
   "outputs": [],
   "source": [
    "backWallLeft = backWallSide(wx, wy)\n",
    "backWallRight = SPECULAR(1)(backWallLeft)\n",
    "\n",
    "#VIEW(STRUCT([backWallLeft, T(1)(15.525)(backWallRight)]))"
   ]
  },
  {
   "cell_type": "code",
   "execution_count": 65,
   "metadata": {
    "collapsed": true
   },
   "outputs": [],
   "source": [
    "def backWallCentralSides(x, y):\n",
    "    \"\"\"\n",
    "    This creates the lateral side of the central part\n",
    "    :param x: horizontal measure of the basic small window\n",
    "    :param y: vertical measure of the basic small window\n",
    "    :return: list cointaing both sides\n",
    "    \"\"\"\n",
    "    out = []\n",
    "    \n",
    "    xRithm = [1.91000000834465, -x, 2.]\n",
    "    yRithm = [0.4, -y*12./5, y*18./5, -y, 0.39000020027000026]\n",
    "    xVoid = [-xv for xv in xRithm]\n",
    "    yVoid = [-xv for xv in yRithm]\n",
    "    facade1 = facade([xRithm, yRithm, xVoid, yVoid])\n",
    "    out.append(facade1)\n",
    "       \n",
    "    out.append(SPECULAR(1)(facade1))\n",
    "    return out"
   ]
  },
  {
   "cell_type": "code",
   "execution_count": 66,
   "metadata": {
    "collapsed": true
   },
   "outputs": [],
   "source": [
    "\"\"\"\n",
    "IL PROBLEMA È QUI\n",
    "\"\"\"\n",
    "\n",
    "def backWallCentralMain(x, y):\n",
    "    \n",
    "    yRithm = [0.1,-y*3, 4.9100000858307]\n",
    "    #xVoid = [-xv for xv in xRithm]\n",
    "    yVoid = [-xv for xv in yRithm]\n",
    "    \n",
    "    centralMain = STRUCT([\n",
    "    PROD([Q(x),QUOTE(yRithm)]),\n",
    "    PROD([Q(x),QUOTE(yVoid)])\n",
    "    ])\n",
    "    return centralMain"
   ]
  },
  {
   "cell_type": "code",
   "execution_count": 67,
   "metadata": {},
   "outputs": [],
   "source": [
    "#AA(VIEW)(backWallCentralSides(wx, wy))"
   ]
  },
  {
   "cell_type": "code",
   "execution_count": 68,
   "metadata": {},
   "outputs": [
    {
     "data": {
      "text/plain": [
       "<pyplasm.xgepy.Hpc; proxy of <Swig Object of type 'std::shared_ptr< Hpc > *' at 0x181c191c00> >"
      ]
     },
     "execution_count": 68,
     "metadata": {},
     "output_type": "execute_result"
    }
   ],
   "source": [
    "b = backWallCentralMain(wx, wy)\n",
    "VIEW(b)"
   ]
  },
  {
   "cell_type": "code",
   "execution_count": null,
   "metadata": {
    "collapsed": true
   },
   "outputs": [],
   "source": []
  }
 ],
 "metadata": {
  "kernelspec": {
   "display_name": "Python 2",
   "language": "python",
   "name": "python2"
  },
  "language_info": {
   "codemirror_mode": {
    "name": "ipython",
    "version": 2
   },
   "file_extension": ".py",
   "mimetype": "text/x-python",
   "name": "python",
   "nbconvert_exporter": "python",
   "pygments_lexer": "ipython2",
   "version": "2.7.13"
  }
 },
 "nbformat": 4,
 "nbformat_minor": 2
}
