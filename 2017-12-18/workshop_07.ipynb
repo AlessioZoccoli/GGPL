{
 "cells": [
  {
   "cell_type": "markdown",
   "metadata": {},
   "source": [
    "Andrea Palladio - Villa Badoer\n",
    "================\n",
    "\n",
    "Working again on Villa Badoer as started in workshop_05.\n",
    "Aim of this final workshop is to completing the model."
   ]
  },
  {
   "cell_type": "markdown",
   "metadata": {},
   "source": [
    "Villa Badoer is a villa in Fratta Polesine in the Veneto region of northern Italy. It was designed in 1556 by Andrea Palladio for the Venetian noble Francesco Badoer, and built between 1557 and 1563, on the site of a medieval castle which guarded a bridge across a navigable canal. This was the first time Palladio used his fully developed temple pediment in the facade of a villa.\n",
    "Villa Badoer has been part since 1996 of the UNESCO World Heritage Site \"City of Vicenza and the Palladian Villas of the Veneto\".\n",
    "\n",
    "Constructed and inhabited in 1556, the villa therefore functioned for the management of the fields and was simultaneously a visible sign of the “feudal” presence, so to speak, of Badoer in the territory: it is not coincidental that the building rises on the site of an ancient medieval castle.\n",
    "Palladio succeeded in uniting within one effective synthesis these dual meanings, joining the majestic manor house to the two barchesse (farm wings) bent into semicircles, which screen the stables and other agricultural annexes."
   ]
  },
  {
   "cell_type": "markdown",
   "metadata": {},
   "source": [
    "![VillaBadoer](./images/villa.jpg)"
   ]
  },
  {
   "cell_type": "code",
   "execution_count": 177,
   "metadata": {},
   "outputs": [],
   "source": [
    "from larlib import *\n",
    "from math import floor\n",
    "import csv\n",
    "import os"
   ]
  },
  {
   "cell_type": "markdown",
   "metadata": {
    "collapsed": true
   },
   "source": [
    "# Reading data\n",
    "As mentioned in workshop_05 I will assign 3d-points instead of getting data from the filesystem. This time I will put all data in a separate file, for readability.\n",
    "This will prevent problems regarding paths etc. this approach may come in handy for fine tune points ;)"
   ]
  },
  {
   "cell_type": "code",
   "execution_count": 178,
   "metadata": {
    "collapsed": true
   },
   "outputs": [],
   "source": [
    "def larModel(path2lines, openPath=0):\n",
    "    \"\"\"\n",
    "    larModel(\"mypath\")\n",
    "    :param path2file: path to the .lines file\n",
    "    :return: tuple. A graph model representing Vertices and Edges.\n",
    "             Edges are lists of indices to Vertices.\n",
    "    \"\"\"\n",
    "    with open(path2lines, \"rb\") as file:\n",
    "        lines = csv.reader(file, delimiter=\",\")\n",
    "\n",
    "        mapping = {}\n",
    "        v = []\n",
    "        ev = []\n",
    "        index = 0\n",
    "        \n",
    "        # indexing of the vertices and approximation\n",
    "        for entry in lines:\n",
    "            x1 = math.floor(float(entry[0])*10)/10\n",
    "            y1 = math.floor(float(entry[1])*10)/10\n",
    "            x2 = math.floor(float(entry[2])*10)/10\n",
    "            y2 = math.floor(float(entry[3])*10)/10\n",
    "\n",
    "            if not(mapping.has_key((x1,y1))):\n",
    "                index += 1\n",
    "                mapping[(x1,y1)] = index\n",
    "                v.append([x1,y1])\n",
    "\n",
    "            if not(mapping.has_key((x2,y2))):\n",
    "                index += 1\n",
    "                mapping[(x2,y2)] = index\n",
    "                v.append([x2,y2])\n",
    "\n",
    "            ev.append([mapping[(x1,y1)], mapping[(x2,y2)]])\n",
    "        \n",
    "        #this will close the path by linking the last node with the first one\n",
    "        if (ev[-1][1] != ev[0][0] and not(openPath)):\n",
    "            lastEdge = [ev[-1][1], ev[0][0]]\n",
    "            ev.append(lastEdge)\n",
    "        \n",
    "        #print (lastEdge[0] == ev[-2][1]) #True\n",
    "        #print (lastEdge[1] == ev[0][0]) #True\n",
    "        #print ev[-1] == lastEdge\n",
    "        \n",
    "        \n",
    "    return v,ev"
   ]
  },
  {
   "cell_type": "markdown",
   "metadata": {},
   "source": [
    "# Work pipeline\n",
    "- Divide et impera: I will start off with splitting the structure.\n",
    "  - For every part of Villa Badoer a .csv and a .lines will be produced (https://inkscape.org)\n",
    "  - Alternatively, if pre-existing pyplasm model for polyhedra are sufficient, then those will be used\n",
    "- Given a .lines file for a certain part of the structure, produce a graph (V,EV) as lar model\n",
    "- Given a part of the villa, draw its plant\n",
    "- Given a plant use cartesian product to build walls etc.\n",
    "- Figure out a way to use symmetries"
   ]
  },
  {
   "cell_type": "code",
   "execution_count": 179,
   "metadata": {
    "collapsed": true
   },
   "outputs": [],
   "source": [
    "from data import pyData # Pythonized data from .lines"
   ]
  },
  {
   "cell_type": "markdown",
   "metadata": {
    "collapsed": true
   },
   "source": [
    "# Base\n",
    "Probably as a result of exploiting the substructures of the medieval castle, the manor house of the villa rises on a high basement, and recalls illustrious precedents like the Villa Medici at Poggio a Caiano by Giuliano da Sangallo, and the not far distant Villa dei Vescovi at Luvigliano by Giovanni Maria Falconetto.\n",
    "\n",
    "\n",
    "The base on which the main structure lies is composed of two layers, base1 and base2, plus a frontal base adjacent to the stairs.\n",
    "Base2 is placed upon base1, frontbase situates in front of base1 and base2 "
   ]
  },
  {
   "cell_type": "code",
   "execution_count": 180,
   "metadata": {
    "collapsed": true
   },
   "outputs": [],
   "source": [
    "#reload(pyData)"
   ]
  },
  {
   "cell_type": "markdown",
   "metadata": {},
   "source": [
    "### Base 1"
   ]
  },
  {
   "cell_type": "code",
   "execution_count": 181,
   "metadata": {
    "collapsed": true
   },
   "outputs": [],
   "source": [
    "VBase1,EVBase1 = larModel(os.getcwd() + \"/data/base1.lines\")"
   ]
  },
  {
   "cell_type": "code",
   "execution_count": 182,
   "metadata": {
    "collapsed": true
   },
   "outputs": [],
   "source": [
    "VBase1 = pyData.VBase1\n",
    "EVBase = pyData.EVBase1\n"
   ]
  },
  {
   "cell_type": "code",
   "execution_count": 183,
   "metadata": {},
   "outputs": [
    {
     "data": {
      "text/plain": [
       "[[51.4, 83.4],\n",
       " [51.4, 120.7],\n",
       " [54.9, 120.7],\n",
       " [54.9, 115.7],\n",
       " [54.9, 115.7],\n",
       " [56.7, 115.7],\n",
       " [56.7, 120.7],\n",
       " [102.6, 120.7],\n",
       " [102.6, 115.6],\n",
       " [104.3, 115.6],\n",
       " [104.3, 120.7],\n",
       " [107.7, 120.7],\n",
       " [107.7, 83.4]]"
      ]
     },
     "execution_count": 183,
     "metadata": {},
     "output_type": "execute_result"
    }
   ],
   "source": [
    "VBase1"
   ]
  },
  {
   "cell_type": "markdown",
   "metadata": {},
   "source": [
    "### Base 2"
   ]
  },
  {
   "cell_type": "code",
   "execution_count": 184,
   "metadata": {
    "collapsed": true
   },
   "outputs": [],
   "source": [
    "VBase2,EVBase2 = larModel(os.getcwd() + \"/data/base2.lines\")"
   ]
  },
  {
   "cell_type": "code",
   "execution_count": 185,
   "metadata": {
    "collapsed": true
   },
   "outputs": [],
   "source": [
    "VBase2 = pyData.VBase2\n",
    "EVBase2 = pyData.EVBase2"
   ]
  },
  {
   "cell_type": "markdown",
   "metadata": {},
   "source": [
    "# Frontal base"
   ]
  },
  {
   "cell_type": "code",
   "execution_count": 186,
   "metadata": {
    "collapsed": true
   },
   "outputs": [],
   "source": [
    "VBaseF,EVBaseF = larModel(os.getcwd() + \"/data/frontbase2.lines\")"
   ]
  },
  {
   "cell_type": "code",
   "execution_count": 187,
   "metadata": {
    "collapsed": true
   },
   "outputs": [],
   "source": [
    "VBaseF = pyData.VBaseF\n",
    "EVBaseF = pyData.EVBaseF"
   ]
  },
  {
   "cell_type": "markdown",
   "metadata": {},
   "source": [
    "# Drawing the wire-frame plant\n",
    "\n",
    "Again from workshop_05"
   ]
  },
  {
   "cell_type": "code",
   "execution_count": 188,
   "metadata": {
    "collapsed": true
   },
   "outputs": [],
   "source": [
    "def drawPlant(verts, edges, pr = 0):\n",
    "    \"\"\"\n",
    "    drawPlant(V,EV) returns the wire-flame plant of the input, the lar model.\n",
    "    It is clearly a 2d model, this implies that it does not handle space for doors, windows, stairs etc.\n",
    "    \n",
    "    :param verts: list of vertices in form [X, Y]\n",
    "    :param edges: list of edges in form [indexofVertA, indexofVertB]\n",
    "    :return: array of POLILINEs\n",
    "    \"\"\"\n",
    "    plant = []\n",
    "    for e in edges:\n",
    "        if (pr):\n",
    "            print ([verts[e[0]-1], verts[e[1]-1]]),\"\\n\"\n",
    "        plant.append(POLYLINE([verts[e[0]-1], verts[e[1]-1]]))\n",
    "    return plant"
   ]
  },
  {
   "cell_type": "code",
   "execution_count": 189,
   "metadata": {
    "collapsed": true
   },
   "outputs": [],
   "source": [
    "base1plant = drawPlant(VBase1, EVBase1, pr=0)"
   ]
  },
  {
   "cell_type": "code",
   "execution_count": 190,
   "metadata": {
    "collapsed": true
   },
   "outputs": [],
   "source": [
    "base2plant = drawPlant(VBase2, EVBase2)\n"
   ]
  },
  {
   "cell_type": "code",
   "execution_count": 191,
   "metadata": {
    "collapsed": true
   },
   "outputs": [],
   "source": [
    "baseFplant = drawPlant(VBaseF, EVBaseF)\n",
    "#VIEW(STRUCT(baseFplant))"
   ]
  },
  {
   "cell_type": "markdown",
   "metadata": {},
   "source": [
    "# Building the bases"
   ]
  },
  {
   "cell_type": "markdown",
   "metadata": {},
   "source": [
    "Scheme: First, I will build every part of the hole base (base1, base2 etc.) then I will use UNION to make a unique base out of each of its part.\n",
    "\n",
    "Key functions:\n",
    "- SOLIDIFY(polygon): it joins inner points of both concave and convex polygons\n",
    "- UNION(polyhs): as the name suggets, it merges input polyhedra\n",
    "\n",
    "\n",
    "I will assume steps have a height of 20cm and as we can see from the following image, the base has 9 + 5 steps"
   ]
  },
  {
   "cell_type": "markdown",
   "metadata": {},
   "source": [
    "![steps](./images/gradini.jpg)"
   ]
  },
  {
   "cell_type": "markdown",
   "metadata": {},
   "source": [
    "### Base 1"
   ]
  },
  {
   "cell_type": "code",
   "execution_count": 192,
   "metadata": {
    "collapsed": true
   },
   "outputs": [],
   "source": [
    "base1 = SOLIDIFY(STRUCT(base1plant))\n",
    "base1 = PROD([base1, Q(0.20*9)])"
   ]
  },
  {
   "cell_type": "code",
   "execution_count": 193,
   "metadata": {
    "collapsed": true
   },
   "outputs": [],
   "source": [
    "#VIEW(base1)"
   ]
  },
  {
   "cell_type": "markdown",
   "metadata": {},
   "source": [
    "### Base 2"
   ]
  },
  {
   "cell_type": "code",
   "execution_count": 194,
   "metadata": {
    "collapsed": true
   },
   "outputs": [],
   "source": [
    "base2 = SOLIDIFY(STRUCT(base2plant))\n",
    "base2 = T(3)(0.20*9)(PROD([base2, Q(0.20*5)]))"
   ]
  },
  {
   "cell_type": "code",
   "execution_count": 195,
   "metadata": {
    "collapsed": true
   },
   "outputs": [],
   "source": [
    "#VIEW(base2)"
   ]
  },
  {
   "cell_type": "markdown",
   "metadata": {},
   "source": [
    "### Frontal Base"
   ]
  },
  {
   "cell_type": "code",
   "execution_count": 196,
   "metadata": {
    "collapsed": true
   },
   "outputs": [],
   "source": [
    "baseF = SOLIDIFY(STRUCT(baseFplant))\n",
    "baseF = PROD([baseF, Q(0.20*14)])"
   ]
  },
  {
   "cell_type": "code",
   "execution_count": 197,
   "metadata": {
    "collapsed": true
   },
   "outputs": [],
   "source": [
    "#VIEW(baseF)"
   ]
  },
  {
   "cell_type": "markdown",
   "metadata": {},
   "source": [
    "## Final base with back stairs\n",
    "Stairs can also be seen on the back of base1 and 2"
   ]
  },
  {
   "cell_type": "code",
   "execution_count": 198,
   "metadata": {
    "collapsed": true
   },
   "outputs": [],
   "source": [
    "def stairs(N,stepsize):\n",
    "    \"\"\"\n",
    "    stairs build a basic, full stairway (no space between steps and the ground)\n",
    "    :param N: number of steps\n",
    "    :param stepsize: array of length 3. stepsize contains cartesian coordinate used to model a single step\n",
    "    \"\"\"\n",
    "    sx,sy,sz = stepsize\n",
    "    V,FV = larCuboids([1,1])\n",
    "    step = S([1,2])([sx,sy])(STRUCT(MKPOLS((V,FV))))\n",
    "    step =  steps = T(3)(sz*(N-1))(PROD([step,INTERVALS(sz)(1)]))\n",
    "    for i in range(1,N):\n",
    "        nextStep = T(3)(-sz*i)(S(2)(1+i)(step))\n",
    "        steps = STRUCT([steps,nextStep])\n",
    "    return steps"
   ]
  },
  {
   "cell_type": "code",
   "execution_count": 199,
   "metadata": {
    "collapsed": true
   },
   "outputs": [],
   "source": [
    "\"\"\"\n",
    "Left-hand side back stairs\n",
    "\n",
    "size depens on the svg/lines data.\n",
    "It is redundant, in a way, to calculate it as a difference, but this way it gives the author more control.\n",
    "\n",
    "I decided to model steps so that they starts from the origin [0,0,0], an approach I did not used for other structures.\n",
    "This way, code will be more reusable. I will need to model various stairs.\n",
    "\"\"\"\n",
    "nStepsBack = 14 #recurrent value, as Villa Badoer has the same steps number for every stairway\n",
    "\n",
    "bssX = 56.65 - 54.9\n",
    "bssY = (117.7 - 115.7)/5.5\n",
    "bssZ = 0.20 #height of a single step\n",
    "backStepSize = [bssX, bssY, bssZ]"
   ]
  },
  {
   "cell_type": "code",
   "execution_count": 200,
   "metadata": {
    "collapsed": true
   },
   "outputs": [],
   "source": [
    "myStairs = stairs(nStepsBack, backStepSize)"
   ]
  },
  {
   "cell_type": "markdown",
   "metadata": {},
   "source": [
    "## The whole base\n",
    "\n",
    "- Base1\n",
    "- Base2\n",
    "- Frontal base\n",
    "- Stairs on the back"
   ]
  },
  {
   "cell_type": "code",
   "execution_count": 201,
   "metadata": {
    "collapsed": true
   },
   "outputs": [],
   "source": [
    "bricksBase = './textures/bricks.jpeg'\n",
    "orangeBricks = './textures/orangeBricks.jpg'"
   ]
  },
  {
   "cell_type": "code",
   "execution_count": 202,
   "metadata": {
    "collapsed": true
   },
   "outputs": [],
   "source": [
    "base1 = TEXTURE(bricksBase)(base1)\n",
    "base2 = TEXTURE(bricksBase)(base2)\n",
    "baseF = TEXTURE(orangeBricks)(baseF)\n",
    "\n",
    "leftBackStairs = TEXTURE(bricksBase)(T([1,2])([54.93,115.7])(myStairs))\n",
    "rightBackStairs = TEXTURE(bricksBase)(T([1,2])([102.55,115.60])(myStairs))\n",
    "\n",
    "base = STRUCT([base1,base2, baseF, leftBackStairs, rightBackStairs])"
   ]
  },
  {
   "cell_type": "code",
   "execution_count": 203,
   "metadata": {},
   "outputs": [
    {
     "data": {
      "text/plain": [
       "<pyplasm.xgepy.Hpc; proxy of <Swig Object of type 'std::shared_ptr< Hpc > *' at 0x18150f5690> >"
      ]
     },
     "execution_count": 203,
     "metadata": {},
     "output_type": "execute_result"
    }
   ],
   "source": [
    "VIEW(base)"
   ]
  },
  {
   "cell_type": "markdown",
   "metadata": {},
   "source": [
    "![base](./images/base.png)"
   ]
  },
  {
   "cell_type": "markdown",
   "metadata": {},
   "source": [
    "![base_2](./images/base_2.png)"
   ]
  },
  {
   "cell_type": "markdown",
   "metadata": {},
   "source": [
    "![base_3](./images/base_3.png)"
   ]
  },
  {
   "cell_type": "markdown",
   "metadata": {},
   "source": [
    "# The main structure\n",
    "Note: Some sources cite a basement beneth the main floor, yet no images or descriptions seem to be available. Because of that, I decided not to model a multiple floor structure until I find proper material on which to base a valid model."
   ]
  },
  {
   "cell_type": "markdown",
   "metadata": {},
   "source": [
    "## Floor\n",
    "The floor lies on a base which is thinner then the ones we have seen before: it is slightly thinner than base2 (which is 0.20*5), let's assume it is 0.2*3 m thick"
   ]
  },
  {
   "cell_type": "code",
   "execution_count": 204,
   "metadata": {
    "collapsed": true
   },
   "outputs": [],
   "source": [
    "VbaseVilla,EVbaseVilla = larModel(os.getcwd() + \"/data/mainStrBase.lines\", openPath=0)"
   ]
  },
  {
   "cell_type": "code",
   "execution_count": 205,
   "metadata": {
    "collapsed": true
   },
   "outputs": [],
   "source": [
    "VbaseVilla = pyData.VbaseVilla"
   ]
  },
  {
   "cell_type": "code",
   "execution_count": 206,
   "metadata": {
    "collapsed": true
   },
   "outputs": [],
   "source": [
    "EVbaseVilla = pyData.EVbaseVilla"
   ]
  },
  {
   "cell_type": "code",
   "execution_count": 207,
   "metadata": {
    "collapsed": true,
    "scrolled": true
   },
   "outputs": [],
   "source": [
    "#EVbaseVilla"
   ]
  },
  {
   "cell_type": "code",
   "execution_count": 208,
   "metadata": {
    "collapsed": true
   },
   "outputs": [],
   "source": [
    "villaBasePlant = drawPlant(VbaseVilla, EVbaseVilla)\n",
    "\n",
    "\"\"\" total height of the base of the villa is approximately 10 steps, thus 0.20*10 \"\"\"\n",
    "\n",
    "villaBase1 = MULTEXTRUDE(OFFSET([1.1,1.1])(SOLIDIFY(STRUCT(villaBasePlant))))(0.20)\n",
    "villaBase2 = MULTEXTRUDE(OFFSET([0.7,0.7])(STRUCT(villaBasePlant)))(0.20*8)\n",
    "villaBase3 = MULTEXTRUDE(OFFSET([1.1,1.1])(SOLIDIFY(STRUCT(villaBasePlant))))(0.20)\n",
    "\n",
    "villaBase = STRUCT([TOP([TOP([villaBase1, villaBase2]), villaBase3])])"
   ]
  },
  {
   "cell_type": "code",
   "execution_count": 209,
   "metadata": {},
   "outputs": [
    {
     "data": {
      "text/plain": [
       "<pyplasm.xgepy.Hpc; proxy of <Swig Object of type 'std::shared_ptr< Hpc > *' at 0x181515e060> >"
      ]
     },
     "execution_count": 209,
     "metadata": {},
     "output_type": "execute_result"
    }
   ],
   "source": [
    "VIEW(villaBase)"
   ]
  },
  {
   "cell_type": "code",
   "execution_count": 210,
   "metadata": {
    "collapsed": true
   },
   "outputs": [],
   "source": [
    "villaFloor = MULTEXTRUDE(OFFSET([0.7,0.7])(SOLIDIFY(STRUCT(villaBasePlant))))(0.06)"
   ]
  },
  {
   "cell_type": "markdown",
   "metadata": {},
   "source": [
    "## Inner walls.\n",
    "I would like to use something different from the boolean operation DIFFERENCE to create space for doors. I will stack two model one on top of the other, the former one contains spaces, the latter one does not."
   ]
  },
  {
   "cell_type": "code",
   "execution_count": 211,
   "metadata": {
    "collapsed": true
   },
   "outputs": [],
   "source": [
    "VinnWalls,EVinnWalls = larModel(os.getcwd() + \"/data/innerwalls.lines\", openPath=1)"
   ]
  },
  {
   "cell_type": "code",
   "execution_count": 212,
   "metadata": {
    "collapsed": true
   },
   "outputs": [],
   "source": [
    "VinnWallsTOP,EVinnWallsTOP = larModel(os.getcwd() + \"/data/innerwallsTOP.lines\", openPath=1)"
   ]
  },
  {
   "cell_type": "code",
   "execution_count": 213,
   "metadata": {
    "collapsed": true
   },
   "outputs": [],
   "source": [
    "VinnWallsTOP = pyData.VinnWallsTOP"
   ]
  },
  {
   "cell_type": "code",
   "execution_count": 214,
   "metadata": {
    "collapsed": true
   },
   "outputs": [],
   "source": [
    "EVinnWallsTOP = pyData.EVinnWallsTOP"
   ]
  },
  {
   "cell_type": "code",
   "execution_count": 215,
   "metadata": {
    "collapsed": true
   },
   "outputs": [],
   "source": [
    "innWallsPlantHoled = STRUCT(drawPlant(VinnWalls, EVinnWalls))\n",
    "innWallsPlantHoled = MULTEXTRUDE(OFFSET([0.7,0.7])(STRUCT([innWallsPlantHoled])))(2.5)"
   ]
  },
  {
   "cell_type": "code",
   "execution_count": 216,
   "metadata": {
    "collapsed": true
   },
   "outputs": [],
   "source": [
    "innWallsPlantTOP = STRUCT(drawPlant(VinnWallsTOP, EVinnWallsTOP))\n",
    "innWallsPlantTOP = MULTEXTRUDE(OFFSET([0.7,0.7])(STRUCT([innWallsPlantTOP])))(3.5)"
   ]
  },
  {
   "cell_type": "code",
   "execution_count": 217,
   "metadata": {},
   "outputs": [
    {
     "data": {
      "text/plain": [
       "<pyplasm.xgepy.Hpc; proxy of <Swig Object of type 'std::shared_ptr< Hpc > *' at 0x18150f5e40> >"
      ]
     },
     "execution_count": 217,
     "metadata": {},
     "output_type": "execute_result"
    }
   ],
   "source": [
    "innWalls = STRUCT([TOP([innWallsPlantHoled, innWallsPlantTOP])])\n",
    "VIEW(innWalls)"
   ]
  },
  {
   "cell_type": "code",
   "execution_count": 218,
   "metadata": {
    "collapsed": true
   },
   "outputs": [],
   "source": [
    "travertineHEX = \"#E2DECD\""
   ]
  },
  {
   "cell_type": "code",
   "execution_count": 219,
   "metadata": {},
   "outputs": [
    {
     "data": {
      "text/plain": [
       "<pyplasm.xgepy.Hpc; proxy of <Swig Object of type 'std::shared_ptr< Hpc > *' at 0x18150f5cc0> >"
      ]
     },
     "execution_count": 219,
     "metadata": {},
     "output_type": "execute_result"
    }
   ],
   "source": [
    "innWalls = HEX(travertineHEX)(innWalls)\n",
    "VIEW(innWalls)"
   ]
  },
  {
   "cell_type": "markdown",
   "metadata": {},
   "source": [
    "![walls1](./images/walls.png)"
   ]
  },
  {
   "cell_type": "markdown",
   "metadata": {},
   "source": [
    "![walls2](./images/walls2.png)"
   ]
  },
  {
   "cell_type": "markdown",
   "metadata": {},
   "source": [
    "![walls3](./images/walls3.png)"
   ]
  },
  {
   "cell_type": "code",
   "execution_count": 220,
   "metadata": {
    "collapsed": true
   },
   "outputs": [],
   "source": [
    "parquet = './textures/parquet.jpg'"
   ]
  },
  {
   "cell_type": "markdown",
   "metadata": {},
   "source": [
    "# Inner walls, floor and base\n",
    "Let's now give a look inside the villa at current state "
   ]
  },
  {
   "cell_type": "code",
   "execution_count": 221,
   "metadata": {},
   "outputs": [
    {
     "data": {
      "text/plain": [
       "<pyplasm.xgepy.Hpc; proxy of <Swig Object of type 'std::shared_ptr< Hpc > *' at 0x18150f5db0> >"
      ]
     },
     "execution_count": 221,
     "metadata": {},
     "output_type": "execute_result"
    }
   ],
   "source": [
    "villaBase = HEX(travertineHEX)(villaBase)\n",
    "innWalls = HEX(travertineHEX)((innWalls))\n",
    "villaFloor = TEXTURE(parquet)(villaFloor)\n",
    "habitation = STRUCT([TOP([TOP([villaBase, villaFloor]), innWalls])])\n",
    "VIEW(habitation)"
   ]
  },
  {
   "cell_type": "markdown",
   "metadata": {
    "collapsed": true
   },
   "source": [
    "![inside](./images/inside.png)"
   ]
  },
  {
   "cell_type": "markdown",
   "metadata": {},
   "source": [
    "![inside2](./images/inside2.png)"
   ]
  },
  {
   "cell_type": "code",
   "execution_count": 222,
   "metadata": {
    "collapsed": true
   },
   "outputs": [],
   "source": [
    "#VIEW(TOP([base, habitation]))"
   ]
  },
  {
   "cell_type": "markdown",
   "metadata": {},
   "source": [
    "# Windows\n",
    "Few kinds of windows:\n",
    "- lower ones are placed on villaBase.\n",
    "- big green windows are more \"central\" on walls height\n",
    "- small green windows are place at the very top of the side walls\n",
    "\n",
    "![side](./images/sideVillaFoto.jpg)"
   ]
  },
  {
   "cell_type": "code",
   "execution_count": 223,
   "metadata": {
    "collapsed": true
   },
   "outputs": [],
   "source": [
    "woodHEX = \"#8B5A2B\"\n",
    "steelGreyHEX = \"#43464B\"\n",
    "glassTexture = './textures/glass.jpeg'\n",
    "greenWindowTexture = './textures/greenWindow.jpeg'"
   ]
  },
  {
   "cell_type": "markdown",
   "metadata": {},
   "source": [
    "### lower windows"
   ]
  },
  {
   "cell_type": "code",
   "execution_count": 224,
   "metadata": {},
   "outputs": [],
   "source": [
    "windowStructure = SKEL_1(STRUCT([PROD([INTERVALS(0.20*3)(2), INTERVALS(0.20)(1)])]))\n",
    "windowStructure = HEX(woodHEX)(STRUCT([OFFSET([0.03,0.03, 0.03])(PROD([Q(0.01), windowStructure]))]))\n",
    "\n",
    "glassSize = SIZE([1,2,3])(windowStructure) # [0.03999999910593033, 0.6299999952316284, 0.23000000417232513]\n",
    "glassSize[0] /= 4\n",
    "glass = TEXTURE(glassTexture)(CUBOID(glassSize))"
   ]
  },
  {
   "cell_type": "code",
   "execution_count": 225,
   "metadata": {},
   "outputs": [
    {
     "data": {
      "text/plain": [
       "<pyplasm.xgepy.Hpc; proxy of <Swig Object of type 'std::shared_ptr< Hpc > *' at 0x182ff8d600> >"
      ]
     },
     "execution_count": 225,
     "metadata": {},
     "output_type": "execute_result"
    }
   ],
   "source": [
    "windowGrid = SKEL_1(STRUCT([PROD([INTERVALS(0.62)(6), INTERVALS(0.22)(4)])]))\n",
    "windowGrid = HEX(steelGreyHEX)(STRUCT([OFFSET([0.01,0.01, 0.01])(PROD([Q(0.01), windowGrid]))]))\n",
    "\n",
    "window = STRUCT([RIGHT([window2glass,windowGrid])])\n",
    "VIEW(window)"
   ]
  },
  {
   "cell_type": "markdown",
   "metadata": {},
   "source": [
    "### big green windows"
   ]
  },
  {
   "cell_type": "code",
   "execution_count": 226,
   "metadata": {},
   "outputs": [
    {
     "data": {
      "text/plain": [
       "<pyplasm.xgepy.Hpc; proxy of <Swig Object of type 'std::shared_ptr< Hpc > *' at 0x182ff8da50> >"
      ]
     },
     "execution_count": 226,
     "metadata": {},
     "output_type": "execute_result"
    }
   ],
   "source": [
    "bigGrWindowSize = [0.03999999910593033, 0.6299999952316284, 3*0.23000000417232513]\n",
    "bigGrWindow = TEXTURE(greenWindowTexture)(CUBOID(bigGrWindowSize))\n",
    "\n",
    "VIEW(bigGrWindow)"
   ]
  },
  {
   "cell_type": "markdown",
   "metadata": {},
   "source": [
    "### small green windows"
   ]
  },
  {
   "cell_type": "code",
   "execution_count": 227,
   "metadata": {},
   "outputs": [
    {
     "data": {
      "text/plain": [
       "<pyplasm.xgepy.Hpc; proxy of <Swig Object of type 'std::shared_ptr< Hpc > *' at 0x182ff96480> >"
      ]
     },
     "execution_count": 227,
     "metadata": {},
     "output_type": "execute_result"
    }
   ],
   "source": [
    "smallGrWindowSize = SIZE([1,2,3])(windowStructure)\n",
    "smallGrWindow = TEXTURE(greenWindowTexture)(CUBOID(smallGrWindowSize))\n",
    "\n",
    "VIEW(STRUCT([smallGrWindow]))"
   ]
  },
  {
   "cell_type": "code",
   "execution_count": 228,
   "metadata": {},
   "outputs": [],
   "source": [
    "def placeWindows():\n",
    "    #TODO\n",
    "    return"
   ]
  },
  {
   "cell_type": "code",
   "execution_count": null,
   "metadata": {
    "collapsed": true
   },
   "outputs": [],
   "source": []
  }
 ],
 "metadata": {
  "kernelspec": {
   "display_name": "Python 2",
   "language": "python",
   "name": "python2"
  },
  "language_info": {
   "codemirror_mode": {
    "name": "ipython",
    "version": 2
   },
   "file_extension": ".py",
   "mimetype": "text/x-python",
   "name": "python",
   "nbconvert_exporter": "python",
   "pygments_lexer": "ipython2",
   "version": "2.7.13"
  }
 },
 "nbformat": 4,
 "nbformat_minor": 2
}
