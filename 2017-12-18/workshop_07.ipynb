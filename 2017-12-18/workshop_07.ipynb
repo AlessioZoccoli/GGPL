{
 "cells": [
  {
   "cell_type": "markdown",
   "metadata": {},
   "source": [
    "Andrea Palladio - Villa Badoer\n",
    "================\n",
    "\n",
    "Working again on Villa Badoer as started in workshop_05.\n",
    "Aim of this final workshop is to completing the model."
   ]
  },
  {
   "cell_type": "code",
   "execution_count": 2,
   "metadata": {},
   "outputs": [
    {
     "name": "stdout",
     "output_type": "stream",
     "text": [
      "Evaluating fenvs.py..\n",
      "...fenvs.py imported in 0.011585 seconds\n"
     ]
    }
   ],
   "source": [
    "from larlib import *\n",
    "from math import floor\n",
    "import csv\n",
    "import os"
   ]
  },
  {
   "cell_type": "markdown",
   "metadata": {
    "collapsed": true
   },
   "source": [
    "# Reading data\n",
    "As mentioned in workshop_05 I will assign 3d-points instead of getting data from the filesystem. This will prevent problems regarding paths etc. this approach may come in handy for fine tune points ;)"
   ]
  },
  {
   "cell_type": "code",
   "execution_count": 3,
   "metadata": {
    "collapsed": true
   },
   "outputs": [],
   "source": [
    "def larModel(path2lines):\n",
    "    \"\"\"\n",
    "    larModel(\"mypath\")\n",
    "    :param path2file: path to the .lines file\n",
    "    :return: tuple. A graph model representing Vertices and Edges.\n",
    "             Edges are lists of indices to Vertices.\n",
    "    \"\"\"\n",
    "    with open(path2lines, \"rb\") as file:\n",
    "        lines = csv.reader(file, delimiter=\",\")\n",
    "\n",
    "        mapping = {}\n",
    "        v = []\n",
    "        ev = []\n",
    "        index = 0\n",
    "        \n",
    "        # indexing of the vertices and approximation\n",
    "        for entry in lines:\n",
    "            x1 = math.floor(float(entry[0])*100)/100\n",
    "            y1 = math.floor(float(entry[1])*100)/100\n",
    "            x2 = math.floor(float(entry[2])*100)/100\n",
    "            y2 = math.floor(float(entry[3])*100)/100\n",
    "\n",
    "            if not(mapping.has_key((x1,y1))):\n",
    "                index += 1\n",
    "                mapping[(x1,y1)] = index\n",
    "                v.append([x1,y1])\n",
    "\n",
    "            if not(mapping.has_key((x2,y2))):\n",
    "                index += 1\n",
    "                mapping[(x2,y2)] = index\n",
    "                v.append([x2,y2])\n",
    "\n",
    "            ev.append([mapping[(x1,y1)], mapping[(x2,y2)]])\n",
    "\n",
    "    return v,ev"
   ]
  },
  {
   "cell_type": "markdown",
   "metadata": {},
   "source": [
    "# Work pipeline\n",
    "- Divide et impera: I will start off with splitting the structure.\n",
    "  - For every part of Villa Badoer a .csv and a .lines will be produced (https://inkscape.org)\n",
    "  - Alternatively, if pre-existing pyplasm model for polyhedra are sufficient, then those will be used\n",
    "- Given a .lines file for a certain part of the structure, produce a graph (V,EV) as lar model\n",
    "- Given a part of the villa, draw its plant\n",
    "- Given a plant use cartesian product to build walls etc.\n",
    "- Figure out a way to use symmetries"
   ]
  },
  {
   "cell_type": "markdown",
   "metadata": {
    "collapsed": true
   },
   "source": [
    "# Basement\n",
    "It is the base on which the main structure lies. It is composed of two layers: basement1 and basement2.\n",
    "Basement2 is placed upon basement2"
   ]
  },
  {
   "cell_type": "code",
   "execution_count": 8,
   "metadata": {},
   "outputs": [],
   "source": [
    "VBase1,EVBase1 = larModel(os.getcwd() + \"/data/basement1.lines\")"
   ]
  },
  {
   "cell_type": "code",
   "execution_count": 9,
   "metadata": {},
   "outputs": [],
   "source": [
    "VBase1 = [[90.32, 72.02],\n",
    " [69.32, 72.08],\n",
    " [69.32, 72.54],\n",
    " [65.88, 72.54],\n",
    " [65.88, 76.21],\n",
    " [63.22, 76.21],\n",
    " [63.22, 81.31],\n",
    " [54.7, 81.31],\n",
    " [54.7, 83.39],\n",
    " [51.28, 83.41],\n",
    " [54.7, 83.41],\n",
    " [51.26, 120.98],\n",
    " [54.7, 120.98],\n",
    " [54.67, 115.42],\n",
    " [54.67, 120.98],\n",
    " [57.01, 115.42],\n",
    " [57.01, 120.98],\n",
    " [102.27, 120.98],\n",
    " [102.27, 115.43],\n",
    " [104.42, 115.42],\n",
    " [102.27, 115.42],\n",
    " [104.42, 120.97],\n",
    " [108.07, 120.97],\n",
    " [108.07, 83.41],\n",
    " [104.62, 83.41],\n",
    " [96.2, 81.31],\n",
    " [104.58, 81.31],\n",
    " [96.19, 81.29],\n",
    " [96.16, 76.24],\n",
    " [93.33, 76.21],\n",
    " [96.16, 76.21],\n",
    " [93.33, 72.54],\n",
    " [90.32, 72.54]]"
   ]
  },
  {
   "cell_type": "code",
   "execution_count": 11,
   "metadata": {},
   "outputs": [],
   "source": [
    "EVBase1 = [[1, 2],\n",
    " [2, 3],\n",
    " [3, 4],\n",
    " [5, 4],\n",
    " [6, 5],\n",
    " [6, 7],\n",
    " [7, 8],\n",
    " [8, 9],\n",
    " [10, 11],\n",
    " [12, 10],\n",
    " [13, 12],\n",
    " [14, 15],\n",
    " [14, 16],\n",
    " [17, 16],\n",
    " [18, 17],\n",
    " [18, 19],\n",
    " [20, 21],\n",
    " [22, 20],\n",
    " [22, 23],\n",
    " [23, 24],\n",
    " [25, 24],\n",
    " [26, 27],\n",
    " [25, 27],\n",
    " [28, 29],\n",
    " [30, 31],\n",
    " [32, 30],\n",
    " [1, 33],\n",
    " [33, 32]]"
   ]
  },
  {
   "cell_type": "markdown",
   "metadata": {},
   "source": [
    "# Drawing the wire-frame plant\n",
    "\n",
    "Again from workshop_05"
   ]
  },
  {
   "cell_type": "code",
   "execution_count": 13,
   "metadata": {
    "collapsed": true
   },
   "outputs": [],
   "source": [
    "def drawPlant(verts, edges):\n",
    "    \"\"\"\n",
    "    drawPlant(V,EV)\n",
    "    :param verts: list of vertices in form [X, Y]\n",
    "    :param edges: list of edges in form [indexofVertA, indexofVertB]\n",
    "    :return: array of POLILINEs\n",
    "    \"\"\"\n",
    "    plant = []\n",
    "    for e in edges:\n",
    "        plant.append(POLYLINE([verts[e[0]-1], verts[e[1]-1]]))\n",
    "    return plant"
   ]
  },
  {
   "cell_type": "code",
   "execution_count": 14,
   "metadata": {},
   "outputs": [
    {
     "data": {
      "text/plain": [
       "<pyplasm.xgepy.Hpc; proxy of <Swig Object of type 'std::shared_ptr< Hpc > *' at 0x114b15c30> >"
      ]
     },
     "execution_count": 14,
     "metadata": {},
     "output_type": "execute_result"
    }
   ],
   "source": [
    "plantBase1 = drawPlant(VBase1, EVBase1)\n",
    "VIEW(STRUCT(plantBase1))"
   ]
  },
  {
   "cell_type": "code",
   "execution_count": null,
   "metadata": {
    "collapsed": true
   },
   "outputs": [],
   "source": []
  }
 ],
 "metadata": {
  "kernelspec": {
   "display_name": "Python 2",
   "language": "python",
   "name": "python2"
  },
  "language_info": {
   "codemirror_mode": {
    "name": "ipython",
    "version": 2
   },
   "file_extension": ".py",
   "mimetype": "text/x-python",
   "name": "python",
   "nbconvert_exporter": "python",
   "pygments_lexer": "ipython2",
   "version": "2.7.13"
  }
 },
 "nbformat": 4,
 "nbformat_minor": 2
}
