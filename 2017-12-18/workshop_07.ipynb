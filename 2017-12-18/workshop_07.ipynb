{
 "cells": [
  {
   "cell_type": "markdown",
   "metadata": {},
   "source": [
    "Andrea Palladio - Villa Badoer\n",
    "================\n",
    "\n",
    "Working again on Villa Badoer as started in workshop_05.\n",
    "Aim of this final workshop is to completing the model."
   ]
  },
  {
   "cell_type": "markdown",
   "metadata": {},
   "source": [
    "Villa Badoer is a villa in Fratta Polesine in the Veneto region of northern Italy. It was designed in 1556 by Andrea Palladio for the Venetian noble Francesco Badoer, and built between 1557 and 1563, on the site of a medieval castle which guarded a bridge across a navigable canal. This was the first time Palladio used his fully developed temple pediment in the facade of a villa.\n",
    "Villa Badoer has been part since 1996 of the UNESCO World Heritage Site \"City of Vicenza and the Palladian Villas of the Veneto\".\n",
    "\n",
    "Constructed and inhabited in 1556, the villa therefore functioned for the management of the fields and was simultaneously a visible sign of the “feudal” presence, so to speak, of Badoer in the territory: it is not coincidental that the building rises on the site of an ancient medieval castle.\n",
    "Palladio succeeded in uniting within one effective synthesis these dual meanings, joining the majestic manor house to the two barchesse (farm wings) bent into semicircles, which screen the stables and other agricultural annexes."
   ]
  },
  {
   "cell_type": "markdown",
   "metadata": {},
   "source": [
    "![VillaBadoer](./images/villa.jpg)"
   ]
  },
  {
   "cell_type": "code",
   "execution_count": 77,
   "metadata": {},
   "outputs": [
    {
     "name": "stdout",
     "output_type": "stream",
     "text": [
      "The autoreload extension is already loaded. To reload it, use:\n",
      "  %reload_ext autoreload\n"
     ]
    }
   ],
   "source": [
    "%load_ext autoreload\n",
    "%autoreload 2\n",
    "\n",
    "from larlib import *\n",
    "from math import floor\n",
    "import utility\n",
    "import csv\n",
    "import os"
   ]
  },
  {
   "cell_type": "markdown",
   "metadata": {
    "collapsed": true
   },
   "source": [
    "# Reading data\n",
    "As mentioned in workshop_05 I will assign 3d-points instead of getting data from the filesystem. This time I will put all data in a separate file, for readability.\n",
    "This will prevent problems regarding paths etc. this approach may come in handy for fine tune points ;)"
   ]
  },
  {
   "cell_type": "code",
   "execution_count": 78,
   "metadata": {
    "collapsed": true
   },
   "outputs": [],
   "source": [
    "def larModel(path2lines, openPath=0):\n",
    "    \"\"\"\n",
    "    larModel(\"mypath\")\n",
    "    :param path2file: path to the .lines file\n",
    "    :return: tuple. A graph model representing Vertices and Edges.\n",
    "             Edges are lists of indices to Vertices.\n",
    "    \"\"\"\n",
    "    with open(path2lines, \"rb\") as file:\n",
    "        lines = csv.reader(file, delimiter=\",\")\n",
    "\n",
    "        mapping = {}\n",
    "        v = []\n",
    "        ev = []\n",
    "        index = 0\n",
    "        \n",
    "        # indexing of the vertices and approximation\n",
    "        for entry in lines:\n",
    "            x1 = math.floor(float(entry[0])*10)/10\n",
    "            y1 = math.floor(float(entry[1])*10)/10\n",
    "            x2 = math.floor(float(entry[2])*10)/10\n",
    "            y2 = math.floor(float(entry[3])*10)/10\n",
    "\n",
    "            if not(mapping.has_key((x1,y1))):\n",
    "                index += 1\n",
    "                mapping[(x1,y1)] = index\n",
    "                v.append([x1,y1])\n",
    "\n",
    "            if not(mapping.has_key((x2,y2))):\n",
    "                index += 1\n",
    "                mapping[(x2,y2)] = index\n",
    "                v.append([x2,y2])\n",
    "\n",
    "            ev.append([mapping[(x1,y1)], mapping[(x2,y2)]])\n",
    "        \n",
    "        #this will close the path by linking the last node with the first one\n",
    "        if (ev[-1][1] != ev[0][0] and not(openPath)):\n",
    "            lastEdge = [ev[-1][1], ev[0][0]]\n",
    "            ev.append(lastEdge)\n",
    "        \n",
    "        #print (lastEdge[0] == ev[-2][1]) #True\n",
    "        #print (lastEdge[1] == ev[0][0]) #True\n",
    "        #print ev[-1] == lastEdge\n",
    "        \n",
    "        \n",
    "    return v,ev"
   ]
  },
  {
   "cell_type": "markdown",
   "metadata": {},
   "source": [
    "# Work pipeline\n",
    "- Divide et impera: I will start off with splitting the structure.\n",
    "  - For every part of Villa Badoer a .csv and a .lines will be produced (https://inkscape.org)\n",
    "  - Alternatively, if pre-existing pyplasm model for polyhedra are sufficient, then those will be used\n",
    "- Given a .lines file for a certain part of the structure, produce a graph (V,EV) as lar model\n",
    "- Given a part of the villa, draw its plant\n",
    "- Given a plant use cartesian product to build walls etc.\n",
    "- Figure out a way to use symmetries"
   ]
  },
  {
   "cell_type": "code",
   "execution_count": 79,
   "metadata": {
    "collapsed": true
   },
   "outputs": [],
   "source": [
    "from data import pyData # Pythonized data from .lines"
   ]
  },
  {
   "cell_type": "markdown",
   "metadata": {
    "collapsed": true
   },
   "source": [
    "# Base\n",
    "Probably as a result of exploiting the substructures of the medieval castle, the manor house of the villa rises on a high basement, and recalls illustrious precedents like the Villa Medici at Poggio a Caiano by Giuliano da Sangallo, and the not far distant Villa dei Vescovi at Luvigliano by Giovanni Maria Falconetto.\n",
    "\n",
    "\n",
    "The base on which the main structure lies is composed of two layers, base1 and base2, plus a frontal base adjacent to the stairs.\n",
    "Base2 is placed upon base1, frontbase situates in front of base1 and base2 "
   ]
  },
  {
   "cell_type": "markdown",
   "metadata": {},
   "source": [
    "### Base 1"
   ]
  },
  {
   "cell_type": "code",
   "execution_count": 80,
   "metadata": {
    "collapsed": true
   },
   "outputs": [],
   "source": [
    "#VBase1,EVBase1 = larModel(os.getcwd() + \"/data/base1.lines\")"
   ]
  },
  {
   "cell_type": "code",
   "execution_count": 81,
   "metadata": {
    "collapsed": true
   },
   "outputs": [],
   "source": [
    "VBase1 = pyData.VBase1\n",
    "EVBase1 = pyData.EVBase1\n"
   ]
  },
  {
   "cell_type": "markdown",
   "metadata": {},
   "source": [
    "### Base 2"
   ]
  },
  {
   "cell_type": "code",
   "execution_count": 82,
   "metadata": {
    "collapsed": true
   },
   "outputs": [],
   "source": [
    "#VBase2,EVBase2 = larModel(os.getcwd() + \"/data/base2.lines\")"
   ]
  },
  {
   "cell_type": "code",
   "execution_count": 83,
   "metadata": {
    "collapsed": true
   },
   "outputs": [],
   "source": [
    "VBase2 = pyData.VBase2\n",
    "EVBase2 = pyData.EVBase2"
   ]
  },
  {
   "cell_type": "markdown",
   "metadata": {},
   "source": [
    "# Frontal base"
   ]
  },
  {
   "cell_type": "code",
   "execution_count": 84,
   "metadata": {
    "collapsed": true
   },
   "outputs": [],
   "source": [
    "#VBaseF,EVBaseF = larModel(os.getcwd() + \"/data/frontbase2.lines\")"
   ]
  },
  {
   "cell_type": "code",
   "execution_count": 85,
   "metadata": {
    "collapsed": true
   },
   "outputs": [],
   "source": [
    "VBaseF = pyData.VBaseF\n",
    "EVBaseF = pyData.EVBaseF"
   ]
  },
  {
   "cell_type": "markdown",
   "metadata": {},
   "source": [
    "# Drawing the wire-frame plant\n",
    "\n",
    "Again from workshop_05"
   ]
  },
  {
   "cell_type": "code",
   "execution_count": 86,
   "metadata": {
    "collapsed": true
   },
   "outputs": [],
   "source": [
    "def drawPlant(verts, edges, pr = 0):\n",
    "    \"\"\"\n",
    "    drawPlant(V,EV) returns the wire-flame plant of the input, the lar model.\n",
    "    It is clearly a 2d model, this implies that it does not handle space for doors, windows, stairs etc.\n",
    "    \n",
    "    :param verts: list of vertices in form [X, Y]\n",
    "    :param edges: list of edges in form [indexofVertA, indexofVertB]\n",
    "    :return: array of POLILINEs\n",
    "    \"\"\"\n",
    "    plant = []\n",
    "    for e in edges:\n",
    "        if (pr):\n",
    "            print ([verts[e[0]-1], verts[e[1]-1]]),\"\\n\"\n",
    "        plant.append(POLYLINE([verts[e[0]-1], verts[e[1]-1]]))\n",
    "    return plant"
   ]
  },
  {
   "cell_type": "code",
   "execution_count": 87,
   "metadata": {
    "collapsed": true
   },
   "outputs": [],
   "source": [
    "base1plant = drawPlant(VBase1, EVBase1, pr=0)"
   ]
  },
  {
   "cell_type": "code",
   "execution_count": 88,
   "metadata": {
    "collapsed": true
   },
   "outputs": [],
   "source": [
    "base2plant = drawPlant(VBase2, EVBase2)\n"
   ]
  },
  {
   "cell_type": "code",
   "execution_count": 89,
   "metadata": {
    "collapsed": true
   },
   "outputs": [],
   "source": [
    "baseFplant = drawPlant(VBaseF, EVBaseF)\n",
    "#VIEW(STRUCT(baseFplant))"
   ]
  },
  {
   "cell_type": "markdown",
   "metadata": {},
   "source": [
    "# Building the bases"
   ]
  },
  {
   "cell_type": "markdown",
   "metadata": {},
   "source": [
    "Scheme: First, I will build every part of the hole base (base1, base2 etc.) then I will use UNION to make a unique base out of each of its part.\n",
    "\n",
    "I will assume steps have a height of 20cm and as we can see from the following image, the base has 9 + 5 steps"
   ]
  },
  {
   "cell_type": "markdown",
   "metadata": {},
   "source": [
    "![steps](./images/gradini.jpg)"
   ]
  },
  {
   "cell_type": "markdown",
   "metadata": {},
   "source": [
    "## The whole base\n",
    "\n",
    "- Base1\n",
    "- Base2 (1 and 2 are made of bricks and are wider and larger than villa's area)\n",
    "- Frontal base\n",
    "- Stairs on the back\n",
    "\n",
    "- villaBase (the villa itself is placed above this base)"
   ]
  },
  {
   "cell_type": "markdown",
   "metadata": {},
   "source": [
    "### Base 1"
   ]
  },
  {
   "cell_type": "code",
   "execution_count": 90,
   "metadata": {
    "collapsed": true
   },
   "outputs": [],
   "source": [
    "base1 = SOLIDIFY(STRUCT(base1plant))\n",
    "base1 = PROD([base1, Q(0.20*9)])"
   ]
  },
  {
   "cell_type": "code",
   "execution_count": 91,
   "metadata": {
    "collapsed": true
   },
   "outputs": [],
   "source": [
    "#VIEW(base1)"
   ]
  },
  {
   "cell_type": "markdown",
   "metadata": {},
   "source": [
    "### Base 2"
   ]
  },
  {
   "cell_type": "code",
   "execution_count": 92,
   "metadata": {
    "collapsed": true
   },
   "outputs": [],
   "source": [
    "base2 = SOLIDIFY(STRUCT(base2plant))\n",
    "base2 = T(3)(0.20*9)(PROD([base2, Q(0.20*5)]))"
   ]
  },
  {
   "cell_type": "code",
   "execution_count": 93,
   "metadata": {
    "collapsed": true
   },
   "outputs": [],
   "source": [
    "#VIEW(base2)"
   ]
  },
  {
   "cell_type": "markdown",
   "metadata": {},
   "source": [
    "### Frontal Base"
   ]
  },
  {
   "cell_type": "code",
   "execution_count": 94,
   "metadata": {
    "collapsed": true
   },
   "outputs": [],
   "source": [
    "baseF = SOLIDIFY(STRUCT(baseFplant))\n",
    "baseF = PROD([baseF, Q(0.20*14)])"
   ]
  },
  {
   "cell_type": "code",
   "execution_count": 95,
   "metadata": {
    "collapsed": true
   },
   "outputs": [],
   "source": [
    "#VIEW(baseF)"
   ]
  },
  {
   "cell_type": "markdown",
   "metadata": {},
   "source": [
    "## Final base with back stairs\n",
    "Stairs can also be seen on the back of base1 and 2"
   ]
  },
  {
   "cell_type": "code",
   "execution_count": 96,
   "metadata": {
    "collapsed": true
   },
   "outputs": [],
   "source": [
    "def stairs(N,stepsize):\n",
    "    \"\"\"\n",
    "    stairs build a basic, full stairway (no space between steps and the ground)\n",
    "    :param N: number of steps\n",
    "    :param stepsize: array of length 3. stepsize contains cartesian coordinate used to model a single step\n",
    "    \"\"\"\n",
    "    sx,sy,sz = stepsize\n",
    "    V,FV = larCuboids([1,1])\n",
    "    step = S([1,2])([sx,sy])(STRUCT(MKPOLS((V,FV))))\n",
    "    step =  steps = T(3)(sz*(N-1))(PROD([step,INTERVALS(sz)(1)]))\n",
    "    for i in range(1,N):\n",
    "        nextStep = T(3)(-sz*i)(S(2)(1+i)(step))\n",
    "        steps = STRUCT([steps,nextStep])\n",
    "    return steps"
   ]
  },
  {
   "cell_type": "code",
   "execution_count": 97,
   "metadata": {
    "collapsed": true
   },
   "outputs": [],
   "source": [
    "\"\"\"\n",
    "Left-hand side back stairs\n",
    "\n",
    "size depens on the svg/lines data.\n",
    "It is redundant, in a way, to calculate it as a difference, but this way it gives the author more control.\n",
    "\n",
    "I decided to model steps so that they starts from the origin [0,0,0], an approach I did not used for other structures.\n",
    "This way, code will be more reusable. I will need to model various stairs.\n",
    "\"\"\"\n",
    "nStepsBack = 14 #recurrent value, as Villa Badoer has the same steps number for every stairway\n",
    "\n",
    "bssX = 56.65 - 54.9\n",
    "bssY = (117.7 - 115.7)/5.5\n",
    "bssZ = 0.20 #height of a single step\n",
    "backStepSize = [bssX, bssY, bssZ]"
   ]
  },
  {
   "cell_type": "code",
   "execution_count": 98,
   "metadata": {
    "collapsed": true
   },
   "outputs": [],
   "source": [
    "myStairs = stairs(nStepsBack, backStepSize)"
   ]
  },
  {
   "cell_type": "code",
   "execution_count": 99,
   "metadata": {
    "collapsed": true
   },
   "outputs": [],
   "source": [
    "bricksBase = './textures/bricks.jpeg'\n",
    "orangeBricks = './textures/orangeBricks.jpg'"
   ]
  },
  {
   "cell_type": "code",
   "execution_count": 100,
   "metadata": {
    "collapsed": true
   },
   "outputs": [],
   "source": [
    "#VbaseVilla,EVbaseVilla = larModel(os.getcwd() + \"/data/mainStrBase.lines\", openPath=0)"
   ]
  },
  {
   "cell_type": "code",
   "execution_count": 101,
   "metadata": {
    "collapsed": true
   },
   "outputs": [],
   "source": [
    "VbaseVilla = pyData.VbaseVilla"
   ]
  },
  {
   "cell_type": "code",
   "execution_count": 102,
   "metadata": {
    "collapsed": true
   },
   "outputs": [],
   "source": [
    "EVbaseVilla = pyData.EVbaseVilla"
   ]
  },
  {
   "cell_type": "markdown",
   "metadata": {},
   "source": [
    "## Base of the villa\n",
    "Lies upon the ground base, the one made of brakes. The Villa stand upon villaBase"
   ]
  },
  {
   "cell_type": "code",
   "execution_count": 103,
   "metadata": {
    "collapsed": true
   },
   "outputs": [],
   "source": [
    "villaBasePlant = drawPlant(VbaseVilla, EVbaseVilla)\n",
    "\n",
    "\"\"\" total height of the base of the villa is approximately 10 steps, thus 0.20*10 \"\"\"\n",
    "\n",
    "villaBase1 = MULTEXTRUDE(OFFSET([1.1,1.1])(SOLIDIFY(STRUCT(villaBasePlant))))(0.20)\n",
    "villaBase2 = MULTEXTRUDE(OFFSET([0.7,0.7])(SOLIDIFY(STRUCT(villaBasePlant))))(0.20*7)\n",
    "villaBase3 = MULTEXTRUDE(OFFSET([1.1,1.1])(SOLIDIFY(STRUCT(villaBasePlant))))(0.20*2)\n",
    "\n",
    "villaBase = STRUCT([TOP([TOP([villaBase1, villaBase2]), villaBase3])])"
   ]
  },
  {
   "cell_type": "code",
   "execution_count": 104,
   "metadata": {
    "collapsed": true
   },
   "outputs": [],
   "source": [
    "def createBasementSpace(startingStructure):\n",
    "    \"\"\"\n",
    "    :param startingStructure: given a starting structure a space for the basement will be created inside\n",
    "                              its volume\n",
    "                            \n",
    "    :return: array of pyplasm.xgepy.Hpc(s) the new structure plus the cuboid used to create the space,\n",
    "            this will be used to create basement walls and floor\n",
    "    \"\"\"\n",
    "    cx = MAX(1)(villaBase) - MIN(1)(villaBase) - 6\n",
    "    cy = MAX(2)(villaBase) - MIN(2)(villaBase) - 4\n",
    "    voidCuboid = T([1,2])([MIN(1)(villaBase) + 3., MIN(2)(villaBase) + 2.5])(CUBOID([cx, cy, 0.2*24]))\n",
    "\n",
    "    return DIFFERENCE([startingStructure, voidCuboid])"
   ]
  },
  {
   "cell_type": "markdown",
   "metadata": {},
   "source": [
    "### assembling the base"
   ]
  },
  {
   "cell_type": "code",
   "execution_count": 105,
   "metadata": {
    "collapsed": true
   },
   "outputs": [],
   "source": [
    "baseF = TEXTURE(orangeBricks)(baseF)\n",
    "\n",
    "leftBackStairs = TEXTURE(bricksBase)(T([1,2])([54.93,115.7])(myStairs))\n",
    "rightBackStairs = TEXTURE(bricksBase)(T([1,2])([102.55,115.60])(myStairs))\n",
    "groundBaseFull = STRUCT([base1,base2, leftBackStairs, rightBackStairs])\n",
    "groundBaseHoled = TEXTURE(bricksBase)(createBasementSpace(groundBaseFull))\n",
    "\n",
    "villaBaseHoled = createBasementSpace(villaBase)\n",
    "\n",
    "groundBase = STRUCT([baseF, groundBaseHoled])"
   ]
  },
  {
   "cell_type": "code",
   "execution_count": 106,
   "metadata": {
    "collapsed": true,
    "scrolled": true
   },
   "outputs": [],
   "source": [
    "base = STRUCT([groundBase, T(3)(SIZE(3)(groundBase))(villaBaseHoled)])\n",
    "#VIEW(base)"
   ]
  },
  {
   "cell_type": "code",
   "execution_count": 107,
   "metadata": {
    "collapsed": true
   },
   "outputs": [],
   "source": [
    "def RELATIVE(ref, obj, x=0, y=0, z=0):\n",
    "    \"\"\"\n",
    "    Move obj relatively to Object ref\n",
    "    :param ref: reference object\n",
    "    :param obj: object to be moved with respect to ref\n",
    "    :param x, y, z: cartesian coordinates\n",
    "    :return: pyplasm.xgepy.Hpc\n",
    "    \n",
    "    ref, STRUCT([CUBOID([0]), T([1, 2, 3])([-_x*2, -_y*2, _z*2])(obj)])\n",
    "    \"\"\"\n",
    "    _x = float(x)\n",
    "    _y = float(y)\n",
    "    _z = float(z)\n",
    "    return ALIGN([[1, MED, MED], [2, MED, MED], [3, MIN, MIN]])([\n",
    "        ref, STRUCT([CUBOID([0]), T([1, 2, 3])([_x, -_y, _z])(obj)])\n",
    "    ])"
   ]
  },
  {
   "cell_type": "markdown",
   "metadata": {},
   "source": [
    "# Basement"
   ]
  },
  {
   "cell_type": "markdown",
   "metadata": {},
   "source": [
    "[MIN(1)(villaBase) + 3., MIN(2)(villaBase) + 2.5] #[60.60009765625, 86.69999694824219]\n"
   ]
  },
  {
   "cell_type": "code",
   "execution_count": 108,
   "metadata": {
    "collapsed": true
   },
   "outputs": [],
   "source": [
    "basementStone = './textures/stone1.jpg'"
   ]
  },
  {
   "cell_type": "code",
   "execution_count": 109,
   "metadata": {
    "collapsed": true
   },
   "outputs": [],
   "source": [
    "basementVolume = [39.1000061035,25.700012207,4.80000066757]\n",
    "basementVoid = CUBOID([36.1000061035,23.700012207,2.8])\n",
    "\n",
    "myBasement = TEXTURE(basementStone)(DIFFERENCE([CUBOID(basementVolume), T([1,2,3])([1.5,1.,2.])(basementVoid)]))\n",
    "#base2Basement = TEXTURE(basementStone)(STRUCT([base, T([1,2])([60.60009765625, 86.69999694824219])(myBasement)]))\n",
    "base2Basement = STRUCT([base, T([1,2])([60.60009765625, 86.69999694824219])(myBasement)])"
   ]
  },
  {
   "cell_type": "code",
   "execution_count": 110,
   "metadata": {
    "collapsed": true,
    "scrolled": true
   },
   "outputs": [],
   "source": [
    "#VIEW(base2Basement)"
   ]
  },
  {
   "cell_type": "markdown",
   "metadata": {},
   "source": [
    "![basement](./images/basement1.png)"
   ]
  },
  {
   "cell_type": "markdown",
   "metadata": {},
   "source": [
    "### Adding walls to the basement"
   ]
  },
  {
   "cell_type": "code",
   "execution_count": 111,
   "metadata": {
    "collapsed": true
   },
   "outputs": [],
   "source": [
    "basementWallsRock = './textures/rock.jpeg'"
   ]
  },
  {
   "cell_type": "code",
   "execution_count": 112,
   "metadata": {
    "collapsed": true
   },
   "outputs": [],
   "source": [
    "#VbasementWalls,EVbasementWalls = larModel(os.getcwd() + \"/data/basementWalls2.lines\", openPath=1)"
   ]
  },
  {
   "cell_type": "code",
   "execution_count": 113,
   "metadata": {
    "collapsed": true
   },
   "outputs": [],
   "source": [
    "VbasementWalls = pyData.VbasementWalls\n",
    "EVbasementWalls = pyData.EVbasementWalls"
   ]
  },
  {
   "cell_type": "code",
   "execution_count": 114,
   "metadata": {
    "collapsed": true
   },
   "outputs": [],
   "source": [
    "basementWalls = STRUCT(drawPlant(VbasementWalls, EVbasementWalls))\n",
    "basementWalls = TEXTURE(basementWallsRock)(MULTEXTRUDE(OFFSET([0.7,0.7])(STRUCT([basementWalls])))(2.))"
   ]
  },
  {
   "cell_type": "code",
   "execution_count": 115,
   "metadata": {},
   "outputs": [],
   "source": [
    "myNewBasement = STRUCT([base2Basement, T(3)(SIZE(3)(groundBase))(basementWalls)])\n",
    "#VIEW(myNewBasement)"
   ]
  },
  {
   "cell_type": "markdown",
   "metadata": {},
   "source": [
    "![basement2](./images/basement2.png)\n",
    "![basement3](./images/basement3.png)"
   ]
  },
  {
   "cell_type": "markdown",
   "metadata": {},
   "source": [
    "# Floor"
   ]
  },
  {
   "cell_type": "code",
   "execution_count": 116,
   "metadata": {
    "collapsed": true
   },
   "outputs": [],
   "source": [
    "villaFloorTexture = './textures/floor.jpg'"
   ]
  },
  {
   "cell_type": "code",
   "execution_count": 117,
   "metadata": {
    "collapsed": true
   },
   "outputs": [],
   "source": [
    "#villaFloor = MULTEXTRUDE(OFFSET([0.7,0.7])(SOLIDIFY(STRUCT(villaBasePlant))))(0.06)\n",
    "Vfloor,EVfloor = larModel(os.getcwd() + \"/data/floor.lines\", openPath=0)\n",
    "myFloor = drawPlant(Vfloor,EVfloor)\n",
    "villaFloor = MULTEXTRUDE(OFFSET([0.7,0.7])(SOLIDIFY(STRUCT(myFloor))))(0.06)"
   ]
  },
  {
   "cell_type": "code",
   "execution_count": 118,
   "metadata": {
    "collapsed": true
   },
   "outputs": [],
   "source": [
    "VfloorHole = [[89.9, 95.3], [89.9, 98.0], [87.8, 98.0], [87.8, 95.3]]\n",
    "\n",
    "#VfloorHole,EVfloorHole = larModel(os.getcwd() + \"/data/floorHole.lines\")\n",
    "#[[89.9, 95.1], [89.9, 98.0], [87.1, 98.0], [87.1, 95.1]]"
   ]
  },
  {
   "cell_type": "code",
   "execution_count": 119,
   "metadata": {
    "collapsed": true
   },
   "outputs": [],
   "source": [
    "EVfloorHole = [[1, 2], [3, 2], [3, 4], [4, 1]]"
   ]
  },
  {
   "cell_type": "code",
   "execution_count": 120,
   "metadata": {
    "collapsed": true
   },
   "outputs": [],
   "source": [
    "floorHole = JOIN(STRUCT(drawPlant(VfloorHole,EVfloorHole)))\n",
    "floorHole = PROD([floorHole, Q(2)])\n",
    "floorHoleSizes = SIZE([1,2,3])(floorHole) #[5.400001525878906, 5.0, 2.0]"
   ]
  },
  {
   "cell_type": "code",
   "execution_count": 121,
   "metadata": {
    "collapsed": true
   },
   "outputs": [],
   "source": [
    "villaFloorHoled = TEXTURE(villaFloorTexture)(DIFFERENCE([villaFloor, floorHole]))"
   ]
  },
  {
   "cell_type": "code",
   "execution_count": 122,
   "metadata": {
    "collapsed": true
   },
   "outputs": [],
   "source": [
    "def SPECULAR (D):\n",
    "    \"\"\"\n",
    "    SPECULAR(D)(pol) is just a variation of MIRROR(D)(pol) without returning the original object,\n",
    "    plus the specular polyhedron is placed so that its location is the same as the original pol one \n",
    "    :param D: direction, integer\n",
    "    :param pol: polyhedron\n",
    "    :return:  pyplasm.xgepy.Hpc\n",
    "    \"\"\"\n",
    "    def SPECULAR0 (pol):\n",
    "        return  STRUCT([T(D)(SIZE(D)(pol))(S(D)(-1)(pol))])\n",
    "    return SPECULAR0"
   ]
  },
  {
   "cell_type": "markdown",
   "metadata": {},
   "source": [
    "### Basement staircase"
   ]
  },
  {
   "cell_type": "code",
   "execution_count": 123,
   "metadata": {
    "collapsed": true
   },
   "outputs": [],
   "source": [
    "stairWallLen = 3.481\n",
    "stepZ = .285\n",
    "stepX = 2.1\n",
    "stepY = .45\n",
    "stepsize = [stepX, stepY, stepZ]\n",
    "\n",
    "offX, offY = [84.5, 93.0]\n",
    "offZ = SIZE(3)(groundBase)\n",
    "            \n",
    "############\n",
    "############\n",
    "\n",
    "_stair = TEXTURE(basementWallsRock)(stairs(7, stepsize))\n",
    "basementStaircase = T([1,2,3])([offX + 3.3, offY+2.5, offZ])(_stair)\n",
    "\n",
    "floorLevel = offZ + SIZE(3)(basementStaircase)\n",
    "finalBase = STRUCT([myNewBasement, basementStaircase, T([1,2,3])([0.2,0.2,floorLevel])(villaFloorHoled)])"
   ]
  },
  {
   "cell_type": "code",
   "execution_count": 124,
   "metadata": {
    "collapsed": true
   },
   "outputs": [],
   "source": [
    "#VIEW(finalBase)"
   ]
  },
  {
   "cell_type": "markdown",
   "metadata": {},
   "source": [
    "### Stair highlighted in red (not the final color!)\n",
    "\n",
    "![basement stair](./images/basement4.png)"
   ]
  },
  {
   "cell_type": "markdown",
   "metadata": {},
   "source": [
    "# All together\n",
    "Displaying the entire base plus the floor together.\n",
    "Textures are chosen to represent actually used materials the best possible way"
   ]
  },
  {
   "cell_type": "markdown",
   "metadata": {},
   "source": [
    "![finalBase1](./images/finalBase1.png)\n",
    "\n",
    "With the floor:\n",
    "![finalBase2](./images/finalBase2.png)\n",
    "\n",
    "Deteails for the stairs\n",
    "![finalBase3](./images/finalBase3.png)"
   ]
  },
  {
   "cell_type": "markdown",
   "metadata": {},
   "source": [
    "## Inner walls\n",
    "I would like to use something different from the boolean operation DIFFERENCE to create space for doors. I will stack two model one on top of the other, the former one contains spaces, the latter one does not."
   ]
  },
  {
   "cell_type": "code",
   "execution_count": 125,
   "metadata": {
    "collapsed": true
   },
   "outputs": [],
   "source": [
    "#VinWalls,EVinWalls = larModel(os.getcwd() + \"/data/innerwallsNOIMM_2.lines\", openPath=1)\n",
    "#VinWallsTOP,EVinWallsTOP = larModel(os.getcwd() + \"/data/innerwallsTOPNOIMM_2.lines\", openPath=1)"
   ]
  },
  {
   "cell_type": "code",
   "execution_count": 159,
   "metadata": {
    "collapsed": true
   },
   "outputs": [],
   "source": [
    "VinWalls = pyData.VinWalls\n",
    "EVinWalls = pyData.EVinWalls\n",
    "VinWallsTOP = pyData.VinWallsTOP\n",
    "EVinWallsTOP = pyData.EVinWallsTOP\n"
   ]
  },
  {
   "cell_type": "code",
   "execution_count": 160,
   "metadata": {
    "collapsed": true
   },
   "outputs": [],
   "source": [
    "inWallsPlantHoled = STRUCT(drawPlant(VinWalls, EVinWalls))\n",
    "inWallsPlantHoled = MULTEXTRUDE(OFFSET([0.7,0.7])(STRUCT([inWallsPlantHoled])))(2.5)"
   ]
  },
  {
   "cell_type": "code",
   "execution_count": 161,
   "metadata": {
    "collapsed": true
   },
   "outputs": [],
   "source": [
    "inWallsPlantTOP = STRUCT(drawPlant(VinWallsTOP, EVinWallsTOP))\n",
    "inWallsPlantTOP = MULTEXTRUDE(OFFSET([0.7,0.7])(STRUCT([inWallsPlantTOP])))(5.5)"
   ]
  },
  {
   "cell_type": "code",
   "execution_count": 162,
   "metadata": {
    "collapsed": true
   },
   "outputs": [],
   "source": [
    "inWalls = STRUCT([TOP([inWallsPlantHoled, inWallsPlantTOP])])"
   ]
  },
  {
   "cell_type": "code",
   "execution_count": 163,
   "metadata": {
    "collapsed": true
   },
   "outputs": [],
   "source": [
    "travertineHEX = \"#E2DECD\""
   ]
  },
  {
   "cell_type": "code",
   "execution_count": 164,
   "metadata": {},
   "outputs": [],
   "source": [
    "villaBaseHoled = HEX(travertineHEX)(villaBaseHoled)\n",
    "inWalls = HEX(travertineHEX)(inWalls)\n",
    "\n",
    "#VIEW(STRUCT([villaBaseHoled, inWalls]))"
   ]
  },
  {
   "cell_type": "code",
   "execution_count": 165,
   "metadata": {},
   "outputs": [
    {
     "name": "stdout",
     "output_type": "stream",
     "text": [
      "[[69.4, 85.6], [69.4, 88.2], [89.9, 85.6], [89.9, 88.2], [69.4, 90.0], [69.4, 98.0], [69.4, 93.0], [77.6, 93.0], [74.7, 93.0], [74.7, 98.0], [89.9, 90.0], [89.9, 98.0], [89.9, 93.0], [81.5, 93.0], [84.5, 93.0], [84.5, 98.0], [87.1, 95.5], [87.1, 98.0], [59.3, 102.6], [63.1, 102.6], [65.1, 102.6], [74.7, 102.6], [69.4, 100.0], [69.4, 107.2], [74.7, 100.1], [74.7, 106.7], [84.5, 100.1], [84.5, 106.7], [84.5, 102.6], [94.0, 102.6], [89.9, 100.0], [89.9, 107.2], [100.3, 102.6], [96.1, 102.6], [69.4, 108.8], [69.4, 112.8], [74.7, 108.8], [74.7, 112.8], [84.5, 108.8], [84.5, 112.8], [89.9, 108.8], [89.9, 112.8]]\n"
     ]
    }
   ],
   "source": [
    "print VinWalls"
   ]
  },
  {
   "cell_type": "code",
   "execution_count": 133,
   "metadata": {
    "collapsed": true
   },
   "outputs": [],
   "source": [
    "#VIEW(STRUCT([inWalls])) #[58.9, 103.1]"
   ]
  },
  {
   "cell_type": "markdown",
   "metadata": {},
   "source": [
    "![innerWalls](./images/inWalls.png)"
   ]
  },
  {
   "cell_type": "markdown",
   "metadata": {},
   "source": [
    "# Inner walls, floor and base\n",
    "Let's now give a look inside the villa at current state "
   ]
  },
  {
   "cell_type": "code",
   "execution_count": 134,
   "metadata": {
    "collapsed": true
   },
   "outputs": [],
   "source": [
    "inWallsLevel = SIZE(3)(finalBase)\n",
    "skeleton = STRUCT([finalBase,T(3)(inWallsLevel)(inWalls)])\n",
    "#VIEW(skeleton)"
   ]
  },
  {
   "cell_type": "markdown",
   "metadata": {
    "collapsed": true
   },
   "source": [
    "![inside](./images/skeleton.png)"
   ]
  },
  {
   "cell_type": "markdown",
   "metadata": {},
   "source": [
    "# Windows\n",
    "Few kinds of windows:\n",
    "- lower ones are placed on villaBase.\n",
    "- big green windows are more \"central\" on walls height\n",
    "- small green windows are place at the very top of the side walls\n",
    "\n",
    "![side](./images/sideVillaFoto.jpg)"
   ]
  },
  {
   "cell_type": "code",
   "execution_count": 135,
   "metadata": {
    "collapsed": true
   },
   "outputs": [],
   "source": [
    "woodHEX = \"#8B5A2B\"\n",
    "steelGreyHEX = \"#43464B\"\n",
    "glassTexture = './textures/glass.jpeg'\n",
    "greenWindowTexture1 = './textures/greenWindow1.png'\n",
    "greenWindowTexture2 = './textures/greenWindow2.png'\n",
    "green = './textures/green.jpg' "
   ]
  },
  {
   "cell_type": "markdown",
   "metadata": {},
   "source": [
    "### lower windows"
   ]
  },
  {
   "cell_type": "code",
   "execution_count": 136,
   "metadata": {
    "collapsed": true
   },
   "outputs": [],
   "source": [
    "def lowerWindow(lateral = 0):\n",
    "    \"\"\"\n",
    "    :param lateral : window orientation\n",
    "                    0 = right\n",
    "                    1 = left\n",
    "                    2 = back (decreasing y)\n",
    "                    3 = front (increasing y)\n",
    "    :return:  pyplasm.xgepy.Hpc\n",
    "    \"\"\"\n",
    "    \n",
    "    if(lateral not in [0, 1, 2, 3]):\n",
    "        raise ValueError('bad lateral argument: not in [0,1,2,3]')\n",
    "    \n",
    "    windowStructure = SKEL_1(STRUCT([PROD([INTERVALS(0.20*8)(2), INTERVALS(0.20*5)(1)])]))\n",
    "    windowStructure = HEX(woodHEX)(STRUCT([OFFSET([0.01,0.03, 0.03])(PROD([Q(0.01), windowStructure]))]))\n",
    "\n",
    "    #SIZE([1,2,3])(windowStructure) = [0.019999999552965164, 1.6299999952316284, 1.0299999713897705]\n",
    "    glassSize = [0.019999999552965164/4, 1.6299999952316284, 1.0299999713897705]\n",
    "    glass = TEXTURE(glassTexture)(CUBOID(glassSize))\n",
    "    \n",
    "    windowGrid = SKEL_1(STRUCT([PROD([INTERVALS(1.62)(6), INTERVALS(1.01)(4)])]))\n",
    "    windowGrid = HEX(steelGreyHEX)(STRUCT([OFFSET([0.01,0.01, 0.01])(PROD([Q(0.01), windowGrid]))]))\n",
    "\n",
    "    window = STRUCT([RIGHT([RIGHT([windowStructure, RIGHT([glass, windowStructure])]), windowGrid])])\n",
    "    \n",
    "    if(lateral == 1):\n",
    "        window = R([1,2])(PI)(T(2)(-SIZE(2)(window))(window))\n",
    "        print \"1 - left\"\n",
    "    elif(lateral == 2):\n",
    "        window = R([1,2])(PI/2)(T(2)(-SIZE(2)(window))(window))\n",
    "        print \"2 - back\"\n",
    "    elif(lateral == 3):\n",
    "        window = T(2)(SIZE(1)(window))(R([1,2])(-PI/2)(window))\n",
    "        print \"3 - front\"\n",
    "        \n",
    "    return window"
   ]
  },
  {
   "cell_type": "code",
   "execution_count": 137,
   "metadata": {
    "collapsed": true
   },
   "outputs": [],
   "source": [
    "#myLowerWindow = lowerWindow(lateral = 3)\n",
    "#print SIZE([1,2,3])(myLowerWindow)\n",
    "#VIEW(myLowerWindow)"
   ]
  },
  {
   "cell_type": "markdown",
   "metadata": {},
   "source": [
    "### big green windows"
   ]
  },
  {
   "cell_type": "code",
   "execution_count": 138,
   "metadata": {
    "collapsed": true
   },
   "outputs": [],
   "source": [
    "def greenWindow(n,rot=1.0, lateral = 0, opened = 0):\n",
    "    \"\"\"\n",
    "    :param lateral : window orientation\n",
    "                    0 = right/left\n",
    "                    1 = back (decreasing y)/front (increasing y)\n",
    "    :return:  pyplasm.xgepy.Hpc\n",
    "    \"\"\"\n",
    "    \n",
    "    if(lateral not in [0, 1]):\n",
    "        raise ValueError('bad lateral argument: not in [0,1]')\n",
    "    \n",
    "    louverSize = [0.019999999552965164, 1.6299999952316284/2, n*1.0299999713897705]\n",
    "    \n",
    "    backStruct = HEX(\"#47633f\")(OFFSET([0.01,0.01])(SKEL_1(STRUCT([PROD([INTERVALS(louverSize[2]-0.02)(1),\n",
    "                                                                INTERVALS(louverSize[1]*2)(1)])]))))\n",
    "    \n",
    "    \n",
    "    louverL = TEXTURE([green, True,True, 0.0,0.0,0.0,1.0,1.0*rot,0.0,0.0])(CUBOID(louverSize))\n",
    "    louverR = TEXTURE([green, True,True, 0.0,0.0,0.0,1.0,1.0*rot,0.0,0.0])(CUBOID(louverSize))\n",
    "    \n",
    "    if(opened == 1):\n",
    "        louverL = T(2)(1.62999999523162842)(R([1,2])(PI/4)(louverL))\n",
    "        louverR = R([1,2])(PI*3/4)(louverR)\n",
    "        window = STRUCT([louverL, louverR])\n",
    "    \n",
    "    elif(opened == 0):\n",
    "        window = STRUCT([louverR, T(2)(louverSize[1])(louverL)])\n",
    "    \n",
    "    if(lateral == 1):\n",
    "        window = R([1,2])(PI/2)(T(2)(-SIZE(2)(window))(window))\n",
    "    \n",
    "    window = STRUCT([window, R([1,3])(PI/2)(T(1)(louverSize[0])(backStruct))])\n",
    "    \n",
    "    return window"
   ]
  },
  {
   "cell_type": "code",
   "execution_count": 139,
   "metadata": {
    "collapsed": true
   },
   "outputs": [],
   "source": [
    "#myBigGrWindow = greenWindow(n=3,lateral=0,opened=1)\n",
    "#VIEW(myBigGrWindow)"
   ]
  },
  {
   "cell_type": "markdown",
   "metadata": {},
   "source": [
    "### small green windows"
   ]
  },
  {
   "cell_type": "code",
   "execution_count": 140,
   "metadata": {
    "collapsed": true
   },
   "outputs": [],
   "source": [
    "#myLittleGrWindow = greenWindow(1,rot=PI)\n",
    "#VIEW(myLittleGrWindow)"
   ]
  },
  {
   "cell_type": "markdown",
   "metadata": {},
   "source": [
    "## Outer Walls\n",
    "Or the walls of the villa, these will host the windows.\n",
    "Side walls are (95.9 - 58.9) long, this value is obtained from svg taken for the floor and villaBase.\n",
    "\n",
    "Let's remember window sizes: \n",
    "    [0.019999999552965164, 1.6299999952316284, 1.0299999713897705] = [thickness, width, height]  \n",
    "    with n = 4.5 for the big green windows and n = 1 for the smaller ones"
   ]
  },
  {
   "cell_type": "markdown",
   "metadata": {},
   "source": [
    "## Façade\n",
    "I will now use a support method to build a model for a façade given the geometric pattern representing it (e.g. window-no window-window ...)\n",
    "\n",
    "This method has been inspired from PLASM documentation (chapter 02)"
   ]
  },
  {
   "cell_type": "code",
   "execution_count": 141,
   "metadata": {
    "collapsed": true
   },
   "outputs": [],
   "source": [
    "def facade(rithms, thickness):\n",
    "    \"\"\"\n",
    "    :param rithms: array of values describing the rithm full/empty spaces\n",
    "    :param thickness: facade thickness\n",
    "    :return:  pyplasm.xgepy.Hpc \n",
    "    \"\"\"\n",
    "    if not rithms or thickness<=0:\n",
    "        print \"wrong args\"\n",
    "        return None\n",
    "    \n",
    "    xRithm, yRithm, xVoid, yVoid = rithms\n",
    "    \n",
    "    wall = STRUCT([\n",
    "    PROD([QUOTE(xRithm),QUOTE(yRithm)]),\n",
    "    PROD([QUOTE(xVoid),QUOTE(yRithm)]),\n",
    "    PROD([QUOTE(xRithm),QUOTE(yVoid)])\n",
    "    ])\n",
    "    return PROD([wall, Q(thickness)])"
   ]
  },
  {
   "cell_type": "code",
   "execution_count": 211,
   "metadata": {
    "collapsed": true
   },
   "outputs": [],
   "source": [
    "def getWindowsPlaceholder(rithm):\n",
    "    \"\"\"\n",
    "    eg. getWindowsPlaceholder([1,-1,1,-2,1,-2,1]) = [1,3,6]\n",
    "    \n",
    "    Given the wall rithm, this method returns reference points for \n",
    "    placing windows (args of T(D)(arg)(pol))\n",
    "        \n",
    "    :param rithm: array of values describing the rithm full/empty spaces \n",
    "    :return: array of float(s)\n",
    "    \n",
    "    \"\"\"\n",
    "    out = []\n",
    "    rithmABS = [abs(x) for x in rithm]\n",
    "\n",
    "    for i in range(len(rithm)):\n",
    "        if rithm[i] < 0:\n",
    "            out.append(sum(rithmABS[:i]))\n",
    "    return out"
   ]
  },
  {
   "cell_type": "code",
   "execution_count": 212,
   "metadata": {
    "collapsed": true
   },
   "outputs": [],
   "source": [
    "def sideFacade():\n",
    "    \"\"\"\n",
    "    builds the lateral part of the villa (27.9 m?)\n",
    "    :return:  pyplasm.xgepy.Hpc \n",
    "    \"\"\"\n",
    "    \n",
    "    sideWallsWidth = 27.9\n",
    "    windowSizes = [0.019999999552965164, 1.6299999952316284, 1.0299999713897705]\n",
    "\n",
    "    # QUOTE uses an array of integers: positive ones will be segments, negative ones spaces.\n",
    "    # fullWall<D> is a positive integer used in QUOTE to represent segments, or portions of the full wall\n",
    "    # (no windows)\n",
    "    fullX = sideWallsWidth - windowSizes[1]*3.\n",
    "    fullWallX = fullX/4. - windowSizes[1]/2\n",
    "    \n",
    "    # some datapoint are summed up with long values,\n",
    "    # this has the mere aim of reaching the proper width of the wall. See below prints\n",
    "    xRithm = [fullWallX, -windowSizes[1], fullWallX+1.3039999961999995, -windowSizes[1],\n",
    "              fullWallX+1.9559999942999995, -windowSizes[1], fullWallX]\n",
    "    \n",
    "    # just to be shure that if we sum up these elements, we get the actual width/height of the wall\n",
    "    print \"sideWallsWidth: {}\".format(sideWallsWidth)\n",
    "    print (\"sumFullWallX: {}\".format(sum([abs(n) for n in xRithm])))\n",
    "    \n",
    "    \n",
    "   \n",
    "    y =  windowSizes[2]   \n",
    "    yRithm = [0.4, -y*3., y*3, -y, 0.39000020027000026]\n",
    "    print (\"wall height: 8.0\")\n",
    "    print (\"sumFullWallY: {}\".format(sum([abs(n) for n in yRithm])))\n",
    "    \n",
    "    xVoid = [-xv for xv in xRithm]\n",
    "    yVoid = [-yv for yv in yRithm]\n",
    "    \n",
    "    ######\n",
    "    # Calculating windows location relatively to the origin\n",
    "    ######\n",
    "    xPlaceholders = getWindowsPlaceholder(xRithm)\n",
    "    yPlaceholders = getWindowsPlaceholder(yRithm)\n",
    "    \n",
    "    \n",
    "    _facade = R([2,3])(PI/2)(facade([xRithm, yRithm, xVoid, yVoid], 0.7))\n",
    "    _facade = R([1,2])(PI/2)(_facade)\n",
    "    \n",
    "    return _facade, [xPlaceholders, yPlaceholders]"
   ]
  },
  {
   "cell_type": "code",
   "execution_count": 213,
   "metadata": {},
   "outputs": [
    {
     "name": "stdout",
     "output_type": "stream",
     "text": [
      "sideWallsWidth: 27.9\n",
      "sumFullWallX: 27.9\n",
      "wall height: 8.0\n",
      "sumFullWallY: 8.0\n"
     ]
    }
   ],
   "source": [
    "myFacade,sidePlaceHdr = sideFacade()\n",
    "myFacade = HEX(travertineHEX)(myFacade)\n",
    "\n",
    "#VIEW(myFacade)"
   ]
  },
  {
   "cell_type": "code",
   "execution_count": 214,
   "metadata": {},
   "outputs": [
    {
     "data": {
      "text/plain": [
       "[[4.9375000059604641, 12.809000003352557, 21.332499998844646],\n",
       " [0.40000000000000002, 6.5799998283386234]]"
      ]
     },
     "execution_count": 214,
     "metadata": {},
     "output_type": "execute_result"
    }
   ],
   "source": [
    "sidePlaceHdr"
   ]
  },
  {
   "cell_type": "code",
   "execution_count": 304,
   "metadata": {
    "collapsed": true
   },
   "outputs": [],
   "source": [
    "def sideWithWindows(facadeIn):\n",
    "    sideWindowsOrigins = []   # right \n",
    "    sideWinStructs = []\n",
    "\n",
    "    \"\"\"\n",
    "    Each sideWindowsOrigins element is an array of length 2:\n",
    "\n",
    "                [coord1,coord2]         [coord1,coord3]\n",
    "                    |                          |\n",
    "                    |                          |\n",
    "                    v                          v\n",
    "        [origin of the lower window, origin of the higher window]\n",
    "\n",
    "    eg. [[7.2125000059604663, 0.40000000000000002], [7.2125000059604663, 6.5799998283386234]]\n",
    "\n",
    "    \"\"\"\n",
    "    for el in sidePlaceHdr[0]:\n",
    "        sideWindowsOrigins.append([[el,sidePlaceHdr[1][0]],\n",
    "                                   [el,sidePlaceHdr[1][1]]])\n",
    "\n",
    "    \n",
    "    # bigGrWindow = ----->  greenWindow(n=3,lateral=0,opened=0)\n",
    "    # smallGrWindow = ----->  greenWindow(1,rot=PI)\n",
    "    for pt in sideWindowsOrigins:\n",
    "        pt[0].insert(0, 0.705)\n",
    "        pt[1].insert(0, 0.705)\n",
    "        print pt[0]\n",
    "        print pt[1]\n",
    "        sideWinStructs.append(T([1,2,3])(pt[0])(greenWindow(n=3,lateral=0,opened=0)))\n",
    "        sideWinStructs.append(T([1,2,3])(pt[1])(greenWindow(1,rot=PI)))\n",
    "\n",
    "    windowsSide = STRUCT(sideWinStructs)\n",
    "    return STRUCT([windowsSide, facadeIn])"
   ]
  },
  {
   "cell_type": "code",
   "execution_count": 306,
   "metadata": {},
   "outputs": [
    {
     "name": "stdout",
     "output_type": "stream",
     "text": [
      "[0.705, 4.9375000059604641, 0.40000000000000002]\n",
      "[0.705, 4.9375000059604641, 6.5799998283386234]\n",
      "[0.705, 12.809000003352557, 0.40000000000000002]\n",
      "[0.705, 12.809000003352557, 6.5799998283386234]\n",
      "[0.705, 21.332499998844646, 0.40000000000000002]\n",
      "[0.705, 21.332499998844646, 6.5799998283386234]\n"
     ]
    }
   ],
   "source": [
    "windowedSideFacade = sideWithWindows(myFacade)\n",
    "#VIEW(windowedSideFacade)"
   ]
  },
  {
   "cell_type": "markdown",
   "metadata": {},
   "source": [
    "[[[4.9375000059604641, 0.40000000000000002], [4.9375000059604641, 6.5799998283386234]],\n",
    "\n",
    "[[12.809000003352557, 0.40000000000000002], [12.809000003352557, 6.5799998283386234]],\n",
    "\n",
    "[[21.332499998844646, 0.40000000000000002], [21.332499998844646, 6.5799998283386234]]]"
   ]
  },
  {
   "cell_type": "markdown",
   "metadata": {},
   "source": [
    "![side with windows](./images/side2Windows.png)"
   ]
  },
  {
   "cell_type": "markdown",
   "metadata": {},
   "source": [
    "## villa base and windows\n"
   ]
  },
  {
   "cell_type": "markdown",
   "metadata": {},
   "source": [
    "### Useful points\n",
    "I will use a dictionary of useful point that will come in handy when placing walls, windows etc."
   ]
  },
  {
   "cell_type": "code",
   "execution_count": 312,
   "metadata": {},
   "outputs": [],
   "source": [
    "refPoints = {'leftBottom': [59., 85.8],\n",
    "             'leftTop': [59.,113.7],\n",
    "             'leftOuterWall': [59.3, 103.1],\n",
    "             'baseWinCoordRT':[[59.0, 107.13, 0.5], [59.0, 98.6, 0.5], [59.0, 90.7, 0.5]],\n",
    "            }"
   ]
  },
  {
   "cell_type": "code",
   "execution_count": 313,
   "metadata": {
    "scrolled": true
   },
   "outputs": [
    {
     "name": "stdout",
     "output_type": "stream",
     "text": [
      "1 - left\n",
      "1 - left\n",
      "1 - left\n"
     ]
    }
   ],
   "source": [
    "\"\"\"\n",
    "myBaseCoord = [[59.0, 107.13, 0.5], \n",
    "           [59.0, 98.6, 0.5],\n",
    "           [59.0, 90.7, 0.5]]\n",
    "\"\"\"\n",
    "baseWinList = []\n",
    "for c in refPoints['baseWinCoordRT']:\n",
    "    baseWinList.append(T([1,2,3])(c)(lowerWindow(1)))"
   ]
  },
  {
   "cell_type": "code",
   "execution_count": 290,
   "metadata": {},
   "outputs": [],
   "source": [
    "#VIEW(STRUCT(baseWinList))"
   ]
  },
  {
   "cell_type": "markdown",
   "metadata": {},
   "source": [
    "![row of windows](./images/windowRow.png)\n",
    "![row of windows](./images/windowRow2.png)"
   ]
  },
  {
   "cell_type": "code",
   "execution_count": 291,
   "metadata": {},
   "outputs": [],
   "source": [
    "windowedBase = [x for x in baseWinList]\n",
    "windowedBase.append(villaBaseHoled)\n",
    "#VIEW(STRUCT(windowedBase))\n"
   ]
  },
  {
   "cell_type": "code",
   "execution_count": 315,
   "metadata": {
    "scrolled": true
   },
   "outputs": [
    {
     "data": {
      "text/plain": [
       "<pyplasm.xgepy.Hpc; proxy of <Swig Object of type 'std::shared_ptr< Hpc > *' at 0x18246f39f0> >"
      ]
     },
     "execution_count": 315,
     "metadata": {},
     "output_type": "execute_result"
    }
   ],
   "source": [
    "VIEW(STRUCT([STRUCT(windowedBase),\n",
    "             T([1,2,3])([.2, .2, 2.])(villaFloorHoled),\n",
    "             T([1,2,3])([refPoints['leftBottom'][0], refPoints['leftBottom'][1], 2.])(windowedSideFacade),\n",
    "             T(3)(2.)(inWalls),\n",
    "             T([1,2,3])([0]*3)(SPECULAR(1)(windowedSideFacade)),\n",
    "            ]))\n",
    "\n",
    "\"\"\"\n",
    "\n",
    "\n",
    "DEFINISCI L'OFFSET PER IL LATO DESTRO\n",
    "\n",
    "\n",
    "\"\"\"\n",
    "\n",
    "\n",
    "\n",
    "#VIEW(STRUCT([villaBase, T([1,2,3])([.2, .2, 2])(villaFloorHoled), T([1,2,3])([59.1, 76.7,2])(CUBOID([1,SIZE(2)(villaBase),1]))]))\n",
    "\n",
    "#VIEW(STRUCT([villaBase, T([1,2,3])([.2, .2, 2])(villaFloorHoled), T([1,2,3])([59., 113.7,2])(HEX(\"#FF0000\")(CUBE(2)))]))\n",
    "\n",
    "#[MIN(1)(villaFloorHoled)+.2, MAX(2)(villaFloorHoled)+.2] [59.09990234375, 113.7]\n",
    "#left top angle   [MIN(1)(villaFloorHoled)+.2, MAX(2)(villaFloorHoled)+.2]\n",
    "# starting y for the left (cartesian plane) lateral wall  MAX(2)(villaFloorHoled)+.2 - SIZE(2)(myFacade)\n",
    "#print MIN(2)(villaFloor) #84.1999969482"
   ]
  },
  {
   "cell_type": "markdown",
   "metadata": {},
   "source": [
    "## Building the back wall\n",
    "Here we have a more intricate, structure for the back wall. It is possible to look at this wall as a structure divided in three parts:\n",
    "- a central part, containing 3 big green windows close to one another\n",
    "- left part and right side are specular\n",
    "\n",
    "I made some assumption to give a proportion to each part (I could have measured pixels with inkScape but it feels excessive), given the width of 41.4 : \n",
    "- cental part = $\\frac{1}{4}\\cdot 41.4$ = 10.35\n",
    "- left/right parts (I will call this lrSpace, now on) = $\\frac{3}{8}\\cdot 41.4$ (each) = 15.524999999999999 (each)"
   ]
  },
  {
   "cell_type": "markdown",
   "metadata": {},
   "source": [
    "![back](./images/back.jpeg)"
   ]
  },
  {
   "cell_type": "markdown",
   "metadata": {},
   "source": [
    "### Note\n",
    "For sake of readability I split the creation of the back walls in more than one method, then I wrapped up all toghether. This will come in handy when building the front of the villa, as well."
   ]
  },
  {
   "cell_type": "code",
   "execution_count": 68,
   "metadata": {
    "collapsed": true
   },
   "outputs": [],
   "source": [
    "windowSizes = [0.019999999552965164, 1.6299999952316284, 1.0299999713897705]\n",
    "wx = windowSizes[1]\n",
    "wy =  windowSizes[2]"
   ]
  },
  {
   "cell_type": "code",
   "execution_count": 69,
   "metadata": {
    "collapsed": true
   },
   "outputs": [],
   "source": [
    "def backWallSide(x, y):\n",
    "    \"\"\"\n",
    "    backWallSide build one side of the wall, it will just be necessary to apply SPECULAR to it, to get the other side\n",
    "    :param x: horizontal measure of the basic small window\n",
    "    :param y: vertical measure of the basic small window\n",
    "    :return: pyplasm.xgepy.Hpc\n",
    "    \"\"\"\n",
    "    lrSpaceX = 15.525 #it will be automatically rounded to this value (no need to to use 15.5249...)\n",
    "    \n",
    "    \n",
    "    xRithm = [lrSpaceX/3.-0.175, -x, lrSpaceX/3.+0.4, -x, 1.6900000095000003]  \n",
    "    yRithm = [0.4, -y*3., y*3, -y, 0.39000020027000026]\n",
    "    xVoid = [-xv for xv in xRithm]\n",
    "    yVoid = [-yv for yv in yRithm]\n",
    "    \n",
    "    return facade([xRithm, yRithm, xVoid, yVoid])"
   ]
  },
  {
   "cell_type": "code",
   "execution_count": 70,
   "metadata": {
    "collapsed": true,
    "scrolled": true
   },
   "outputs": [],
   "source": [
    "#backWallLeft = backWallSide(wx, wy)\n",
    "#backWallRight = SPECULAR(1)(backWallLeft)\n",
    "\n",
    "#VIEW(STRUCT([backWallLeft, T(1)(15.525)(backWallRight)]))"
   ]
  },
  {
   "cell_type": "code",
   "execution_count": 71,
   "metadata": {
    "collapsed": true
   },
   "outputs": [],
   "source": [
    "    # centralPartSpace = 10.35\n",
    "\n",
    "    # central part : ASSE ORIZZONTALE\n",
    "    # 1.6299999952316284*3 = 4.889999985694885\n",
    "    # centralPartSpace - 4.889999985694885 = 5.460000014305114\n",
    "    # 5.460000014305114/4 = 1.3650000035762786 (somma della superficie occupabile da muratura)\n",
    "    # .3650000035762786*2\n",
    "    # array delle porzioni \"piene\" = [1.,1.7300000071525572,1.7300000071525572,1.]"
   ]
  },
  {
   "cell_type": "code",
   "execution_count": 72,
   "metadata": {
    "collapsed": true
   },
   "outputs": [],
   "source": [
    "def backWallCentral(x, y):\n",
    "    \"\"\"\n",
    "    Central part is more rticulate ad less symmetrical\n",
    "    I will make some more \"divide et impera\", dividing the central part again in three parts\n",
    "    \n",
    "    :param x: horizontal measure of the basic small window\n",
    "    :param y: vertical measure of the basic small window\n",
    "    :return: pyplasm.xgepy.Hpc\n",
    "    \"\"\"\n",
    "\n",
    "    #central part n°1\n",
    "    xRithmCentral_1 = [1.909980933345, -x, 0.8199997425499994]\n",
    "    yRithmCentral_1 = [0.4, -y*12./5, y*18./5, -y, 0.39000020027000026]\n",
    "    xVoidCentral_1 = [-xv for xv in xRithmCentral_1]\n",
    "    yVoidCentral_1 = [-xv for xv in yRithmCentral_1]\n",
    "    centralPt1 = facade([xRithmCentral_1, yRithmCentral_1, xVoidCentral_1, yVoidCentral_1])  \n",
    "\n",
    "    #central part n°2\n",
    "    yRithmPt2 = [0.01,-y*3, 4.9000000858307]\n",
    "    centralPt2 = STRUCT([PROD([Q(x), QUOTE(yRithmPt2)])])\n",
    "    \n",
    "    #central part n°3\n",
    "    centralPt3 = SPECULAR(1)(centralPt1)\n",
    "    \n",
    "    # offset: used to tralsate centralPt2 next to centralPt1\n",
    "    offset = sum([abs(n) for n in xRithmCentral_1])\n",
    "    \n",
    "    centralPart = [centralPt1, T(1)(offset)(centralPt2),  T(1)(x + offset)(centralPt3)]\n",
    "    return centralPart"
   ]
  },
  {
   "cell_type": "code",
   "execution_count": 73,
   "metadata": {
    "collapsed": true
   },
   "outputs": [],
   "source": [
    "bwalls = backWallCentral(wx, wy)"
   ]
  },
  {
   "cell_type": "code",
   "execution_count": 74,
   "metadata": {
    "collapsed": true
   },
   "outputs": [],
   "source": [
    "#VIEW(STRUCT(bwalls))"
   ]
  },
  {
   "cell_type": "markdown",
   "metadata": {},
   "source": [
    "def backWall(x,y):\n",
    "    left = backWallSide(x, y)\n",
    "    centre = backWallCentral(x, y)\n",
    "    right = SPECULAR(1)(left)\n",
    "    \n",
    "    # 15.525, width of left (and right)\n",
    "    # 10.35, width of centre\n",
    "\n",
    "    _backWall = STRUCT([\n",
    "        left,\n",
    "        T(1)(15.525)(STRUCT(centre)),\n",
    "        T(1)(15.525 + 10.35)(right)\n",
    "    ])\n",
    "    \n",
    "    # ROTATION is applied so that it is alligned with the rest of the villa as the actual back wall\n",
    "    # TRASLATION is applied so that if we create a backWall it actually originates in [0,0,0],\n",
    "    # without it, it starts from [0,-YsizeOfTheWall,0]\n",
    "    size = SIZE(2)(_backWall)\n",
    "    print SIZE([1,2,3])(_backWall)\n",
    "    return \n"
   ]
  },
  {
   "cell_type": "markdown",
   "metadata": {},
   "source": [
    "myBackWall = backWall(wx,wy)"
   ]
  },
  {
   "cell_type": "markdown",
   "metadata": {
    "collapsed": true
   },
   "source": [
    "def placeWindows(wall, x , y):\n",
    "    \"\"\"\n",
    "    This method aims to properly arrange windows on the vertical axis.\n",
    "        - small green window \n",
    "        - big green window\n",
    "        - lower window\n",
    "    :return: pyplasm.xgepy.Hpc\n",
    "    \"\"\"\n",
    "    #the list of all the windows\n",
    "    windowStack = []\n",
    "    \n",
    "    #lowerWin = T(3)(-0.20*2)(lowerWindow())\n",
    "    bigGreen = T(3)()(greenWindow(3))\n",
    "    smallGreen = T(3)(5.)(greenWindow(1,rot=PI))\n",
    "    \n",
    "    #windowStack.append(lowerWin)\n",
    "    windowStack.append(bigGreen)\n",
    "    windowStack.append(smallGreen)\n",
    "    \n",
    "    return STRUCT(windowStack)"
   ]
  },
  {
   "cell_type": "code",
   "execution_count": null,
   "metadata": {
    "collapsed": true
   },
   "outputs": [],
   "source": []
  }
 ],
 "metadata": {
  "kernelspec": {
   "display_name": "Python 2",
   "language": "python",
   "name": "python2"
  },
  "language_info": {
   "codemirror_mode": {
    "name": "ipython",
    "version": 2
   },
   "file_extension": ".py",
   "mimetype": "text/x-python",
   "name": "python",
   "nbconvert_exporter": "python",
   "pygments_lexer": "ipython2",
   "version": "2.7.13"
  }
 },
 "nbformat": 4,
 "nbformat_minor": 2
}
