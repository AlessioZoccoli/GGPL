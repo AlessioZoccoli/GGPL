{
 "cells": [
  {
   "cell_type": "markdown",
   "metadata": {
    "collapsed": true
   },
   "source": [
    "Geometric model of \"S. Stefano Rotondo al Celio\", Rome. Model of \"Gerusalemme Celeste\"\n",
    "=============================================="
   ]
  },
  {
   "cell_type": "code",
   "execution_count": 1,
   "metadata": {},
   "outputs": [
    {
     "name": "stdout",
     "output_type": "stream",
     "text": [
      "Evaluating fenvs.py..\n",
      "...fenvs.py imported in 0.005458 seconds\n"
     ]
    }
   ],
   "source": [
    "from pyplasm import *\n",
    "from math import sin, cos, pi\n",
    "\n",
    "#-- 1 cubito = 444 mm ----------------------------------------#\n",
    "r0 = 24. #---cubiti raggio interno del muro interno------#\n",
    "r2 = 48. #---cubiti raggio esterno del muro medio--------#\n",
    "r3 = 72. #---cubiti raggio esterno del muro esterno------#\n",
    "r4 = 88. #---cubiti raggio esterno scale esterne---------#\n",
    "\n",
    "wsteps = 10.  #---cubiti profondita' scale esterne-------#\n",
    "nsteps = 10.  #---numero alzate/pedate scale esterne------#\n",
    "wstep = wsteps/nsteps #---cubiti larghezza pedata-------#\n",
    "hstep = 1./3 #---cubiti altezza alzata-------------------#\n",
    "hw4 = 29. #--cubiti altezza all'imposta del muro esterno-#\n",
    "hbasament = hstep*nsteps\n"
   ]
  },
  {
   "cell_type": "code",
   "execution_count": 2,
   "metadata": {
    "collapsed": true
   },
   "outputs": [],
   "source": [
    "#Cylindric map of an input domain\n",
    "cylMap = MAP([lambda p: (p[1]) * math.sin(p[0]), lambda p: (p[1]) * math.cos(p[0]), lambda p: (p[2])])"
   ]
  },
  {
   "cell_type": "markdown",
   "metadata": {},
   "source": [
    "# Stairs"
   ]
  },
  {
   "cell_type": "code",
   "execution_count": 3,
   "metadata": {
    "collapsed": true
   },
   "outputs": [],
   "source": [
    "#External stairway\n",
    "def vdom(h):\n",
    "    return PROD([COMP([EMBED(1),INTERVALS(PI*3/24)])(3),QUOTE([h])])\n",
    "\n",
    "def hdom(w):\n",
    "    return COMP([S(2)(-1), EMBED(1)])(PROD([INTERVALS(PI*3/24)(3), QUOTE([w])]))\n",
    "\n",
    "def steps(w, h):\n",
    "    def steps0(n):\n",
    "        return COMP([STRUCT, CAT, N(n)])([vdom(h), T(3)(h), hdom(w), T(2)(-w)])\n",
    "    return steps0\n",
    "\n",
    "hbasament = hstep * nsteps\n",
    "\n",
    "# stair + ramp -> stairs\n",
    "stair = RIGHT([COMP([MKPOL, UKPOL])(steps(wstep, hstep)(nsteps)),COMP([S(2)(-1), SKEL_2, CUBOID])([PI/24, wsteps, hbasament])])\n",
    "ramp = cylMap(T(2)(r4)(stair))"
   ]
  },
  {
   "cell_type": "code",
   "execution_count": 4,
   "metadata": {},
   "outputs": [
    {
     "data": {
      "text/plain": [
       "<pyplasm.xgepy.Hpc; proxy of <Swig Object of type 'std::shared_ptr< Hpc > *' at 0x105049060> >"
      ]
     },
     "execution_count": 4,
     "metadata": {},
     "output_type": "execute_result"
    }
   ],
   "source": [
    "stairs = STRUCT(NN(12)([ramp, R([1, 2])(PI/6)]))\n",
    "VIEW(stairs)"
   ]
  },
  {
   "cell_type": "markdown",
   "metadata": {},
   "source": [
    "### note:\n",
    "press < t > to see it properly!"
   ]
  },
  {
   "cell_type": "markdown",
   "metadata": {
    "collapsed": true
   },
   "source": [
    "![stairs_1](./images/stairs_1.png)"
   ]
  },
  {
   "cell_type": "markdown",
   "metadata": {},
   "source": [
    "![stairs_2](./images/stairs_2.png)"
   ]
  },
  {
   "cell_type": "markdown",
   "metadata": {},
   "source": [
    "# Basis and basement"
   ]
  },
  {
   "cell_type": "code",
   "execution_count": 5,
   "metadata": {
    "collapsed": true
   },
   "outputs": [],
   "source": [
    "basisSector = COMP([cylMap, EMBED(1)])(PROD([INTERVALS(2 * PI / 12)(4), INTERVALS(r4 - (wstep * (nsteps - 1)))(1)]))\n",
    "basis = COMP([STRUCT, NN(12)])([basisSector, R([1, 2])(2 * PI / 12)])\n",
    "basement = COMP([R([1, 2])(PI / -48), STRUCT])([stairs, T(3)(hstep * nsteps), basis])"
   ]
  },
  {
   "cell_type": "code",
   "execution_count": 6,
   "metadata": {},
   "outputs": [
    {
     "data": {
      "text/plain": [
       "<pyplasm.xgepy.Hpc; proxy of <Swig Object of type 'std::shared_ptr< Hpc > *' at 0x10a567060> >"
      ]
     },
     "execution_count": 6,
     "metadata": {},
     "output_type": "execute_result"
    }
   ],
   "source": [
    "VIEW(basement)"
   ]
  },
  {
   "cell_type": "markdown",
   "metadata": {},
   "source": [
    "![basement](./images/basement.png)"
   ]
  },
  {
   "cell_type": "markdown",
   "metadata": {},
   "source": [
    "# Walls"
   ]
  },
  {
   "cell_type": "code",
   "execution_count": 7,
   "metadata": {
    "collapsed": true
   },
   "outputs": [],
   "source": [
    "#We are going to use points in the 2D space then the cartesian product\n",
    "ExtWall2Da = INTERSECTION([MKPOL([[[0, 0], [7, 0], [7, 5], [0, 8], [7, 3], [9, 4], [10.5, 1.5], [10.5, 0], [11, 1.5], [11, 3]],\n",
    "    [range(1, 5), [2, 8, 7, 6, 5], [6, 7, 9, 10]], [[1], [2], [3]]]), PROD([COMP([QUOTE, N(12)])(1), Q(8)])])"
   ]
  },
  {
   "cell_type": "code",
   "execution_count": 8,
   "metadata": {
    "collapsed": true
   },
   "outputs": [],
   "source": [
    "ExtWall2Db = INTERSECTION([MKPOL([[[0.5, 0], [4, 0], [5, 0], [6, 0], [6, 3], [5.5, 3.5], [5, 3], [4.5, 3.5], [4, 3], [2, 4], [0, 3], [0, 1.5], [0.5, 1.5]], [[10, 11, 12, 13], [1, 2, 9, 10, 13], [2, 3, 7, 8, 9], [3, 4, 5, 6, 7]],range(1, 5)]),\n",
    "    PROD([COMP([QUOTE, N(6)])(1), Q(4)])])\n"
   ]
  },
  {
   "cell_type": "code",
   "execution_count": 9,
   "metadata": {
    "collapsed": true
   },
   "outputs": [],
   "source": [
    "ExtWall2D = STRUCT([ExtWall2Da, T(1)(11), ExtWall2Db])\n",
    "sizxExtWall = SIZE(1)(ExtWall2D)\n",
    "ExtWall = R([2, 3])(PI/2)(PROD([ExtWall2D, QUOTE([1.5])]))"
   ]
  },
  {
   "cell_type": "code",
   "execution_count": 10,
   "metadata": {
    "collapsed": true
   },
   "outputs": [],
   "source": [
    "CurvedExtWall = COMP([cylMap, T(2)(r3), S([1, 3])([PI/(4*sizxExtWall), hw4/8])])(ExtWall)\n",
    "DoubleExtWall = STRUCT([CurvedExtWall, S(1)(-1), CurvedExtWall])\n",
    "FullExtWall = COMP([STRUCT, NN(4)])([DoubleExtWall, R([1, 2])(PI/2)])"
   ]
  },
  {
   "cell_type": "code",
   "execution_count": 11,
   "metadata": {},
   "outputs": [
    {
     "data": {
      "text/plain": [
       "<pyplasm.xgepy.Hpc; proxy of <Swig Object of type 'std::shared_ptr< Hpc > *' at 0x10a569b10> >"
      ]
     },
     "execution_count": 11,
     "metadata": {},
     "output_type": "execute_result"
    }
   ],
   "source": [
    "VIEW(FullExtWall)"
   ]
  },
  {
   "cell_type": "markdown",
   "metadata": {},
   "source": [
    "![extwall_1](./images/extwall_1.png)"
   ]
  },
  {
   "cell_type": "markdown",
   "metadata": {},
   "source": [
    "![extwall_2](./images/extwall_2.png)"
   ]
  },
  {
   "cell_type": "markdown",
   "metadata": {},
   "source": [
    "# Columns"
   ]
  },
  {
   "cell_type": "code",
   "execution_count": 12,
   "metadata": {
    "collapsed": true
   },
   "outputs": [],
   "source": [
    "hCol = 12 #column height\n",
    "\n",
    "def Column(args):\n",
    "    \"\"\"\n",
    "    :param w: width\n",
    "    :param h: height\n",
    "    :return: pyplasm.xgepy\n",
    "    \"\"\"\n",
    "    w, h = args\n",
    "    basis = CUBOID([w, w, 2*w/3])\n",
    "    trunk = CYLINDER([w/2*.85, h-w])(8)\n",
    "    capitel = CUBOID([w, w, w/3])\n",
    "    return TOP([TOP([basis, trunk]), capitel])\n",
    "\n",
    "arcAngle = 2*PI/50.4\n",
    "wallAngle = -3.2*arcAngle/4.\n",
    "RotCross = 3.2*arcAngle/4. + 2.5*arcAngle\n",
    "\n",
    "myColumn = COMP([MKPOL, UKPOL, T(2)(r2-.75), Column])([1.5, hCol])"
   ]
  },
  {
   "cell_type": "code",
   "execution_count": 13,
   "metadata": {},
   "outputs": [
    {
     "data": {
      "text/plain": [
       "<pyplasm.xgepy.Hpc; proxy of <Swig Object of type 'std::shared_ptr< Hpc > *' at 0x10483a660> >"
      ]
     },
     "execution_count": 13,
     "metadata": {},
     "output_type": "execute_result"
    }
   ],
   "source": [
    "VIEW(myColumn)"
   ]
  },
  {
   "cell_type": "markdown",
   "metadata": {},
   "source": [
    "![column](./images/column.png)"
   ]
  },
  {
   "cell_type": "code",
   "execution_count": 14,
   "metadata": {
    "collapsed": true
   },
   "outputs": [],
   "source": [
    "the4cols = COMP([R([1, 2])(arcAngle*.4/3.2), MKPOL, UKPOL, STRUCT, NN(4)])([R([1, 2])(DIFF(arcAngle)), myColumn])\n",
    "the5cols = COMP([R([1, 2])(arcAngle*.4/3.2), MKPOL, UKPOL, STRUCT, NN(5)])([R([1,2])(DIFF(arcAngle)), myColumn])"
   ]
  },
  {
   "cell_type": "code",
   "execution_count": 15,
   "metadata": {},
   "outputs": [
    {
     "data": {
      "text/plain": [
       "<pyplasm.xgepy.Hpc; proxy of <Swig Object of type 'std::shared_ptr< Hpc > *' at 0x10483a630> >"
      ]
     },
     "execution_count": 15,
     "metadata": {},
     "output_type": "execute_result"
    }
   ],
   "source": [
    "VIEW(the4cols)\n",
    "VIEW(the5cols)"
   ]
  },
  {
   "cell_type": "markdown",
   "metadata": {},
   "source": [
    "![5cols_1](./images/5cols_1.png)"
   ]
  },
  {
   "cell_type": "markdown",
   "metadata": {},
   "source": [
    "![5cols_2](./images/5cols_2.png)"
   ]
  },
  {
   "cell_type": "code",
   "execution_count": 16,
   "metadata": {},
   "outputs": [
    {
     "data": {
      "text/plain": [
       "<pyplasm.xgepy.Hpc; proxy of <Swig Object of type 'std::shared_ptr< Hpc > *' at 0x10483aa50> >"
      ]
     },
     "execution_count": 16,
     "metadata": {},
     "output_type": "execute_result"
    }
   ],
   "source": [
    "theBotWal = COMP([cylMap, MKPOL, UKPOL, T(2)(r2-.75), CUBOID])([3.2*arcAngle/4, 1.5, hCol])\n",
    "theSecCols = STRUCT([R([1, 2])(RotCross), theBotWal, R([1, 2])(wallAngle), the4cols, R([1,2])(-5*arcAngle), theBotWal, R([1,2])(wallAngle), the5cols])\n",
    "theMedColumns = COMP([STRUCT, NN(4)])([theSecCols, R([1, 2])(PI/-2)])\n",
    "\n",
    "VIEW(theMedColumns)"
   ]
  },
  {
   "cell_type": "markdown",
   "metadata": {},
   "source": [
    "![med columns](./images/medcolumns.png)"
   ]
  },
  {
   "cell_type": "markdown",
   "metadata": {},
   "source": [
    "![med columns2](./images/medcolumns_2.png)"
   ]
  },
  {
   "cell_type": "code",
   "execution_count": 27,
   "metadata": {},
   "outputs": [],
   "source": [
    "def bottomArc(d):\n",
    "    \"\"\"\n",
    "    :param d: diameter\n",
    "    \"\"\"\n",
    "    return BEZIER(S1)([[0,0],[0,2*d/3],[d,2*d/3],[d,0]])\n",
    "\n",
    "def topArc(d):\n",
    "    return BEZIER(S1)([[0,2*d/3],[d,2*d/3]])\n",
    "\n",
    "def arc2D(d):\n",
    "    return BEZIER(S2)([bottomArc(d),topArc(d)])\n",
    "\"\"\"\n",
    "DEF arc3D  (d::IsRealPos)(w::IsRealPos) =\n",
    "    (T:2:w ~ R:<2,3>:(PI/2)):\n",
    "        ( MAP:(CONS:(arc2D:d)):(Intervals:1:8 * Intervals:1:1) * QUOTE:<w> );\n",
    "\n",
    "def arc3D(d):\n",
    "    def arc3D1(w):\n",
    "        return COMP([T(2)(w),R([2,3])(PI/2)])(MAP([CONS([arc2D(d)])])(PROD([PROD([INTERVALS(1)(8),INTERVALS(1)(1)]),QUOTE([w])])))\n",
    "    return arc3D1\n",
    "\"\"\"\n",
    "def arc3D(d):\n",
    "    \"\"\"\n",
    "    :param d: diameter\n",
    "    :return: function __main__.arc3D\n",
    "    \"\"\"\n",
    "    def arc3D1(w):\n",
    "        \"\"\"\n",
    "        :param w: width\n",
    "        :return: function __main__.arc3D\n",
    "        \"\"\"\n",
    "        arco = arc2D(d)\n",
    "        dominio = PROD([INTERVALS(1)(8), INTERVALS(1)(1)])\n",
    "        ar = MAP(arco)(dominio)\n",
    "        domin = PROD([ar, QUOTE([1.5])])\n",
    "        return COMP([T(2)(w), R([2, 3])(PI / 2)])(domin)\n",
    "    return arc3D1\n",
    "\n",
    "def Interarc(d1, d2):\n",
    "    def Interarc1(w):\n",
    "        return CUBOID([d1, w, 2 * d2 / 3])\n",
    "    return Interarc1\n",
    "\n",
    "def Xarc(d1, d2):\n",
    "    def Xarc1(w):\n",
    "        return RIGHT([RIGHT([Interarc(d1, d2)(w), arc3D(d2)(w)]), Interarc(d1, d2)(w)])\n",
    "    return Xarc1\n",
    "\n",
    "theArc = Xarc(0.4, 3.2)(1.5)\n",
    "\n",
    "sizeArc = SIZE(1)(theArc)\n",
    "sx = (1 / sizeArc) * arcAngle\n",
    "sz = sx * (r2 - 2)\n",
    "curvedArc = COMP([cylMap, MKPOL, UKPOL, T(2)(r2 - .75), S([1, 3])([sx, sz])])(theArc)\n",
    "heigthArc = SIZE(3)(curvedArc)\n",
    "the5arcs = COMP([MKPOL, UKPOL, STRUCT, NN(5)])([curvedArc, R([1, 2])(-arcAngle)])\n",
    "the6arcs = COMP([MKPOL, UKPOL, STRUCT, NN(6)])([curvedArc, R([1, 2])(-arcAngle)])\n",
    "theMidWall = COMP([cylMap, MKPOL, UKPOL, T(2)(r2-.75), CUBOID])([3.2 * arcAngle/4,1.5, heigthArc])\n",
    "theSector = STRUCT([R([1, 2])(RotCross),theMidWall, R([1,2])(wallAngle), the5arcs, R([1,2])(-5*arcAngle), theMidWall,R([1,2])(wallAngle), the6arcs])\n",
    "theArcs = COMP([STRUCT, NN(4)])([theSector, R([1, 2])(PI/-2)])\n",
    "theArcsCols = STRUCT([theMedColumns, T(3)(hCol), theArcs])\n"
   ]
  },
  {
   "cell_type": "code",
   "execution_count": 28,
   "metadata": {},
   "outputs": [
    {
     "data": {
      "text/plain": [
       "<pyplasm.xgepy.Hpc; proxy of <Swig Object of type 'std::shared_ptr< Hpc > *' at 0x110ae1e10> >"
      ]
     },
     "execution_count": 28,
     "metadata": {},
     "output_type": "execute_result"
    }
   ],
   "source": [
    "VIEW(theArcs)"
   ]
  },
  {
   "cell_type": "code",
   "execution_count": 30,
   "metadata": {},
   "outputs": [
    {
     "data": {
      "text/plain": [
       "<pyplasm.xgepy.Hpc; proxy of <Swig Object of type 'std::shared_ptr< Hpc > *' at 0x110ae1f90> >"
      ]
     },
     "execution_count": 30,
     "metadata": {},
     "output_type": "execute_result"
    }
   ],
   "source": [
    "VIEW(theArcsCols)"
   ]
  },
  {
   "cell_type": "code",
   "execution_count": null,
   "metadata": {
    "collapsed": true
   },
   "outputs": [],
   "source": []
  }
 ],
 "metadata": {
  "kernelspec": {
   "display_name": "Python 2",
   "language": "python",
   "name": "python2"
  },
  "language_info": {
   "codemirror_mode": {
    "name": "ipython",
    "version": 2
   },
   "file_extension": ".py",
   "mimetype": "text/x-python",
   "name": "python",
   "nbconvert_exporter": "python",
   "pygments_lexer": "ipython2",
   "version": "2.7.13"
  }
 },
 "nbformat": 4,
 "nbformat_minor": 1
}
