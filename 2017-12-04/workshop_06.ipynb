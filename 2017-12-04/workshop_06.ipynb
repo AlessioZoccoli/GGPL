{
 "cells": [
  {
   "cell_type": "markdown",
   "metadata": {
    "collapsed": true
   },
   "source": [
    "Geometric model of \"S. Stefano Rotondo al Celio\", Rome. Model of \"Gerusalemme Celeste\"\n",
    "=============================================="
   ]
  },
  {
   "cell_type": "code",
   "execution_count": null,
   "metadata": {
    "collapsed": true
   },
   "outputs": [],
   "source": []
  },
  {
   "cell_type": "markdown",
   "metadata": {},
   "source": [
    "# IMPORTANT NOTE:\n",
    "# this week workshop has been postponed\n",
    "# to the next monday\n",
    "\n",
    "see 2017-112"
   ]
  },
  {
   "cell_type": "code",
   "execution_count": null,
   "metadata": {
    "collapsed": true
   },
   "outputs": [],
   "source": [
    "from pyplasm import *\n",
    "from math import sin, cos, pi\n",
    "\n",
    "#-- 1 cubito = 444 mm ----------------------------------------#\n",
    "r0 = 24. #---cubiti raggio interno del muro interno------#\n",
    "r2 = 48. #---cubiti raggio esterno del muro medio--------#\n",
    "r3 = 72. #---cubiti raggio esterno del muro esterno------#\n",
    "r4 = 88. #---cubiti raggio esterno scale esterne---------#\n",
    "\n",
    "wsteps = 10.  #---cubiti profondita' scale esterne-------#\n",
    "nsteps = 10.  #---numero alzate/pedate scale esterne------#\n",
    "wstep = wsteps/nsteps #---cubiti larghezza pedata-------#\n",
    "hstep = 1./3 #---cubiti altezza alzata-------------------#\n",
    "hw4 = 29. #--cubiti altezza all'imposta del muro esterno-#\n",
    "hbasament = hstep*nsteps\n"
   ]
  }
 ],
 "metadata": {
  "kernelspec": {
   "display_name": "Python 2",
   "language": "python",
   "name": "python2"
  },
  "language_info": {
   "codemirror_mode": {
    "name": "ipython",
    "version": 2
   },
   "file_extension": ".py",
   "mimetype": "text/x-python",
   "name": "python",
   "nbconvert_exporter": "python",
   "pygments_lexer": "ipython2",
   "version": "2.7.13"
  }
 },
 "nbformat": 4,
 "nbformat_minor": 1
}
