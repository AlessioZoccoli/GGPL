{
 "cells": [
  {
   "cell_type": "markdown",
   "metadata": {
    "collapsed": true
   },
   "source": [
    "Geometric model of \"S. Stefano Rotondo al Celio\", Rome. Model of \"Gerusalemme Celeste\"\n",
    "=============================================="
   ]
  },
  {
   "cell_type": "code",
   "execution_count": 2,
   "metadata": {},
   "outputs": [
    {
     "name": "stdout",
     "output_type": "stream",
     "text": [
      "Evaluating fenvs.py..\n",
      "...fenvs.py imported in 0.006952 seconds\n"
     ]
    }
   ],
   "source": [
    "from pyplasm import *\n",
    "from math import sin, cos, pi\n",
    "\n",
    "#-- 1 cubito = 444 mm ----------------------------------------#\n",
    "r0 = 24. #---cubiti raggio interno del muro interno------#\n",
    "r2 = 48. #---cubiti raggio esterno del muro medio--------#\n",
    "r3 = 72. #---cubiti raggio esterno del muro esterno------#\n",
    "r4 = 88. #---cubiti raggio esterno scale esterne---------#\n",
    "\n",
    "wsteps = 10.  #---cubiti profondita' scale esterne-------#\n",
    "nsteps = 10.  #---numero alzate/pedate scale esterne------#\n",
    "wstep = wsteps/nsteps #---cubiti larghezza pedata-------#\n",
    "hstep = 1./3 #---cubiti altezza alzata-------------------#\n",
    "hw4 = 29. #--cubiti altezza all'imposta del muro esterno-#\n",
    "hbasament = hstep*nsteps\n"
   ]
  },
  {
   "cell_type": "code",
   "execution_count": 3,
   "metadata": {},
   "outputs": [],
   "source": [
    "#Cylindric map of an input domain\n",
    "cylMap = MAP([lambda p: (p[1]) * math.sin(p[0]), lambda p: (p[1]) * math.cos(p[0]), lambda p: (p[2])])"
   ]
  },
  {
   "cell_type": "markdown",
   "metadata": {},
   "source": [
    "# Stairs"
   ]
  },
  {
   "cell_type": "code",
   "execution_count": 4,
   "metadata": {},
   "outputs": [],
   "source": [
    "#External stairway\n",
    "def vdom(h):\n",
    "    return PROD([COMP([EMBED(1),INTERVALS(PI*3/24)])(3),QUOTE([h])])\n",
    "\n",
    "def hdom(w):\n",
    "    return COMP([S(2)(-1), EMBED(1)])(PROD([INTERVALS(PI*3/24)(3), QUOTE([w])]))\n",
    "\n",
    "def steps(w, h):\n",
    "    def steps0(n):\n",
    "        return COMP([STRUCT, CAT, N(n)])([vdom(h), T(3)(h), hdom(w), T(2)(-w)])\n",
    "    return steps0\n",
    "\n",
    "hbasament = hstep * nsteps\n",
    "\n",
    "# stair + ramp -> stairs\n",
    "stair = RIGHT([COMP([MKPOL, UKPOL])(steps(wstep, hstep)(nsteps)),COMP([S(2)(-1), SKEL_2, CUBOID])([PI/24, wsteps, hbasament])])\n",
    "ramp = cylMap(T(2)(r4)(stair))"
   ]
  },
  {
   "cell_type": "code",
   "execution_count": 5,
   "metadata": {},
   "outputs": [
    {
     "data": {
      "text/plain": [
       "<pyplasm.xgepy.Hpc; proxy of <Swig Object of type 'std::shared_ptr< Hpc > *' at 0x1037af240> >"
      ]
     },
     "execution_count": 5,
     "metadata": {},
     "output_type": "execute_result"
    }
   ],
   "source": [
    "stairs = STRUCT(NN(12)([ramp, R([1, 2])(PI/6)]))\n",
    "VIEW(stairs)"
   ]
  },
  {
   "cell_type": "markdown",
   "metadata": {},
   "source": [
    "### note:\n",
    "press < t > to see it properly!"
   ]
  },
  {
   "cell_type": "markdown",
   "metadata": {
    "collapsed": true
   },
   "source": [
    "![stairs_1](./images/stairs_1.png)"
   ]
  },
  {
   "cell_type": "markdown",
   "metadata": {},
   "source": [
    "![stairs_2](./images/stairs_2.png)"
   ]
  },
  {
   "cell_type": "markdown",
   "metadata": {},
   "source": [
    "# Basis and basement"
   ]
  },
  {
   "cell_type": "code",
   "execution_count": 6,
   "metadata": {
    "collapsed": true
   },
   "outputs": [],
   "source": [
    "basisSector = COMP([cylMap, EMBED(1)])(PROD([INTERVALS(2 * PI / 12)(4), INTERVALS(r4 - (wstep * (nsteps - 1)))(1)]))\n",
    "basis = COMP([STRUCT, NN(12)])([basisSector, R([1, 2])(2 * PI / 12)])\n",
    "basement = COMP([R([1, 2])(PI / -48), STRUCT])([stairs, T(3)(hstep * nsteps), basis])"
   ]
  },
  {
   "cell_type": "code",
   "execution_count": 7,
   "metadata": {},
   "outputs": [
    {
     "data": {
      "text/plain": [
       "<pyplasm.xgepy.Hpc; proxy of <Swig Object of type 'std::shared_ptr< Hpc > *' at 0x103105a50> >"
      ]
     },
     "execution_count": 7,
     "metadata": {},
     "output_type": "execute_result"
    }
   ],
   "source": [
    "VIEW(basement)"
   ]
  },
  {
   "cell_type": "markdown",
   "metadata": {},
   "source": [
    "![basement](./images/basement.png)"
   ]
  },
  {
   "cell_type": "markdown",
   "metadata": {},
   "source": [
    "# Walls"
   ]
  },
  {
   "cell_type": "code",
   "execution_count": 8,
   "metadata": {
    "collapsed": true
   },
   "outputs": [],
   "source": [
    "#We are going to use points in the 2D space then the cartesian product\n",
    "extWall2Da = INTERSECTION([MKPOL([[[0, 0], [7, 0], [7, 5], [0, 8], [7, 3], [9, 4], [10.5, 1.5], [10.5, 0], [11, 1.5], [11, 3]],\n",
    "    [range(1, 5), [2, 8, 7, 6, 5], [6, 7, 9, 10]], [[1], [2], [3]]]), PROD([COMP([QUOTE, N(12)])(1), Q(8)])])"
   ]
  },
  {
   "cell_type": "code",
   "execution_count": 9,
   "metadata": {
    "collapsed": true
   },
   "outputs": [],
   "source": [
    "extWall2Db = INTERSECTION([MKPOL([[[0.5, 0], [4, 0], [5, 0], [6, 0], [6, 3], [5.5, 3.5], [5, 3], [4.5, 3.5], [4, 3], [2, 4], [0, 3], [0, 1.5], [0.5, 1.5]], [[10, 11, 12, 13], [1, 2, 9, 10, 13], [2, 3, 7, 8, 9], [3, 4, 5, 6, 7]],range(1, 5)]),\n",
    "    PROD([COMP([QUOTE, N(6)])(1), Q(4)])])\n"
   ]
  },
  {
   "cell_type": "code",
   "execution_count": 14,
   "metadata": {},
   "outputs": [],
   "source": [
    "extWall2D = STRUCT([extWall2Da, T(1)(11), extWall2Db])\n",
    "sizxExtWall = SIZE(1)(extWall2D)\n",
    "extWall = R([2, 3])(PI/2)(PROD([extWall2D, QUOTE([1.5])]))"
   ]
  },
  {
   "cell_type": "code",
   "execution_count": 18,
   "metadata": {},
   "outputs": [],
   "source": [
    "curvedExtWall = COMP([cylMap, T(2)(r3), S([1, 3])([PI/(4*sizxExtWall), hw4/8])])(extWall)\n",
    "doubleExtWall = STRUCT([curvedExtWall, S(1)(-1), curvedExtWall])\n",
    "fullExtWall = COMP([STRUCT, NN(4)])([doubleExtWall, R([1, 2])(PI/2)])"
   ]
  },
  {
   "cell_type": "code",
   "execution_count": 19,
   "metadata": {},
   "outputs": [
    {
     "data": {
      "text/plain": [
       "<pyplasm.xgepy.Hpc; proxy of <Swig Object of type 'std::shared_ptr< Hpc > *' at 0x1037a38d0> >"
      ]
     },
     "execution_count": 19,
     "metadata": {},
     "output_type": "execute_result"
    }
   ],
   "source": [
    "VIEW(fullExtWall)"
   ]
  },
  {
   "cell_type": "markdown",
   "metadata": {},
   "source": [
    "![extwall_1](./images/extwall_1.png)"
   ]
  },
  {
   "cell_type": "markdown",
   "metadata": {},
   "source": [
    "![extwall_2](./images/extwall_2.png)"
   ]
  },
  {
   "cell_type": "markdown",
   "metadata": {},
   "source": [
    "# Columns and arcs"
   ]
  },
  {
   "cell_type": "code",
   "execution_count": 20,
   "metadata": {
    "collapsed": true
   },
   "outputs": [],
   "source": [
    "hCol = 12 #column height\n",
    "\n",
    "def column(args):\n",
    "    \"\"\"\n",
    "    :param w: width\n",
    "    :param h: height\n",
    "    :return: pyplasm.xgepy\n",
    "    \"\"\"\n",
    "    w, h = args\n",
    "    basis = CUBOID([w, w, 2*w/3])\n",
    "    trunk = CYLINDER([w/2*.85, h-w])(8)\n",
    "    capitel = CUBOID([w, w, w/3])\n",
    "    return TOP([TOP([basis, trunk]), capitel])\n",
    "\n",
    "arcAngle = 2*PI/50.4\n",
    "wallAngle = -3.2*arcAngle/4.\n",
    "rotCross = 3.2*arcAngle/4. + 2.5*arcAngle\n",
    "\n",
    "myColumn = COMP([MKPOL, UKPOL, T(2)(r2-.75), column])([1.5, hCol])"
   ]
  },
  {
   "cell_type": "code",
   "execution_count": 21,
   "metadata": {},
   "outputs": [
    {
     "data": {
      "text/plain": [
       "<pyplasm.xgepy.Hpc; proxy of <Swig Object of type 'std::shared_ptr< Hpc > *' at 0x103105090> >"
      ]
     },
     "execution_count": 21,
     "metadata": {},
     "output_type": "execute_result"
    }
   ],
   "source": [
    "VIEW(myColumn)"
   ]
  },
  {
   "cell_type": "markdown",
   "metadata": {},
   "source": [
    "![column](./images/column.png)"
   ]
  },
  {
   "cell_type": "code",
   "execution_count": 22,
   "metadata": {
    "collapsed": true
   },
   "outputs": [],
   "source": [
    "the4cols = COMP([R([1, 2])(arcAngle*.4/3.2), MKPOL, UKPOL, STRUCT, NN(4)])([R([1, 2])(DIFF(arcAngle)), myColumn])\n",
    "the5cols = COMP([R([1, 2])(arcAngle*.4/3.2), MKPOL, UKPOL, STRUCT, NN(5)])([R([1,2])(DIFF(arcAngle)), myColumn])"
   ]
  },
  {
   "cell_type": "code",
   "execution_count": 23,
   "metadata": {},
   "outputs": [
    {
     "data": {
      "text/plain": [
       "<pyplasm.xgepy.Hpc; proxy of <Swig Object of type 'std::shared_ptr< Hpc > *' at 0x1037aff30> >"
      ]
     },
     "execution_count": 23,
     "metadata": {},
     "output_type": "execute_result"
    }
   ],
   "source": [
    "VIEW(the4cols)\n",
    "VIEW(the5cols)"
   ]
  },
  {
   "cell_type": "markdown",
   "metadata": {},
   "source": [
    "![5cols_1](./images/5cols_1.png)"
   ]
  },
  {
   "cell_type": "markdown",
   "metadata": {},
   "source": [
    "![5cols_2](./images/5cols_2.png)"
   ]
  },
  {
   "cell_type": "code",
   "execution_count": 25,
   "metadata": {},
   "outputs": [
    {
     "data": {
      "text/plain": [
       "<pyplasm.xgepy.Hpc; proxy of <Swig Object of type 'std::shared_ptr< Hpc > *' at 0x108b61480> >"
      ]
     },
     "execution_count": 25,
     "metadata": {},
     "output_type": "execute_result"
    }
   ],
   "source": [
    "theBotWal = COMP([cylMap, MKPOL, UKPOL, T(2)(r2-.75), CUBOID])([3.2*arcAngle/4, 1.5, hCol])\n",
    "theSecCols = STRUCT([R([1, 2])(rotCross), theBotWal, R([1, 2])(wallAngle), the4cols, R([1,2])(-5*arcAngle), theBotWal, R([1,2])(wallAngle), the5cols])\n",
    "theMedColumns = COMP([STRUCT, NN(4)])([theSecCols, R([1, 2])(PI/-2)])\n",
    "\n",
    "VIEW(theMedColumns)"
   ]
  },
  {
   "cell_type": "markdown",
   "metadata": {},
   "source": [
    "![med columns](./images/medcolumns.png)"
   ]
  },
  {
   "cell_type": "markdown",
   "metadata": {},
   "source": [
    "![med columns2](./images/medcolumns_2.png)"
   ]
  },
  {
   "cell_type": "code",
   "execution_count": 27,
   "metadata": {},
   "outputs": [],
   "source": [
    "def bottomArc(d):\n",
    "    \"\"\"\n",
    "    :param d: diameter\n",
    "    \"\"\"\n",
    "    return BEZIER(S1)([[0,0],[0,2*d/3],[d,2*d/3],[d,0]])\n",
    "\n",
    "def topArc(d):\n",
    "    return BEZIER(S1)([[0,2*d/3],[d,2*d/3]])\n",
    "\n",
    "def arc2D(d):\n",
    "    return BEZIER(S2)([bottomArc(d),topArc(d)])\n",
    "\n",
    "def arc3D(d):\n",
    "    \"\"\"\n",
    "    :param d: diameter\n",
    "    :return: function __main__.arc3D\n",
    "    \"\"\"\n",
    "    def arc3D1(w):\n",
    "        \"\"\"\n",
    "        :param w: width\n",
    "        :return: function __main__.arc3D\n",
    "        \"\"\"\n",
    "        arch = arc2D(d)\n",
    "        dominio = PROD([INTERVALS(1)(8), INTERVALS(1)(1)])\n",
    "        ar = MAP(arch)(dominio)\n",
    "        domin = PROD([ar, QUOTE([1.5])])\n",
    "        return COMP([T(2)(w), R([2, 3])(PI / 2)])(domin)\n",
    "    return arc3D1\n",
    "\n",
    "def Interarc(d1, d2):\n",
    "    def Interarc1(w):\n",
    "        return CUBOID([d1, w, 2 * d2 / 3])\n",
    "    return Interarc1\n",
    "\n",
    "def Xarc(d1, d2):\n",
    "    def Xarc1(w):\n",
    "        return RIGHT([RIGHT([Interarc(d1, d2)(w), arc3D(d2)(w)]), Interarc(d1, d2)(w)])\n",
    "    return Xarc1\n",
    "\n",
    "theArc = Xarc(0.4, 3.2)(1.5)\n",
    "\n",
    "sizeArc = SIZE(1)(theArc)\n",
    "sx = (1 / sizeArc) * arcAngle\n",
    "sz = sx * (r2 - 2)\n",
    "curvedArc = COMP([cylMap, MKPOL, UKPOL, T(2)(r2 - .75), S([1, 3])([sx, sz])])(theArc)\n",
    "heigthArc = SIZE(3)(curvedArc)\n",
    "the5arcs = COMP([MKPOL, UKPOL, STRUCT, NN(5)])([curvedArc, R([1, 2])(-arcAngle)])\n",
    "the6arcs = COMP([MKPOL, UKPOL, STRUCT, NN(6)])([curvedArc, R([1, 2])(-arcAngle)])\n",
    "theMidWall = COMP([cylMap, MKPOL, UKPOL, T(2)(r2-.75), CUBOID])([3.2 * arcAngle/4,1.5, heigthArc])\n",
    "theSector = STRUCT([R([1, 2])(rotCross),theMidWall, R([1,2])(wallAngle), the5arcs, R([1,2])(-5*arcAngle), theMidWall,R([1,2])(wallAngle), the6arcs])\n",
    "theArcs = COMP([STRUCT, NN(4)])([theSector, R([1, 2])(PI/-2.)])\n",
    "theArcsCols = STRUCT([theMedColumns, T(3)(hCol), theArcs])\n"
   ]
  },
  {
   "cell_type": "code",
   "execution_count": 28,
   "metadata": {},
   "outputs": [
    {
     "data": {
      "text/plain": [
       "<pyplasm.xgepy.Hpc; proxy of <Swig Object of type 'std::shared_ptr< Hpc > *' at 0x10a8e3690> >"
      ]
     },
     "execution_count": 28,
     "metadata": {},
     "output_type": "execute_result"
    }
   ],
   "source": [
    "VIEW(theArcs)"
   ]
  },
  {
   "cell_type": "code",
   "execution_count": 29,
   "metadata": {},
   "outputs": [
    {
     "data": {
      "text/plain": [
       "<pyplasm.xgepy.Hpc; proxy of <Swig Object of type 'std::shared_ptr< Hpc > *' at 0x10a8e35d0> >"
      ]
     },
     "execution_count": 29,
     "metadata": {},
     "output_type": "execute_result"
    }
   ],
   "source": [
    "VIEW(theArcsCols)"
   ]
  },
  {
   "cell_type": "markdown",
   "metadata": {},
   "source": [
    "![arcs](./images/thearcs.png)"
   ]
  },
  {
   "cell_type": "markdown",
   "metadata": {},
   "source": [
    "![arcs2](./images/thearcscols.png)"
   ]
  },
  {
   "cell_type": "code",
   "execution_count": 30,
   "metadata": {},
   "outputs": [],
   "source": [
    "medWall2D=INTERSECTION([MKPOL([[[0,4],[8,4],[17,4],[17,5],[12.5,7.5],[8,5],[0,8]],[[1,2,6,7],[2,3,4,5,6]],[[1],[2]]]),\n",
    "                       PROD([COMP([QUOTE,N(17)])(1),QUOTE([8])])])\n",
    "\n",
    "sizxMedWall=SIZE(1)(medWall2D)\n",
    "medWall=R([2,3])(PI/2)(PROD([medWall2D,QUOTE([1.5])]))\n",
    "curvedMedWall=COMP([cylMap,MKPOL,UKPOL,T(2)(r2+0.75),S([1,3])([PI/(4*sizxMedWall),hw4/8])])(medWall)\n",
    "doubleMedWall=STRUCT([curvedMedWall, S(1)(-1)(curvedMedWall)])\n",
    "fullMedWall=COMP([STRUCT,NN(4)])([doubleMedWall, R([1,2])(PI/2)])\n",
    "medWallArcs=STRUCT([fullMedWall, theArcsCols])"
   ]
  },
  {
   "cell_type": "code",
   "execution_count": 31,
   "metadata": {
    "scrolled": true
   },
   "outputs": [
    {
     "data": {
      "text/plain": [
       "<pyplasm.xgepy.Hpc; proxy of <Swig Object of type 'std::shared_ptr< Hpc > *' at 0x10b6059c0> >"
      ]
     },
     "execution_count": 31,
     "metadata": {},
     "output_type": "execute_result"
    }
   ],
   "source": [
    "VIEW(STRUCT([fullExtWall, medWallArcs]))"
   ]
  },
  {
   "cell_type": "markdown",
   "metadata": {},
   "source": [
    "![fullmedwalls](./images/fullmed.png)"
   ]
  },
  {
   "cell_type": "markdown",
   "metadata": {},
   "source": [
    "# Inner walls"
   ]
  },
  {
   "cell_type": "code",
   "execution_count": 32,
   "metadata": {
    "collapsed": true
   },
   "outputs": [],
   "source": [
    "crossWall=COMP([T(1)(-1),R([1,2])(0.2*arcAngle),S(3)(hw4/8),CUBOID])([1.5,r3-r2,5])\n",
    "singleWall=COMP([R([1,2])(2.5*arcAngle),T(2)(r2)])(crossWall)\n",
    "doubleWall=STRUCT([singleWall,S(1)(-1),singleWall])\n",
    "crossWalls=COMP([STRUCT,NN(4)])([doubleWall,R([1,2])(PI/2)])"
   ]
  },
  {
   "cell_type": "code",
   "execution_count": 33,
   "metadata": {},
   "outputs": [
    {
     "data": {
      "text/plain": [
       "<pyplasm.xgepy.Hpc; proxy of <Swig Object of type 'std::shared_ptr< Hpc > *' at 0x10b605780> >"
      ]
     },
     "execution_count": 33,
     "metadata": {},
     "output_type": "execute_result"
    }
   ],
   "source": [
    "VIEW(crossWalls)"
   ]
  },
  {
   "cell_type": "markdown",
   "metadata": {},
   "source": [
    "![crosswalls](./images/crossw.png)"
   ]
  },
  {
   "cell_type": "markdown",
   "metadata": {},
   "source": [
    "# Roof"
   ]
  },
  {
   "cell_type": "code",
   "execution_count": 34,
   "metadata": {
    "collapsed": true
   },
   "outputs": [],
   "source": [
    "halfTetto=MKPOL([[[0,r2,8],[8,r2,5],[8,r3,5],[0,r3,8]],[[1,2,3,4]],[]])\n",
    "curvedHalfTetto=COMP([cylMap,S([1,3])([2.5*arcAngle/8,hw4/8])])(halfTetto)\n",
    "doubleHalfTetto=STRUCT([curvedHalfTetto,S(1)(-1)(curvedHalfTetto)])\n",
    "fullTetto=COMP([STRUCT,NN(4)])([doubleHalfTetto,R([1,2])(PI/-2)])"
   ]
  },
  {
   "cell_type": "code",
   "execution_count": 35,
   "metadata": {},
   "outputs": [
    {
     "data": {
      "text/plain": [
       "<pyplasm.xgepy.Hpc; proxy of <Swig Object of type 'std::shared_ptr< Hpc > *' at 0x10b605660> >"
      ]
     },
     "execution_count": 35,
     "metadata": {},
     "output_type": "execute_result"
    }
   ],
   "source": [
    "VIEW(fullTetto)"
   ]
  },
  {
   "cell_type": "markdown",
   "metadata": {},
   "source": [
    "![tetto](./images/tetto.png)"
   ]
  },
  {
   "cell_type": "code",
   "execution_count": 55,
   "metadata": {},
   "outputs": [],
   "source": [
    "def courtWall(d1,d2):\n",
    "    def courtWall1(n1,n2):\n",
    "        w=0.7\n",
    "        tripleHole=TOP([STRUCT([column([w,2]),T(1)(2+w), column([w,2])]), Xarc(2,2)(1)])\n",
    "        h=SIZE(3)(tripleHole)\n",
    "        op=ALIGN([[1,MAX,MIN],[2,MIN,MIN]])\n",
    "        LeftWall=PROD([COMP([QUOTE,N(n1)])(d1/n1),CUBOID([1,h])])\n",
    "        RightWall=PROD([COMP([QUOTE,N(n2)])(d2/n2),CUBOID([1,h])])\n",
    "        return op([op([LeftWall,tripleHole]),RightWall])\n",
    "    return courtWall1\n",
    "\n",
    "\n",
    "myCourtWall= courtWall(12,12)(9,9)\n",
    "sizxCourtWall= SIZE(1)(myCourtWall)\n",
    "mapping=COMP([cylMap,S([1,3])([(7.5*PI/24)*(1/sizxCourtWall),hw4/8])])\n",
    "curvedCourtWall=COMP([OPTIMIZE,R([1,2])(-2.5*arcAngle),mapping,T(2)((r3+r2)/2)])(myCourtWall)\n",
    "crossCourtWall=COMP([STRUCT,NN(4)])([curvedCourtWall,R([1,2])(PI/2)])"
   ]
  },
  {
   "cell_type": "code",
   "execution_count": 56,
   "metadata": {},
   "outputs": [
    {
     "data": {
      "text/plain": [
       "<pyplasm.xgepy.Hpc; proxy of <Swig Object of type 'std::shared_ptr< Hpc > *' at 0x10a8e3a80> >"
      ]
     },
     "execution_count": 56,
     "metadata": {},
     "output_type": "execute_result"
    }
   ],
   "source": [
    "VIEW(crossCourtWall)"
   ]
  },
  {
   "cell_type": "markdown",
   "metadata": {},
   "source": [
    "![courtw](./images/courtw.png)"
   ]
  },
  {
   "cell_type": "code",
   "execution_count": 39,
   "metadata": {},
   "outputs": [],
   "source": [
    "topCourtWall2D = INTERSECTION([MKPOL([[[0,3.333],[10,3.333],[10,4.333],[5,6.333],[0,4.333]],\n",
    "                                      [range(1,6)],[[1]]]),PROD([COMP([QUOTE,N(10)])(1),QUOTE([8])])])\n",
    "topCourtWall = R([2,3])(PI/2)(PROD([topCourtWall2D,QUOTE([1])]))\n",
    "myTopCourtWall=RIGHT([RIGHT([topCourtWall,topCourtWall]),topCourtWall])\n",
    "curvedTopCourtWall=COMP([R([1,2])(-2.5*arcAngle),mapping,T(2)((r3+r2+2)/2)])(myTopCourtWall)\n",
    "fullTopCourtWall=COMP([STRUCT,NN(4)])([curvedTopCourtWall,R([1,2])(PI/2)])"
   ]
  },
  {
   "cell_type": "code",
   "execution_count": 40,
   "metadata": {},
   "outputs": [
    {
     "data": {
      "text/plain": [
       "<pyplasm.xgepy.Hpc; proxy of <Swig Object of type 'std::shared_ptr< Hpc > *' at 0x10a8e3900> >"
      ]
     },
     "execution_count": 40,
     "metadata": {},
     "output_type": "execute_result"
    }
   ],
   "source": [
    "VIEW(fullTopCourtWall)"
   ]
  },
  {
   "cell_type": "code",
   "execution_count": 61,
   "metadata": {},
   "outputs": [
    {
     "data": {
      "text/plain": [
       "<pyplasm.xgepy.Hpc; proxy of <Swig Object of type 'std::shared_ptr< Hpc > *' at 0x10b6362d0> >"
      ]
     },
     "execution_count": 61,
     "metadata": {},
     "output_type": "execute_result"
    }
   ],
   "source": [
    "assemplyCourtWall2Tetto = TOP([crossCourtWall, fullTopCourtWall])"
   ]
  },
  {
   "cell_type": "markdown",
   "metadata": {},
   "source": [
    "![topcurtwalls](./images/topcurtw.png)"
   ]
  },
  {
   "cell_type": "code",
   "execution_count": 41,
   "metadata": {},
   "outputs": [],
   "source": [
    "rotWall = 2.5 * arcAngle\n",
    "courTetto = INTERSECTION([\n",
    "    MKPOL([[[0, (r3 + r2 + 2) / 2, 3.333], [10, (r3 + r2 + 2) / 2, 3.333], [10, r2, 4.333],\n",
    "                        [0, r2, 4.333], [0, (r3 + r2 + 2) / 2, 3.433], [10, (r3 + r2 + 2) / 2, 3.433],\n",
    "                        [10, r2, 4.433], [0, r2, 4.433]], [range(1, 9)], [[1]]]),\n",
    "                    PROD([COMP([QUOTE, N(10)])(1), PROD([QUOTE([(r3 + r2 + 2) / 2]), QUOTE([5])])])])\n",
    "\n",
    "myCourTetto = RIGHT([RIGHT([courTetto, courTetto]), courTetto])\n",
    "curvedCourTetto = COMP([R([1, 2])(DIFF(rotWall)), mapping])(myCourTetto)\n",
    "fullCourTetto = COMP([STRUCT, NN(4)])([curvedCourTetto, R([1, 2])(PI / 2)])"
   ]
  },
  {
   "cell_type": "code",
   "execution_count": 42,
   "metadata": {},
   "outputs": [
    {
     "data": {
      "text/plain": [
       "<pyplasm.xgepy.Hpc; proxy of <Swig Object of type 'std::shared_ptr< Hpc > *' at 0x10b634570> >"
      ]
     },
     "execution_count": 42,
     "metadata": {},
     "output_type": "execute_result"
    }
   ],
   "source": [
    "VIEW(fullCourTetto)"
   ]
  },
  {
   "cell_type": "markdown",
   "metadata": {},
   "source": [
    "![courtet](./images/courtet.png)"
   ]
  },
  {
   "cell_type": "markdown",
   "metadata": {},
   "source": [
    "# Inner curved beams and columns"
   ]
  },
  {
   "cell_type": "code",
   "execution_count": 43,
   "metadata": {
    "collapsed": true
   },
   "outputs": [],
   "source": [
    "def radial22Obj(Obj):\n",
    "    \"\"\"\n",
    "    :param Object: to be placed \n",
    "    \"\"\"\n",
    "    the4Obj = COMP([STRUCT,NN(4)])([Obj,R([1,2])(PI/11)])\n",
    "    the2Obj = COMP([STRUCT,NN(2)])([Obj,R([1,2])(PI/11)])\n",
    "    the20Obj = COMP([STRUCT,NN(5)])([the4Obj,R([1,2])((4*PI)/11)])\n",
    "    return STRUCT([the20Obj,R([1,2])(20*PI/11),the2Obj])\n",
    "\n",
    "internalCol = COMP([MKPOL,UKPOL,T(2)((r0-2)),column])([1.5,hCol])\n",
    "the22Columns = radial22Obj(internalCol)"
   ]
  },
  {
   "cell_type": "code",
   "execution_count": 44,
   "metadata": {
    "scrolled": true
   },
   "outputs": [
    {
     "data": {
      "text/plain": [
       "<pyplasm.xgepy.Hpc; proxy of <Swig Object of type 'std::shared_ptr< Hpc > *' at 0x10b634330> >"
      ]
     },
     "execution_count": 44,
     "metadata": {},
     "output_type": "execute_result"
    }
   ],
   "source": [
    "VIEW(the22Columns)"
   ]
  },
  {
   "cell_type": "markdown",
   "metadata": {},
   "source": [
    "![cols](./images/cols.png)"
   ]
  },
  {
   "cell_type": "code",
   "execution_count": 45,
   "metadata": {},
   "outputs": [],
   "source": [
    "beam = PROD([QUOTE([-0.5,1.5,2,1.5]),PROD([QUOTE([2.2]),QUOTE([1.5])])])\n",
    "curvedBeam = COMP([cylMap,T([2,3])([(r0 - 2),hCol]),S(1)(PI/(11*5))])(beam)\n",
    "the22Beams = radial22Obj(curvedBeam)"
   ]
  },
  {
   "cell_type": "code",
   "execution_count": 46,
   "metadata": {},
   "outputs": [
    {
     "data": {
      "text/plain": [
       "<pyplasm.xgepy.Hpc; proxy of <Swig Object of type 'std::shared_ptr< Hpc > *' at 0x10b634510> >"
      ]
     },
     "execution_count": 46,
     "metadata": {},
     "output_type": "execute_result"
    }
   ],
   "source": [
    "VIEW(the22Beams)"
   ]
  },
  {
   "cell_type": "markdown",
   "metadata": {},
   "source": [
    "![beams](./images/beams.png)"
   ]
  },
  {
   "cell_type": "markdown",
   "metadata": {},
   "source": [
    "# High Wall"
   ]
  },
  {
   "cell_type": "code",
   "execution_count": 47,
   "metadata": {},
   "outputs": [],
   "source": [
    "hwall=STRUCT([\n",
    "    INSR(PROD)([QUOTE([-0.5,1.5,-2,1.5]),QUOTE([-0.3,1.4]),QUOTE([2.5*hCol])]),\n",
    "    INSR(PROD)([QUOTE([-2.0,2]),QUOTE([-0.3,1.4]),QUOTE([1.5*hCol, -0.5*hCol, 0.5*hCol])]),\n",
    "    INSR(PROD)([QUOTE([-0.5,1.75,-1.5,1.75]),QUOTE([-0.3,1.4]),QUOTE([2.5*hCol])])])\n",
    "\n",
    "curvedHwall=COMP([cylMap,T([2,3])([r0-2,hCol]),S(1)(PI/(11*5))])(hwall)\n",
    "the22Hwall=radial22Obj(curvedHwall)"
   ]
  },
  {
   "cell_type": "code",
   "execution_count": 48,
   "metadata": {},
   "outputs": [
    {
     "data": {
      "text/plain": [
       "<pyplasm.xgepy.Hpc; proxy of <Swig Object of type 'std::shared_ptr< Hpc > *' at 0x10b6346c0> >"
      ]
     },
     "execution_count": 48,
     "metadata": {},
     "output_type": "execute_result"
    }
   ],
   "source": [
    "VIEW(the22Hwall)"
   ]
  },
  {
   "cell_type": "markdown",
   "metadata": {},
   "source": [
    "![hwall](./images/hwall.png)"
   ]
  },
  {
   "cell_type": "markdown",
   "metadata": {},
   "source": [
    "# Friezes"
   ]
  },
  {
   "cell_type": "code",
   "execution_count": 49,
   "metadata": {},
   "outputs": [],
   "source": [
    "myArc=MAP([COMP([SIN,S1]),COMP([COS,S1])])(COMP([QUOTE,N(5)])(PI/10))\n",
    "vertex = MKPOL([[[0,0]],[[1]],[[1]]])\n",
    "sector=JOIN([myArc, vertex])\n",
    "triangle=S(1)(-1)(SIMPLEX(2))\n",
    "sectorTriangle2D=STRUCT([T(1)(0.05),sector,T(1)(2),triangle])\n",
    "doubleSect=STRUCT([sectorTriangle2D,S(1)(-1)(sectorTriangle2D)])\n",
    "sect2D=S(1)(2/2.05)(doubleSect)\n",
    "sect3D=R([2,3])(PI/2)(PROD([sect2D,QUOTE([0.8])]))\n",
    "curvedSect=COMP([cylMap,T(2)(r0),S([1,3])([(2*PI)/(11*4),3])])(sect3D)\n",
    "frieze=T(3)(3.5*hCol)(curvedSect)\n",
    "\n",
    "def Radial11Obj(Obj):\n",
    "    \"\"\"\n",
    "    :param Obj: object to be placed\n",
    "    \"\"\"\n",
    "    the2Obj=COMP([STRUCT,NN(2)])([Obj,R([1,2])((2*PI)/11)])\n",
    "    the10Obj=COMP([STRUCT,NN(5)])([the2Obj,R([1,2])((4*PI)/11)])\n",
    "    return STRUCT([the10Obj,R([1,2])((20*PI)/11),Obj])\n",
    "\n",
    "the11Frieze = Radial11Obj(frieze)"
   ]
  },
  {
   "cell_type": "code",
   "execution_count": 50,
   "metadata": {},
   "outputs": [
    {
     "data": {
      "text/plain": [
       "<pyplasm.xgepy.Hpc; proxy of <Swig Object of type 'std::shared_ptr< Hpc > *' at 0x10b634c30> >"
      ]
     },
     "execution_count": 50,
     "metadata": {},
     "output_type": "execute_result"
    }
   ],
   "source": [
    "VIEW(the11Frieze)"
   ]
  },
  {
   "cell_type": "markdown",
   "metadata": {},
   "source": [
    "![friezes](./images/friezes.png)"
   ]
  },
  {
   "cell_type": "markdown",
   "metadata": {},
   "source": [
    "# Trellis"
   ]
  },
  {
   "cell_type": "code",
   "execution_count": 51,
   "metadata": {},
   "outputs": [],
   "source": [
    "def trellis(args):\n",
    "    H,L=args\n",
    "    return COMP([R([2,3])(PI/2),EMBED(1),MKPOL])([[\n",
    "        [0,0],[L/3,0],[2*L/3,0],[L,0],[2*L/3,H/3],[L/3,2*H/3],[0,H]],\n",
    "        [[1,2],[2,3],[3,4],[4,5],[5,6],[6,7],[7,1],[1,6],[6,2],[2,5],[5,3]],[1,2,3,4,5,6,7,8,9,10,11]])\n",
    "\n",
    "def radial(n):\n",
    "    def radial1(obj):\n",
    "        return COMP([STRUCT,NN(n/3)])([COMP([STRUCT,NN(n/3)])([obj,R([1,2])(2*PI/n)]),R([1,2])(2*PI/3)])\n",
    "    return radial1\n",
    "    \n",
    "trellisTop3D = COMP([T(2)(-0.25),S(2)(0.5),OFFSET([1,1,1]),trellis])([hCol,r0-1])\n",
    "theTopTrellis = T(3)(3.5*hCol)(trellisTop3D)\n",
    "topTrellis = radial(12)(theTopTrellis)\n",
    "trellisMed3D = COMP([T(2)(-0.25),S(2)(0.5),OFFSET([1,1,1]),trellis])([hCol,r2 - r0])\n",
    "theMedTrellis = T(3)(hCol+3)(trellisMed3D)\n",
    "medTrellis = radial(24)(T(1)(r0)(theMedTrellis))\n",
    "doubleMedTrellis = STRUCT([medTrellis, R([1,2])(PI/24), medTrellis])"
   ]
  },
  {
   "cell_type": "code",
   "execution_count": 52,
   "metadata": {},
   "outputs": [
    {
     "data": {
      "text/plain": [
       "<pyplasm.xgepy.Hpc; proxy of <Swig Object of type 'std::shared_ptr< Hpc > *' at 0x10b634fc0> >"
      ]
     },
     "execution_count": 52,
     "metadata": {},
     "output_type": "execute_result"
    }
   ],
   "source": [
    "VIEW(topTrellis)"
   ]
  },
  {
   "cell_type": "markdown",
   "metadata": {},
   "source": [
    "![trellis](./images/trellis.png)"
   ]
  },
  {
   "cell_type": "markdown",
   "metadata": {},
   "source": [
    "# Let's put all together\n",
    "Here we have the final structure"
   ]
  },
  {
   "cell_type": "code",
   "execution_count": 63,
   "metadata": {},
   "outputs": [],
   "source": [
    "out=STRUCT([basement,T(3)(hbasament),\n",
    "            fullExtWall, fullTetto, assemplyCourtWall2Tetto,\n",
    "            crossWalls, medWallArcs, theMedColumns,\n",
    "            fullCourTetto, the22Columns, the22Beams,\n",
    "            the22Hwall, the11Frieze, topTrellis, doubleMedTrellis\n",
    "           ])"
   ]
  },
  {
   "cell_type": "code",
   "execution_count": 64,
   "metadata": {},
   "outputs": [
    {
     "data": {
      "text/plain": [
       "<pyplasm.xgepy.Hpc; proxy of <Swig Object of type 'std::shared_ptr< Hpc > *' at 0x10b636570> >"
      ]
     },
     "execution_count": 64,
     "metadata": {},
     "output_type": "execute_result"
    }
   ],
   "source": [
    "VIEW(out)"
   ]
  },
  {
   "cell_type": "markdown",
   "metadata": {},
   "source": [
    "![out_1](./images/out_1.png)"
   ]
  },
  {
   "cell_type": "markdown",
   "metadata": {},
   "source": [
    "![out_2](./images/out_2.png)"
   ]
  },
  {
   "cell_type": "markdown",
   "metadata": {},
   "source": [
    "![out_3](./images/out_3.png)"
   ]
  }
 ],
 "metadata": {
  "kernelspec": {
   "display_name": "Python 2",
   "language": "python",
   "name": "python2"
  },
  "language_info": {
   "codemirror_mode": {
    "name": "ipython",
    "version": 2
   },
   "file_extension": ".py",
   "mimetype": "text/x-python",
   "name": "python",
   "nbconvert_exporter": "python",
   "pygments_lexer": "ipython2",
   "version": "2.7.13"
  }
 },
 "nbformat": 4,
 "nbformat_minor": 1
}
